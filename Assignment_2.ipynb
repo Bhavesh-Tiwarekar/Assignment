{
 "cells": [
  {
   "cell_type": "code",
   "execution_count": 4,
   "id": "96737eb0-2e71-42af-9b8f-9e7e23d99d86",
   "metadata": {},
   "outputs": [
    {
     "data": {
      "text/plain": [
       "'\\na. To comment a code in python we can use the symbol \\'#\\' at the start of every line of the code or use\\nthe \\' or \" quotation marks three times.\\nb. There are three types of cemments in Python:\\n    1. Single line comments- This type of comments starts with the hashtag symbol (#) at the start of every line of code.\\n    2. Multi line comments- This type of comments can be used to comment a block of code using \\' or \" quotation marks three times.\\n                            This answer that is enclosed in quotation marks () is an example of multi line comments.\\n    3. Docstring comments- Python docstring are used in functions. The quotation marks are used three times that appear on the \\n                            first line right after the function is defined.\\n'"
      ]
     },
     "execution_count": 4,
     "metadata": {},
     "output_type": "execute_result"
    }
   ],
   "source": [
    "# Q1. How do you comment code in Python? What are the different types of comments?\n",
    "\"\"\"\n",
    "Answer:\n",
    "\n",
    "a. To comment a code in python we can use the symbol '#' at the start of every line of the code or use\n",
    "the ' or \" quotation marks three times.\n",
    "b. There are three types of cemments in Python:\n",
    "    1. Single line comments- This type of comments starts with the hashtag symbol (#) at the start of every line of code.\n",
    "    2. Multi line comments- This type of comments can be used to comment a block of code using ' or \" quotation marks three times.\n",
    "                            This answer that is enclosed in quotation marks (\"\"\" \"\"\") is an example of multi line comments.\n",
    "    3. Docstring comments- Python docstring are used in functions. The quotation marks are used three times that appear on the \n",
    "                            first line right after the function is defined.\n",
    "\"\"\""
   ]
  },
  {
   "cell_type": "code",
   "execution_count": 1,
   "id": "e44e2b6f-f22c-4083-825d-6294e75df6f2",
   "metadata": {},
   "outputs": [
    {
     "data": {
      "text/plain": [
       "'\\n\\n'"
      ]
     },
     "execution_count": 1,
     "metadata": {},
     "output_type": "execute_result"
    }
   ],
   "source": [
    "# Q2. What are variables in Python? How do you declare and assign values to variables?\n",
    "\"\"\"\n",
    "Answer:\n",
    "\n",
    "1. Python varaibles are containers to store values.\n",
    "2. The '=' symbol is used to assign values to varaibles.\n",
    "    Example: my_var1 = 1\n",
    "    In the above example the number '1' is assigned to the variable 'my_var1' using '=' symbol.\n",
    "3. Python program does not require a variable to be declared in advance. It automatically understands and declares the\n",
    "data type immediately when the variable is assigned some value using '=' symbol.\n",
    "4. In some cases we are required to type cast the varaible to get the desired output.\n",
    "Example: \n",
    "num1 = input(\"Enter the number: \")\n",
    "type(num1)\n",
    "\n",
    "In the above example, by default the input function stores the value as string. To use the desired data type we\n",
    "can type cast the variable num1 as follows:\n",
    "\n",
    "num1 = int(input(\"Enter the number: \"))\n",
    "type(num1)\n",
    "\n",
    "\"\"\"\n"
   ]
  },
  {
   "cell_type": "code",
   "execution_count": 1,
   "id": "32f909f3-c09f-401c-89c8-4a60e26e9b04",
   "metadata": {},
   "outputs": [
    {
     "data": {
      "text/plain": [
       "'\\nAnswer:\\n\\n1. In Python we can convert one data type to another using type casting.\\n2. We can use functions like str(), int(), float() for converting a data type to string, integer and \\nfloat value respectively.\\n3. Example:\\nx = str(3)\\n\\nIn above example the number 3 is converted to string data type.\\n'"
      ]
     },
     "execution_count": 1,
     "metadata": {},
     "output_type": "execute_result"
    }
   ],
   "source": [
    "# Q3. How do you convert one data type to another in Python?\n",
    "\"\"\"\n",
    "Answer:\n",
    "\n",
    "1. In Python we can convert one data type to another using type casting.\n",
    "2. We can use functions like str(), int(), float() for converting a data type to string, integer and \n",
    "float value respectively.\n",
    "3. Example:\n",
    "x = str(3)\n",
    "\n",
    "In above example the number 3 is converted to string data type.\n",
    "\"\"\"\n"
   ]
  },
  {
   "cell_type": "code",
   "execution_count": 1,
   "id": "8f22e75b-2413-4b60-8782-d14dcde27d78",
   "metadata": {},
   "outputs": [
    {
     "data": {
      "text/plain": [
       "\"\\nAnswer:\\n\\n1. The user can write a python script and save it as a '.py' file.\\n2. The second step is to open a command prompt and type word python followed by the path to the script file.\\n3. Next the user will click on 'Enter' and then the script will be executed.\\n4. Example:\\n    python hello_world.py\\n\""
      ]
     },
     "execution_count": 1,
     "metadata": {},
     "output_type": "execute_result"
    }
   ],
   "source": [
    "# Q4. How do you write and execute a Python script from the command line?\n",
    "\"\"\"\n",
    "Answer:\n",
    "\n",
    "1. The user can write a python script and save it as a '.py' file.\n",
    "2. The second step is to open a command prompt and type word python followed by the path to the script file.\n",
    "3. Next the user will click on 'Enter' and then the script will be executed.\n",
    "4. Example:\n",
    "    python hello_world.py\n",
    "\"\"\""
   ]
  },
  {
   "cell_type": "code",
   "execution_count": 5,
   "id": "578babe2-774b-466a-8b5c-d99943ace04d",
   "metadata": {},
   "outputs": [
    {
     "name": "stdout",
     "output_type": "stream",
     "text": [
      "[2, 3]\n"
     ]
    }
   ],
   "source": [
    "# Q5. Given a list my_list = [1, 2, 3, 4, 5], write the code to slice the list and obtain the sub-list [2, 3].\n",
    "\n",
    "#Program to slice the list and obtain the sub-list.\n",
    "my_list = [1, 2, 3, 4, 5]\n",
    "\n",
    "print(my_list[1:3])"
   ]
  },
  {
   "cell_type": "code",
   "execution_count": 17,
   "id": "285d445d-a838-4062-bcfe-1d94af9c1e0d",
   "metadata": {},
   "outputs": [
    {
     "data": {
      "text/plain": [
       "'\\nAnswer:\\n\\n1. A complex number is a number that is written in the form of a + ib, where a and b are real numbers\\nand i is called an imaginary number.\\n2. In Python a complex number is represented as follows: \\n3 + 5j\\nHere 3.0 is real part of complex number and 5.0 is an imaginary part of complex number.\\n'"
      ]
     },
     "execution_count": 17,
     "metadata": {},
     "output_type": "execute_result"
    }
   ],
   "source": [
    "# Q6. What is a complex number in mathematics, and how is it represented in Python?\n",
    "\"\"\"\n",
    "Answer:\n",
    "\n",
    "1. A complex number is a number that is written in the form of a + ib, where a and b are real numbers\n",
    "and i is called an imaginary number.\n",
    "2. In Python a complex number is represented as follows: \n",
    "3 + 5j\n",
    "Here 3.0 is real part of complex number and 5.0 is an imaginary part of complex number.\n",
    "\"\"\""
   ]
  },
  {
   "cell_type": "code",
   "execution_count": 18,
   "id": "e56ab135-7d6a-4aad-be71-3b32a2e29976",
   "metadata": {},
   "outputs": [
    {
     "data": {
      "text/plain": [
       "'\\nAnswer:\\n\\n1. In Python we can directly assign an integer value to a variable as Python automatically recognizes and \\nstore the value as integer.\\n2. Example:\\nage = 25\\n3. However while using the function \\'input\\' we have to type cast the user input as \\'integer\\' as follows:\\nage = int(input(\"Enter yoour age: \"))\\n\\n'"
      ]
     },
     "execution_count": 18,
     "metadata": {},
     "output_type": "execute_result"
    }
   ],
   "source": [
    "# Q7. What is the correct way to declare a variable named age and assign the value 25 to it?\n",
    "\n",
    "\"\"\"\n",
    "Answer:\n",
    "\n",
    "1. In Python we can directly assign an integer value to a variable as Python automatically recognizes and \n",
    "store the value as integer.\n",
    "2. Example:\n",
    "age = 25\n",
    "3. However while using the function 'input' we have to type cast the user input as 'integer' as follows:\n",
    "age = int(input(\"Enter yoour age: \"))\n",
    "\n",
    "\"\"\""
   ]
  },
  {
   "cell_type": "code",
   "execution_count": 19,
   "id": "fad24bc2-2b47-40e0-8d4b-9e2174e70f40",
   "metadata": {},
   "outputs": [
    {
     "name": "stdout",
     "output_type": "stream",
     "text": [
      "<class 'float'>\n"
     ]
    }
   ],
   "source": [
    "# Q8. Declare a variable named price and assign the value 9.99 to it. What data type does this variable belong to?\n",
    "\n",
    "# Program to assign the value 9.99 to a variable named 'price' and printing its data type.\n",
    "\n",
    "price = 9.99\n",
    "\n",
    "print(type(price))\n",
    "\n",
    "# The variable 'price' belongs to 'float' data type"
   ]
  },
  {
   "cell_type": "code",
   "execution_count": 24,
   "id": "9e94e210-42c9-4cff-9b1b-6e3cc4774a79",
   "metadata": {},
   "outputs": [
    {
     "name": "stdout",
     "output_type": "stream",
     "text": [
      "bhavesh tiwarekar\n"
     ]
    }
   ],
   "source": [
    "# Q9. Create a variable named name and assign your full name to it as a string. How would you print the value of this variable?\n",
    "\n",
    "# Program to create a variable named 'name' and assign a string to it.\n",
    "name = 'bhavesh tiwarekar'\n",
    "\n",
    "# To get the value of the variable 'name' we use the 'print' function.\n",
    "print(name)"
   ]
  },
  {
   "cell_type": "code",
   "execution_count": 28,
   "id": "9f13f2bb-f817-4520-8f25-43dd5721dd78",
   "metadata": {},
   "outputs": [
    {
     "data": {
      "text/plain": [
       "'World'"
      ]
     },
     "execution_count": 28,
     "metadata": {},
     "output_type": "execute_result"
    }
   ],
   "source": [
    "# Q10. Given the string \"Hello, World!\", extract the substring \"World\".\n",
    "\n",
    "# Program to get the substring \"World\" from the string \"Hello, World!\"\n",
    "s1 = \"Hello, World!\"\n",
    "\n",
    "s1[7:-1]"
   ]
  },
  {
   "cell_type": "code",
   "execution_count": 29,
   "id": "7e93d89a-689f-4e2b-8cb0-8030f0aec461",
   "metadata": {},
   "outputs": [
    {
     "name": "stdout",
     "output_type": "stream",
     "text": [
      "False\n"
     ]
    }
   ],
   "source": [
    "# Q11. Create a variable named \"is_student\" and assign it a boolean value indicating whether you are currently a student or not.\n",
    "\n",
    "# Program to create a variable named \"is_student\" and assign it a boolean value\n",
    "\n",
    "is_student = False\n",
    "\n",
    "print(is_student)"
   ]
  },
  {
   "cell_type": "code",
   "execution_count": null,
   "id": "4514f763-0099-49ac-a19e-9ea10dd8da2b",
   "metadata": {},
   "outputs": [],
   "source": []
  }
 ],
 "metadata": {
  "kernelspec": {
   "display_name": "Python 3 (ipykernel)",
   "language": "python",
   "name": "python3"
  },
  "language_info": {
   "codemirror_mode": {
    "name": "ipython",
    "version": 3
   },
   "file_extension": ".py",
   "mimetype": "text/x-python",
   "name": "python",
   "nbconvert_exporter": "python",
   "pygments_lexer": "ipython3",
   "version": "3.10.8"
  }
 },
 "nbformat": 4,
 "nbformat_minor": 5
}
