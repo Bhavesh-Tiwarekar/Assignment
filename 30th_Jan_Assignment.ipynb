{
 "cells": [
  {
   "cell_type": "code",
   "execution_count": 1,
   "id": "36f824bb-cef7-456c-aad1-4e3f36c8bd8a",
   "metadata": {},
   "outputs": [
    {
     "name": "stdin",
     "output_type": "stream",
     "text": [
      "Enter your percentage:  60\n"
     ]
    },
    {
     "name": "stdout",
     "output_type": "stream",
     "text": [
      "Your grade is C\n"
     ]
    }
   ],
   "source": [
    "# 1. Program to accept percentage from the user and display the grade.\n",
    "\n",
    "Percentage = float(input(\"Enter your percentage: \"))\n",
    "\n",
    "if Percentage > 90 and Percentage <= 100:\n",
    "    print(\"Your grade is A\")\n",
    "elif Percentage > 80 and Percentage <= 90:\n",
    "    print(\"Your grade is B\")\n",
    "elif Percentage >= 60 and Percentage <= 80:\n",
    "    print(\"Your grade is C\")\n",
    "elif Percentage < 60 and Percentage >= 0 :\n",
    "    print(\"Your grade is D\")\n",
    "else:\n",
    "    print(\"Provide correct percentage between 0 and 100 %\")\n"
   ]
  },
  {
   "cell_type": "code",
   "execution_count": 2,
   "id": "3cc039d9-bfcb-4beb-9df5-dea10c699511",
   "metadata": {},
   "outputs": [
    {
     "name": "stdin",
     "output_type": "stream",
     "text": [
      "Enter the cost price (in Rs) of the bike:  10000\n"
     ]
    },
    {
     "name": "stdout",
     "output_type": "stream",
     "text": [
      "The road tax to be paid = 5 %\n"
     ]
    }
   ],
   "source": [
    "# 2. Program to accept cost price of a bike and display the road tax.\n",
    "\n",
    "cost = int(input(\"Enter the cost price (in Rs) of the bike: \"))\n",
    "\n",
    "if cost > 100000:\n",
    "    print(\"The road tax to be paid = 15 %\")\n",
    "elif cost > 50000 and cost <= 100000:\n",
    "    print(\"The road tax to be paid = 10 %\")\n",
    "elif cost <= 50000 and cost >= 0:\n",
    "    print(\"The road tax to be paid = 5 %\")\n",
    "else:\n",
    "    print(\"Provide valid cost (in Rs).\")"
   ]
  },
  {
   "cell_type": "code",
   "execution_count": 4,
   "id": "85f0aba2-f37f-4ae4-a1db-eb0d1a809038",
   "metadata": {},
   "outputs": [
    {
     "name": "stdin",
     "output_type": "stream",
     "text": [
      "Enter the city name:  jaipur\n"
     ]
    },
    {
     "name": "stdout",
     "output_type": "stream",
     "text": [
      "Jal Mahal is a historical monument in Jaipur\n"
     ]
    }
   ],
   "source": [
    "# 3. Program to accept city from the user and display monuments of that city.\n",
    "\n",
    "city = input(\"Enter the city name: \").lower()\n",
    "\n",
    "if city == \"delhi\":\n",
    "    print(\"Red Fort is a historical monument in Delhi\")\n",
    "elif city == \"agra\":\n",
    "    print(\"Taj Mahal is a historical monument in Agra\")\n",
    "elif city == \"jaipur\":\n",
    "    print(\"Jal Mahal is a historical monument in Jaipur\")\n",
    "else:\n",
    "    print(\"Your city is not listed among cities having monuments\")"
   ]
  },
  {
   "cell_type": "code",
   "execution_count": 5,
   "id": "539467f4-f0fd-485a-a9ee-2c06bc381bde",
   "metadata": {},
   "outputs": [
    {
     "name": "stdin",
     "output_type": "stream",
     "text": [
      "Enter the number:  60\n"
     ]
    },
    {
     "name": "stdout",
     "output_type": "stream",
     "text": [
      "Total iterations required is  2\n"
     ]
    }
   ],
   "source": [
    "# 4. Program to count number of times a given number can be divided by 3 before it is less than or equal to 10\n",
    "\n",
    "number = int(input(\"Enter the number: \"))\n",
    "counter = 0\n",
    "\n",
    "while number >= 10:\n",
    "    number = number / 3\n",
    "    counter += 1\n",
    "print(\"Total iterations required is \", counter)"
   ]
  },
  {
   "cell_type": "code",
   "execution_count": 6,
   "id": "9c482126-89ab-4d57-9ff8-5212693707ab",
   "metadata": {},
   "outputs": [
    {
     "name": "stdin",
     "output_type": "stream",
     "text": [
      "Enter any number between 1 to 10:  3\n"
     ]
    },
    {
     "name": "stdout",
     "output_type": "stream",
     "text": [
      "The input number =  3\n",
      "To stop the loop enter number > 10\n",
      "\n",
      "\n"
     ]
    },
    {
     "name": "stdin",
     "output_type": "stream",
     "text": [
      "Enter any number between 1 to 10:  4\n"
     ]
    },
    {
     "name": "stdout",
     "output_type": "stream",
     "text": [
      "The input number =  4\n",
      "To stop the loop enter number > 10\n",
      "\n",
      "\n"
     ]
    },
    {
     "name": "stdin",
     "output_type": "stream",
     "text": [
      "Enter any number between 1 to 10:  12\n"
     ]
    },
    {
     "data": {
      "text/plain": [
       "' \\nIn the above example program the while loop will continue to ask for input until the user provides\\nthe number greater than 10.\\n'"
      ]
     },
     "execution_count": 6,
     "metadata": {},
     "output_type": "execute_result"
    }
   ],
   "source": [
    "# 5. Why and when to use while loop in Python give a detailed description with example.\n",
    "\"\"\"\n",
    "->\n",
    "\n",
    "1. The while loop is used to execute a block of code until a certain condition is met. \n",
    "2. The while loop continues to execute until the provided contition holds true.\n",
    "3. It should be used when the user wants to execute the loop for indefinite iterations.\n",
    "4. Example program for while loop:\n",
    "\"\"\"\n",
    "Num = int(input(\"Enter any number between 1 to 10: \"))\n",
    "while Num <= 10:\n",
    "    print(\"The input number = \", Num)\n",
    "    print(\"To stop the loop enter number > 10\")\n",
    "    print(\"\\n\")\n",
    "    Num = int(input(\"Enter any number between 1 to 10: \"))\n",
    "    \n",
    "\"\"\" \n",
    "In the above example program the while loop will continue to ask for input until the user provides\n",
    "the number greater than 10.\n",
    "\"\"\""
   ]
  },
  {
   "cell_type": "code",
   "execution_count": 7,
   "id": "27833d1c-4475-457d-8f1e-7e98924df00a",
   "metadata": {},
   "outputs": [
    {
     "name": "stdin",
     "output_type": "stream",
     "text": [
      "Enter number of rows for the pyramid pattern of numbers:  4\n"
     ]
    },
    {
     "name": "stdout",
     "output_type": "stream",
     "text": [
      "1 \n",
      "\n",
      "1 2 \n",
      "\n",
      "1 2 3 \n",
      "\n",
      "1 2 3 4 \n",
      "\n"
     ]
    },
    {
     "name": "stdin",
     "output_type": "stream",
     "text": [
      "Enter number of rows for the pyramid pattern of '*':  4\n"
     ]
    },
    {
     "name": "stdout",
     "output_type": "stream",
     "text": [
      "* \n",
      "\n",
      "* * \n",
      "\n",
      "* * * \n",
      "\n",
      "* * * * \n",
      "\n"
     ]
    },
    {
     "name": "stdin",
     "output_type": "stream",
     "text": [
      "Enter number of rows for the inverted pyramid pattern of '*':  5\n"
     ]
    },
    {
     "name": "stdout",
     "output_type": "stream",
     "text": [
      "* * * * * \n",
      "\n",
      "* * * * \n",
      "\n",
      "* * * \n",
      "\n",
      "* * \n",
      "\n",
      "* \n",
      "\n"
     ]
    }
   ],
   "source": [
    "# 6. Program to use nested while loop to print 3 different pattern\n",
    "\n",
    "# a. Program to print pyramid pattern of numbers\n",
    "\n",
    "row_1 = int(input(\"Enter number of rows for the pyramid pattern of numbers: \"))\n",
    "i = 1\n",
    "\n",
    "while i <= row_1:\n",
    "    j = 1\n",
    "    while j <= i:\n",
    "        print(j, end = \" \")\n",
    "        j += 1\n",
    "    print(\"\\n\")\n",
    "    i += 1\n",
    "    \n",
    "# b. Program to print pyramid pattern of \"*\"\n",
    "\n",
    "row_2 = int(input(\"Enter number of rows for the pyramid pattern of '*': \"))\n",
    "i = 1\n",
    "while i <= row_2:\n",
    "    j = 1\n",
    "    while j <= i:\n",
    "        print(\"*\", end = \" \")\n",
    "        j += 1\n",
    "    print(\"\\n\")\n",
    "    i += 1\n",
    "\n",
    "# c. Program to print inverted pyramid pattern of \"*\"\n",
    "\n",
    "row_3 = int(input(\"Enter number of rows for the inverted pyramid pattern of '*': \"))\n",
    "i = 1\n",
    "while i <= row_3:\n",
    "    j = row_3\n",
    "    while j >= i:\n",
    "        print(\"*\", end = \" \")\n",
    "        j -= 1\n",
    "    print(\"\\n\")\n",
    "    i += 1"
   ]
  },
  {
   "cell_type": "code",
   "execution_count": 8,
   "id": "7cc840de-20f4-48c6-ac8c-80e2e6d318b2",
   "metadata": {},
   "outputs": [
    {
     "name": "stdout",
     "output_type": "stream",
     "text": [
      "10\n",
      "9\n",
      "8\n",
      "7\n",
      "6\n",
      "5\n",
      "4\n",
      "3\n",
      "2\n",
      "1\n"
     ]
    }
   ],
   "source": [
    "# 7. Program to reverse a while loop to display numbers from 10 to 1.\n",
    "\n",
    "i = 10\n",
    "while i >= 1:\n",
    "    print (i)\n",
    "    i -= 1"
   ]
  },
  {
   "cell_type": "code",
   "execution_count": 9,
   "id": "3db624ce-7487-4820-9133-bc407caa3180",
   "metadata": {},
   "outputs": [
    {
     "name": "stdout",
     "output_type": "stream",
     "text": [
      "10\n",
      "9\n",
      "8\n",
      "7\n",
      "6\n",
      "5\n",
      "4\n",
      "3\n",
      "2\n",
      "1\n"
     ]
    }
   ],
   "source": [
    "# 8. Program to reverse a while loop to display numbers from 10 to 1.\n",
    "## Note: Considering the question is intended for \"for loop\".\n",
    "\n",
    "for i in range(10, 0, -1):\n",
    "    print(i)"
   ]
  },
  {
   "cell_type": "code",
   "execution_count": null,
   "id": "50171261-4482-471a-9d27-b936026b2e7a",
   "metadata": {},
   "outputs": [],
   "source": [
    " "
   ]
  },
  {
   "cell_type": "code",
   "execution_count": null,
   "id": "b919954b-f9e4-456b-9c71-2df9882036c5",
   "metadata": {},
   "outputs": [],
   "source": []
  }
 ],
 "metadata": {
  "kernelspec": {
   "display_name": "Python 3 (ipykernel)",
   "language": "python",
   "name": "python3"
  },
  "language_info": {
   "codemirror_mode": {
    "name": "ipython",
    "version": 3
   },
   "file_extension": ".py",
   "mimetype": "text/x-python",
   "name": "python",
   "nbconvert_exporter": "python",
   "pygments_lexer": "ipython3",
   "version": "3.10.8"
  }
 },
 "nbformat": 4,
 "nbformat_minor": 5
}
