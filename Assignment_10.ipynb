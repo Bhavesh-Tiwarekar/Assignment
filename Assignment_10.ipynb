{
 "cells": [
  {
   "cell_type": "markdown",
   "id": "932f721b-4c22-4871-8a1a-7522289ab61e",
   "metadata": {},
   "source": [
    "#### Q1. What is multithreading in python? Why is it used? Name the module used to handle threads in python."
   ]
  },
  {
   "cell_type": "code",
   "execution_count": 1,
   "id": "c3ab93e7-8937-4bd0-abc6-b8977c4585f2",
   "metadata": {},
   "outputs": [
    {
     "data": {
      "text/plain": [
       "\"\\nAnswer:\\n\\n1. Multithreading in python is the ability of processor to execute multipe threads simultaneously.\\n2. A thread is a sequence of instructions within a program that can be executed independently of other code.\\n3. Multithreading is used when dealing with tasks that can executed independently and simultaneously. E.g. Performing I/O operations.\\n4. It helps to utilize available system resources more efficiently.\\n5. The 'threading' module is used to handle threads in Python.\\n\""
      ]
     },
     "execution_count": 1,
     "metadata": {},
     "output_type": "execute_result"
    }
   ],
   "source": [
    "\"\"\"\n",
    "Answer:\n",
    "\n",
    "1. Multithreading in python is the ability of processor to execute multipe threads simultaneously.\n",
    "2. A thread is a sequence of instructions within a program that can be executed independently of other code.\n",
    "3. Multithreading is used when dealing with tasks that can executed independently and simultaneously. E.g. Performing I/O operations.\n",
    "4. It helps to utilize available system resources more efficiently.\n",
    "5. The 'threading' module is used to handle threads in Python.\n",
    "\"\"\""
   ]
  },
  {
   "cell_type": "markdown",
   "id": "6f88564e-b852-4b1d-a670-367c5fcac0f5",
   "metadata": {},
   "source": [
    "#### Q2. Why threading module used? Write the use of the following functions:\n",
    "#### 1. activeCount()\n",
    "#### 2. currentThread()\n",
    "#### 3. enumerate()"
   ]
  },
  {
   "cell_type": "code",
   "execution_count": 19,
   "id": "d676c960-02f1-4732-90c5-221dd6a7143f",
   "metadata": {},
   "outputs": [
    {
     "name": "stdout",
     "output_type": "stream",
     "text": [
      "Thread executing...\n",
      "Thread executing...\n",
      "Thread executing...\n",
      "Thread executing...\n",
      "Thread executing...\n",
      "Active threads: 8 \n",
      "\n",
      "Current thread: MainThread \n",
      "\n",
      "All threads:\n",
      "MainThread\n",
      "IOPub\n",
      "Heartbeat\n",
      "Thread-3 (_watch_pipe_fd)\n",
      "Thread-4 (_watch_pipe_fd)\n",
      "Control\n",
      "IPythonHistorySavingThread\n",
      "Thread-2\n"
     ]
    }
   ],
   "source": [
    "\"\"\"\n",
    "Answer:\n",
    "\n",
    "1. The 'threading' module is used for creating and managing threads.\n",
    "2. It allows to define and control execution of threads.\n",
    "3. activeCount() function: It is used to retrieve the number of active thread objects in current python interpreter.\n",
    "4. currentThread() function: This function returns the currently executing Thread object.\n",
    "5. enumerate() function: It returns the list of all the currently acive thread objects.\n",
    "6. Following is an example to demonstrate the above functions:\n",
    "\"\"\"\n",
    "import threading\n",
    "\n",
    "def my_function():\n",
    "    print(\"Thread executing...\")\n",
    "\n",
    "# Create multiple threads\n",
    "thr1 = [threading.Thread(target= my_function) for _ in range(5)]\n",
    "\n",
    "for t in thr1:\n",
    "    t.start()\n",
    "\n",
    "# Get the number of active threads\n",
    "print(\"Active threads:\", threading.active_count(), \"\\n\")\n",
    "\n",
    "# Get the currently executing thread\n",
    "current_thr = threading.current_thread()\n",
    "print(\"Current thread:\", current_thr.name, \"\\n\")\n",
    "\n",
    "# Enumerate all active threads\n",
    "all_threads = threading.enumerate()\n",
    "print(\"All threads:\")\n",
    "for thread in all_threads:\n",
    "    print(thread.name)"
   ]
  },
  {
   "cell_type": "markdown",
   "id": "c7367527-f62d-479f-9c09-61ef1f907344",
   "metadata": {},
   "source": [
    "#### Q3. Explain the following functions:\n",
    "#### 1. run()\n",
    "#### 2. start()\n",
    "#### 3. join()\n",
    "#### 4. isAlive()"
   ]
  },
  {
   "cell_type": "code",
   "execution_count": 14,
   "id": "193d2e8f-99da-4235-af4c-8953f7ca47fe",
   "metadata": {},
   "outputs": [
    {
     "name": "stdout",
     "output_type": "stream",
     "text": [
      "This is my custom run!\n",
      "Task done\n",
      "Task done\n",
      "Task done\n",
      "Task done\n",
      "Task done\n",
      "\n",
      "Starting...\n",
      "True\n",
      "Finished\n",
      "Starting...\n",
      "False\n",
      "Finished\n",
      "\n",
      "Thread alive? True\n",
      "Count down starts:\n",
      "5 left\n",
      "4 left\n",
      "3 left\n",
      "2 left\n",
      "1 left\n",
      "Done!\n",
      "Thread alive? False\n",
      "End of program\n"
     ]
    }
   ],
   "source": [
    "\"\"\"\n",
    "Answer:\n",
    "\n",
    "1. run():\n",
    "    The 'run()' function executes any target function belonging to a thread object that is now active. It normally executes in the \n",
    "    background after the 'start()' function is invoked.\n",
    "    \n",
    "\"\"\"\n",
    "import threading\n",
    "\n",
    "class CustomThread(threading.Thread):\n",
    "    def run(self):\n",
    "        print(\"This is my custom run!\")\n",
    "\n",
    "custom_thread = CustomThread()\n",
    "custom_thread.run()\n",
    "\"\"\"\n",
    "In the above example, the 'run()' function gets overriden with a 'print' statement in the custom class that inherits the 'Thread' class.\n",
    "The 'run()' function is then directly called against the 'custom_thread' object.\n",
    "\n",
    "2. start():\n",
    "    The start() function is used to initiate the execution of a thread object.\n",
    "\"\"\"\n",
    "\n",
    "def do_task():\n",
    "    print(\"Task done\")\n",
    "    \n",
    "task_thr = [threading.Thread(target= do_task) for _ in range(5)]\n",
    "\n",
    "for t in task_thr:\n",
    "    t.start()\n",
    "\n",
    "print(\"\")\n",
    "\"\"\"\n",
    "In the above example, the 'start()' function is invoked against the 'task_thr' thread object which executes the 'do_task' function.\n",
    "\n",
    "3. join():\n",
    "    The 'join' function is used to wait for a thread to complete its execution\n",
    "\"\"\"\n",
    "import threading\n",
    "import time\n",
    "\n",
    "def is_divisible(dividend, divisor):\n",
    "    print(\"Starting...\")\n",
    "    if(dividend % divisor == 0):\n",
    "        print(True)\n",
    "    else:\n",
    "        print(False)\n",
    "    print(\"Finished\")\n",
    "\n",
    "thread_A = threading.Thread(target=is_divisible, args=(28, 14))\n",
    "thread_B = threading.Thread(target=is_divisible, args=(34, 7))\n",
    "\n",
    "thread_A.start()\n",
    "thread_A.join()\n",
    "\n",
    "thread_B.start()\n",
    "thread_B.join()\n",
    "\n",
    "print(\"\")\n",
    "\"\"\"\n",
    "In the above example, each thread object 'thread_A' and 'thread_B' makes a call to 'start()' that is followed by call to 'join()'.\n",
    "Hence, 'thread_B' cannot start before finishing executing 'thread_A'.\n",
    "\n",
    "4. isAlive():\n",
    "    This function is used to check if a thread is currently executing or not.\n",
    "\"\"\"\n",
    "def check_thread_activity(count):\n",
    "    print(f\"Thread alive? {thr_act.is_alive()}\")\n",
    "    print(\"Count down starts:\")\n",
    "    while count > 0:\n",
    "        print(f\"{count} left\")\n",
    "        count = count - 1\n",
    "    print(\"Done!\")\n",
    "\n",
    "thr_act = threading.Thread(target=check_thread_activity, args=(5,))\n",
    "\n",
    "thr_act.start()\n",
    "\n",
    "print(f\"Thread alive? {thr_act.is_alive()}\")\n",
    "print(\"End of program\")"
   ]
  },
  {
   "cell_type": "markdown",
   "id": "549af5e0-7cb6-4fb8-8f88-ea2ad1a4f5c9",
   "metadata": {},
   "source": [
    "#### Q4. Write a python program to create two threads. Thread one must print the list of squares and thread\n",
    "#### two must print the list of cubes."
   ]
  },
  {
   "cell_type": "code",
   "execution_count": 39,
   "id": "128a3644-8893-4ef8-a107-533c5370c8f0",
   "metadata": {},
   "outputs": [
    {
     "name": "stdout",
     "output_type": "stream",
     "text": [
      "The list of squares: [1, 4, 9, 16, 25, 36, 49, 64, 81, 100]\n",
      "The list of cubes: [1, 8, 27, 64, 125, 216, 343, 512, 729, 1000]\n"
     ]
    }
   ],
   "source": [
    "# Program to print lsit of squares and cubes using separate threads\n",
    "\n",
    "import threading\n",
    "\n",
    "def print_squares(num):\n",
    "    l1 = []\n",
    "    for i in range(1, num):\n",
    "        l1.append(i**2)\n",
    "    print(f\"The list of squares: {l1}\")\n",
    "        \n",
    "def print_cubes(num):\n",
    "    l2 = []\n",
    "    for j in range(1, num):\n",
    "        l2.append(j**3)\n",
    "    print(f\"The list of cubes: {l2}\")\n",
    "    \n",
    "num = 11\n",
    "    \n",
    "thr_square = threading.Thread(target=print_squares, args=(num,))\n",
    "thr_cube = threading.Thread(target=print_cubes, args=(num,))\n",
    "\n",
    "thr_square.start()\n",
    "thr_cube.start()\n",
    "\n",
    "thr_square.join()\n",
    "thr_cube.join()"
   ]
  },
  {
   "cell_type": "markdown",
   "id": "639327ed-75a0-4f43-956c-21e5dc832cf0",
   "metadata": {},
   "source": [
    "#### Q5. State advantages and disadvantages of multithreading."
   ]
  },
  {
   "cell_type": "code",
   "execution_count": 40,
   "id": "3f0cf237-c5d6-4c46-aead-3eac03912b0f",
   "metadata": {},
   "outputs": [
    {
     "data": {
      "text/plain": [
       "'\\nAnswer:\\n\\na. Advantages of multithreading:\\n1. Multithreading allows simultaneous execution of multiple threads.\\n2. Threads witin a program can easily shared data and resources.\\n3. It improves overall efficiency of the program.\\n\\nb. Disadvantages of multithreading:\\n1. It can create complexity into the program as a careful coordination of shared resources and synchronizaton between threads is required.\\n2. It can cause increased consumption of resources by creating and managing multiple threads.\\n3. Multithreading has debugging and testing challenges when dealing with concurrent code.\\n'"
      ]
     },
     "execution_count": 40,
     "metadata": {},
     "output_type": "execute_result"
    }
   ],
   "source": [
    "\"\"\"\n",
    "Answer:\n",
    "\n",
    "a. Advantages of multithreading:\n",
    "1. Multithreading allows simultaneous execution of multiple threads.\n",
    "2. Threads witin a program can easily shared data and resources.\n",
    "3. It improves overall efficiency of the program.\n",
    "\n",
    "b. Disadvantages of multithreading:\n",
    "1. It can create complexity into the program as a careful coordination of shared resources and synchronizaton between threads is required.\n",
    "2. It can cause increased consumption of resources by creating and managing multiple threads.\n",
    "3. Multithreading has debugging and testing challenges when dealing with concurrent code.\n",
    "\"\"\""
   ]
  },
  {
   "cell_type": "markdown",
   "id": "543cca20-693d-49ae-8b70-5bd41b3fd397",
   "metadata": {},
   "source": [
    "#### Q6. Explain deadlocks and race conditions."
   ]
  },
  {
   "cell_type": "code",
   "execution_count": 41,
   "id": "a66c566f-d905-40f0-bcbc-03f49a517cb1",
   "metadata": {},
   "outputs": [
    {
     "data": {
      "text/plain": [
       "\"\\nAnswer:\\n\\nA. Deadlocks:\\n1. Deadlock is a situation where tow or more threads are blocked indefinitely, waiting for each others resources to get released.\\n2. It happens because of following condotions:\\n    a. Mutual exclusion: Atleast one resource is held exclusively by a tread.\\n    b. Hold and Wait: A thread holds a resource and waits for another resource to be released by another thread.\\n    c. No preemption: Only the thread itself can release the resources.\\n    d. Circular wait: A circular dependency exists, where threads are waiting for resources held by other threads.\\n    \\nB. Race condition:\\n1. Race conditions occur when multiple threads access and modify shared resources simultaneously without proper synchronization.\\n2. It happens because of following condotions:\\n    a. Shared Resource: Multiple threads access and modify a shared resource simultaneously.\\n    b. Non-Atomic Operations: The shared resource is accessed or modified through non-atomic operations that can't be completed \\n       in a single uninterrupted step.\\n    c. Lack of Synchronization: The threads don't use proper synchronization mechanisms to coordinate access to the shared resource.\\n\\n\""
      ]
     },
     "execution_count": 41,
     "metadata": {},
     "output_type": "execute_result"
    }
   ],
   "source": [
    "\"\"\"\n",
    "Answer:\n",
    "\n",
    "A. Deadlocks:\n",
    "1. Deadlock is a situation where tow or more threads are blocked indefinitely, waiting for each others resources to get released.\n",
    "2. It happens because of following condotions:\n",
    "    a. Mutual exclusion: Atleast one resource is held exclusively by a tread.\n",
    "    b. Hold and Wait: A thread holds a resource and waits for another resource to be released by another thread.\n",
    "    c. No preemption: Only the thread itself can release the resources.\n",
    "    d. Circular wait: A circular dependency exists, where threads are waiting for resources held by other threads.\n",
    "    \n",
    "B. Race condition:\n",
    "1. Race conditions occur when multiple threads access and modify shared resources simultaneously without proper synchronization.\n",
    "2. It happens because of following condotions:\n",
    "    a. Shared Resource: Multiple threads access and modify a shared resource simultaneously.\n",
    "    b. Non-Atomic Operations: The shared resource is accessed or modified through non-atomic operations that can't be completed \n",
    "       in a single uninterrupted step.\n",
    "    c. Lack of Synchronization: The threads don't use proper synchronization mechanisms to coordinate access to the shared resource.\n",
    "\n",
    "\"\"\""
   ]
  },
  {
   "cell_type": "code",
   "execution_count": null,
   "id": "c5310986-69b3-4b22-a8b4-273af2510511",
   "metadata": {},
   "outputs": [],
   "source": []
  }
 ],
 "metadata": {
  "kernelspec": {
   "display_name": "Python 3 (ipykernel)",
   "language": "python",
   "name": "python3"
  },
  "language_info": {
   "codemirror_mode": {
    "name": "ipython",
    "version": 3
   },
   "file_extension": ".py",
   "mimetype": "text/x-python",
   "name": "python",
   "nbconvert_exporter": "python",
   "pygments_lexer": "ipython3",
   "version": "3.10.8"
  }
 },
 "nbformat": 4,
 "nbformat_minor": 5
}
