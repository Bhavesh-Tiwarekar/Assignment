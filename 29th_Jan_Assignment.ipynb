{
 "cells": [
  {
   "cell_type": "code",
   "execution_count": 22,
   "id": "fa98ba7d-5b45-4b78-b346-32173efa9cfa",
   "metadata": {},
   "outputs": [],
   "source": [
    "## 1. Who developed Python Programming Language? "
   ]
  },
  {
   "cell_type": "code",
   "execution_count": 23,
   "id": "b610764f-423c-47ed-a400-d40ea01a9177",
   "metadata": {},
   "outputs": [],
   "source": [
    "## -> Guido van Rossum developed Python Programming Language."
   ]
  },
  {
   "cell_type": "code",
   "execution_count": 24,
   "id": "0dc3ebab-ae62-4d2c-b882-667ae9c66345",
   "metadata": {},
   "outputs": [],
   "source": [
    "## 2. Which type of Programming does Python support?"
   ]
  },
  {
   "cell_type": "code",
   "execution_count": 25,
   "id": "f93a0c60-f4ab-45b8-995f-6e5a2a9cfe6f",
   "metadata": {},
   "outputs": [],
   "source": [
    "## -> Python supports object-oriented, procedural and functional programming."
   ]
  },
  {
   "cell_type": "code",
   "execution_count": 26,
   "id": "24661db8-d02f-47e9-ae16-74bde3218c4e",
   "metadata": {},
   "outputs": [],
   "source": [
    "## 3. Is Python case sensitive when dealing with identifiers?"
   ]
  },
  {
   "cell_type": "code",
   "execution_count": 27,
   "id": "1d38aff8-12da-4791-b465-576ff7633896",
   "metadata": {},
   "outputs": [],
   "source": [
    "## -> Python is case sensitive when dealing with identifiers."
   ]
  },
  {
   "cell_type": "code",
   "execution_count": 28,
   "id": "4ed52aab-7d07-4733-bd4e-4408b547a462",
   "metadata": {},
   "outputs": [],
   "source": [
    "## 4. What is the correct extension of the Python file?"
   ]
  },
  {
   "cell_type": "code",
   "execution_count": 29,
   "id": "39760ac4-e545-4999-99ec-106ef5eb36fb",
   "metadata": {},
   "outputs": [],
   "source": [
    "## -> \".py\" is the correct extension of the Python file."
   ]
  },
  {
   "cell_type": "code",
   "execution_count": 30,
   "id": "153d7be2-0325-4dcf-b51e-19a95c3e3d3a",
   "metadata": {},
   "outputs": [],
   "source": [
    "## 5. Is Python code compiled or interpreted?"
   ]
  },
  {
   "cell_type": "code",
   "execution_count": 21,
   "id": "cbb9d6e4-d830-43c0-9308-73a299325cc9",
   "metadata": {},
   "outputs": [],
   "source": [
    "## -> Python code is both compiled as well as interpreted"
   ]
  },
  {
   "cell_type": "code",
   "execution_count": 7,
   "id": "70676f47-8efa-400a-82f7-d4f2ae80a8db",
   "metadata": {},
   "outputs": [],
   "source": [
    "## 6. Name a few blocks of code used to define in Python language? "
   ]
  },
  {
   "cell_type": "code",
   "execution_count": null,
   "id": "b9d5f1d2-97d2-459c-9af1-7fca6fca3f86",
   "metadata": {},
   "outputs": [],
   "source": [
    "## -> Few blocks of code used to define in Python language are If-else Conditional statements, loops and Functions."
   ]
  },
  {
   "cell_type": "code",
   "execution_count": 8,
   "id": "8e71f6a8-3252-4d72-b168-682e265fed73",
   "metadata": {},
   "outputs": [],
   "source": [
    "## 7. State a character used to give single-line comments in Python? "
   ]
  },
  {
   "cell_type": "code",
   "execution_count": null,
   "id": "87ee67fd-3e8f-4d17-bd9f-c47e3930cc65",
   "metadata": {},
   "outputs": [],
   "source": [
    "## -> \"#\" is used to give single-line comments in Python."
   ]
  },
  {
   "cell_type": "code",
   "execution_count": 9,
   "id": "98914701-2c71-4323-8b52-029b9403cf30",
   "metadata": {},
   "outputs": [],
   "source": [
    "## 8. Mention functions which can help us to find the version of python that we are currently working on?"
   ]
  },
  {
   "cell_type": "code",
   "execution_count": 31,
   "id": "530c644f-11ff-44a7-b654-51d9666dcf6a",
   "metadata": {},
   "outputs": [],
   "source": [
    "## -> \"sys.version\" and \"platform.python_version()\" are the functions that can help us to find the version of python that we are currently working on."
   ]
  },
  {
   "cell_type": "code",
   "execution_count": 10,
   "id": "71504a5d-97ae-41c7-8a3d-ecdf2489fad6",
   "metadata": {},
   "outputs": [],
   "source": [
    "## 9. Python supports the creation of anonymous functions at runtime, using a construct called _ _ _ _ _"
   ]
  },
  {
   "cell_type": "code",
   "execution_count": null,
   "id": "61f2238c-c652-47a2-ae87-4f6e89193e8d",
   "metadata": {},
   "outputs": [],
   "source": [
    "## -> Python supports the creation of anonymous functions at runtime, using a construct called lambda. "
   ]
  },
  {
   "cell_type": "code",
   "execution_count": 11,
   "id": "5f849357-ee2e-4531-88ac-20c36cf2726e",
   "metadata": {},
   "outputs": [],
   "source": [
    "## 10. What does pip stand for python?"
   ]
  },
  {
   "cell_type": "code",
   "execution_count": 32,
   "id": "2b451a32-1b13-43a4-ac74-bce0d81e5301",
   "metadata": {},
   "outputs": [],
   "source": [
    "## -> pip stand for \"pip Install Packages” and is the standard tool for installing Python packages."
   ]
  },
  {
   "cell_type": "code",
   "execution_count": 12,
   "id": "d6e1b411-1310-4b69-8cad-4778e7628c0c",
   "metadata": {},
   "outputs": [],
   "source": [
    "## 11. Mention a few built-in functions in python?"
   ]
  },
  {
   "cell_type": "code",
   "execution_count": null,
   "id": "66d5e6cf-0c06-4306-8592-983ea7901de0",
   "metadata": {},
   "outputs": [],
   "source": [
    "## -> \"print()\", \"input()\", \"int()\", \"list()\" are some of the built-in functions in python."
   ]
  },
  {
   "cell_type": "code",
   "execution_count": 13,
   "id": "51bab929-d573-4cf9-af54-a81346e2e669",
   "metadata": {},
   "outputs": [],
   "source": [
    "## 12. What is the maximum possible length of an identifier in Python?"
   ]
  },
  {
   "cell_type": "code",
   "execution_count": null,
   "id": "83e0ba91-681f-4859-ac16-5a1d8643f780",
   "metadata": {},
   "outputs": [],
   "source": [
    "## ->  Identifiers can be of any length in Python."
   ]
  },
  {
   "cell_type": "code",
   "execution_count": 14,
   "id": "e426e5d3-c9e5-425e-9cb4-6a2552f2614e",
   "metadata": {},
   "outputs": [],
   "source": [
    "## 13. What are the benefits of using Python?"
   ]
  },
  {
   "cell_type": "code",
   "execution_count": 37,
   "id": "e3949e38-a5f1-492d-9ac0-cc6efeec3d0f",
   "metadata": {},
   "outputs": [
    {
     "data": {
      "text/plain": [
       "'\\nSome of the benefits of using Python are:\\n        1. Simple to Use and Understand.\\n        2. Generally used in Data science, Scientific and mathematical computing, Web development, Basic game development, data analytics, machine learning, etc.\\n        3. Has vast Libraries Support.\\n        4. Pthon is an interpreted language which executes the code directly, one line after the other.\\n        5. The syntax in Python when compared to C++ or Java, allows programmers to do coding in fewer steps.\\n'"
      ]
     },
     "execution_count": 37,
     "metadata": {},
     "output_type": "execute_result"
    }
   ],
   "source": [
    "## -> \n",
    "\"\"\"\n",
    "Some of the benefits of using Python are:\n",
    "        1. Simple to Use and Understand.\n",
    "        2. Generally used in Data science, Scientific and mathematical computing, Web development, Basic game development, data analytics, machine learning, etc.\n",
    "        3. Has vast Libraries Support.\n",
    "        4. Pthon is an interpreted language which executes the code directly, one line after the other.\n",
    "        5. The syntax in Python when compared to C++ or Java, allows programmers to do coding in fewer steps.\n",
    "\"\"\""
   ]
  },
  {
   "cell_type": "code",
   "execution_count": 15,
   "id": "6a41c1f6-6cb3-43b4-8c50-70b2b803cee4",
   "metadata": {},
   "outputs": [],
   "source": [
    "## 14. How is memory managed in Python?"
   ]
  },
  {
   "cell_type": "code",
   "execution_count": 35,
   "id": "d290ae17-c1bd-46c8-b3c6-a6f4a491ef6a",
   "metadata": {},
   "outputs": [
    {
     "data": {
      "text/plain": [
       "'\\nMemory Management in Python involves two parts:\\n        1. Stack memory\\n        2. Heap memory\\nThe method calls and the references are stored in stack memory. Whenever a function is called, its variables get memory allocated on the stack.\\nAll the values objects are stored in a private heap. The variables that are needed outside of method or function calls or are shared within multiple functions globally are stored in Heap memory.\\n'"
      ]
     },
     "execution_count": 35,
     "metadata": {},
     "output_type": "execute_result"
    }
   ],
   "source": [
    "## ->\n",
    "\"\"\"\n",
    "Memory Management in Python involves two parts:\n",
    "        1. Stack memory\n",
    "        2. Heap memory\n",
    "The method calls and the references are stored in stack memory. Whenever a function is called, its variables get memory allocated on the stack.\n",
    "All the values objects are stored in a private heap. The variables that are needed outside of method or function calls or are shared within multiple functions globally are stored in Heap memory.\n",
    "\"\"\""
   ]
  },
  {
   "cell_type": "code",
   "execution_count": 16,
   "id": "3290f477-e4ed-4312-b5fa-1efd1f24a9b8",
   "metadata": {},
   "outputs": [],
   "source": [
    "## 15. How to install Python on Windows and set path variables?"
   ]
  },
  {
   "cell_type": "code",
   "execution_count": null,
   "id": "e94f15c9-5b35-4dd7-b6e0-2a2475031bcc",
   "metadata": {},
   "outputs": [],
   "source": [
    "## -> \n",
    "\"\"\"\n",
    "Steps for installing python on Windows:\n",
    "    1. Download the latest version of Python from \"https://www.python.org/downloads/\" on the windows system.\n",
    "    2. Execute the downloaded Python executible file.\n",
    "    3. Check the box to \"Add Python to PATH\" at the bottom of the setup screen.\n",
    "    4. Follow the installation steps.\n",
    "\n",
    "Manually add Python to Windows Path:\n",
    "    1. Check for the location when Python has been installed on the system.\n",
    "    2. Then go to advanced system settings -> Environment Variables.\n",
    "    3. Double click on \"Path\" under \"User variables\".\n",
    "    4. Click \"New\" and paste the the copied path for Python application. E.g. \"C:\\Users\\..\\Programs\\Python\\Python39\".\n",
    "    5. Click \"New\" and paste the the copied path for Python Scripts path. E.g. \"C:\\Users\\..\\Programs\\Python\\Python39\\Scripts\".\n",
    "    6. Click on \"Ok\"-> Again Click \"Ok\".\n",
    "\"\"\""
   ]
  },
  {
   "cell_type": "code",
   "execution_count": null,
   "id": "d68d1622-14d9-49fe-ad0d-10bc50668787",
   "metadata": {},
   "outputs": [],
   "source": [
    "## 16. Is indentation required in python?"
   ]
  },
  {
   "cell_type": "code",
   "execution_count": null,
   "id": "fed1fbc9-d9c1-4875-a957-d7b30ed8ea73",
   "metadata": {},
   "outputs": [],
   "source": [
    "## -> Indentation is important to Python because it helps Python to determine what code belongs to what part of the program."
   ]
  }
 ],
 "metadata": {
  "kernelspec": {
   "display_name": "Python 3 (ipykernel)",
   "language": "python",
   "name": "python3"
  },
  "language_info": {
   "codemirror_mode": {
    "name": "ipython",
    "version": 3
   },
   "file_extension": ".py",
   "mimetype": "text/x-python",
   "name": "python",
   "nbconvert_exporter": "python",
   "pygments_lexer": "ipython3",
   "version": "3.10.8"
  }
 },
 "nbformat": 4,
 "nbformat_minor": 5
}
