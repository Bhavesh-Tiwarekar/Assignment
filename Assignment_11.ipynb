{
 "cells": [
  {
   "cell_type": "markdown",
   "id": "01c7ce8d-fee6-4957-9a11-0ed06e445036",
   "metadata": {},
   "source": [
    "#### Q1. What is multiprocessing in python? Why is it useful?"
   ]
  },
  {
   "cell_type": "code",
   "execution_count": 2,
   "id": "1197a6b2-d5a2-42d3-a474-0b1b41fad74a",
   "metadata": {},
   "outputs": [
    {
     "data": {
      "text/plain": [
       "'\\nAnswer:\\n\\n1. Multiprocessing is the ability to manage and execute multiple processes which can run independently and simultanepusly.\\n2. It enables to use multiple processors to execute task in parallel.\\n3. It can significantly improve performance by executing computatational tasks in parallel.\\n4. It helps in utilizing available resources effectively.\\n5. It provides communication mechanisms like pipes and queues to provide interprocess communication.\\n'"
      ]
     },
     "execution_count": 2,
     "metadata": {},
     "output_type": "execute_result"
    }
   ],
   "source": [
    "\"\"\"\n",
    "Answer:\n",
    "\n",
    "1. Multiprocessing is the ability to manage and execute multiple processes which can run independently and simultanepusly.\n",
    "2. It enables to use multiple processors to execute task in parallel.\n",
    "3. It can significantly improve performance by executing computatational tasks in parallel.\n",
    "4. It helps in utilizing available resources effectively.\n",
    "5. It provides communication mechanisms like pipes and queues to provide interprocess communication.\n",
    "\"\"\""
   ]
  },
  {
   "cell_type": "markdown",
   "id": "e4277353-afde-4be0-96d3-893a9f341e56",
   "metadata": {},
   "source": [
    "#### Q2. What are the differences between multiprocessing and multithreading?\n"
   ]
  },
  {
   "cell_type": "code",
   "execution_count": 3,
   "id": "8aebbe4c-e50f-4350-bf9d-4b1c88090ad1",
   "metadata": {},
   "outputs": [
    {
     "data": {
      "text/plain": [
       "'\\nAnswer:\\n\\n1. Multiprocessing involves executing multiple independent processes simultaneously, each with its own memory space.\\n2. Multithreading involves multiple threads running in a single process,sharing the same memory space.\\n3. Parallel execution of tasks is possible in multiprocessing using multiple CPU cores while Global Interpreter Lock (GIL) restricts parallel\\nexecution of tasks in Multithreading.\\n4. Improved performance is effiectively achieved in multiprovessing as easch process has its own memory space where as the \\nrelease of resources from one thread is required by another thread sharing the same memory space in multithreading.\\n5. Multiprocessing requires interprocess communication mechanisms like pipes or queues for communication between processes while \\nsynchronization mechanisms like locks are required to handle shared data in Multithreading. \\n'"
      ]
     },
     "execution_count": 3,
     "metadata": {},
     "output_type": "execute_result"
    }
   ],
   "source": [
    "\"\"\"\n",
    "Answer:\n",
    "\n",
    "1. Multiprocessing involves executing multiple independent processes simultaneously, each with its own memory space.\n",
    "2. Multithreading involves multiple threads running in a single process,sharing the same memory space.\n",
    "3. Parallel execution of tasks is possible in multiprocessing using multiple CPU cores while Global Interpreter Lock (GIL) restricts parallel\n",
    "execution of tasks in Multithreading.\n",
    "4. Improved performance is effiectively achieved in multiprovessing as easch process has its own memory space where as the \n",
    "release of resources from one thread is required by another thread sharing the same memory space in multithreading.\n",
    "5. Multiprocessing requires interprocess communication mechanisms like pipes or queues for communication between processes while \n",
    "synchronization mechanisms like locks are required to handle shared data in Multithreading. \n",
    "\"\"\""
   ]
  },
  {
   "cell_type": "markdown",
   "id": "8777800a-ea66-4576-954e-0f417082ad92",
   "metadata": {},
   "source": [
    "#### Q3. Write a python code to create a process using the multiprocessing module."
   ]
  },
  {
   "cell_type": "code",
   "execution_count": 9,
   "id": "4958d9e9-24b2-445f-a0d8-57cce7451024",
   "metadata": {},
   "outputs": [
    {
     "name": "stdout",
     "output_type": "stream",
     "text": [
      "Printing 0\n",
      "Printing 1\n",
      "The square of 4 is 16Printing 2\n",
      "\n",
      "Printing 3\n",
      "Printing 4\n",
      "Done\n"
     ]
    }
   ],
   "source": [
    "# Program to create a process using multiprocessing module\n",
    "\n",
    "import multiprocessing\n",
    "\n",
    "def test():\n",
    "    for i in range(5):\n",
    "        print(f\"Printing {i}\")\n",
    "        \n",
    "def square(n):\n",
    "    print(f\"The square of {n} is {n**2}\")\n",
    "\n",
    "if __name__ == '__main__':\n",
    "    m1 = multiprocessing.Process(target=test)\n",
    "    m2 = multiprocessing.Process(target=square, args=(4,))\n",
    "    m1.start()\n",
    "    m2.start()\n",
    "    m1.join()\n",
    "    m2.join()\n",
    "    print(\"Done\")"
   ]
  },
  {
   "cell_type": "markdown",
   "id": "78145b0b-d691-4e03-a8d4-60a5d25f912c",
   "metadata": {},
   "source": [
    "#### Q4. What is a multiprocessing pool in python? Why is it used?"
   ]
  },
  {
   "cell_type": "code",
   "execution_count": 1,
   "id": "24cd08e6-c436-4afc-beec-95cce919d886",
   "metadata": {},
   "outputs": [
    {
     "data": {
      "text/plain": [
       "\"\\nAnswer:\\n\\n1. Multiprocessing pool refers to a pool of worker processes that can be used to execute tasks in parallel.\\n2. The 'multiprocessing.Pool' class provides a process pool in python.\\n3. The multiprocessing pool automatically distributes workload among avalailable processes and enables efficient use of CPU resources.\\n4. Simplified concorrency is achieved by submitting tasks to the pool using functions like 'map()'.\\n5. As individual worker processes are isolated from each other, error occured in one process does not affect other processes.\\n\""
      ]
     },
     "execution_count": 1,
     "metadata": {},
     "output_type": "execute_result"
    }
   ],
   "source": [
    "\"\"\"\n",
    "Answer:\n",
    "\n",
    "1. Multiprocessing pool refers to a pool of worker processes that can be used to execute tasks in parallel.\n",
    "2. The 'multiprocessing.Pool' class provides a process pool in python.\n",
    "3. The multiprocessing pool automatically distributes workload among avalailable processes and enables efficient use of CPU resources.\n",
    "4. Simplified concorrency is achieved by submitting tasks to the pool using functions like 'map()'.\n",
    "5. As individual worker processes are isolated from each other, error occured in one process does not affect other processes.\n",
    "\"\"\""
   ]
  },
  {
   "cell_type": "markdown",
   "id": "f0add7a1-73c5-43cf-aa0a-bf2d0d8436c0",
   "metadata": {},
   "source": [
    "#### Q5. How can we create a pool of worker processes in python using the multiprocessing module?"
   ]
  },
  {
   "cell_type": "code",
   "execution_count": 24,
   "id": "5ab45d27-48f7-4f34-8886-a6812997da4e",
   "metadata": {},
   "outputs": [
    {
     "name": "stdout",
     "output_type": "stream",
     "text": [
      "A will work for 5 hours.B will work for 10 hours.\n",
      "\n",
      "A finished working.\n",
      "C will work for 8 hours.\n",
      "B finished working.\n",
      "D will work for 9 hours.\n",
      "C finished working.\n",
      "D finished working.\n"
     ]
    },
    {
     "data": {
      "text/plain": [
       "\"\\nIn the above example, two execution of 'work_log()' is happening in parallel because of pool size as 2 (processes=2). \\nWhen one of the function processing finishes, it executes the next argument.\\n\""
      ]
     },
     "execution_count": 24,
     "metadata": {},
     "output_type": "execute_result"
    }
   ],
   "source": [
    "\"\"\"\n",
    "Answer:\n",
    "\n",
    "1. The 'multiprocessing.Pool' class from module 'multiprocessing' can be used to create a pool of worker processes.\n",
    "2. Following is an example to demonstrate creating of pool of worker process:\n",
    "\"\"\"\n",
    "\n",
    "import multiprocessing, time\n",
    "\n",
    "work = ([\"A\", 5], [\"B\", 10], [\"C\", 8], [\"D\", 9])\n",
    "\n",
    "def work_log(work_data):\n",
    "    print(f\"{work_data[0]} will work for {work_data[1]} hours.\")\n",
    "    time.sleep(work_data[1])\n",
    "    print(f\"{work_data[0]} finished working.\")\n",
    "    \n",
    "if __name__ == '__main__':\n",
    "    with multiprocessing.Pool(processes=2) as pool:\n",
    "        pool.map(work_log, work)\n",
    "        pool.close()\n",
    "        pool.join()\n",
    "\"\"\"\n",
    "In the above example, two execution of 'work_log()' is happening in parallel because of pool size as 2 (processes=2). \n",
    "When one of the function processing finishes, it executes the next argument.\n",
    "\"\"\""
   ]
  },
  {
   "cell_type": "markdown",
   "id": "c79cc988-37c1-4108-9c49-cedecb3a4995",
   "metadata": {},
   "source": [
    "#### Q6. Write a python program to create 4 processes, each process should print a different number using the\n",
    "#### multiprocessing module in python."
   ]
  },
  {
   "cell_type": "code",
   "execution_count": 41,
   "id": "94f03dbc-e960-4e10-90ed-380241819a19",
   "metadata": {},
   "outputs": [
    {
     "name": "stdout",
     "output_type": "stream",
     "text": [
      "Process ID: 4087, Number: 1\n",
      "Process ID: 4090, Number: 2\n",
      "Process ID: 4097, Number: 3\n",
      "Process ID: 4100, Number: 4\n"
     ]
    }
   ],
   "source": [
    "# Program to create 4 processes that print their respective numbers.\n",
    "\n",
    "import multiprocessing\n",
    "\n",
    "def print_numbers(num):\n",
    "    process_id = multiprocessing.current_process().pid\n",
    "    print(f\"Process ID: {process_id}, Number: {num}\")\n",
    "\n",
    "if __name__ == '__main__':\n",
    "    processes = []\n",
    "    \n",
    "    for i in range(1,5):\n",
    "        m = multiprocessing.Process(target=print_numbers, args=(i,))\n",
    "        processes.append(m1)\n",
    "        m.start()\n",
    "        \n",
    "    for m in processes:\n",
    "        m.join()"
   ]
  },
  {
   "cell_type": "code",
   "execution_count": null,
   "id": "6a5d0aba-213f-445a-a606-fb62105094e9",
   "metadata": {},
   "outputs": [],
   "source": []
  }
 ],
 "metadata": {
  "kernelspec": {
   "display_name": "Python 3 (ipykernel)",
   "language": "python",
   "name": "python3"
  },
  "language_info": {
   "codemirror_mode": {
    "name": "ipython",
    "version": 3
   },
   "file_extension": ".py",
   "mimetype": "text/x-python",
   "name": "python",
   "nbconvert_exporter": "python",
   "pygments_lexer": "ipython3",
   "version": "3.10.8"
  }
 },
 "nbformat": 4,
 "nbformat_minor": 5
}
