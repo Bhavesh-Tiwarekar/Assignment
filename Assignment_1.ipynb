{
 "cells": [
  {
   "cell_type": "code",
   "execution_count": 1,
   "id": "753a1ec7-0797-4975-9652-6c4e9a55c57c",
   "metadata": {},
   "outputs": [],
   "source": [
    "# Q1\n",
    "\n",
    "# Program for Variable containing string\n",
    "a = \"This_is_my_string\"\n",
    "\n",
    "# Program for Variable containing list\n",
    "b = [1,2,3,4]\n",
    "\n",
    "# Program for Variable containing float\n",
    "c = 12.34\n",
    "\n",
    "# Program for Variable containing tuple\n",
    "d = (1,2,3)"
   ]
  },
  {
   "cell_type": "code",
   "execution_count": 2,
   "id": "9fe3d009-c954-4339-bab3-136c8484b551",
   "metadata": {},
   "outputs": [
    {
     "data": {
      "text/plain": [
       "'\\n1. Data type of var1 is string (str).\\n\\n2. Data type of var2 is string (str).\\n\\n3. Data type of var3 is list.\\n\\n4. Data type of var4 is integer (int).\\n\\n'"
      ]
     },
     "execution_count": 2,
     "metadata": {},
     "output_type": "execute_result"
    }
   ],
   "source": [
    "# Q2\n",
    "\"\"\"\n",
    "1. Data type of var1 is string (str).\n",
    "\n",
    "2. Data type of var2 is string (str).\n",
    "\n",
    "3. Data type of var3 is list.\n",
    "\n",
    "4. Data type of var4 is integer (int).\n",
    "\n",
    "\"\"\""
   ]
  },
  {
   "cell_type": "code",
   "execution_count": 3,
   "id": "83046cd6-5294-473f-8d38-910e1beb2310",
   "metadata": {},
   "outputs": [
    {
     "name": "stdout",
     "output_type": "stream",
     "text": [
      "0.5\n",
      "4\n",
      "2\n",
      "16\n"
     ]
    }
   ],
   "source": [
    "# Q3\n",
    "\n",
    "# 1. '/' is an arithmetic operator used for division. It returns the division result in the form of data type as float.\n",
    "# Example:\n",
    "a = 1/2\n",
    "print(a)\n",
    "\n",
    "# 2. '%' is an arithmetic operator used for modulus.It returns the remainder after division.\n",
    "# Example:\n",
    "b = 25%7\n",
    "print(b)\n",
    "\n",
    "# 3. '//' is an arithmetic operator used for floor division. It returns the quotient after division.\n",
    "# Example:\n",
    "c = 5//2\n",
    "print(c)\n",
    "\n",
    "# 4. '**' is an arithmetic operator used for exponention. \n",
    "# Example:\n",
    "d = 2**4\n",
    "print(d)"
   ]
  },
  {
   "cell_type": "code",
   "execution_count": 4,
   "id": "c2728bc3-49ee-44ee-942c-2496b735fb38",
   "metadata": {},
   "outputs": [
    {
     "name": "stdout",
     "output_type": "stream",
     "text": [
      "The length of my list 'l' is 10\n",
      "1 <class 'int'>\n",
      "3 <class 'int'>\n",
      "pwskills <class 'str'>\n",
      "1.23 <class 'float'>\n",
      "[1, 2, 3] <class 'list'>\n",
      "(1, 2, 3) <class 'tuple'>\n",
      "{'dict_1': 'my_dictionary_1'} <class 'dict'>\n",
      "data_science <class 'str'>\n",
      "ML <class 'str'>\n",
      "Test <class 'str'>\n"
     ]
    }
   ],
   "source": [
    "# Q4\n",
    "# Program to create list of length 10.\n",
    "\n",
    "l = [1, 3, \"pwskills\", 1.23, [1,2,3], (1,2,3), {\"dict_1\": \"my_dictionary_1\"}, \"data_science\", \"ML\", \"Test\"]\n",
    "\n",
    "print(\"The length of my list 'l' is\", len(l))\n",
    "\n",
    "# Program to print elements and their data types from list 'l'\n",
    "for i in l:\n",
    "    print(i, type(i))\n",
    "    "
   ]
  },
  {
   "cell_type": "code",
   "execution_count": 12,
   "id": "98c4ea6b-d817-452a-ac6f-d0b7c6b16bed",
   "metadata": {},
   "outputs": [
    {
     "name": "stdin",
     "output_type": "stream",
     "text": [
      "Enter the 1st number (A):  50\n",
      "Enter the 2nd number (B):  2\n"
     ]
    },
    {
     "name": "stdout",
     "output_type": "stream",
     "text": [
      "A is divisible by B 5 time(s)\n"
     ]
    }
   ],
   "source": [
    "# Q5\n",
    "\n",
    "# Program to verify if the number A is purely divisible by number B and if so then how many times it can be divisible.\n",
    "\n",
    "A = int(input(\"Enter the 1st number (A): \"))\n",
    "B = int(input(\"Enter the 2nd number (B): \"))\n",
    "counter = 0\n",
    "\n",
    "if A % B != 0:\n",
    "    print( \"A is not purely divisible by B\")\n",
    "else:\n",
    "    while A >= B:\n",
    "        A = A / B\n",
    "        counter += 1\n",
    "    print(\"A is divisible by B\", counter, \"time(s)\")"
   ]
  },
  {
   "cell_type": "code",
   "execution_count": 20,
   "id": "0c09f18e-5173-4a47-b135-cff452ab7638",
   "metadata": {},
   "outputs": [
    {
     "name": "stdout",
     "output_type": "stream",
     "text": [
      "The created list is: [1, 2, 3, 4, 5, 6, 7, 8, 9, 10, 11, 12, 13, 14, 15, 16, 17, 18, 19, 20, 21, 22, 23, 24, 25]\n",
      "1 is not divisible by 3\n",
      "2 is not divisible by 3\n",
      "3 is divisible by 3\n",
      "4 is not divisible by 3\n",
      "5 is not divisible by 3\n",
      "6 is divisible by 3\n",
      "7 is not divisible by 3\n",
      "8 is not divisible by 3\n",
      "9 is divisible by 3\n",
      "10 is not divisible by 3\n",
      "11 is not divisible by 3\n",
      "12 is divisible by 3\n",
      "13 is not divisible by 3\n",
      "14 is not divisible by 3\n",
      "15 is divisible by 3\n",
      "16 is not divisible by 3\n",
      "17 is not divisible by 3\n",
      "18 is divisible by 3\n",
      "19 is not divisible by 3\n",
      "20 is not divisible by 3\n",
      "21 is divisible by 3\n",
      "22 is not divisible by 3\n",
      "23 is not divisible by 3\n",
      "24 is divisible by 3\n",
      "25 is not divisible by 3\n"
     ]
    }
   ],
   "source": [
    "# Q6\n",
    "\n",
    "# Program to create a list of integers and check if the element of list is divisible by 3 or not.\n",
    "l = []\n",
    "for i in range(1,26):\n",
    "    l.append(i)\n",
    "print(\"The created list is:\", l)\n",
    "\n",
    "for i in l:\n",
    "    if i % 3 == 0:\n",
    "        print(i, \"is divisible by 3\")\n",
    "    else:\n",
    "         print(i, \"is not divisible by 3\")"
   ]
  },
  {
   "cell_type": "code",
   "execution_count": 27,
   "id": "be94bd7c-fe0d-4568-a4ec-f90c980c362d",
   "metadata": {},
   "outputs": [
    {
     "name": "stdout",
     "output_type": "stream",
     "text": [
      "Here the original value at index 1 in list l1 [1,2,3] is changed to 4. Hence the updated list [1, 4, 3]\n"
     ]
    },
    {
     "ename": "TypeError",
     "evalue": "'str' object does not support item assignment",
     "output_type": "error",
     "traceback": [
      "\u001b[0;31m---------------------------------------------------------------------------\u001b[0m",
      "\u001b[0;31mTypeError\u001b[0m                                 Traceback (most recent call last)",
      "Cell \u001b[0;32mIn[27], line 11\u001b[0m\n\u001b[1;32m      9\u001b[0m \u001b[38;5;66;03m# 2. Immutable data types- These data types cannot be modified once they are created.\u001b[39;00m\n\u001b[1;32m     10\u001b[0m s1 \u001b[38;5;241m=\u001b[39m \u001b[38;5;124m\"\u001b[39m\u001b[38;5;124mpwskills\u001b[39m\u001b[38;5;124m\"\u001b[39m\n\u001b[0;32m---> 11\u001b[0m \u001b[43ms1\u001b[49m\u001b[43m[\u001b[49m\u001b[38;5;241;43m1\u001b[39;49m\u001b[43m]\u001b[49m \u001b[38;5;241m=\u001b[39m \u001b[38;5;124m'\u001b[39m\u001b[38;5;124mW\u001b[39m\u001b[38;5;124m'\u001b[39m\n\u001b[1;32m     13\u001b[0m \u001b[38;5;66;03m# In above example the original value at index 1 in string s1 'pwskills' cannot be changed to 'W'. Hence it throws error.\")\u001b[39;00m\n",
      "\u001b[0;31mTypeError\u001b[0m: 'str' object does not support item assignment"
     ]
    }
   ],
   "source": [
    "# Q7\n",
    "\n",
    "# 1. Mutable data types- These data types can be modified once they are created.\n",
    "# Example:\n",
    "l1 = [1,2,3]\n",
    "l1[1] = 4\n",
    "print(\"Here the original value at index 1 in list l1 [1,2,3] is changed to 4. Hence the updated list\", l1)\n",
    "\n",
    "# 2. Immutable data types- These data types cannot be modified once they are created.\n",
    "s1 = \"pwskills\"\n",
    "s1[1] = 'W'\n",
    "\n",
    "# In above example the original value at index 1 in string s1 'pwskills' cannot be changed to 'W'. Hence it throws error.\")"
   ]
  },
  {
   "cell_type": "code",
   "execution_count": null,
   "id": "2545f23c-902d-4973-832d-9c88b56cf8bd",
   "metadata": {},
   "outputs": [],
   "source": []
  },
  {
   "cell_type": "code",
   "execution_count": null,
   "id": "70403cca-6216-44f8-8066-6d0cc1e33fdb",
   "metadata": {},
   "outputs": [],
   "source": []
  }
 ],
 "metadata": {
  "kernelspec": {
   "display_name": "Python 3 (ipykernel)",
   "language": "python",
   "name": "python3"
  },
  "language_info": {
   "codemirror_mode": {
    "name": "ipython",
    "version": 3
   },
   "file_extension": ".py",
   "mimetype": "text/x-python",
   "name": "python",
   "nbconvert_exporter": "python",
   "pygments_lexer": "ipython3",
   "version": "3.10.8"
  }
 },
 "nbformat": 4,
 "nbformat_minor": 5
}
