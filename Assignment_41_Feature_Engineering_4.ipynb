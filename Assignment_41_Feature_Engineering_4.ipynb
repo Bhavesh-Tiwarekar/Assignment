{
 "cells": [
  {
   "cell_type": "markdown",
   "id": "f9387e79-2814-417f-b84d-9eaf21f90280",
   "metadata": {},
   "source": [
    "##### Q1. What is the difference between Ordinal Encoding and Label Encoding? Provide an example of when you might choose one over the other."
   ]
  },
  {
   "cell_type": "code",
   "execution_count": 1,
   "id": "b8037748-2da4-4127-900d-510e93aa7cbc",
   "metadata": {},
   "outputs": [
    {
     "data": {
      "text/plain": [
       "'\\nAnswer:\\n\\n1. Ordinal encoding is used when the categorical data has a natural order or ranking among its categories. It assigns numerical values to categories \\n   in a way that reflects this order.\\n2. Label encoding is used when the categorical data has categories with no meaningful ordinal relationship, and you simply want to represent the \\n   categories as numerical labels.\\n3. Ordinal encoding can be chosen for the \"Education Level\" feature, which includes categories like \"High School\", \"Bachelor\\'s Degree\", \"Master\\'s Degree\" and \"Ph.D.\\n   In this case, we would assign numerical values in ascending order to reflect the hierarchy: \"High School\" = 1, \"Bachelor\\'s Degree\" = 2, and so on.\\n4. Label encoding can be chosen for the \"Color\" feature with categories like \"Red\", \"Blue\", \"Green\" and \"Yellow\". These colors do not have a natural order or \\n   hierarchy. In this case, we would assign numerical labels to the categories in any arbitrary manner: \"Red\" = 1, \"Blue\" = 2, \"Green\" = 3 and \"Yellow\" = 4. \\n\\n\\n'"
      ]
     },
     "execution_count": 1,
     "metadata": {},
     "output_type": "execute_result"
    }
   ],
   "source": [
    "\"\"\"\n",
    "Answer:\n",
    "\n",
    "1. Ordinal encoding is used when the categorical data has a natural order or ranking among its categories. It assigns numerical values to categories \n",
    "   in a way that reflects this order.\n",
    "2. Label encoding is used when the categorical data has categories with no meaningful ordinal relationship, and you simply want to represent the \n",
    "   categories as numerical labels.\n",
    "3. Ordinal encoding can be chosen for the \"Education Level\" feature, which includes categories like \"High School\", \"Bachelor's Degree\", \"Master's Degree\" and \"Ph.D.\n",
    "   In this case, we would assign numerical values in ascending order to reflect the hierarchy: \"High School\" = 1, \"Bachelor's Degree\" = 2, and so on.\n",
    "4. Label encoding can be chosen for the \"Color\" feature with categories like \"Red\", \"Blue\", \"Green\" and \"Yellow\". These colors do not have a natural order or \n",
    "   hierarchy. In this case, we would assign numerical labels to the categories in any arbitrary manner: \"Red\" = 1, \"Blue\" = 2, \"Green\" = 3 and \"Yellow\" = 4. \n",
    "\n",
    "\n",
    "\"\"\""
   ]
  },
  {
   "cell_type": "markdown",
   "id": "2a723d31-6e29-484f-be35-68a832926fa0",
   "metadata": {},
   "source": [
    "##### Q2. Explain how Target Guided Ordinal Encoding works and provide an example of when you might use it in a machine learning project.\n"
   ]
  },
  {
   "cell_type": "code",
   "execution_count": 2,
   "id": "45064cf5-6f91-4149-92d4-3706a63d8118",
   "metadata": {},
   "outputs": [
    {
     "data": {
      "text/plain": [
       "'\\nAnswer:\\n\\n1. Target Guided Ordinal Encoding is a data encoding technique used in machine learning to transform categorical variables into ordinal numerical \\n   values based on the relationship between the categories and the target variable (the variable we want to predict).\\n2. Steps to perform Target Guided Ordinal Encoding:\\na. Calculate the Mean or Median of the Target Variable: For each category within the categorical variable, calculate the mean or median of the target variable.\\nb. Order the Categories: Based on the calculated means or medians, order the categories from the lowest mean/median to the highest. \\nc. Assign Numerical Values: Assign numerical values to the categories according to the order obtained in the previous step. The category with the lowest\\n   mean/median is given the lowest value, and the one with the highest mean/median is given the highest value. \\n3. Example Scenario:\\n   Consider we are working on a machine learning project to predict customer churn for a telecom company. One of the categorical variables in the dataset \\n   is \"Customer Category,\" which has values like \"High-Value,\" \"Medium-Value,\" and \"Low-Value.\" We want to encode this variable using Target Guided Ordinal Encoding \\n   as follows:\\n   \\n   Calculate the mean churn rate for each category:\\n\\n    High-Value: Mean churn rate = 0.25\\n    Medium-Value: Mean churn rate = 0.40\\n    Low-Value: Mean churn rate = 0.60\\n   \\n   Order the categories based on the mean churn rate:\\n\\n    Low-Value (0.60) > Medium-Value (0.40) > High-Value (0.25)\\n   \\n   Assign ordinal values:\\n\\n    High-Value: 1\\n    Medium-Value: 2\\n    Low-Value: 3\\n    \\n    In this example, Target Guided Ordinal Encoding reflects the relationship between the \"Customer Category\" and the likelihood of churn, with higher \\n    values indicating a stronger association with churn. When you use this encoded feature in your machine learning model, it incorporates this relationship \\n    into its predictions.\\n'"
      ]
     },
     "execution_count": 2,
     "metadata": {},
     "output_type": "execute_result"
    }
   ],
   "source": [
    "\"\"\"\n",
    "Answer:\n",
    "\n",
    "1. Target Guided Ordinal Encoding is a data encoding technique used in machine learning to transform categorical variables into ordinal numerical \n",
    "   values based on the relationship between the categories and the target variable (the variable we want to predict).\n",
    "2. Steps to perform Target Guided Ordinal Encoding:\n",
    "a. Calculate the Mean or Median of the Target Variable: For each category within the categorical variable, calculate the mean or median of the target variable.\n",
    "b. Order the Categories: Based on the calculated means or medians, order the categories from the lowest mean/median to the highest. \n",
    "c. Assign Numerical Values: Assign numerical values to the categories according to the order obtained in the previous step. The category with the lowest\n",
    "   mean/median is given the lowest value, and the one with the highest mean/median is given the highest value. \n",
    "3. Example Scenario:\n",
    "   Consider we are working on a machine learning project to predict customer churn for a telecom company. One of the categorical variables in the dataset \n",
    "   is \"Customer Category,\" which has values like \"High-Value,\" \"Medium-Value,\" and \"Low-Value.\" We want to encode this variable using Target Guided Ordinal Encoding \n",
    "   as follows:\n",
    "   \n",
    "   Calculate the mean churn rate for each category:\n",
    "\n",
    "    High-Value: Mean churn rate = 0.25\n",
    "    Medium-Value: Mean churn rate = 0.40\n",
    "    Low-Value: Mean churn rate = 0.60\n",
    "   \n",
    "   Order the categories based on the mean churn rate:\n",
    "\n",
    "    Low-Value (0.60) > Medium-Value (0.40) > High-Value (0.25)\n",
    "   \n",
    "   Assign ordinal values:\n",
    "\n",
    "    High-Value: 1\n",
    "    Medium-Value: 2\n",
    "    Low-Value: 3\n",
    "    \n",
    "    In this example, Target Guided Ordinal Encoding reflects the relationship between the \"Customer Category\" and the likelihood of churn, with higher \n",
    "    values indicating a stronger association with churn. When you use this encoded feature in your machine learning model, it incorporates this relationship \n",
    "    into its predictions.\n",
    "\"\"\""
   ]
  },
  {
   "cell_type": "markdown",
   "id": "a7cfa9f4-44c6-4fd3-b256-a7b5b74e9701",
   "metadata": {},
   "source": [
    "##### Q3. Define covariance and explain why it is important in statistical analysis. How is covariance calculated?\n"
   ]
  },
  {
   "cell_type": "code",
   "execution_count": 7,
   "id": "281dbab4-5756-4d99-beab-7cd9bc0e4a84",
   "metadata": {},
   "outputs": [
    {
     "name": "stdout",
     "output_type": "stream",
     "text": [
      "Covariance between X and Y: -2.5\n"
     ]
    }
   ],
   "source": [
    "\"\"\"\n",
    "Answer:\n",
    "\n",
    "1. Covariance is a statistical measure that quantifies the degree to which two random variables change together. \n",
    "2. It indicates whether an increase in one variable corresponds to an increase or decrease in another variable. \n",
    "3. Importance of covariance in statistical analysis:\n",
    "a. Covariance is used to determine whether two variables are related and to what extent they move together. A positive covariance suggests a positive relationship, \n",
    "   while a negative covariance indicates an inverse relationship.\n",
    "b. Covariance is used to calculate the slope of a linear regression model. It's used to find the best-fitting line (regression line) that minimizes the \n",
    "   sum of squared errors between the predicted values and the actual values of one variable given another.\n",
    "c. Covariance is a fundamental component in multivariate statistical analysis, including principal component analysis (PCA) and factor analysis.\n",
    "d. Calculation of covariance:\n",
    "\n",
    "\"\"\"\n",
    "# Define two lists representing the variables X and Y\n",
    "X = [1, 2, 3, 4, 5]\n",
    "Y = [5, 4, 3, 2, 1]\n",
    "\n",
    "# Calculate the means of X and Y\n",
    "mean_X = sum(X) / len(X)\n",
    "mean_Y = sum(Y) / len(Y)\n",
    "\n",
    "# Calculate the covariance\n",
    "covariance = sum([(X[i] - mean_X) * (Y[i] - mean_Y) for i in range(len(X))]) / (len(X) - 1)\n",
    "\n",
    "print(\"Covariance between X and Y:\", covariance)"
   ]
  },
  {
   "cell_type": "markdown",
   "id": "0e0381ca-deee-448e-a1e8-6cec31e9e5c1",
   "metadata": {},
   "source": [
    "##### Q4. For a dataset with the following categorical variables: Color (red, green, blue), Size (small, medium,\n",
    "##### large), and Material (wood, metal, plastic), perform label encoding using Python's scikit-learn library.\n",
    "##### Show your code and explain the output."
   ]
  },
  {
   "cell_type": "code",
   "execution_count": 13,
   "id": "9da5527d-af49-4239-9a27-09c2b2f3940e",
   "metadata": {},
   "outputs": [
    {
     "name": "stdout",
     "output_type": "stream",
     "text": [
      "Encoded Data:\n",
      "   Color    Size Material  encoded_Color  encoded_Size  encoded_Material\n",
      "0    red   small     wood              2             2                 2\n",
      "1  green  medium    metal              1             1                 0\n",
      "2   blue   large  plastic              0             0                 1\n",
      "3    red  medium    metal              2             1                 0\n",
      "4  green   small     wood              1             2                 2\n"
     ]
    }
   ],
   "source": [
    "## Program to perform label encoding\n",
    "\n",
    "from sklearn.preprocessing import LabelEncoder\n",
    "import pandas as pd\n",
    "\n",
    "# Given data\n",
    "data = pd.DataFrame({\n",
    "    'Color': ['red', 'green', 'blue', 'red', 'green'],\n",
    "    'Size': ['small', 'medium', 'large', 'medium', 'small'],\n",
    "    'Material': ['wood', 'metal', 'plastic', 'metal', 'wood']\n",
    "})\n",
    "\n",
    "## Create an instance of LabelEncoder\n",
    "encoder = LabelEncoder()\n",
    "\n",
    "# Iterate through each column in the DataFrame and encode the values\n",
    "for column in data.columns:\n",
    "    data[f\"encoded_{column}\"] = encoder.fit_transform(data[column])\n",
    "\n",
    "# Print the updated DataFrame with encoded values\n",
    "print(\"Encoded Data:\")\n",
    "print(data)\n",
    "\n",
    "\"\"\"\n",
    "For each of the categorical columns ('Color', 'Size', and 'Material'), we applied label encoding using encoder.fit_transform and created new columns \n",
    "with \"_encoded\" appended to their names to store the encoded values.\n",
    "The output will show the original DataFrame with three additional columns, each representing the label-encoded version of the original categorical columns.\n",
    "\n",
    "\"\"\""
   ]
  },
  {
   "cell_type": "markdown",
   "id": "9d3cbe41-9095-429c-9de7-d8b426c01fc2",
   "metadata": {},
   "source": [
    "##### Q5. Calculate the covariance matrix for the following variables in a dataset: Age, Income, and Education level. Interpret the results.\n"
   ]
  },
  {
   "cell_type": "code",
   "execution_count": 8,
   "id": "f8d4a580-b8c6-4335-80fd-a524065233f7",
   "metadata": {},
   "outputs": [
    {
     "name": "stdout",
     "output_type": "stream",
     "text": [
      "Covariance Matrix:\n",
      "                     Age      Income  Education_Level\n",
      "Age                 35.3     31700.0              8.4\n",
      "Income           31700.0  31300000.0           7600.0\n",
      "Education_Level      8.4      7600.0              2.2\n"
     ]
    },
    {
     "data": {
      "text/plain": [
       "'\\nInterpretation:\\n1. The diagonal elements of the covariance matrix represent the variances of the individual variables. In this case, these are:\\n   Variance of Age: 35.3\\n   Variance of Income: 31,30,0000 (in dollars)\\n   Variance of Education Level: 2.2\\n2. The off-diagonal elements represent the covariances between pairs of variables.\\n   Covariance between Age and Income: approximately 31700\\n   Covariance between Age and Education Level: approximately 8.4\\n   Covariance between Income and Education Level: approximately 37600 (in dollars per level of education)\\n3. A positive covariance suggests that as one variable increases, the other tends to increase as well.\\n4. A negative covariance suggests that as one variable increases, the other tends to decrease.\\n\\n'"
      ]
     },
     "execution_count": 8,
     "metadata": {},
     "output_type": "execute_result"
    }
   ],
   "source": [
    "## Program to covariance matrix\n",
    "\n",
    "import pandas as pd\n",
    "\n",
    "# Sample data\n",
    "data = pd.DataFrame({\n",
    "    'Age': [30, 40, 25, 35, 28],\n",
    "    'Income': [50000, 60000, 45000, 55000, 52000],\n",
    "    'Education_Level': [16, 18, 14, 16, 15]\n",
    "})\n",
    "\n",
    "# Calculate the covariance matrix\n",
    "covariance_matrix = data.cov()\n",
    "\n",
    "print(\"Covariance Matrix:\")\n",
    "print(covariance_matrix)\n",
    "\n",
    "\"\"\"\n",
    "Interpretation:\n",
    "1. The diagonal elements of the covariance matrix represent the variances of the individual variables. In this case, these are:\n",
    "   Variance of Age: 35.3\n",
    "   Variance of Income: 31,30,0000 (in dollars)\n",
    "   Variance of Education Level: 2.2\n",
    "2. The off-diagonal elements represent the covariances between pairs of variables.\n",
    "   Covariance between Age and Income: approximately 31700\n",
    "   Covariance between Age and Education Level: approximately 8.4\n",
    "   Covariance between Income and Education Level: approximately 37600 (in dollars per level of education)\n",
    "3. A positive covariance suggests that as one variable increases, the other tends to increase as well.\n",
    "4. A negative covariance suggests that as one variable increases, the other tends to decrease.\n",
    "\n",
    "\"\"\""
   ]
  },
  {
   "cell_type": "markdown",
   "id": "e3c51140-f826-43a9-9b4b-93dc25b29daf",
   "metadata": {},
   "source": [
    "##### Q6. You are working on a machine learning project with a dataset containing several categorical\n",
    "##### variables, including \"Gender\" (Male/Female), \"Education Level\" (High School/Bachelor's/Master's/PhD),\n",
    "##### and \"Employment Status\" (Unemployed/Part-Time/Full-Time). Which encoding method would you use for each variable, and why?"
   ]
  },
  {
   "cell_type": "code",
   "execution_count": 9,
   "id": "21c6be54-d9cd-422a-b233-ff626eff7d35",
   "metadata": {},
   "outputs": [
    {
     "data": {
      "text/plain": [
       "'\\nAnswer:\\n\\n1. In a machine learning project with categorical variables like \"Gender\", \"Education Level\" and \"Employment Status\" the choice of encoding method depends \\n   on the nature of each variable and how it should be represented in a format suitable for machine learning algorithms. \\n2. The choice of encoding for each variable for\\n   each variabl is as follows:\\na. Gender is a binary categorical variable with two possible values, \"Male\" and \"Female.\" Binary encoding is an efficient method to represent it.\\nb. Education Level is an ordinal categorical variable with a clear order or hierarchy. The levels are \"High School\", \"Bachelor\\'s\", \"Master\\'s\" and \"PhD\" and \\n   they have a meaningful sequence. \\nc. Employment Status is a nominal categorical variable with distinct categories that don\\'t have a natural order. The levels are \"Unemployed\", \"Part-Time\" and \\n   \"Full-Time.\" One-hot encoding is appropriate here because it creates binary columns for each category. \\n\\n'"
      ]
     },
     "execution_count": 9,
     "metadata": {},
     "output_type": "execute_result"
    }
   ],
   "source": [
    "\"\"\"\n",
    "Answer:\n",
    "\n",
    "1. In a machine learning project with categorical variables like \"Gender\", \"Education Level\" and \"Employment Status\" the choice of encoding method depends \n",
    "   on the nature of each variable and how it should be represented in a format suitable for machine learning algorithms. \n",
    "2. The choice of encoding for each variable for\n",
    "   each variabl is as follows:\n",
    "a. Gender is a binary categorical variable with two possible values, \"Male\" and \"Female.\" Binary encoding is an efficient method to represent it.\n",
    "b. Education Level is an ordinal categorical variable with a clear order or hierarchy. The levels are \"High School\", \"Bachelor's\", \"Master's\" and \"PhD\" and \n",
    "   they have a meaningful sequence. \n",
    "c. Employment Status is a nominal categorical variable with distinct categories that don't have a natural order. The levels are \"Unemployed\", \"Part-Time\" and \n",
    "   \"Full-Time.\" One-hot encoding is appropriate here because it creates binary columns for each category. \n",
    "\n",
    "\"\"\""
   ]
  },
  {
   "cell_type": "markdown",
   "id": "6cd88660-360c-4d5d-bf23-9c835b1fce12",
   "metadata": {},
   "source": [
    "##### Q7. You are analyzing a dataset with two continuous variables, \"Temperature\" and \"Humidity\", and two\n",
    "##### categorical variables, \"Weather Condition\" (Sunny/Cloudy/Rainy) and \"Wind Direction\" (North/South/\n",
    "##### East/West). Calculate the covariance between each pair of variables and interpret the results."
   ]
  },
  {
   "cell_type": "code",
   "execution_count": 5,
   "id": "4bbb1e66-a555-4b86-ba25-c15335691a41",
   "metadata": {},
   "outputs": [
    {
     "name": "stdout",
     "output_type": "stream",
     "text": [
      "Covariance Matrix:\n",
      "             Temperature  Humidity\n",
      "Temperature          9.3      -8.8\n",
      "Humidity            -8.8      35.3\n"
     ]
    },
    {
     "name": "stderr",
     "output_type": "stream",
     "text": [
      "/tmp/ipykernel_91/1471175405.py:14: FutureWarning: The default value of numeric_only in DataFrame.cov is deprecated. In a future version, it will default to False. Select only valid columns or specify the value of numeric_only to silence this warning.\n",
      "  covariance_matrix = data.cov()\n"
     ]
    },
    {
     "data": {
      "text/plain": [
       "'\\nInterpretation:\\n1. The diagonal elements represent the variances of the continuous variables:\\n   Variance of Temperature: 9.3\\n   Variance of Humidity: 35.3\\n2. The off-diagonal elements represent the covariances between continuous variables, which indicate the linear relationship between them. In this case:\\n   Covariance between Temperature and Humidity: -8.8\\n3. The negative covariance between Temperature and Humidity suggests an inverse relationship.\\n4. Covariance is a limited measure for categorical variables, as it primarily applies to continuous variables. \\n\\n'"
      ]
     },
     "execution_count": 5,
     "metadata": {},
     "output_type": "execute_result"
    }
   ],
   "source": [
    "# Program to calculate covariance between continuous variables for the given dataset\n",
    "\n",
    "import pandas as pd\n",
    "\n",
    "# Sample data\n",
    "data = pd.DataFrame({\n",
    "    'Temperature': [25, 30, 22, 28, 27],\n",
    "    'Humidity': [60, 65, 70, 55, 58],\n",
    "    'Weather Condition': ['Sunny', 'Cloudy', 'Rainy', 'Cloudy', 'Sunny'],\n",
    "    'Wind Direction': ['North', 'South', 'East', 'West', 'North']\n",
    "})\n",
    "\n",
    "# Calculate the covariance matrix\n",
    "covariance_matrix = data.cov()\n",
    "\n",
    "print(\"Covariance Matrix:\")\n",
    "print(covariance_matrix)\n",
    "\n",
    "\"\"\"\n",
    "Interpretation:\n",
    "1. The diagonal elements represent the variances of the continuous variables:\n",
    "   Variance of Temperature: 9.3\n",
    "   Variance of Humidity: 35.3\n",
    "2. The off-diagonal elements represent the covariances between continuous variables, which indicate the linear relationship between them. In this case:\n",
    "   Covariance between Temperature and Humidity: -8.8\n",
    "3. The negative covariance between Temperature and Humidity suggests an inverse relationship.\n",
    "4. Covariance is a limited measure for categorical variables, as it primarily applies to continuous variables. \n",
    "\n",
    "\"\"\""
   ]
  },
  {
   "cell_type": "code",
   "execution_count": null,
   "id": "3b3a1f7e-4d26-47c3-8a59-77f8fe44bfbb",
   "metadata": {},
   "outputs": [],
   "source": []
  }
 ],
 "metadata": {
  "kernelspec": {
   "display_name": "Python 3 (ipykernel)",
   "language": "python",
   "name": "python3"
  },
  "language_info": {
   "codemirror_mode": {
    "name": "ipython",
    "version": 3
   },
   "file_extension": ".py",
   "mimetype": "text/x-python",
   "name": "python",
   "nbconvert_exporter": "python",
   "pygments_lexer": "ipython3",
   "version": "3.10.8"
  }
 },
 "nbformat": 4,
 "nbformat_minor": 5
}
