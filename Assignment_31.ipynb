{
 "cells": [
  {
   "cell_type": "markdown",
   "id": "ae08f0ff-4114-4626-a992-3f5fc2a8ee50",
   "metadata": {},
   "source": [
    "##### Q1: What is Estimation Statistics? Explain point estimate and interval estimate."
   ]
  },
  {
   "cell_type": "code",
   "execution_count": 4,
   "id": "57ee87e9-9cbb-4a85-a94b-76b7a89358a4",
   "metadata": {},
   "outputs": [
    {
     "data": {
      "text/plain": [
       "\"\\nAnswer:\\n\\n1. Estimation Statistics involves using sample data to make educated guesses about population parameters (characteristics). \\n2. A point estimate is a single value that's used to approximate a population parameter. It's essentially a best guess based on the sample data.\\n   E.g. Sample mean.\\n3. An interval estimate, also known as a confidence interval, provides a range of values within which the true population parameter is likely to fall. \\n   It accounts for the uncertainty in the estimate and gives us a measure of its accuracy.\\n\""
      ]
     },
     "execution_count": 4,
     "metadata": {},
     "output_type": "execute_result"
    }
   ],
   "source": [
    "\"\"\"\n",
    "Answer:\n",
    "\n",
    "1. Estimation Statistics involves using sample data to make educated guesses about population parameters (characteristics). \n",
    "2. A point estimate is a single value that's used to approximate a population parameter. It's essentially a best guess based on the sample data.\n",
    "   E.g. Sample mean.\n",
    "3. An interval estimate, also known as a confidence interval, provides a range of values within which the true population parameter is likely to fall. \n",
    "   It accounts for the uncertainty in the estimate and gives us a measure of its accuracy.\n",
    "\"\"\""
   ]
  },
  {
   "cell_type": "markdown",
   "id": "ce58ed73-6e86-4041-ac64-d712c8259d4c",
   "metadata": {},
   "source": [
    "##### Q2. Write a Python function to estimate the population mean using a sample mean and standard deviation."
   ]
  },
  {
   "cell_type": "code",
   "execution_count": 5,
   "id": "aff43372-3a1d-4f98-982f-d72f28ff3710",
   "metadata": {},
   "outputs": [
    {
     "name": "stdout",
     "output_type": "stream",
     "text": [
      "Estimated population mean at 95% confidence interval: 94.63241756884852 to 105.36758243115148\n"
     ]
    }
   ],
   "source": [
    "## Python function to estimate the population mean using a sample mean and standard deviation\n",
    "\n",
    "def estimate_population_mean(sample_mean, sample_std_dev, sample_size, confidence_interval = 0.95):\n",
    "    \"\"\"\n",
    "    Estimate population mean using sample eman, sample standard deviation and sample size.\n",
    "    \"\"\"\n",
    "    try:\n",
    "        import scipy.stats as stats\n",
    "    except Exception as e:\n",
    "        print(e)\n",
    "\n",
    "    # Calculate standard error of the mean\n",
    "    standard_error = sample_std_dev/(sample_size)**0.5\n",
    "    \n",
    "    # Calculate the critical value (Z-score)\n",
    "    z_critical = abs(stats.norm.ppf((1-confidence_interval)/2))\n",
    "    \n",
    "    # Calculate the margin of error\n",
    "    margin_of_error = z_critical * standard_error\n",
    "    \n",
    "    # Calculate confidence interval boundaries\n",
    "    lower_bound = sample_mean - margin_of_error\n",
    "    upper_bound = sample_mean + margin_of_error\n",
    "    \n",
    "    return lower_bound, upper_bound\n",
    "\n",
    "# Example usage:\n",
    "sample_mean = 100\n",
    "sample_std_dev = 15\n",
    "sample_size = 30\n",
    "confidence_interval = 0.95\n",
    "\n",
    "lower_bound, upper_bound = estimate_population_mean(sample_mean, sample_std_dev, sample_size, confidence_interval)\n",
    "print(f\"Estimated population mean at 95% confidence interval: {lower_bound} to {upper_bound}\")"
   ]
  },
  {
   "cell_type": "markdown",
   "id": "958f407d-ee84-4462-a84d-efae13b27ae5",
   "metadata": {},
   "source": [
    "##### Q3: What is Hypothesis testing? Why is it used? State the importance of Hypothesis testing."
   ]
  },
  {
   "cell_type": "code",
   "execution_count": 6,
   "id": "1f05fd49-6a27-4c55-baf5-499ee8208964",
   "metadata": {},
   "outputs": [
    {
     "data": {
      "text/plain": [
       "'\\nAnswer:\\n\\n1. Hypothesis testing is a statistical technique used to make decisions and draw conclusions about population parameters based on sample data. \\n2. It involves the formulation of two competing hypotheses, the null hypothesis and the alternative hypothesis and then using sample data to assess \\n   the evidence and determine whether there is enough evidence to reject the null hypothesis in favor of the alternative hypothesis.\\n3. Importance of Hypothesis testing:\\n   a. Hypothesis testing allows researchers to make inferences about population parameters based on sample data.\\n   b. In manufacturing and quality control, hypothesis testing is used to ensure that products meet specified standards and to identify potential defects.\\n   c. It provides a standardized way to determine whether observed differences or effects are statistically significant, helping researchers avoid drawing conclusions based on random variations.\\n'"
      ]
     },
     "execution_count": 6,
     "metadata": {},
     "output_type": "execute_result"
    }
   ],
   "source": [
    "\"\"\"\n",
    "Answer:\n",
    "\n",
    "1. Hypothesis testing is a statistical technique used to make decisions and draw conclusions about population parameters based on sample data. \n",
    "2. It involves the formulation of two competing hypotheses, the null hypothesis and the alternative hypothesis and then using sample data to assess \n",
    "   the evidence and determine whether there is enough evidence to reject the null hypothesis in favor of the alternative hypothesis.\n",
    "3. Importance of Hypothesis testing:\n",
    "   a. Hypothesis testing allows researchers to make inferences about population parameters based on sample data.\n",
    "   b. In manufacturing and quality control, hypothesis testing is used to ensure that products meet specified standards and to identify potential defects.\n",
    "   c. It provides a standardized way to determine whether observed differences or effects are statistically significant, helping researchers avoid drawing conclusions based on random variations.\n",
    "\"\"\""
   ]
  },
  {
   "cell_type": "markdown",
   "id": "ef65afe1-56a9-45db-95ef-3e7dfee874a8",
   "metadata": {},
   "source": [
    "##### Q4. Create a hypothesis that states whether the average weight of male college students is greater than the average weight of female college students."
   ]
  },
  {
   "cell_type": "code",
   "execution_count": 7,
   "id": "326d3bcf-3a02-45aa-a9a1-4621c1cf7fca",
   "metadata": {},
   "outputs": [
    {
     "data": {
      "text/plain": [
       "'\\nAnswer:\\n\\n1. Null Hypothesis: There is no significant difference between the average weight of male and average weight of female college students.\\n2. Alternate Hypothesis: The average weight of male college students is greater than the average weight of female college students.\\n'"
      ]
     },
     "execution_count": 7,
     "metadata": {},
     "output_type": "execute_result"
    }
   ],
   "source": [
    "\"\"\"\n",
    "Answer:\n",
    "\n",
    "1. Null Hypothesis: There is no significant difference between the average weight of male and average weight of female college students.\n",
    "2. Alternate Hypothesis: The average weight of male college students is greater than the average weight of female college students.\n",
    "\"\"\""
   ]
  },
  {
   "cell_type": "markdown",
   "id": "1371bcf7-70ab-4e4b-8479-bb403ec4ee84",
   "metadata": {},
   "source": [
    "##### Q5. Write a Python script to conduct a hypothesis test on the difference between two population means, given a sample from each population."
   ]
  },
  {
   "cell_type": "code",
   "execution_count": 8,
   "id": "9b6ce7c8-577b-4135-95a5-97ca34876c9d",
   "metadata": {},
   "outputs": [
    {
     "name": "stdout",
     "output_type": "stream",
     "text": [
      "Fail to reject the null hypothesis\n",
      "There is no significant evidence that the means are different.\n",
      "\n",
      "T-statistic: 1.2281549696868064\n",
      "P-value: 0.23714970914355327\n"
     ]
    }
   ],
   "source": [
    "## Program to conduct a hypothesis test on the difference between two population means, given a sample from each population.\n",
    "\n",
    "import numpy as np\n",
    "import scipy.stats as stats\n",
    "\n",
    "# Sample data for two populations\n",
    "sample1 = np.array([68, 72, 70, 75, 71, 66, 80, 59, 73])\n",
    "sample2 = np.array([62, 65, 68, 63, 66, 56, 79, 83, 45])\n",
    "\n",
    "# Define the significance level (alpha)\n",
    "alpha = 0.05\n",
    "\n",
    "# Perform an independent samples t-test\n",
    "t_stat, p_value = stats.ttest_ind(sample1, sample2)\n",
    "\n",
    "# Check if the p-value is less than alpha to make a decision\n",
    "if p_value < alpha:\n",
    "    print(\"Reject the null hypothesis\")\n",
    "    print(\"There is significant evidence that the means are different.\")\n",
    "else:\n",
    "    print(\"Fail to reject the null hypothesis\")\n",
    "    print(\"There is no significant evidence that the means are different.\")\n",
    "\n",
    "# Print the test statistics and p-value\n",
    "print(\"\\nT-statistic:\", t_stat)\n",
    "print(\"P-value:\", p_value)"
   ]
  },
  {
   "cell_type": "markdown",
   "id": "935a20f8-6315-4cfd-9058-db5cd484cde7",
   "metadata": {},
   "source": [
    "##### Q6: What is a null and alternative hypothesis? Give some examples."
   ]
  },
  {
   "cell_type": "code",
   "execution_count": 9,
   "id": "ec3a1f66-1dc4-4c17-baaa-8cec78c89a45",
   "metadata": {},
   "outputs": [
    {
     "data": {
      "text/plain": [
       "'\\nAnswer:\\n\\n1. Null Hypothesis: The null hypothesis is a statement that represents a default assumption or a statement of no effect, no difference, or no relationship.\\n2. Alternate Hypothesis: The alternative hypothesis is a statement that contradicts the null hypothesis and represents what researchers aim to demonstrate or prove.\\n3. Examples:\\n   a. Scenario 1: The population mean weight of apples is 150 grams.\\n      Null Hypothesis: The average weight of apples in the population is 150 grams.\\n      Alternate Hypothesis: The average weight of apples in the population is different from 150 grams.\\n   b. Scenario 2: The effect of new drug compared to placebo on blood pressure.\\n      Null Hypothesis: The new drug does not cause any significant change in blood pressure as compared to a placebo.\\n      Alternate Hypothesis: The new drug has a significant impact on reducing blood pressure as compared to a placebo.\\n\\n'"
      ]
     },
     "execution_count": 9,
     "metadata": {},
     "output_type": "execute_result"
    }
   ],
   "source": [
    "\"\"\"\n",
    "Answer:\n",
    "\n",
    "1. Null Hypothesis: The null hypothesis is a statement that represents a default assumption or a statement of no effect, no difference, or no relationship.\n",
    "2. Alternate Hypothesis: The alternative hypothesis is a statement that contradicts the null hypothesis and represents what researchers aim to demonstrate or prove.\n",
    "3. Examples:\n",
    "   a. Scenario 1: The population mean weight of apples is 150 grams.\n",
    "      Null Hypothesis: The average weight of apples in the population is 150 grams.\n",
    "      Alternate Hypothesis: The average weight of apples in the population is different from 150 grams.\n",
    "   b. Scenario 2: The effect of new drug compared to placebo on blood pressure.\n",
    "      Null Hypothesis: The new drug does not cause any significant change in blood pressure as compared to a placebo.\n",
    "      Alternate Hypothesis: The new drug has a significant impact on reducing blood pressure as compared to a placebo.\n",
    "\n",
    "\"\"\""
   ]
  },
  {
   "cell_type": "markdown",
   "id": "315ac9c3-0ce1-402a-82c6-2bd75d9bcba9",
   "metadata": {},
   "source": [
    "##### Q7: Write down the steps involved in hypothesis testing."
   ]
  },
  {
   "cell_type": "code",
   "execution_count": 10,
   "id": "8d501a23-5057-4268-bd73-d5e9e4839d3d",
   "metadata": {},
   "outputs": [
    {
     "data": {
      "text/plain": [
       "'\\nAnswer:\\n\\nThe following are the steps involved in hypothesis testing:\\n1. State Null and Alternate Hypothesis.\\n2. Select Significance Level (Alpha): Common values are 0.05 (5%) or 0.01 (1%).\\n3. Collect a sample of data that is relevant to the hypotheses being tested. Ensure that the data collection process is unbiased and representative.\\n4. Choose a Statistical Test.\\n5. Use the selected statistical test to calculate a test statistic from the sample data.\\n6. Identify the critical region in the probability distribution associated with the chosen test and significance level.\\n7. Calculate the p-value, which represents the measure of evidence against the null hypothesis.\\n8. Compare P-value and Significance Level.\\n9. Based on the comparison, make a decision regarding the null hypothesis:\\n   Reject Null Hypothesis if the p-value is small (less than Alpha).\\n   Fail to reject Null Hypothesis if the p-value is large (greater than Alpha).\\n'"
      ]
     },
     "execution_count": 10,
     "metadata": {},
     "output_type": "execute_result"
    }
   ],
   "source": [
    "\"\"\"\n",
    "Answer:\n",
    "\n",
    "The following are the steps involved in hypothesis testing:\n",
    "1. State Null and Alternate Hypothesis.\n",
    "2. Select Significance Level (Alpha): Common values are 0.05 (5%) or 0.01 (1%).\n",
    "3. Collect a sample of data that is relevant to the hypotheses being tested. Ensure that the data collection process is unbiased and representative.\n",
    "4. Choose a Statistical Test.\n",
    "5. Use the selected statistical test to calculate a test statistic from the sample data.\n",
    "6. Identify the critical region in the probability distribution associated with the chosen test and significance level.\n",
    "7. Calculate the p-value, which represents the measure of evidence against the null hypothesis.\n",
    "8. Compare P-value and Significance Level.\n",
    "9. Based on the comparison, make a decision regarding the null hypothesis:\n",
    "   Reject Null Hypothesis if the p-value is small (less than Alpha).\n",
    "   Fail to reject Null Hypothesis if the p-value is large (greater than Alpha).\n",
    "\"\"\""
   ]
  },
  {
   "cell_type": "markdown",
   "id": "f480ae2c-426b-4050-8e6c-91cd9a1eeb2f",
   "metadata": {},
   "source": [
    "##### Q8. Define p-value and explain its significance in hypothesis testing."
   ]
  },
  {
   "cell_type": "code",
   "execution_count": 11,
   "id": "c1c29672-2d3f-415b-a021-3f634accf8b4",
   "metadata": {},
   "outputs": [
    {
     "data": {
      "text/plain": [
       "\"\\nAnswer:\\n\\n1. The p-value is a statistical measurement used to validate a hypothesis against observed data.\\n2. It measures the probability of obtaining the observed results, assuming that the null hypothesis is true.\\n3. Significance of p-value in hypothesis testing:\\n   a. The p-value serves as the basis for making decisions about the null hypothesis typically based on a predefined significance level.\\n   b. If the p-value is less than or equal to the chosen significance level, it suggests that the observed data are statistically significant, \\n      and provide strong evidence against the null hypothesis. If the p-value is greater than the chosen significance level, it suggests that the observed \\n      data are not statistically significant, meaning there isn't enough evidence to reject the null hypothesis.\\n   c. It provides a standardized and interpretable way to make data-driven decisions and draw conclusions based on sample data while \\n      controlling the risk of making Type I errors (incorrectly rejecting a true null hypothesis).\\n\""
      ]
     },
     "execution_count": 11,
     "metadata": {},
     "output_type": "execute_result"
    }
   ],
   "source": [
    "\"\"\"\n",
    "Answer:\n",
    "\n",
    "1. The p-value is a statistical measurement used to validate a hypothesis against observed data.\n",
    "2. It measures the probability of obtaining the observed results, assuming that the null hypothesis is true.\n",
    "3. Significance of p-value in hypothesis testing:\n",
    "   a. The p-value serves as the basis for making decisions about the null hypothesis typically based on a predefined significance level.\n",
    "   b. If the p-value is less than or equal to the chosen significance level, it suggests that the observed data are statistically significant, \n",
    "      and provide strong evidence against the null hypothesis. If the p-value is greater than the chosen significance level, it suggests that the observed \n",
    "      data are not statistically significant, meaning there isn't enough evidence to reject the null hypothesis.\n",
    "   c. It provides a standardized and interpretable way to make data-driven decisions and draw conclusions based on sample data while \n",
    "      controlling the risk of making Type I errors (incorrectly rejecting a true null hypothesis).\n",
    "\"\"\""
   ]
  },
  {
   "cell_type": "markdown",
   "id": "7918aa5a-8955-435b-9b0d-13aa1953c6f8",
   "metadata": {},
   "source": [
    "##### Q9. Generate a Student's t-distribution plot using Python's matplotlib library, with the degrees of freedom parameter set to 10."
   ]
  },
  {
   "cell_type": "code",
   "execution_count": 12,
   "id": "a19e0e6b-0bf7-4ba5-b595-a6390f24ca4d",
   "metadata": {},
   "outputs": [
    {
     "data": {
      "image/png": "[encoded data removed]",
      "text/plain": [
       "<Figure size 640x480 with 1 Axes>"
      ]
     },
     "metadata": {},
     "output_type": "display_data"
    }
   ],
   "source": [
    "## Program to generate a Student's t-distribution plot.\n",
    "\n",
    "import numpy as np\n",
    "import scipy.stats as stats\n",
    "import matplotlib.pyplot as plt\n",
    "\n",
    "# Parameter for degrees of freedom\n",
    "df = 10\n",
    "\n",
    "# Generate values for the t-distribution plot\n",
    "x = np.linspace(-4, 4, 1000)\n",
    "\n",
    "# Calculate probability density function for t-distribution\n",
    "t_pdf = stats.t.pdf(x, df)\n",
    "\n",
    "# Create the plot\n",
    "plt.plot(x, t_pdf, label = f\"t-distribution (df = {df})\")\n",
    "plt.xlabel(\"x\")\n",
    "plt.ylabel(\"Probability Density\")\n",
    "plt.title(f\"Student\\'s t-distribution (Degrees of Freedom = {df})\")\n",
    "plt.legend()\n",
    "plt.show()"
   ]
  },
  {
   "cell_type": "markdown",
   "id": "25c9d7bb-4dd4-47d3-9d0c-2e1c8764649c",
   "metadata": {},
   "source": [
    "##### Q10. Write a Python program to calculate the two-sample t-test for independent samples, given two\n",
    "##### random samples of equal size and a null hypothesis that the population means are equal."
   ]
  },
  {
   "cell_type": "code",
   "execution_count": 13,
   "id": "70c7c299-6bf5-4f72-95e8-6941170ea4df",
   "metadata": {},
   "outputs": [
    {
     "name": "stdout",
     "output_type": "stream",
     "text": [
      "Fail to reject the null hypothesis\n",
      "There is no significant evidence that the population means are not equal.\n",
      "\n",
      "T-statistic: 1.2281549696868064\n",
      "P-value: 0.19123481564127473\n"
     ]
    }
   ],
   "source": [
    "## Program to calculate the two-sample t-test for independent samples\n",
    "\n",
    "import numpy as np\n",
    "import scipy.stats as stats\n",
    "\n",
    "\"\"\"\n",
    "Null Hypothesis: Population means are equal\n",
    "Alternate Hypothesis: Population means are not equal\n",
    "\"\"\"\n",
    "\n",
    "np.random.seed(1)\n",
    "sample_size = 30\n",
    "\n",
    "sample_1 = np.random.normal(loc=50, scale=10, size=sample_size)\n",
    "sample_2 = np.random.normal(loc=45, scale=12, size=sample_size)\n",
    "\n",
    "# Level of significance\n",
    "alpha = 0.05\n",
    "\n",
    "# Perform a two-sample t-test\n",
    "t_stats, p_value = stats.ttest_ind(sample_1, sample_2)\n",
    "\n",
    "# Compare the p-value to alpha to make a decision\n",
    "if p_value < alpha:\n",
    "    print(\"Reject the null hypothesis\")\n",
    "    print(\"There is significant evidence that the population means are not equal.\")\n",
    "else:\n",
    "    print(\"Fail to reject the null hypothesis\")\n",
    "    print(\"There is no significant evidence that the population means are not equal.\")\n",
    "\n",
    "# Print the test statistics and p-value\n",
    "print(\"\\nT-statistic:\", t_stat)\n",
    "print(\"P-value:\", p_value)"
   ]
  },
  {
   "cell_type": "markdown",
   "id": "3f40cb6a-2dde-4b2f-8f43-1eeeeaf2ec04",
   "metadata": {},
   "source": [
    "##### Q11: What is Student’s t distribution? When to use the t-Distribution."
   ]
  },
  {
   "cell_type": "code",
   "execution_count": 14,
   "id": "14337882-a6c4-431a-826b-543d1f099035",
   "metadata": {},
   "outputs": [
    {
     "data": {
      "text/plain": [
       "\"\\nAnswer:\\n\\n1. Student's t-distribution is a probability distribution that is used in statistics for making inferences about the population mean when the sample size is small\\nor when the population standard deviation is unknown.\\n2. The t-score represents the nuber of standard deviations the sample mean is away from the population mean.\\n3. The t-distribution is especially useful when dealing with smaller sample sizes (typically less than 30 observations).\\n4. The t-distribution is used when the population standard deviation is unknown and needs to be estimated from the sample data.\\n5. The t-distribution is commonly used in inferential statistics, including hypothesis testing and confidence interval estimation.\\n\\n\""
      ]
     },
     "execution_count": 14,
     "metadata": {},
     "output_type": "execute_result"
    }
   ],
   "source": [
    "\"\"\"\n",
    "Answer:\n",
    "\n",
    "1. Student's t-distribution is a probability distribution that is used in statistics for making inferences about the population mean when the sample size is small\n",
    "or when the population standard deviation is unknown.\n",
    "2. The t-score represents the nuber of standard deviations the sample mean is away from the population mean.\n",
    "3. The t-distribution is especially useful when dealing with smaller sample sizes (typically less than 30 observations).\n",
    "4. The t-distribution is used when the population standard deviation is unknown and needs to be estimated from the sample data.\n",
    "5. The t-distribution is commonly used in inferential statistics, including hypothesis testing and confidence interval estimation.\n",
    "\n",
    "\"\"\""
   ]
  },
  {
   "cell_type": "markdown",
   "id": "3c812fc5-48e0-4ac4-a9ab-483a1dff6e0e",
   "metadata": {},
   "source": [
    "##### Q12: What is t-statistic? State the formula for t-statistic."
   ]
  },
  {
   "cell_type": "code",
   "execution_count": 15,
   "id": "f0d9b725-26c1-4afe-8e92-5161efd94792",
   "metadata": {},
   "outputs": [
    {
     "data": {
      "text/plain": [
       "'\\nAnswer:\\n\\n1. The t-statistic is a statistic used in hypothesis testing to assess the difference between a sample statistic and a population parameter, \\n   typically when the population standard deviation is unknown and has to be estimated from the sample data.\\n2. One-Sample T-Test:\\n   To test whether the sample mean is significantly  different from a population mean:\\n   \\n   t = (sample mean - population mean)/ (sample std/ (sample size**0.5))\\n\\n3. Independent Samples T-Test:\\n   To compare the means of two independent samples (e.g., Group A and Group B):\\n   \\n   t = (sample_1 mean - sample_2 mean)/ ((s1**2 / n1) + (s2**2 / n2))**0.5\\n   \\n   where,\\n         s1, s2: The sample standard deviations of the two samples\\n         n1, n2: The sample sizes of the two samples\\n         \\n4. Paired Samples T-Test:\\n   To compare the means of the paired differences e.g. before-and-after measurements.\\n   \\n   t = mean of the paired differences/ (standard deviation of the paired differences/ (number of paired observations)**0.5)\\n'"
      ]
     },
     "execution_count": 15,
     "metadata": {},
     "output_type": "execute_result"
    }
   ],
   "source": [
    "\"\"\"\n",
    "Answer:\n",
    "\n",
    "1. The t-statistic is a statistic used in hypothesis testing to assess the difference between a sample statistic and a population parameter, \n",
    "   typically when the population standard deviation is unknown and has to be estimated from the sample data.\n",
    "2. One-Sample T-Test:\n",
    "   To test whether the sample mean is significantly  different from a population mean:\n",
    "   \n",
    "   t = (sample mean - population mean)/ (sample std/ (sample size**0.5))\n",
    "\n",
    "3. Independent Samples T-Test:\n",
    "   To compare the means of two independent samples (e.g., Group A and Group B):\n",
    "   \n",
    "   t = (sample_1 mean - sample_2 mean)/ ((s1**2 / n1) + (s2**2 / n2))**0.5\n",
    "   \n",
    "   where,\n",
    "         s1, s2: The sample standard deviations of the two samples\n",
    "         n1, n2: The sample sizes of the two samples\n",
    "         \n",
    "4. Paired Samples T-Test:\n",
    "   To compare the means of the paired differences e.g. before-and-after measurements.\n",
    "   \n",
    "   t = mean of the paired differences/ (standard deviation of the paired differences/ (number of paired observations)**0.5)\n",
    "\"\"\""
   ]
  },
  {
   "cell_type": "markdown",
   "id": "a18ab7da-7abe-4bbd-b8ac-a65a632a5f17",
   "metadata": {},
   "source": [
    "##### Q13. A coffee shop owner wants to estimate the average daily revenue for their shop. They take a random\n",
    "##### sample of 50 days and find the sample mean revenue to be 500 dollars with a standard deviation of 50 dollars.\n",
    "##### Estimate the population mean revenue with a 95% confidence interval."
   ]
  },
  {
   "cell_type": "code",
   "execution_count": 16,
   "id": "149892e7-cd6c-4acd-b586-a35c5fec6fa5",
   "metadata": {},
   "outputs": [
    {
     "name": "stdout",
     "output_type": "stream",
     "text": [
      "Estimated population mean revenue at 95% confidence interval: $485.79 to $514.21\n"
     ]
    }
   ],
   "source": [
    "## Python program to estimate the population mean revenue.\n",
    "\n",
    "# Given data\n",
    "sample_size = 50\n",
    "sample_mean = 500\n",
    "sample_std_dev = 50\n",
    "degree_of_freedom = sample_size - 1\n",
    "confidence_interval = 0.95\n",
    "\n",
    "# Calculate standard error of the mean\n",
    "standard_error = sample_std_dev/(sample_size)**0.5\n",
    "\n",
    "# Calculate t-score (t critical) at 95 % confidence interval\n",
    "t_critical = abs(stats.t.ppf((1-confidence_interval)/2, df= degree_of_freedom))\n",
    "\n",
    "# Calculate margin of error\n",
    "margin_of_error = t_critical * standard_error\n",
    "\n",
    "# Calculate confidence interval bounds\n",
    "lower_bound = sample_mean - margin_of_error\n",
    "upper_bound = sample_mean + margin_of_error\n",
    "\n",
    "# Print the results\n",
    "print(f\"Estimated population mean revenue at 95% confidence interval: ${lower_bound:.2f} to ${upper_bound:.2f}\")"
   ]
  },
  {
   "cell_type": "markdown",
   "id": "deef3b3a-9862-4812-823c-88f8e5b166c6",
   "metadata": {},
   "source": [
    "##### Q14. A researcher hypothesizes that a new drug will decrease blood pressure by 10 mmHg. They conduct a\n",
    "##### clinical trial with 100 patients and find that the sample mean decrease in blood pressure is 8 mmHg with a\n",
    "##### standard deviation of 3 mmHg. Test the hypothesis with a significance level of 0.05."
   ]
  },
  {
   "cell_type": "code",
   "execution_count": 24,
   "id": "3f306b32-5d96-46de-b6ac-bc47fa033db0",
   "metadata": {},
   "outputs": [
    {
     "name": "stdout",
     "output_type": "stream",
     "text": [
      "Reject the null hypothesis\n",
      "Mean decrease in blood pressure is less than 10 mmHg.\n",
      "\n",
      "T-statistic: -6.666666666666667\n",
      "p-value: 7.506144504985108e-10\n"
     ]
    }
   ],
   "source": [
    "## Program to test the effect of new drug\n",
    "\n",
    "# State hypothesis\n",
    "\"\"\"\n",
    "Null Hypothesis = Mean decrease in blood pressure is 10 mmHg\n",
    "Alternate Hypothesis = Mean decrease in blood pressure is less than 10 mmHg\n",
    "\n",
    "\"\"\"\n",
    "\n",
    "# Given data\n",
    "population_mean = 10\n",
    "sample_size = 100\n",
    "sample_mean = 8\n",
    "sample_std_dev = 3\n",
    "alpha = 0.05\n",
    "degree_of_freedom = sample_size - 1\n",
    "\n",
    "# Calculate standard error of the mean\n",
    "standard_error = sample_std_dev / (sample_size)**0.5\n",
    "\n",
    "# Calculate t-statistic\n",
    "t_score = (sample_mean - population_mean)/standard_error\n",
    "\n",
    "# Calculate p-value for one-tailed test\n",
    "p_value = stats.t.cdf(t_score, df = degree_of_freedom)\n",
    "\n",
    "# Compare the p-value to alpha to make a decision\n",
    "if p_value < alpha:\n",
    "    print(\"Reject the null hypothesis\")\n",
    "    print(\"Mean decrease in blood pressure is less than 10 mmHg.\")\n",
    "else:\n",
    "    print(\"Fail to reject the null hypothesis\")\n",
    "    print(\"Mean decrease in blood pressure is 10 mmHg.\")\n",
    "\n",
    "# Print the test statistics and p-value\n",
    "print(\"\\nT-statistic:\", t_score)\n",
    "print(\"p-value:\", p_value)"
   ]
  },
  {
   "cell_type": "markdown",
   "id": "77df75fc-1818-4b3c-b9d5-ae7ef8b78c8d",
   "metadata": {},
   "source": [
    "##### Q15. An electronics company produces a certain type of product with a mean weight of 5 pounds and a\n",
    "##### standard deviation of 0.5 pounds. A random sample of 25 products is taken, and the sample mean weight\n",
    "##### is found to be 4.8 pounds. Test the hypothesis that the true mean weight of the products is less than 5\n",
    "##### pounds with a significance level of 0.01."
   ]
  },
  {
   "cell_type": "code",
   "execution_count": 25,
   "id": "ed32d2b1-73e0-4734-b2e2-c5f774bec5b0",
   "metadata": {},
   "outputs": [
    {
     "name": "stdout",
     "output_type": "stream",
     "text": [
      "Fail to reject the null hypothesis\n",
      "Mean weight of the product is 5 pounds.\n",
      "\n",
      "T-statistic: -2.0000000000000018\n",
      "p-value: 0.024119846686316365\n"
     ]
    }
   ],
   "source": [
    "## Program to test the mean weight of the product\n",
    "\n",
    "# State hypothesis\n",
    "\"\"\"\n",
    "Null Hypothesis = Mean weight of the product is 5 pounds\n",
    "Alternate Hypothesis = Mean weight of the product is less than 5 pounds\n",
    "\n",
    "\"\"\"\n",
    "\n",
    "# Given data\n",
    "population_mean = 5\n",
    "population_std_dev = 0.5\n",
    "sample_size = 25\n",
    "sample_mean = 4.8\n",
    "alpha = 0.01\n",
    "\n",
    "# Calculate standard error of the mean\n",
    "standard_error = population_std_dev / (sample_size)**0.5\n",
    "\n",
    "# Calculate t-statistic\n",
    "t_score = (sample_mean - population_mean)/standard_error\n",
    "\n",
    "# Calculate p-value for one-tailed test\n",
    "p_value = stats.t.cdf(t_score, df = degree_of_freedom)\n",
    "\n",
    "# Compare the p-value to alpha to make a decision\n",
    "if p_value < alpha:\n",
    "    print(\"Reject the null hypothesis\")\n",
    "    print(\"Mean weight of the product is less than 5 pounds.\")\n",
    "else:\n",
    "    print(\"Fail to reject the null hypothesis\")\n",
    "    print(\"Mean weight of the product is 5 pounds.\")\n",
    "\n",
    "# Print the test statistics and p-value\n",
    "print(\"\\nT-statistic:\", t_score)\n",
    "print(\"p-value:\", p_value)"
   ]
  },
  {
   "cell_type": "markdown",
   "id": "2c3fae86-9d96-4e4e-aaf4-5220e2ccbf43",
   "metadata": {},
   "source": [
    "##### Q16. Two groups of students are given different study materials to prepare for a test. The first group (n1 =30) \n",
    "##### has a mean score of 80 with a standard deviation of 10, and the second group (n2 = 40) has a mean\n",
    "##### score of 75 with a standard deviation of 8. Test the hypothesis that the population means for the two\n",
    "##### groups are equal with a significance level of 0.01."
   ]
  },
  {
   "cell_type": "code",
   "execution_count": 30,
   "id": "365ab399-5857-4baa-b4e2-6e9fdbf94acf",
   "metadata": {},
   "outputs": [
    {
     "name": "stdout",
     "output_type": "stream",
     "text": [
      "Fail to reject the null hypothesis\n",
      "Mean score of both groups are equal.\n",
      "\n",
      "T-statistic: 2.2511258444537408\n",
      "p-value: 0.02845213338800089\n"
     ]
    }
   ],
   "source": [
    "## Program to test the hypothesis that the population means for the two groups are equal.\n",
    "\n",
    "# State Hypothesis:\n",
    "\"\"\"\n",
    "Null Hypothesis = Mean score of both groups are equal.\n",
    "Alternate Hypothesis = Mean score of both groups are not equal.\n",
    "\n",
    "\"\"\"\n",
    "\n",
    "# Given data\n",
    "n1 = 30\n",
    "mean_1 = 80\n",
    "sd_1 = 10\n",
    "\n",
    "n2 = 40\n",
    "mean_2 = 75\n",
    "sd_2 = 8\n",
    "\n",
    "alpha = 0.01\n",
    "\n",
    "# Calculate t-statistic for two sample t-test\n",
    "t_score, p_value = stats.ttest_ind_from_stats(\n",
    "    mean1=mean_1, std1=sd_1, nobs1=n1,\n",
    "    mean2=mean_2, std2=sd_2, nobs2=n2,\n",
    "    equal_var=False  # Assuming unequal variances\n",
    ")\n",
    "\n",
    "# Compare the p-value to alpha to make a decision\n",
    "if p_value < alpha:\n",
    "    print(\"Reject the null hypothesis\")\n",
    "    print(\"Mean score of both groups are not equal.\")\n",
    "else:\n",
    "    print(\"Fail to reject the null hypothesis\")\n",
    "    print(\"Mean score of both groups are equal.\")\n",
    "\n",
    "# Print the test statistics and p-value\n",
    "print(\"\\nT-statistic:\", t_score)\n",
    "print(\"p-value:\", p_value)"
   ]
  },
  {
   "cell_type": "markdown",
   "id": "bf60d999-4057-434a-90f0-cb4b04cb4e3e",
   "metadata": {},
   "source": [
    "##### Q17. A marketing company wants to estimate the average number of ads watched by viewers during a TV\n",
    "##### program. They take a random sample of 50 viewers and find that the sample mean is 4 with a standard\n",
    "##### deviation of 1.5. Estimate the population mean with a 99% confidence interval."
   ]
  },
  {
   "cell_type": "code",
   "execution_count": 31,
   "id": "7aa46b65-98ca-4e28-ba29-60fcf5d9665a",
   "metadata": {},
   "outputs": [
    {
     "name": "stdout",
     "output_type": "stream",
     "text": [
      "Estimated population mean number of ads watched at 99% confidence interval: 3.43 to 4.57\n"
     ]
    }
   ],
   "source": [
    "## Python program to estimate the population mean number of ads watched.\n",
    "\n",
    "# Given data\n",
    "sample_size = 50\n",
    "sample_mean = 4\n",
    "sample_std_dev = 1.5\n",
    "degree_of_freedom = sample_size - 1\n",
    "confidence_interval = 0.99\n",
    "\n",
    "# Calculate standard error of the mean\n",
    "standard_error = sample_std_dev/(sample_size)**0.5\n",
    "\n",
    "# Calculate t-score (t critical) at 99 % confidence interval\n",
    "t_critical = abs(stats.t.ppf((1-confidence_interval)/2, df= degree_of_freedom))\n",
    "\n",
    "# Calculate margin of error\n",
    "margin_of_error = t_critical * standard_error\n",
    "\n",
    "# Calculate confidence interval bounds\n",
    "lower_bound = sample_mean - margin_of_error\n",
    "upper_bound = sample_mean + margin_of_error\n",
    "\n",
    "# Print the results\n",
    "print(f\"Estimated population mean number of ads watched at 99% confidence interval: {lower_bound:.2f} to {upper_bound:.2f}\")"
   ]
  },
  {
   "cell_type": "code",
   "execution_count": null,
   "id": "12acc31b-d06a-4379-be4e-51c5f76c5c20",
   "metadata": {},
   "outputs": [],
   "source": []
  }
 ],
 "metadata": {
  "kernelspec": {
   "display_name": "Python 3 (ipykernel)",
   "language": "python",
   "name": "python3"
  },
  "language_info": {
   "codemirror_mode": {
    "name": "ipython",
    "version": 3
   },
   "file_extension": ".py",
   "mimetype": "text/x-python",
   "name": "python",
   "nbconvert_exporter": "python",
   "pygments_lexer": "ipython3",
   "version": "3.10.8"
  }
 },
 "nbformat": 4,
 "nbformat_minor": 5
}
