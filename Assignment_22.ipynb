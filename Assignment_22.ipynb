{
 "cells": [
  {
   "cell_type": "code",
   "execution_count": 2,
   "id": "7a023e46-d10c-4103-8fbb-05b3d74b454e",
   "metadata": {},
   "outputs": [],
   "source": [
    "## Consider the below code to answer further questions:\n",
    "import numpy as np\n",
    "list_ = [ '1' , '2' , '3' , '4' , '5' ]\n",
    "array_list = np.array(object = list_)"
   ]
  },
  {
   "cell_type": "markdown",
   "id": "35d10272-15c5-4a06-a99b-3df7df48a6b4",
   "metadata": {},
   "source": [
    "##### Q1. Is there any difference in the data type of variables list_ and array_list? If there is then write a code to print the data types of both the variables."
   ]
  },
  {
   "cell_type": "code",
   "execution_count": 17,
   "id": "88f61c4e-5b98-4ccd-ba68-20f88b41d936",
   "metadata": {},
   "outputs": [
    {
     "name": "stdout",
     "output_type": "stream",
     "text": [
      "The data type of variable 'list_' is <class 'list'>\n",
      "The data type of variable 'array_list' is <U1\n"
     ]
    }
   ],
   "source": [
    "\"\"\"\n",
    "Answer:\n",
    "\n",
    "1. The variable 'list_' is a python list containing string elements.\n",
    "2. The variable 'array_list' is a NumPy array created from 'list_'.\n",
    "\"\"\"\n",
    "\n",
    "## Program to print the data types of given variables\n",
    "\n",
    "print(f\"The data type of variable 'list_' is {type(list_)}\")\n",
    "print(f\"The data type of variable 'array_list' is {array_list.dtype}\")"
   ]
  },
  {
   "cell_type": "markdown",
   "id": "a4aa400d-ea2a-493c-be2c-8f139e194fd0",
   "metadata": {},
   "source": [
    "##### Q2. Write a code to print the data type of each and every element of both the variables list_ and array_list."
   ]
  },
  {
   "cell_type": "code",
   "execution_count": 37,
   "id": "ac6401b5-c500-4d74-8db5-3ca5ffe5b620",
   "metadata": {},
   "outputs": [
    {
     "name": "stdout",
     "output_type": "stream",
     "text": [
      "Data types of elements in 'list_':\n",
      "Element: 1 , Type: <class 'str'>\n",
      "Element: 2 , Type: <class 'str'>\n",
      "Element: 3 , Type: <class 'str'>\n",
      "Element: 4 , Type: <class 'str'>\n",
      "Element: 5 , Type: <class 'str'>\n",
      "\n",
      "Data types of elements in 'array_list':\n",
      "Element: 1 , Type: <class 'numpy.int64'>\n",
      "Element: 2 , Type: <class 'numpy.int64'>\n",
      "Element: 3 , Type: <class 'numpy.int64'>\n",
      "Element: 4 , Type: <class 'numpy.int64'>\n",
      "Element: 5 , Type: <class 'numpy.int64'>\n"
     ]
    }
   ],
   "source": [
    "## Program to print the data type of each and every element of both the variables list_ and array_list.\n",
    "\n",
    "print(\"Data types of elements in 'list_':\")\n",
    "for i in list_:\n",
    "    print(\"Element:\",i, \", Type:\",type(i))\n",
    "\n",
    "print(\"\\nData types of elements in 'array_list':\")\n",
    "for i in array_list:\n",
    "    print(\"Element:\",i, \", Type:\",type(i))"
   ]
  },
  {
   "cell_type": "markdown",
   "id": "25ec41fe-1014-4d77-b57e-d7a388169fc9",
   "metadata": {},
   "source": [
    "##### Q3. Considering the following changes in the variable, array_list:\n",
    "##### array_list = np.array(object = list_, dtype = int)\n",
    "##### Will there be any difference in the data type of the elements present in both the variables, list_ and arra_ylist? If so then print the data types \n",
    "##### of each and every element present in both the variables, list_ and array_list."
   ]
  },
  {
   "cell_type": "code",
   "execution_count": 38,
   "id": "c85b9fc7-6889-4bdd-9478-1339a1dbec79",
   "metadata": {},
   "outputs": [
    {
     "name": "stdout",
     "output_type": "stream",
     "text": [
      "Data types of elements in 'list_':\n",
      "Element: 1 , Type: <class 'str'>\n",
      "Element: 2 , Type: <class 'str'>\n",
      "Element: 3 , Type: <class 'str'>\n",
      "Element: 4 , Type: <class 'str'>\n",
      "Element: 5 , Type: <class 'str'>\n",
      "\n",
      "Data types of elements in 'array_list':\n",
      "Element: 1 , Type: <class 'numpy.int64'>\n",
      "Element: 2 , Type: <class 'numpy.int64'>\n",
      "Element: 3 , Type: <class 'numpy.int64'>\n",
      "Element: 4 , Type: <class 'numpy.int64'>\n",
      "Element: 5 , Type: <class 'numpy.int64'>\n"
     ]
    }
   ],
   "source": [
    "\"\"\"\n",
    "Answer:\n",
    "\n",
    "1. The elements in the 'list_' variable represent the string data type.\n",
    "2. The elements in the 'array_list' variable now represent the NumPy integer data type.\n",
    "3. The 'dtype=int' parameter in the np.array() function converted the string elements to integers in the 'array_list' variable.\n",
    "\"\"\"\n",
    "\n",
    "## Program to print the data type of each and every element of both the variables list_ and array_list.\n",
    "\n",
    "array_list = np.array(object = list_, dtype = int)\n",
    "\n",
    "print(\"Data types of elements in 'list_':\")\n",
    "for i in list_:\n",
    "    print(\"Element:\",i, \", Type:\",type(i))\n",
    "\n",
    "print(\"\\nData types of elements in 'array_list':\")\n",
    "for i in array_list:\n",
    "    print(\"Element:\",i, \", Type:\",type(i))"
   ]
  },
  {
   "cell_type": "code",
   "execution_count": 3,
   "id": "b5a4a3ec-a30e-4afb-8f5e-68a40c5fa5bb",
   "metadata": {},
   "outputs": [],
   "source": [
    "## Consider the below code to answer further questions:\n",
    "import numpy as np\n",
    "num_list = [ [ 1 , 2 , 3 ] , [ 4 , 5 , 6 ] ]\n",
    "num_array = np.array(object = num_list)"
   ]
  },
  {
   "cell_type": "markdown",
   "id": "cee1a2f5-8ab6-41e6-92bb-b2640c88f196",
   "metadata": {},
   "source": [
    "##### Q4. Write a code to find the following characteristics of variable, num_array:\n",
    "##### (i) shape\n",
    "##### (ii) size"
   ]
  },
  {
   "cell_type": "code",
   "execution_count": 49,
   "id": "f09760eb-97cf-4561-aa93-d10e950d7a01",
   "metadata": {},
   "outputs": [
    {
     "name": "stdout",
     "output_type": "stream",
     "text": [
      "The 'shape' of variable 'num_array' is: (2, 3)\n",
      "The 'size' of variable 'num_array' is: 6\n"
     ]
    }
   ],
   "source": [
    "## Program to print the shape and size of 'num_array' varible.\n",
    "\n",
    "print(f\"The 'shape' of variable 'num_array' is: {np.shape(num_array)}\")\n",
    "\n",
    "print(f\"The 'size' of variable 'num_array' is: {np.size(num_array)}\")"
   ]
  },
  {
   "cell_type": "markdown",
   "id": "01fcede0-c945-4b33-9d15-e1825fbfaded",
   "metadata": {},
   "source": [
    "##### Q5. Write a code to create numpy array of 3*3 matrix containing zeros only, using a numpy array creation function.\n",
    "##### [Hint: The size of the array will be 9 and the shape will be (3,3).]"
   ]
  },
  {
   "cell_type": "code",
   "execution_count": 73,
   "id": "4a701884-956d-454d-8c07-cd978b257e38",
   "metadata": {},
   "outputs": [
    {
     "name": "stdout",
     "output_type": "stream",
     "text": [
      "[[0. 0. 0.]\n",
      " [0. 0. 0.]\n",
      " [0. 0. 0.]]\n"
     ]
    }
   ],
   "source": [
    "## Program to create numpy array of 3*3 matrix containing zeros only.\n",
    "\n",
    "zero_mat = np.zeros((3,3))\n",
    "\n",
    "print(zero_mat)"
   ]
  },
  {
   "cell_type": "markdown",
   "id": "1b75b64f-f14b-477e-b177-f68fc9b3e0bb",
   "metadata": {},
   "source": [
    "##### Q6. Create an identity matrix of shape (5,5) using numpy functions?\n",
    "##### [Hint: An identity matrix is a matrix containing 1 diagonally and other elements will be 0.]"
   ]
  },
  {
   "cell_type": "code",
   "execution_count": 76,
   "id": "bdcf268f-da1f-4c11-8b05-8f366fa32ca4",
   "metadata": {},
   "outputs": [
    {
     "name": "stdout",
     "output_type": "stream",
     "text": [
      "[[1. 0. 0. 0. 0.]\n",
      " [0. 1. 0. 0. 0.]\n",
      " [0. 0. 1. 0. 0.]\n",
      " [0. 0. 0. 1. 0.]\n",
      " [0. 0. 0. 0. 1.]]\n"
     ]
    }
   ],
   "source": [
    "## Program to create  identity matrix of shape (5,5) using numpy function.\n",
    "\n",
    "identity_mat = np.eye(5)\n",
    "print(identity_mat)"
   ]
  },
  {
   "cell_type": "code",
   "execution_count": null,
   "id": "d4cc6811-4ba8-4112-a86c-22afb6082aa9",
   "metadata": {},
   "outputs": [],
   "source": []
  }
 ],
 "metadata": {
  "kernelspec": {
   "display_name": "Python 3 (ipykernel)",
   "language": "python",
   "name": "python3"
  },
  "language_info": {
   "codemirror_mode": {
    "name": "ipython",
    "version": 3
   },
   "file_extension": ".py",
   "mimetype": "text/x-python",
   "name": "python",
   "nbconvert_exporter": "python",
   "pygments_lexer": "ipython3",
   "version": "3.10.8"
  }
 },
 "nbformat": 4,
 "nbformat_minor": 5
}
