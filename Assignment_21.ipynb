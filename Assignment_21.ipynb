{
 "cells": [
  {
   "cell_type": "code",
   "execution_count": 1,
   "id": "7c97f3a9-5fd9-40f1-b5d9-63d1852332c1",
   "metadata": {},
   "outputs": [],
   "source": [
    "## Consider following code to answer further questions:\n",
    "import pandas as pd\n",
    "course_name = ['Data Science', 'Machine Learning', 'Big Data', 'Data Engineer']\n",
    "duration = [2,3,6,4]\n",
    "df = pd.DataFrame(data = {'course_name' : course_name, 'duration' : duration})"
   ]
  },
  {
   "cell_type": "markdown",
   "id": "f12171f2-34dc-49f6-a983-7730f54e37c0",
   "metadata": {},
   "source": [
    "##### Q1. Write a code to print the data present in the second row of the dataframe, df."
   ]
  },
  {
   "cell_type": "code",
   "execution_count": 2,
   "id": "576b68e3-76b8-456b-8503-cdf7f607b787",
   "metadata": {},
   "outputs": [
    {
     "name": "stdout",
     "output_type": "stream",
     "text": [
      "        course_name  duration\n",
      "1  Machine Learning         3\n"
     ]
    }
   ],
   "source": [
    "## Prgram to print the data present in the second row of the dataframe, df.\n",
    "second_row = df[1:2]\n",
    "print(second_row)"
   ]
  },
  {
   "cell_type": "markdown",
   "id": "cb29b11f-2b48-49ab-a02a-302fa91d3102",
   "metadata": {},
   "source": [
    "##### Q2. What is the difference between the functions loc and iloc in pandas.DataFrame?"
   ]
  },
  {
   "cell_type": "code",
   "execution_count": 3,
   "id": "87736a5d-eb78-4d66-8fec-a1dc72e06f0e",
   "metadata": {},
   "outputs": [
    {
     "data": {
      "text/plain": [
       "\"\\nAnswer:\\n\\n1. 'loc' function uses the row and column labels to access data. Eg: df.loc[row_label, column_label]\\n2. 'iloc' function uses the integer indices to access data. Eg: df.iloc[row_index, column_index]\\n\""
      ]
     },
     "execution_count": 3,
     "metadata": {},
     "output_type": "execute_result"
    }
   ],
   "source": [
    "\"\"\"\n",
    "Answer:\n",
    "\n",
    "1. 'loc' function uses the row and column labels to access data. Eg: df.loc[row_label, column_label]\n",
    "2. 'iloc' function uses the integer indices to access data. Eg: df.iloc[row_index, column_index]\n",
    "\"\"\""
   ]
  },
  {
   "cell_type": "markdown",
   "id": "217d2923-4d3f-450d-8d5e-056abef10954",
   "metadata": {},
   "source": [
    "##### Q3. Reindex the given dataframe using a variable, reindex = [3,0,1,2] and store it in the variable, new_df then find the output for both new_df.loc[2] and new_df.iloc[2].\n",
    "##### Did you observe any difference in both the outputs? If so then explain it."
   ]
  },
  {
   "cell_type": "code",
   "execution_count": 4,
   "id": "1540ee20-d33a-4741-ac92-f7121b30ebd2",
   "metadata": {},
   "outputs": [
    {
     "name": "stdout",
     "output_type": "stream",
     "text": [
      "Using loc function:\n",
      "course_name    Data Engineer\n",
      "duration                   4\n",
      "Name: 2, dtype: object\n",
      "\n",
      "Using iloc function:\n",
      "course_name    Big Data\n",
      "duration              6\n",
      "Name: 1, dtype: object\n"
     ]
    },
    {
     "data": {
      "text/plain": [
       "\"\\nThe difference is observed because 'loc' uses the index label '2' to retrieve data, whereas 'iloc' uses the position index 2.\\n\""
      ]
     },
     "execution_count": 4,
     "metadata": {},
     "output_type": "execute_result"
    }
   ],
   "source": [
    "## Program to reindex df into new_df and executing the loc and iloc functions.\n",
    "\n",
    "new_df = df.copy()         # Created the DataFrame new_df by copying the original df\n",
    "reindex = [3,0,1,2]\n",
    "\n",
    "new_df.index = reindex     # Re-indexed the new_df\n",
    "print(\"Using loc function:\")\n",
    "print(new_df.loc[2])\n",
    "print(\"\")\n",
    "print(\"Using iloc function:\")\n",
    "print(new_df.iloc[2])\n",
    "\n",
    "\"\"\"\n",
    "The difference is observed because 'loc' uses the index label '2' to retrieve data, whereas 'iloc' uses the position index 2.\n",
    "\"\"\""
   ]
  },
  {
   "cell_type": "code",
   "execution_count": 5,
   "id": "bc3bd3b9-80ed-4af0-9dab-f9b5361d62b7",
   "metadata": {},
   "outputs": [],
   "source": [
    "## Consider the below code to answer further questions:\n",
    "import pandas as pd\n",
    "import numpy as np\n",
    "columns = ['column_1', 'column_2', 'column_3', 'column_4', 'column_5', 'column_6']\n",
    "indices = [1,2,3,4,5,6]\n",
    "# Creating a dataframe:\n",
    "df1 = pd.DataFrame(np.random.rand(6,6), columns = columns, index = indices)"
   ]
  },
  {
   "cell_type": "markdown",
   "id": "46c55aca-e2ba-4cb4-84bc-820919cdf792",
   "metadata": {
    "tags": []
   },
   "source": [
    "##### Q4. Write a code to find the following statistical measurements for the above dataframe df1:\n",
    "##### (i) mean of each and every column present in the dataframe.\n",
    "##### (ii) standard deviation of column, ‘column_2’"
   ]
  },
  {
   "cell_type": "code",
   "execution_count": 6,
   "id": "657c594d-01a0-46f0-a117-4e7ff11c1dd1",
   "metadata": {},
   "outputs": [
    {
     "name": "stdout",
     "output_type": "stream",
     "text": [
      "Mean of each column:\n",
      "column_1    0.384792\n",
      "column_2    0.480890\n",
      "column_3    0.486926\n",
      "column_4    0.722796\n",
      "column_5    0.664494\n",
      "column_6    0.527402\n",
      "dtype: float64\n",
      "\n",
      "Standard deviation of 'column_2': 0.3253699047841242\n"
     ]
    }
   ],
   "source": [
    "# Program to find mean of each and every column present in the dataframe.\n",
    "column_means = df1.mean()\n",
    "print(\"Mean of each column:\")\n",
    "print(column_means)\n",
    "\n",
    "# Program to find standard deviation of column, 'column_2'\n",
    "column_2_std = df1[\"column_2\"].std()\n",
    "print(f\"\\nStandard deviation of 'column_2': {column_2_std}\")\n"
   ]
  },
  {
   "cell_type": "markdown",
   "id": "afe17cb8-c6c9-405c-9eaa-4d8e2ab37c6e",
   "metadata": {},
   "source": [
    "##### Q5. Replace the data present in the second row of column, ‘column_2’ by a string variable then find the mean of column, column_2.\n",
    "##### If you are getting errors in executing it then explain why.\n",
    "##### [Hint: To replace the data use df1.loc[] and equate this to string data of your choice.]"
   ]
  },
  {
   "cell_type": "code",
   "execution_count": 7,
   "id": "be77d792-9a75-4518-a405-74a4068259df",
   "metadata": {},
   "outputs": [
    {
     "name": "stdout",
     "output_type": "stream",
     "text": [
      "column_2 mean: Error- unsupported operand type(s) for +: 'float' and 'str'\n"
     ]
    },
    {
     "data": {
      "text/plain": [
       "\"\\nThe presence of a string in the column prevents pandas from performing the arithmetic operation.\\nStrings cannot be included in arithmetic calculations like 'mean', so it's important to maintain consistent data types within columns.\\n\""
      ]
     },
     "execution_count": 7,
     "metadata": {},
     "output_type": "execute_result"
    }
   ],
   "source": [
    "## Program to replace the data present in the second row of column, ‘column_2’ by a string variable then find the mean of column, column_2\n",
    "\n",
    "string = \"pwskills\"\n",
    "df1.iloc[1, 1] = string\n",
    "\n",
    "try:\n",
    "    column_2_mean = df1[\"column_2\"].mean()\n",
    "    print(f\"column_2 mean : {column_2_mean}\")\n",
    "except Exception as e:\n",
    "    print(f\"column_2 mean: Error- {e}\")\n",
    "\n",
    "\"\"\"\n",
    "The presence of a string in the column prevents pandas from performing the arithmetic operation.\n",
    "Strings cannot be included in arithmetic calculations like 'mean', so it's important to maintain consistent data types within columns.\n",
    "\"\"\""
   ]
  },
  {
   "cell_type": "markdown",
   "id": "24ac3a8e-9a90-469d-abca-50c0e8ab0fcf",
   "metadata": {},
   "source": [
    "##### Q6. What do you understand about the windows function in pandas and list the types of windows functions?"
   ]
  },
  {
   "cell_type": "code",
   "execution_count": 8,
   "id": "1fd1eb9b-f071-46c0-b923-058982cb052d",
   "metadata": {},
   "outputs": [
    {
     "data": {
      "text/plain": [
       "\"\\nAnswers:\\n\\n1. Pandas window functions are the functions where the input values are taken from a 'window' of one or more rows ina series and calculations are performed over them.\\n2. The types of windows functions are as follows:\\n   a. Moving Average (rolling().mean()): Calculates the mean value for each window.\\n   b. Moving Sum (rolling().sum()): Computes the sum of values within each window.\\n   c. Moving Min and Max (rolling().min() and rolling().max()): These functions compute the minimum and maximum values within each window, respectively. \\n   d. Moving Standard Deviation (rolling().std()): Computes the standard deviation of values within each window.\\n   e. Exponential Moving Average (ewm().mean()): Calculates the exponentially weighted moving average, giving more weight to recent data points. \\n      It's often used to track trends while giving more significance to recent observations.\\n   f. Windowed Rank (rolling().rank()): Computes the rank of values within each window.\\n   g. Windowed Covariance and Correlation (rolling().cov() and rolling().corr()): These functions compute the covariance and correlation coefficients within \\n      each window. They're used to analyze relationships between two or more time-series.\\n   h. Custom Aggregations: You can use your own aggregation functions with the '.rolling().apply()' method to perform custom calculations within rolling windows.\\n\""
      ]
     },
     "execution_count": 8,
     "metadata": {},
     "output_type": "execute_result"
    }
   ],
   "source": [
    "\"\"\"\n",
    "Answers:\n",
    "\n",
    "1. Pandas window functions are the functions where the input values are taken from a 'window' of one or more rows ina series and calculations are performed over them.\n",
    "2. The types of windows functions are as follows:\n",
    "   a. Moving Average (rolling().mean()): Calculates the mean value for each window.\n",
    "   b. Moving Sum (rolling().sum()): Computes the sum of values within each window.\n",
    "   c. Moving Min and Max (rolling().min() and rolling().max()): These functions compute the minimum and maximum values within each window, respectively. \n",
    "   d. Moving Standard Deviation (rolling().std()): Computes the standard deviation of values within each window.\n",
    "   e. Exponential Moving Average (ewm().mean()): Calculates the exponentially weighted moving average, giving more weight to recent data points. \n",
    "      It's often used to track trends while giving more significance to recent observations.\n",
    "   f. Windowed Rank (rolling().rank()): Computes the rank of values within each window.\n",
    "   g. Windowed Covariance and Correlation (rolling().cov() and rolling().corr()): These functions compute the covariance and correlation coefficients within \n",
    "      each window. They're used to analyze relationships between two or more time-series.\n",
    "   h. Custom Aggregations: You can use your own aggregation functions with the '.rolling().apply()' method to perform custom calculations within rolling windows.\n",
    "\"\"\""
   ]
  },
  {
   "cell_type": "markdown",
   "id": "2879d992-c925-4116-a940-c2f9892b852f",
   "metadata": {},
   "source": [
    "##### Q7. Write a code to print only the current month and year at the time of answering this question.\n",
    "##### [Hint: Use pandas.datetime function]"
   ]
  },
  {
   "cell_type": "code",
   "execution_count": 9,
   "id": "6504aa28-853b-46c4-90be-a1f312ed6526",
   "metadata": {},
   "outputs": [
    {
     "name": "stdout",
     "output_type": "stream",
     "text": [
      "Current month: August\n",
      "Current year: 2023\n"
     ]
    }
   ],
   "source": [
    "# Program to print current month and year.\n",
    "\n",
    "current_time = pd.Timestamp.now()\n",
    "\n",
    "current_month = current_time.strftime('%B')\n",
    "current_year = current_time.year\n",
    "\n",
    "print(f\"Current month: {current_month}\")\n",
    "print(f\"Current year: {current_year}\")"
   ]
  },
  {
   "cell_type": "markdown",
   "id": "fff4ab28-5872-49aa-89ce-fad421fd6d83",
   "metadata": {},
   "source": [
    "##### Q8. Write a Python program that takes in two dates as input (in the format YYYY-MM-DD) and calculates the difference between them in days, hours, and minutes\n",
    "##### using Pandas time delta. The program should prompt the user to enter the dates and display the result."
   ]
  },
  {
   "cell_type": "code",
   "execution_count": 45,
   "id": "fa0be47b-e401-4bac-be4e-06ff068be402",
   "metadata": {},
   "outputs": [
    {
     "name": "stdin",
     "output_type": "stream",
     "text": [
      "Enter first date in format (YYYY-MM-DD): 2023-01-01\n",
      "Enter second date in format (YYYY-MM-DD): 2023-02-01\n"
     ]
    },
    {
     "name": "stdout",
     "output_type": "stream",
     "text": [
      "Time difference in days: 31.0\n",
      "Time difference in hours: 744.0\n",
      "Time difference in minutes: 44640.0\n"
     ]
    }
   ],
   "source": [
    "## Program to calculate the difference between two dates in days, hours, and minutes using Pandas time delta.\n",
    "\n",
    "try:\n",
    "    date_1 = pd.to_datetime(input(\"Enter first date in format (YYYY-MM-DD):\"))\n",
    "    date_2 = pd.to_datetime(input(\"Enter second date in format (YYYY-MM-DD):\"))\n",
    "    \n",
    "    date_diff = date_2 - date_1\n",
    "\n",
    "    time_diff_days = date_diff / pd.Timedelta(days=1)\n",
    "    time_diff_hours =  date_diff / pd.Timedelta(hours=1)\n",
    "    time_diff_minutes =  date_diff / pd.Timedelta(minutes=1)\n",
    "\n",
    "    print(f\"Time difference in days: {time_diff_days}\")\n",
    "    print(f\"Time difference in hours: {time_diff_hours}\")\n",
    "    print(f\"Time difference in minutes: {time_diff_minutes}\")\n",
    "except Exception as e:\n",
    "    print(f\"Error: Please provide input in the format (YYYY-MM-DD). {e}\")\n"
   ]
  },
  {
   "cell_type": "markdown",
   "id": "abb59b82-256b-4cf5-a816-6cd53516485d",
   "metadata": {},
   "source": [
    "##### Q9. Write a Python program that reads a CSV file containing categorical data and converts a specified column to a categorical data type. The program should prompt the user to enter\n",
    "##### the file path, column name, and category order, and then display the sorted data."
   ]
  },
  {
   "cell_type": "code",
   "execution_count": 44,
   "id": "bcc83c34-86d6-40da-987d-1e5d134f06fa",
   "metadata": {},
   "outputs": [
    {
     "name": "stdin",
     "output_type": "stream",
     "text": [
      "Enter the CSV file path:  https://raw.githubusercontent.com/datasciencedojo/datasets/master/titanic.csv\n",
      "Enter the column name to convert to categorical data type:  Embarked\n",
      "Enter the desired category order in comma-separated format:  S,Q,C\n"
     ]
    },
    {
     "name": "stdout",
     "output_type": "stream",
     "text": [
      "     PassengerId  Survived  Pclass                                       Name  \\\n",
      "0              1         0       3                    Braund, Mr. Owen Harris   \n",
      "540          541         1       1                    Crosby, Miss. Harriet R   \n",
      "541          542         0       3       Andersson, Miss. Ingeborg Constanzia   \n",
      "542          543         0       3          Andersson, Miss. Sigrid Elisabeth   \n",
      "543          544         1       2                          Beane, Mr. Edward   \n",
      "..           ...       ...     ...                                        ...   \n",
      "255          256         1       3    Touma, Mrs. Darwis (Hanne Youssef Razi)   \n",
      "244          245         0       3                       Attalah, Mr. Sleiman   \n",
      "381          382         1       3                Nakid, Miss. Maria (\"Mary\")   \n",
      "61            62         1       1                        Icard, Miss. Amelie   \n",
      "829          830         1       1  Stone, Mrs. George Nelson (Martha Evelyn)   \n",
      "\n",
      "        Sex   Age  SibSp  Parch     Ticket     Fare Cabin Embarked  \n",
      "0      male  22.0      1      0  A/5 21171   7.2500   NaN        S  \n",
      "540  female  36.0      0      2  WE/P 5735  71.0000   B22        S  \n",
      "541  female   9.0      4      2     347082  31.2750   NaN        S  \n",
      "542  female  11.0      4      2     347082  31.2750   NaN        S  \n",
      "543    male  32.0      1      0       2908  26.0000   NaN        S  \n",
      "..      ...   ...    ...    ...        ...      ...   ...      ...  \n",
      "255  female  29.0      0      2       2650  15.2458   NaN        C  \n",
      "244    male  30.0      0      0       2694   7.2250   NaN        C  \n",
      "381  female   1.0      0      2       2653  15.7417   NaN        C  \n",
      "61   female  38.0      0      0     113572  80.0000   B28      NaN  \n",
      "829  female  62.0      0      0     113572  80.0000   B28      NaN  \n",
      "\n",
      "[891 rows x 12 columns]\n"
     ]
    }
   ],
   "source": [
    "## Program to read a CSV file containing categorical data, converts a specified column to a categorical data type and display the sorted data.\n",
    "\n",
    "def sort_by_categorical_column():\n",
    "    file_path = input(\"Enter the CSV file path: \")\n",
    "    column_name = input(\"Enter the column name to convert to categorical data type: \")\n",
    "    category_order = input(\"Enter the desired category order in comma-separated format: \").split(',')\n",
    "    \n",
    "    try:\n",
    "        df = pd.read_csv(file_path)\n",
    "    except FileNotFoundError:\n",
    "        return \"File not found. Please check the file path\"\n",
    "    except Exception as e:\n",
    "        return f\"Error while reading the file: {e}\"\n",
    "    \n",
    "    try:\n",
    "        df[column_name] = pd.Categorical(df[column_name], categories= category_order, ordered= True)\n",
    "        sorted_csv = df.sort_values(by = column_name)\n",
    "        print(sorted_csv)\n",
    "    except KeyError:\n",
    "        return f\"Column {column_name} is not found in the csv file.\"\n",
    "    except Exception as e:\n",
    "        return(e)\n",
    "    \n",
    "sort_by_categorical_column()"
   ]
  },
  {
   "cell_type": "markdown",
   "id": "7f6d52a4-3c4c-46b2-8be0-c81ad6e4168a",
   "metadata": {},
   "source": [
    "##### Q10. Write a Python program that reads a CSV file containing sales data for different products and visualizes the data using a stacked bar chart to show the\n",
    "##### sales of each product category over time. The program should prompt the user to enter the file path and display the chart."
   ]
  },
  {
   "cell_type": "code",
   "execution_count": 48,
   "id": "90abfee3-5e60-43ab-baaa-444b8c6fe20e",
   "metadata": {},
   "outputs": [
    {
     "name": "stdin",
     "output_type": "stream",
     "text": [
      "Enter the path of CSV file containing sales data:  Sales.csv\n"
     ]
    },
    {
     "data": {
      "image/png": "[encoded data removed]",
      "text/plain": [
       "<Figure size 640x480 with 1 Axes>"
      ]
     },
     "metadata": {},
     "output_type": "display_data"
    }
   ],
   "source": [
    "## Program to read a CSV file containing sales data for different products and visualizes the data using a stacked bar chart\n",
    "\n",
    "def sales_stacked_bar_plot():\n",
    "    try:\n",
    "        df = pd.read_csv(input(\"Enter the path of CSV file containing sales data: \"))\n",
    "        pivot_df = df.pivot_table(index= \"Date\", columns=\"Product\", values= \"Sales\")\n",
    "        pivot_df.plot.bar(stacked = True, title = \"Sales Data by Product Over Time\", xlabel = \"Date\", ylabel = \"Sales\")\n",
    "    except FileNotFoundError:\n",
    "        return \"File not found. Please check the file path\"\n",
    "    except Exception as e:\n",
    "        return f\"Error while reading the file: {e}\"\n",
    "\n",
    "sales_stacked_bar_plot()"
   ]
  },
  {
   "cell_type": "markdown",
   "id": "823fb01a-1ddd-44a9-b856-efcfe1c09a6f",
   "metadata": {},
   "source": [
    "##### Q11. You are given a CSV file containing student data that includes the student ID and their test score. Write a Python program that reads the CSV file,\n",
    "##### calculates the mean, median, and mode of the test scores, and displays the results in a table.\n",
    "######\n",
    "##### The program should do the following:\n",
    "##### * Prompt the user to enter the file path of the CSV file containing the student data.\n",
    "##### * Read the CSV file into a Pandas DataFrame.\n",
    "##### * Calculate the mean, median, and mode of the test scores using Pandas tools.\n",
    "##### * Display the mean, median, and mode in a table.\n",
    "######\n",
    "##### Assume the CSV file contains the following columns:\n",
    "##### * Student ID: The ID of the student.\n",
    "##### * Test Score: The score of the student's test.\n",
    "######\n",
    "##### Example usage of the program:\n",
    "##### Enter the file path of the CSV file containing the student data: student_data.csv\n",
    "##### +-----------+--------+\n",
    "##### | Statistic | Value |\n",
    "##### +-----------+--------+\n",
    "##### | Mean | 79.6 |\n",
    "##### | Median | 82 |\n",
    "##### | Mode | 85, 90 |\n",
    "##### +-----------+--------+\n",
    "######\n",
    "##### Assume that the CSV file student_data.csv contains the following data:\n",
    "##### Student ID,Test Score\n",
    "##### 1,85\n",
    "##### 2,90\n",
    "##### 3,80\n",
    "##### 4,75\n",
    "##### 5,85\n",
    "##### 6,82\n",
    "##### 7,78\n",
    "##### 8,85\n",
    "##### 9,90\n",
    "##### 10,85\n",
    "##### The program should calculate the mean, median, and mode of the test scores and display the results\n",
    "##### in a table."
   ]
  },
  {
   "cell_type": "code",
   "execution_count": 128,
   "id": "b2c89977-b140-4221-98af-7e5bfa984014",
   "metadata": {},
   "outputs": [
    {
     "name": "stdin",
     "output_type": "stream",
     "text": [
      "Enter the path of CSV file containing student data: student_data.csv\n"
     ]
    },
    {
     "data": {
      "text/html": [
       "<div>\n",
       "<style scoped>\n",
       "    .dataframe tbody tr th:only-of-type {\n",
       "        vertical-align: middle;\n",
       "    }\n",
       "\n",
       "    .dataframe tbody tr th {\n",
       "        vertical-align: top;\n",
       "    }\n",
       "\n",
       "    .dataframe thead th {\n",
       "        text-align: right;\n",
       "    }\n",
       "</style>\n",
       "<table border=\"1\" class=\"dataframe\">\n",
       "  <thead>\n",
       "    <tr style=\"text-align: right;\">\n",
       "      <th></th>\n",
       "      <th>Value</th>\n",
       "    </tr>\n",
       "    <tr>\n",
       "      <th>Statistic</th>\n",
       "      <th></th>\n",
       "    </tr>\n",
       "  </thead>\n",
       "  <tbody>\n",
       "    <tr>\n",
       "      <th>Mean</th>\n",
       "      <td>83.5</td>\n",
       "    </tr>\n",
       "    <tr>\n",
       "      <th>Median</th>\n",
       "      <td>85.0</td>\n",
       "    </tr>\n",
       "    <tr>\n",
       "      <th>Mode</th>\n",
       "      <td>85.0</td>\n",
       "    </tr>\n",
       "  </tbody>\n",
       "</table>\n",
       "</div>"
      ],
      "text/plain": [
       "           Value\n",
       "Statistic       \n",
       "Mean        83.5\n",
       "Median      85.0\n",
       "Mode        85.0"
      ]
     },
     "execution_count": 128,
     "metadata": {},
     "output_type": "execute_result"
    }
   ],
   "source": [
    "## Program to read a CSV file containing student data and calculate the mean, median, and mode of the test scores and display the results in a table.\n",
    "\n",
    "def student_test_stats():\n",
    "    try:\n",
    "        student_data = pd.read_csv(input(\"Enter the path of CSV file containing student data:\"))\n",
    "        stud_mean = student_data[\"Test Score\"].mean()\n",
    "        stud_median = student_data[\"Test Score\"].median()\n",
    "        stud_mode = student_data[\"Test Score\"].mode().values[0]\n",
    "\n",
    "        stud_stats = pd.DataFrame({\n",
    "            \"Statistic\": [\"Mean\", \"Median\", \"Mode\"],\n",
    "            \"Value\": [stud_mean, stud_median, stud_mode]\n",
    "        })\n",
    "        student_stats = stud_stats.set_index(\"Statistic\")\n",
    "        return student_stats\n",
    "    except FileNotFoundError:\n",
    "        return \"File not found. Please check the file path\"\n",
    "    except Exception as e:\n",
    "        return f\"Error while reading the file: {e}\"\n",
    "    \n",
    "student_test_stats()"
   ]
  },
  {
   "cell_type": "code",
   "execution_count": null,
   "id": "e244cf0a-00b4-43b0-8e81-a0072db2b968",
   "metadata": {},
   "outputs": [],
   "source": []
  }
 ],
 "metadata": {
  "kernelspec": {
   "display_name": "Python 3 (ipykernel)",
   "language": "python",
   "name": "python3"
  },
  "language_info": {
   "codemirror_mode": {
    "name": "ipython",
    "version": 3
   },
   "file_extension": ".py",
   "mimetype": "text/x-python",
   "name": "python",
   "nbconvert_exporter": "python",
   "pygments_lexer": "ipython3",
   "version": "3.10.8"
  }
 },
 "nbformat": 4,
 "nbformat_minor": 5
}
