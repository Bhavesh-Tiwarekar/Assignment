{
 "cells": [
  {
   "cell_type": "markdown",
   "id": "d3c0ff64-f2fe-497e-85be-d75f8cabefeb",
   "metadata": {},
   "source": [
    "##### Q1. What is Abstraction in OOps? Explain with an example."
   ]
  },
  {
   "cell_type": "code",
   "execution_count": 7,
   "id": "988390d3-6331-4d31-99ac-52343a22a74f",
   "metadata": {},
   "outputs": [
    {
     "name": "stdout",
     "output_type": "stream",
     "text": [
      "I roar\n",
      "I bark\n"
     ]
    },
    {
     "data": {
      "text/plain": [
       "\"\\nIn the above example, 'abc' module is used to define the abstract class 'animal_sound'. '@abc.abstractmethod' is used \\nto define the abstract method 'sound'. The last step was to use the abstract method in the child class 'lion' and 'dog'\\nfor implementation.\\n\\n\""
      ]
     },
     "execution_count": 7,
     "metadata": {},
     "output_type": "execute_result"
    }
   ],
   "source": [
    "\"\"\"\n",
    "Answer:\n",
    "\n",
    "1. Abstraction is the process of hiding the details and showing only essential information to the users.\n",
    "2. In Python, abstraction is achieved by using abstract classes and methods.\n",
    "3. Example of abstraction:\n",
    "\"\"\"\n",
    "\n",
    "import abc\n",
    "\n",
    "class animal_sound:\n",
    "    \n",
    "    @abc.abstractmethod\n",
    "    def sound(self):\n",
    "        pass\n",
    "    \n",
    "class lion(animal_sound):\n",
    "    def sound(self):\n",
    "        return \"I roar\"\n",
    "\n",
    "class dog(animal_sound):\n",
    "    def sound(self):\n",
    "        return \"I bark\"\n",
    "    \n",
    "\n",
    "lion = lion()\n",
    "print(lion.sound())\n",
    "\n",
    "dog = dog()\n",
    "print(dog.sound())\n",
    "\n",
    "\"\"\"\n",
    "In the above example, 'abc' module is used to define the abstract class 'animal_sound'. '@abc.abstractmethod' is used \n",
    "to define the abstract method 'sound'. The last step was to use the abstract method in the child class 'lion' and 'dog'\n",
    "for implementation.\n",
    "\n",
    "\"\"\""
   ]
  },
  {
   "cell_type": "markdown",
   "id": "9a906a9c-9cb2-4c83-aef8-c755eedab229",
   "metadata": {},
   "source": [
    "##### Q2. Differentiate between Abstraction and Encapsulation. Explain with an example."
   ]
  },
  {
   "cell_type": "code",
   "execution_count": 2,
   "id": "ebecb715-0511-49bb-8aad-09978d7cbf46",
   "metadata": {},
   "outputs": [
    {
     "name": "stdout",
     "output_type": "stream",
     "text": [
      "BT1 is Not eligible for additional increment\n",
      "BT2 is Eligible for additional increment\n"
     ]
    },
    {
     "data": {
      "text/plain": [
       "\"\\nIn the above example, the abstract class 'company' is defined with abstract methods 'project' and 'get_increment'.\\nThe abstract method 'get_increment' is used in the child class 'employee'.\\nThe performance parameter decides whether an employee is eligible for additional increment or not and hence the performance instance \\nis kept private.\\n\""
      ]
     },
     "execution_count": 2,
     "metadata": {},
     "output_type": "execute_result"
    }
   ],
   "source": [
    "\"\"\"\n",
    "Answer:\n",
    "\n",
    "1. Abstraction is the process of hiding the details and showing only essential information to the users.\n",
    "2. Encapsulation is the process of wraping the code and data into a single unit to protect the data from outside world.\n",
    "3. Abstraction works on the design level whereas Encapsulation works on the implementation level.\n",
    "4. Example:\n",
    "\"\"\"\n",
    "\n",
    "import abc\n",
    "\n",
    "class company:\n",
    "    \n",
    "    @abc.abstractmethod\n",
    "    def project(self):\n",
    "        pass\n",
    "    \n",
    "    @abc.abstractmethod\n",
    "    def get_increment(self):\n",
    "        pass\n",
    "    \n",
    "class employee(company):\n",
    "        \n",
    "    def __init__(self, name, performance):\n",
    "        self.name = name\n",
    "        self.__performance = performance\n",
    "    \n",
    "    def get_increment(self):\n",
    "        if self.__performance > 2.0:\n",
    "            return \"Eligible for additional increment\"\n",
    "        else:\n",
    "            return \"Not eligible for additional increment\"\n",
    "\n",
    "emp1 = employee(\"BT1\", 1.8)\n",
    "emp2 = employee(\"BT2\", 2.5)\n",
    "print(f\"{emp1.name} is {emp1.get_increment()}\")\n",
    "print(f\"{emp2.name} is {emp2.get_increment()}\")\n",
    "\n",
    "\n",
    "\"\"\"\n",
    "In the above example, the abstract class 'company' is defined with abstract methods 'project' and 'get_increment'.\n",
    "The abstract method 'get_increment' is used in the child class 'employee'.\n",
    "The performance parameter decides whether an employee is eligible for additional increment or not and hence the performance instance \n",
    "is kept private.\n",
    "\"\"\"\n"
   ]
  },
  {
   "cell_type": "markdown",
   "id": "66fb238b-2d18-4231-9e68-5334185d88d0",
   "metadata": {},
   "source": [
    "##### Q3. What is abc module in python? Why is it used?"
   ]
  },
  {
   "cell_type": "code",
   "execution_count": 3,
   "id": "aa299ebd-30fa-4070-8c63-a5db0b38783d",
   "metadata": {},
   "outputs": [
    {
     "data": {
      "text/plain": [
       "\"\\nAnswer:\\n\\n1. The 'abc' module in python provides the infrastructure for defining abstract base classes.\\n2. The 'abc' module works by marking methods of the base class as abstract that is achived using '@abstractmethod'.\\n\""
      ]
     },
     "execution_count": 3,
     "metadata": {},
     "output_type": "execute_result"
    }
   ],
   "source": [
    "\"\"\"\n",
    "Answer:\n",
    "\n",
    "1. The 'abc' module in python provides the infrastructure for defining abstract base classes.\n",
    "2. The 'abc' module works by marking methods of the base class as abstract that is achived using '@abstractmethod'.\n",
    "\"\"\""
   ]
  },
  {
   "cell_type": "markdown",
   "id": "1719b31f-5085-4b34-886e-374b9396aa49",
   "metadata": {},
   "source": [
    "##### Q4. How can we achieve data abstraction?"
   ]
  },
  {
   "cell_type": "code",
   "execution_count": 2,
   "id": "5bed6e71-6fdc-4f41-9ecf-c7e80c860694",
   "metadata": {},
   "outputs": [
    {
     "data": {
      "text/plain": [
       "'\\nAnswer:\\n\\n1. Data abstraction in python can be achieved using abc module.\\n2. The abc module helps in cleating abstract classes that can be inherited later.\\n'"
      ]
     },
     "execution_count": 2,
     "metadata": {},
     "output_type": "execute_result"
    }
   ],
   "source": [
    "\"\"\"\n",
    "Answer:\n",
    "\n",
    "1. Data abstraction in python can be achieved using abc module.\n",
    "2. The abc module helps in creating abstract classes that can be inherited later.\n",
    "\"\"\""
   ]
  },
  {
   "cell_type": "markdown",
   "id": "60660d5f-8f57-43fb-9b92-5dbdae277ef5",
   "metadata": {},
   "source": [
    "##### Q5. Can we create an instance of an abstract class? Explain your answer."
   ]
  },
  {
   "cell_type": "code",
   "execution_count": 4,
   "id": "a9f0bc7d-d948-4dd5-841e-fb020bf1558e",
   "metadata": {},
   "outputs": [
    {
     "data": {
      "text/plain": [
       "'\\nAnswer:\\n\\n1. We cannot create an instance of an abstract class.\\n2. Abstract classes does not contain complete implementation of abstract method.\\n3. The abstract class acts as a template whose methods can be used for implementation in child classes.\\n'"
      ]
     },
     "execution_count": 4,
     "metadata": {},
     "output_type": "execute_result"
    }
   ],
   "source": [
    "\"\"\"\n",
    "Answer:\n",
    "\n",
    "1. We cannot create an instance of an abstract class.\n",
    "2. Abstract classes does not contain complete implementation of abstract method.\n",
    "3. The abstract class acts as a template whose methods can be used for implementation in child classes.\n",
    "\"\"\""
   ]
  },
  {
   "cell_type": "code",
   "execution_count": null,
   "id": "8f9d2f7e-58e3-4c9a-acc3-7100bb2f679d",
   "metadata": {},
   "outputs": [],
   "source": []
  }
 ],
 "metadata": {
  "kernelspec": {
   "display_name": "Python 3 (ipykernel)",
   "language": "python",
   "name": "python3"
  },
  "language_info": {
   "codemirror_mode": {
    "name": "ipython",
    "version": 3
   },
   "file_extension": ".py",
   "mimetype": "text/x-python",
   "name": "python",
   "nbconvert_exporter": "python",
   "pygments_lexer": "ipython3",
   "version": "3.10.8"
  }
 },
 "nbformat": 4,
 "nbformat_minor": 5
}
