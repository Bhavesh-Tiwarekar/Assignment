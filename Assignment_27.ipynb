{
 "cells": [
  {
   "cell_type": "markdown",
   "id": "7e206f59-b4e8-4c1e-ac73-46c128e6657c",
   "metadata": {},
   "source": [
    "##### Q1. What is Statistics?"
   ]
  },
  {
   "cell_type": "code",
   "execution_count": 1,
   "id": "dfc01c22-2ef9-421e-acb2-949de02c1186",
   "metadata": {},
   "outputs": [
    {
     "data": {
      "text/plain": [
       "'\\nAnswer:\\n\\nStatistics is a branch of applied mathematics that involves the collection, description, analysis and inference of conclusion from data. \\n'"
      ]
     },
     "execution_count": 1,
     "metadata": {},
     "output_type": "execute_result"
    }
   ],
   "source": [
    "\"\"\"\n",
    "Answer:\n",
    "\n",
    "Statistics is a branch of applied mathematics that involves the collection, description, analysis and inference of conclusion from data. \n",
    "\"\"\""
   ]
  },
  {
   "cell_type": "markdown",
   "id": "7b23c5e0-1144-4152-b0b6-3f4fb7ae2b7b",
   "metadata": {},
   "source": [
    "##### Q2. Define the different types of statistics and give an example of when each type might be used."
   ]
  },
  {
   "cell_type": "code",
   "execution_count": 3,
   "id": "34263559-fcae-4b4d-9e3e-c997e9d536d9",
   "metadata": {},
   "outputs": [
    {
     "data": {
      "text/plain": [
       "'\\nAnswer:\\n\\n1. Statistics can be broadly categorized into two types:\\n   a. Descriptive statistics\\n   b. Inferential statistics\\n2. Descriptive statistics: This mostly focus on the central tendency, variability, and distribution of sample data.\\n   E.g: A resercher can calculate the mean, median, mode and standard deviation from the collected students age data.\\n3. Inferential statistics are tools that statisticians use to draw conclusions about the characteristics of a population, drawn from the characteristics\\n   of a sample. \\n   E.g: A pharmaceutical company can get the effectiveness of a new drug by comparing the sample patients who were administered the drug with the control group.\\n   By using inferential statistics the company can determine the statistical significance based on observed differences.\\n'"
      ]
     },
     "execution_count": 3,
     "metadata": {},
     "output_type": "execute_result"
    }
   ],
   "source": [
    "\"\"\"\n",
    "Answer:\n",
    "\n",
    "1. Statistics can be broadly categorized into two types:\n",
    "   a. Descriptive statistics\n",
    "   b. Inferential statistics\n",
    "2. Descriptive statistics: This mostly focus on the central tendency, variability, and distribution of sample data.\n",
    "   E.g: A resercher can calculate the mean, median, mode and standard deviation from the collected students age data.\n",
    "3. Inferential statistics are tools that statisticians use to draw conclusions about the characteristics of a population, drawn from the characteristics\n",
    "   of a sample. \n",
    "   E.g: A pharmaceutical company can get the effectiveness of a new drug by comparing the sample patients who were administered the drug with the control group.\n",
    "   By using inferential statistics the company can determine the statistical significance based on observed differences.\n",
    "\"\"\""
   ]
  },
  {
   "cell_type": "markdown",
   "id": "6b3dee58-64a8-42d0-b4e1-5d9e860d6327",
   "metadata": {},
   "source": [
    "##### Q3. What are the different types of data and how do they differ from each other? Provide an example of each type of data."
   ]
  },
  {
   "cell_type": "code",
   "execution_count": 4,
   "id": "f75e24d2-94f6-48e9-bc9c-03a0f5271d39",
   "metadata": {},
   "outputs": [
    {
     "data": {
      "text/plain": [
       "'\\nAnswer:\\n\\n1. The data can be divided onto two types:\\n   a. Quantitative: These are measures of values or counts and are expressed as numbers.\\n   b. Qualitative: These are data about categorical variables.\\n2. Types of Quantitative data:\\n   a. Discrete Data: Discrete data consist of separate, distinct value and cannot be subdivided further.\\n      E.g: Number of students in a class, the count of books on a shelf.\\n   b. Continuous Data: Continuous data are values that can take any numeric value within a range and can be measured with precision. \\n      E.g: Height, weight, temperature, or time.\\n3. Types of Qualitative data:\\n   a. Nominal Data: Nominal data represent categories or labels with no inherent order or ranking. \\n      E.g: Colors of cars in a parking lot.\\n   b. Ordinal Data: Ordinal data involve categories with a natural order or rank.\\n      E.g: Ratings of a movie.\\n'"
      ]
     },
     "execution_count": 4,
     "metadata": {},
     "output_type": "execute_result"
    }
   ],
   "source": [
    "\"\"\"\n",
    "Answer:\n",
    "\n",
    "1. The data can be divided onto two types:\n",
    "   a. Quantitative: These are measures of values or counts and are expressed as numbers.\n",
    "   b. Qualitative: These are data about categorical variables.\n",
    "2. Types of Quantitative data:\n",
    "   a. Discrete Data: Discrete data consist of separate, distinct value and cannot be subdivided further.\n",
    "      E.g: Number of students in a class, the count of books on a shelf.\n",
    "   b. Continuous Data: Continuous data are values that can take any numeric value within a range and can be measured with precision. \n",
    "      E.g: Height, weight, temperature, or time.\n",
    "3. Types of Qualitative data:\n",
    "   a. Nominal Data: Nominal data represent categories or labels with no inherent order or ranking. \n",
    "      E.g: Colors of cars in a parking lot.\n",
    "   b. Ordinal Data: Ordinal data involve categories with a natural order or rank.\n",
    "      E.g: Ratings of a movie.\n",
    "\"\"\""
   ]
  },
  {
   "cell_type": "markdown",
   "id": "8c3708fc-e6da-45c2-bc9f-8e813275d766",
   "metadata": {},
   "source": [
    "##### Q4. Categorise the following datasets with respect to quantitative and qualitative data types:\n",
    "##### (i) Grading in exam: A+, A, B+, B, C+, C, D, E\n",
    "##### (ii) Colour of mangoes: yellow, green, orange, red\n",
    "##### (iii) Height data of a class: [178.9, 179, 179.5, 176, 177.2, 178.3, 175.8,...]\n",
    "##### (iv) Number of mangoes exported by a farm: [500, 600, 478, 672, ...]"
   ]
  },
  {
   "cell_type": "code",
   "execution_count": 5,
   "id": "ee319353-21ad-4764-9ac2-1d691eb46558",
   "metadata": {},
   "outputs": [
    {
     "data": {
      "text/plain": [
       "'\\nAnswer:\\n1. Grading in exam: Qualitative- Ordinal data.\\n2. Colour of mangoes: Qualitative- Nominal data.\\n3. Height data of a class: Quantitative- Continuous data.\\n4. Number of mangoes exported by a farm: Quantitative- Discrete data.\\n\\n'"
      ]
     },
     "execution_count": 5,
     "metadata": {},
     "output_type": "execute_result"
    }
   ],
   "source": [
    "\"\"\"\n",
    "Answer:\n",
    "1. Grading in exam: Qualitative- Ordinal data.\n",
    "2. Colour of mangoes: Qualitative- Nominal data.\n",
    "3. Height data of a class: Quantitative- Continuous data.\n",
    "4. Number of mangoes exported by a farm: Quantitative- Discrete data.\n",
    "\n",
    "\"\"\""
   ]
  },
  {
   "cell_type": "markdown",
   "id": "13ab6bae-8998-4bc0-8f1e-2604d6f95979",
   "metadata": {},
   "source": [
    "##### Q5. Explain the concept of levels of measurement and give an example of a variable for each level."
   ]
  },
  {
   "cell_type": "code",
   "execution_count": 1,
   "id": "24907263-f122-424e-9ba1-9c3b1a2dd110",
   "metadata": {},
   "outputs": [
    {
     "data": {
      "text/plain": [
       "'\\nAnswer:\\n\\n1. Levels of measurement refer to a framework that categorizes variables based on the nature of the data they represent and the types of operations\\nthat can be performed on them. \\n2. There are four main levels of measurement: \\n   a. Nominal: The Nominal data can be categorized by labelling them in mutually exclusive groups, but there is no order between the categories.\\n      E.g: City of birth, Gender.\\n   b. Ordinal: At the ordinal level of measurement, data can be categorized into distinct groups with an inherent order or ranking, but the differences \\n      between the categories are not equal or quantifiable.\\n      E.g: Income groups, Top 5 Olympic medallists.\\n   c. Interval: At the interval level of measurement, data can be categorized, ranked and we can infer equal intervals between neighboring data points,\\n      but there is no true zero point. Arithmetic operations like addition and subtraction can be applied to interval variables, but ratios and divisions \\n      are not meaningful.\\n      E.g: Temperature, Calendar Years\\n   d. Ratio: Here the data can be categorized, ranked and we can infer equal intervals between neighboring data points, and there is a true zero point.\\n      E.g: Height, Age.\\n'"
      ]
     },
     "execution_count": 1,
     "metadata": {},
     "output_type": "execute_result"
    }
   ],
   "source": [
    "\"\"\"\n",
    "Answer:\n",
    "\n",
    "1. Levels of measurement refer to a framework that categorizes variables based on the nature of the data they represent and the types of operations\n",
    "that can be performed on them. \n",
    "2. There are four main levels of measurement: \n",
    "   a. Nominal: The Nominal data can be categorized by labelling them in mutually exclusive groups, but there is no order between the categories.\n",
    "      E.g: City of birth, Gender.\n",
    "   b. Ordinal: At the ordinal level of measurement, data can be categorized into distinct groups with an inherent order or ranking, but the differences \n",
    "      between the categories are not equal or quantifiable.\n",
    "      E.g: Income groups, Top 5 Olympic medallists.\n",
    "   c. Interval: At the interval level of measurement, data can be categorized, ranked and we can infer equal intervals between neighboring data points,\n",
    "      but there is no true zero point. Arithmetic operations like addition and subtraction can be applied to interval variables, but ratios and divisions \n",
    "      are not meaningful.\n",
    "      E.g: Temperature, Calendar Years\n",
    "   d. Ratio: Here the data can be categorized, ranked and we can infer equal intervals between neighboring data points, and there is a true zero point.\n",
    "      E.g: Height, Age.\n",
    "\"\"\""
   ]
  },
  {
   "cell_type": "markdown",
   "id": "ab1a04a9-2ae2-4f92-94c6-95444a3da414",
   "metadata": {},
   "source": [
    "##### Q6. Why is it important to understand the level of measurement when analyzing data? Provide an example to illustrate your answer."
   ]
  },
  {
   "cell_type": "code",
   "execution_count": 2,
   "id": "3bcee6ac-11d5-4d7f-9c03-4a5710b09fbd",
   "metadata": {},
   "outputs": [
    {
     "data": {
      "text/plain": [
       "'\\nAnswer:\\n\\n1. Understanding the level of measurement is crucial when analyzing data because it determines the types of statistical analyses and operations \\nthat can be applied to the data. \\n2. In many cases, the variables can be measured at different levels, so we have to choose the level of measurement we will use before data collection begins.\\n3. Example:\\n   a. Consider the variable \\'Grade Level\\' of students. It is a an ordinal variable because it has a meaningful order e.g. 1st grade, 2nd grade, 3rd grade, etc.\\n   b. Suppose we treat \"Grade Level\" as a ratio variable and calculate the mean grade level for a group of students. Here the mean e.g. 2.5 does not provide meaningful\\n      interpretation of grade level.\\n   c. Now consider that we correctly understand \\'Grade Level\\' as an ordinal variable. \\n      We use appropriate statistical measures for ordinal data, such as calculating medians and percentiles. \\n      By analyzing the median grade level, we find that most students belong to which grade.\\n'"
      ]
     },
     "execution_count": 2,
     "metadata": {},
     "output_type": "execute_result"
    }
   ],
   "source": [
    "\"\"\"\n",
    "Answer:\n",
    "\n",
    "1. Understanding the level of measurement is crucial when analyzing data because it determines the types of statistical analyses and operations \n",
    "that can be applied to the data. \n",
    "2. In many cases, the variables can be measured at different levels, so we have to choose the level of measurement we will use before data collection begins.\n",
    "3. Example:\n",
    "   a. Consider the variable 'Grade Level' of students. It is a an ordinal variable because it has a meaningful order e.g. 1st grade, 2nd grade, 3rd grade, etc.\n",
    "   b. Suppose we treat \"Grade Level\" as a ratio variable and calculate the mean grade level for a group of students. Here the mean e.g. 2.5 does not provide meaningful\n",
    "      interpretation of grade level.\n",
    "   c. Now consider that we correctly understand 'Grade Level' as an ordinal variable. \n",
    "      We use appropriate statistical measures for ordinal data, such as calculating medians and percentiles. \n",
    "      By analyzing the median grade level, we find that most students belong to which grade.\n",
    "\"\"\""
   ]
  },
  {
   "cell_type": "markdown",
   "id": "0ad11b1e-55b1-4951-a5f6-487bc12fb779",
   "metadata": {},
   "source": [
    "##### Q7. How nominal data type is different from ordinal data type."
   ]
  },
  {
   "cell_type": "code",
   "execution_count": 1,
   "id": "93c0d828-bf58-48e2-9afc-1f0d7b80dc9f",
   "metadata": {},
   "outputs": [
    {
     "data": {
      "text/plain": [
       "'\\nAnswer:\\n\\n1. Nominal data is a type of categorical data where the categories represent different groups or labels with no inherent order or ranking. \\n2. The categories in nominal data are exclusive and do not have any numerical meaning. One can\\'t say that one category is \"greater\" or \"lesser\" than another \\n   in any meaningful way. E.g. Country names \\n3. Ordinal data is also a type of categorical data, but in this case, the categories have a meaningful order or ranking. \\n4. While the actual numerical difference between the categories in ordinal data might not be well-defined, we can say that one category is greater or lesser \\n   than another based on the order. E.g. Education levels.\\n'"
      ]
     },
     "execution_count": 1,
     "metadata": {},
     "output_type": "execute_result"
    }
   ],
   "source": [
    "\"\"\"\n",
    "Answer:\n",
    "\n",
    "1. Nominal data is a type of categorical data where the categories represent different groups or labels with no inherent order or ranking. \n",
    "2. The categories in nominal data are exclusive and do not have any numerical meaning. One can't say that one category is \"greater\" or \"lesser\" than another \n",
    "   in any meaningful way. E.g. Country names \n",
    "3. Ordinal data is also a type of categorical data, but in this case, the categories have a meaningful order or ranking. \n",
    "4. While the actual numerical difference between the categories in ordinal data might not be well-defined, we can say that one category is greater or lesser \n",
    "   than another based on the order. E.g. Education levels.\n",
    "\"\"\""
   ]
  },
  {
   "cell_type": "markdown",
   "id": "b92b9235-a28d-4d6b-bae9-22f16623391e",
   "metadata": {},
   "source": [
    "##### Q8. Which type of plot can be used to display data in terms of range?"
   ]
  },
  {
   "cell_type": "code",
   "execution_count": 2,
   "id": "a1e6a046-e158-40c7-b0cb-6fbe7ce6d432",
   "metadata": {},
   "outputs": [
    {
     "data": {
      "text/plain": [
       "'\\nAnswer:\\n\\nHistogram, Box plot, Range plot are some of the plot types that can be used to display data in terms of range.\\n'"
      ]
     },
     "execution_count": 2,
     "metadata": {},
     "output_type": "execute_result"
    }
   ],
   "source": [
    "\"\"\"\n",
    "Answer:\n",
    "\n",
    "Histogram, Box plot, Range plot are some of the plot types that can be used to display data in terms of range.\n",
    "\"\"\""
   ]
  },
  {
   "cell_type": "markdown",
   "id": "3652f7e8-443e-4e95-9777-2800ba64ad26",
   "metadata": {},
   "source": [
    "##### Q9. Describe the difference between descriptive and inferential statistics. Give an example of each type of statistics and explain how they are used."
   ]
  },
  {
   "cell_type": "code",
   "execution_count": 3,
   "id": "25085ae3-2689-4c5d-baf1-e15a5e3c3f94",
   "metadata": {},
   "outputs": [
    {
     "data": {
      "text/plain": [
       "\"\\n\\nAnswer:\\n\\na. Descriptive statistics:\\n   1. Descriptive statistics involve methods of summarizing and describing the main features of a dataset. \\n   2. These statistics provide a clear and concise overview of the data, helping to understand its central tendency, dispersion, etc.\\n   3. Example:\\n      Consider we have a dataset consisting of the ages of a group of individuals in a certain town. To summarize the dataset using descriptive statistics we can\\n      compute its mean, median and standard deviation.\\nb. Inferential Statistics:\\n   1. Inferential statistics involve drawing conclusions about a larger population based on a sample of data.\\n   2. Inferential statistics allow us to make generalizations beyond the observed data and assess the likelihood of certain outcomes.\\n   3. Example:\\n      Considering the above example we can use T-Test to compare the average age of the sample to the average age of the entire town's population and determine \\n      its statistical signofocance.\\n\""
      ]
     },
     "execution_count": 3,
     "metadata": {},
     "output_type": "execute_result"
    }
   ],
   "source": [
    "\"\"\"\n",
    "\n",
    "Answer:\n",
    "\n",
    "a. Descriptive statistics:\n",
    "   1. Descriptive statistics involve methods of summarizing and describing the main features of a dataset. \n",
    "   2. These statistics provide a clear and concise overview of the data, helping to understand its central tendency, dispersion, etc.\n",
    "   3. Example:\n",
    "      Consider we have a dataset consisting of the ages of a group of individuals in a certain town. To summarize the dataset using descriptive statistics we can\n",
    "      compute its mean, median and standard deviation.\n",
    "b. Inferential Statistics:\n",
    "   1. Inferential statistics involve drawing conclusions about a larger population based on a sample of data.\n",
    "   2. Inferential statistics allow us to make generalizations beyond the observed data and assess the likelihood of certain outcomes.\n",
    "   3. Example:\n",
    "      Considering the above example we can use T-Test to compare the average age of the sample to the average age of the entire town's population and determine \n",
    "      its statistical signofocance.\n",
    "\"\"\""
   ]
  },
  {
   "cell_type": "markdown",
   "id": "0f096a27-817c-4f03-9608-1f418ddc29b8",
   "metadata": {},
   "source": [
    "##### Q10. What are some common measures of central tendency and variability used in statistics? Explain how each measure can be used to describe a dataset."
   ]
  },
  {
   "cell_type": "code",
   "execution_count": 4,
   "id": "a56a57cf-a3d4-4270-ad7d-56f5dc52696b",
   "metadata": {},
   "outputs": [
    {
     "data": {
      "text/plain": [
       "\"\\nAnswer:\\n\\n1. Mean, Median and Mode are the measures of central tendency while Variance are Standard Deviation are commonly used for variability in statistics.\\n2. The mean is commonly used to describe the central value of a dataset. It's sensitive to extreme values (outliers) and provides a balanced view of \\n   the data's overall tendency.\\n3. The median is less affected by extreme values compared to the mean. It is particularly useful when dealing with skewed distributions.\\n4. The mode is useful for identifying the most common value(s) in the data. It's particularly relevant for categorical or discrete data.\\n5. Variance quantifies the overall variability of the data.\\n6. Standard deviation provides a more interpretable measure of variability. It indicates the typical distance of data points from the mean\\n   and a higher standard deviation suggests greater dispersion.\\n\""
      ]
     },
     "execution_count": 4,
     "metadata": {},
     "output_type": "execute_result"
    }
   ],
   "source": [
    "\"\"\"\n",
    "Answer:\n",
    "\n",
    "1. Mean, Median and Mode are the measures of central tendency while Variance are Standard Deviation are commonly used for variability in statistics.\n",
    "2. The mean is commonly used to describe the central value of a dataset. It's sensitive to extreme values (outliers) and provides a balanced view of \n",
    "   the data's overall tendency.\n",
    "3. The median is less affected by extreme values compared to the mean. It is particularly useful when dealing with skewed distributions.\n",
    "4. The mode is useful for identifying the most common value(s) in the data. It's particularly relevant for categorical or discrete data.\n",
    "5. Variance quantifies the overall variability of the data.\n",
    "6. Standard deviation provides a more interpretable measure of variability. It indicates the typical distance of data points from the mean\n",
    "   and a higher standard deviation suggests greater dispersion.\n",
    "\"\"\""
   ]
  },
  {
   "cell_type": "code",
   "execution_count": null,
   "id": "fd46c139-cfa4-4930-9af3-c977979945a6",
   "metadata": {},
   "outputs": [],
   "source": []
  }
 ],
 "metadata": {
  "kernelspec": {
   "display_name": "Python 3 (ipykernel)",
   "language": "python",
   "name": "python3"
  },
  "language_info": {
   "codemirror_mode": {
    "name": "ipython",
    "version": 3
   },
   "file_extension": ".py",
   "mimetype": "text/x-python",
   "name": "python",
   "nbconvert_exporter": "python",
   "pygments_lexer": "ipython3",
   "version": "3.10.8"
  }
 },
 "nbformat": 4,
 "nbformat_minor": 5
}
