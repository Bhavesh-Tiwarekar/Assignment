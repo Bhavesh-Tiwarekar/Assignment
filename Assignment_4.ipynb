{
 "cells": [
  {
   "cell_type": "code",
   "execution_count": 33,
   "id": "17bc7aed-9a44-40b7-9f5f-7888cf850379",
   "metadata": {},
   "outputs": [
    {
     "name": "stdout",
     "output_type": "stream",
     "text": [
      "Ascending order of given list based on integer:\n",
      " [('Virat Kohli', 24936), ('Jack Kallis', 25534), ('Ricky Ponting', 27483), ('Sachin Tendulkar', 34357)] \n",
      "\n",
      "Descending order of given list based on integer:\n",
      " [('Sachin Tendulkar', 34357), ('Ricky Ponting', 27483), ('Jack Kallis', 25534), ('Virat Kohli', 24936)]\n"
     ]
    }
   ],
   "source": [
    "\"\"\"\n",
    "Q1. Create a python program to sort the given list of tuples based on integer value using a lambda function.\n",
    "\n",
    "[('Sachin Tendulkar', 34357), ('Ricky Ponting', 27483), ('Jack Kallis', 25534), ('Virat Kohli', 24936)]\n",
    "\"\"\"\n",
    "\n",
    "# Program to sort the given list of tuples based on integer value using a lambda function.\n",
    "l1 = [('Sachin Tendulkar', 34357), ('Ricky Ponting', 27483), ('Jack Kallis', 25534), ('Virat Kohli', 24936)]\n",
    "\n",
    "# For ascending order\n",
    "l2 = sorted(l1, key = lambda l: l[1], reverse = False)\n",
    "print(f\"Ascending order of given list based on integer:\\n {l2} \\n\")\n",
    "\n",
    "# For descending order\n",
    "l3= sorted(l1, key = lambda l: l[1], reverse = True)\n",
    "print(f\"Descending order of given list based on integer:\\n {l3}\")\n",
    "\n"
   ]
  },
  {
   "cell_type": "code",
   "execution_count": 34,
   "id": "eb55e478-551b-41c2-b911-51b5ef581ee9",
   "metadata": {},
   "outputs": [
    {
     "name": "stdout",
     "output_type": "stream",
     "text": [
      "The square of numbers in given list are: [1, 4, 9, 16, 25, 36, 49, 64, 81, 100]\n"
     ]
    }
   ],
   "source": [
    "\"\"\"\n",
    "Q2. Write a Python Program to find the squares of all the numbers in the given list of integers using lambda and map functions.\n",
    "\n",
    "[1, 2, 3, 4, 5, 6, 7, 8, 9, 10]\n",
    "\"\"\"\n",
    "# Program to print squares of numbers in a given list using lambda and map functions\n",
    "l1 = [1, 2, 3, 4, 5, 6, 7, 8, 9, 10]\n",
    "\n",
    "l2 = list(map(lambda l: l**2, l1))\n",
    "print(f\"The square of numbers in given list are: {l2}\")"
   ]
  },
  {
   "cell_type": "code",
   "execution_count": 2,
   "id": "b4a56fe7-6fa9-407b-9a50-4f184c3441d3",
   "metadata": {},
   "outputs": [
    {
     "name": "stdout",
     "output_type": "stream",
     "text": [
      "('1', '2', '3', '4', '5', '6', '7', '8', '9', '10')\n"
     ]
    }
   ],
   "source": [
    "\"\"\"\n",
    "Q3. Write a python program to convert the given list of integers into a tuple of strings. Use map and lambda functions\n",
    "\n",
    "Given String: [1, 2, 3, 4, 5, 6, 7, 8, 9, 10]\n",
    "Expected output: ('1', '2', '3', '4', '5', '6', '7', '8', '9', '10')\n",
    "\"\"\"\n",
    "# Python program to convert the given list of integers into a tuple of strings.\n",
    "l1 = [1, 2, 3, 4, 5, 6, 7, 8, 9, 10]\n",
    "\n",
    "l2 = tuple(map(lambda l: str(l), l1))\n",
    "print(l2)"
   ]
  },
  {
   "cell_type": "code",
   "execution_count": 26,
   "id": "3ef27811-3d8f-43e1-99bc-6599f726520d",
   "metadata": {},
   "outputs": [
    {
     "name": "stdout",
     "output_type": "stream",
     "text": [
      "The product of a list containing numbers from 1 to 25 = 15511210043330985984000000\n"
     ]
    }
   ],
   "source": [
    "# Q4. Write a python program using reduce function to compute the product of a list containing numbers from 1 to 25.\n",
    "\n",
    "# Program to compute the product of a list containing numbers from 1 to 25 using reduce\n",
    "\n",
    "from functools import reduce \n",
    "\n",
    "l1 = [i for i in range(1,26)]\n",
    "\n",
    "prod = reduce(lambda x,y:x*y, l1)\n",
    "print(f\"The product of a list containing numbers from 1 to 25 = {prod}\")"
   ]
  },
  {
   "cell_type": "code",
   "execution_count": 18,
   "id": "08831ff5-5ca2-4528-a676-6de081dd59bb",
   "metadata": {},
   "outputs": [
    {
     "name": "stdout",
     "output_type": "stream",
     "text": [
      "[6, 60, 90, 120]\n"
     ]
    }
   ],
   "source": [
    "# Q5. Write a python program to filter the numbers in a given list that are divisible by 2 and 3 using the filter function.\n",
    "# [2, 3, 6, 9, 27, 60, 90, 120, 55, 46]\n",
    "\n",
    "# Program to filter the numbers in a given list that are divisible by 2 and 3.\n",
    "l1 = [2, 3, 6, 9, 27, 60, 90, 120, 55, 46]\n",
    "\n",
    "l2 = list(filter(lambda l: l % 2 == 0 and l % 3 == 0, l1))\n",
    "print(l2)"
   ]
  },
  {
   "cell_type": "code",
   "execution_count": 23,
   "id": "b1cf1d43-9b70-481e-87ca-479444db5036",
   "metadata": {},
   "outputs": [
    {
     "name": "stdout",
     "output_type": "stream",
     "text": [
      "The palindromes in given list are: ['php', 'aba', 'radar', 'level']\n"
     ]
    }
   ],
   "source": [
    "\"\"\"\n",
    "Q6. Write a python program to find palindromes in the given list of strings using lambda and filter function.\n",
    "['python', 'php', 'aba', 'radar', 'level']\n",
    "\"\"\"\n",
    "\n",
    "# Program to find palindromes in the given list of strings using lambda and filter function\n",
    "\n",
    "l1 = ['python', 'php', 'aba', 'radar', 'level']\n",
    "\n",
    "l2 = list(filter(lambda l: l == l[-1::-1], l1))\n",
    "\n",
    "print(f\"The palindromes in given list are: {l2}\")"
   ]
  },
  {
   "cell_type": "code",
   "execution_count": null,
   "id": "cb1b39f0-d748-46ac-8a8b-201f8fa5cb45",
   "metadata": {},
   "outputs": [],
   "source": []
  }
 ],
 "metadata": {
  "kernelspec": {
   "display_name": "Python 3 (ipykernel)",
   "language": "python",
   "name": "python3"
  },
  "language_info": {
   "codemirror_mode": {
    "name": "ipython",
    "version": 3
   },
   "file_extension": ".py",
   "mimetype": "text/x-python",
   "name": "python",
   "nbconvert_exporter": "python",
   "pygments_lexer": "ipython3",
   "version": "3.10.8"
  }
 },
 "nbformat": 4,
 "nbformat_minor": 5
}
