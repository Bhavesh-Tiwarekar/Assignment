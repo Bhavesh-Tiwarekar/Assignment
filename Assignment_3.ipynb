{
 "cells": [
  {
   "cell_type": "code",
   "execution_count": 1,
   "id": "56fd0468-b2b5-462b-b8e0-bbf8ff73f138",
   "metadata": {},
   "outputs": [],
   "source": [
    "# Q1. Which keyword is used to create a function? Create a function to return a list of odd numbers in the range of 1 to 25.\n",
    "\n",
    "\"\"\"\n",
    "Answer:\n",
    "\n",
    "1. 'def' is used to create a function.\n",
    "2. Program to create a function to return a list of odd numbers:\n",
    "\"\"\"\n",
    "\n",
    "def odd_num_list(x,y):\n",
    "    \"\"\"\n",
    "    Function to return a list of odd numbers in a range.\n",
    "    \"\"\"\n",
    "    l1 = []\n",
    "    for i in range (x,y):\n",
    "        if i % 2 != 0:\n",
    "            l1.append(i)\n",
    "    return l1"
   ]
  },
  {
   "cell_type": "code",
   "execution_count": 2,
   "id": "b958965b-59a9-47ff-860f-2ab2623895c0",
   "metadata": {},
   "outputs": [
    {
     "data": {
      "text/plain": [
       "[1, 3, 5, 7, 9, 11, 13, 15, 17, 19, 21, 23]"
      ]
     },
     "execution_count": 2,
     "metadata": {},
     "output_type": "execute_result"
    }
   ],
   "source": [
    "odd_num_list(1,25)"
   ]
  },
  {
   "cell_type": "code",
   "execution_count": 10,
   "id": "3856bac6-493d-4747-9b8c-71c5051ae085",
   "metadata": {},
   "outputs": [
    {
     "name": "stdout",
     "output_type": "stream",
     "text": [
      "26\n",
      "45000\n"
     ]
    }
   ],
   "source": [
    "# Q2. Why *args and **kwargs is used in some functions? Create a function each for *args and **kwargs to demonstrate their use.\n",
    "\n",
    "\"\"\"\n",
    "Answer:\n",
    "1. '*args' are used to pass n number of arguments to a function.\n",
    "2. '**kwargs' are used to pass n number of key-value arguments to a function.\n",
    "\"\"\"\n",
    "# Program to create a function using *args\n",
    "\n",
    "def add(*args):\n",
    "    \"\"\"\n",
    "    Function to add numbers.\n",
    "    \"\"\"\n",
    "    x = 0\n",
    "    for i in args:\n",
    "        x = x + i\n",
    "    return x\n",
    "\n",
    "print(add(1,22,3))\n",
    "\n",
    "# Program to create a function using *kwargs\n",
    "\n",
    "def total_expense(**kwargs):\n",
    "    \"\"\"\n",
    "    Function to get total expense.\n",
    "    \"\"\"\n",
    "    x = 0\n",
    "    for k,v in kwargs.items():\n",
    "        x = x + v\n",
    "    return x\n",
    "\n",
    "print(total_expense(laptop = 20000, mobile = 10000, TV = 15000))"
   ]
  },
  {
   "cell_type": "code",
   "execution_count": 6,
   "id": "774583b5-b698-402c-aa30-e1c3518b3bc5",
   "metadata": {},
   "outputs": [
    {
     "name": "stdout",
     "output_type": "stream",
     "text": [
      "2\n",
      "4\n",
      "6\n",
      "8\n",
      "10\n"
     ]
    }
   ],
   "source": [
    "# Q3. What is an iterator in python? Name the method used to initialise the iterator object and the method\n",
    "# used for iteration. Use these methods to print the first five elements of the given list [2, 4, 6, 8, 10,\n",
    "# 12, 14, 16, 18, 20].\n",
    "\n",
    "\"\"\"\n",
    "Answer:\n",
    "\n",
    "1. An iterator is an object that can be used to iterate over elements of iterable data types like string, list, tuple, dictionary and sets.\n",
    "2. 'iter()' is the method used to initialise the iterator object.\n",
    "3. 'next()' is the method used for iteration.\n",
    "4. Program to print the first five elements of the given list [2, 4, 6, 8, 10, 12, 14, 16, 18, 20]:\n",
    "\"\"\"\n",
    "\n",
    "l1 = [2, 4, 6, 8, 10, 12, 14, 16, 18, 20]\n",
    "\n",
    "l2 = iter(l1)\n",
    "\n",
    "print(next(l2))\n",
    "print(next(l2))\n",
    "print(next(l2))\n",
    "print(next(l2))\n",
    "print(next(l2))\n"
   ]
  },
  {
   "cell_type": "code",
   "execution_count": 7,
   "id": "6f62c4e4-44a0-473b-a230-a2f1fb432515",
   "metadata": {},
   "outputs": [
    {
     "name": "stdout",
     "output_type": "stream",
     "text": [
      "<class 'generator'>\n",
      "<class 'generator'>\n",
      "[0, 1, 2, 3, 4, 5, 6, 7, 8, 9]\n"
     ]
    }
   ],
   "source": [
    "# Q4. What is a generator function in python? Why yield keyword is used? Give an example of a generator function.\n",
    "\n",
    "\"\"\"\n",
    "Answer:\n",
    "\n",
    "1. A generator function is a function that returns an iterator object with a sequence of values. The values are generated using 'yield' rather than\n",
    "'return' keyword.\n",
    "2. The 'yield' keyword is used to create a generator function that is memory efficient.\n",
    "3. Example program using a generator function:\n",
    "\"\"\"\n",
    "\n",
    "def print_list_num(x):\n",
    "    for i in range(x):\n",
    "        yield i\n",
    "\n",
    "num_list = print_list_num(10)\n",
    "\n",
    "print(type(num_list))\n",
    "print(type(print_list_num(10)))\n",
    "print(list(num_list))"
   ]
  },
  {
   "cell_type": "code",
   "execution_count": 11,
   "id": "dba760a0-d657-4f4f-a4d7-93e4e06ed51d",
   "metadata": {},
   "outputs": [
    {
     "name": "stdout",
     "output_type": "stream",
     "text": [
      "The first 20 prime numbers are:\n",
      "2\n",
      "3\n",
      "5\n",
      "7\n",
      "11\n",
      "13\n",
      "17\n",
      "19\n",
      "23\n",
      "29\n",
      "31\n",
      "37\n",
      "41\n",
      "43\n",
      "47\n",
      "53\n",
      "59\n",
      "61\n",
      "67\n",
      "71\n"
     ]
    }
   ],
   "source": [
    "# Q5. Create a generator function for prime numbers less than 1000. Use the next() method to print the first 20 prime numbers.\n",
    "\n",
    "# Program to create a generator function for prime numbers less than 1000 and print the first 20 prime numbers.\n",
    "\n",
    "def prime_num(x):\n",
    "    \"\"\"\n",
    "    Generator function to generate prime numbers in given input range\n",
    "    \"\"\"\n",
    "    for i in range(2,x):\n",
    "        for j in range(2,i):\n",
    "            if i % j == 0:\n",
    "                break\n",
    "        else:\n",
    "            yield i\n",
    "\n",
    "# Using the generator function to generate prime numbers less than 1000.     \n",
    "prime_num_1 = prime_num(1000)\n",
    "\n",
    "# Printing the first 20 prime numbers \n",
    "print(\"The first 20 prime numbers are:\")\n",
    "for i in range(20):\n",
    "    print(next(prime_num_1))"
   ]
  },
  {
   "cell_type": "code",
   "execution_count": 25,
   "id": "0e31131e-ea2f-4b21-aef6-f460fc80f3a7",
   "metadata": {},
   "outputs": [
    {
     "name": "stdout",
     "output_type": "stream",
     "text": [
      "The first 10 Fibonacci numbers are:\n",
      "0\n",
      "1\n",
      "1\n",
      "2\n",
      "3\n",
      "5\n",
      "8\n",
      "13\n",
      "21\n",
      "34\n"
     ]
    }
   ],
   "source": [
    "# Q6. Write a python program to print the first 10 Fibonacci numbers using a while loop.\n",
    "\n",
    "# Program to print the first 10 Fibonacci numbers using a while loop\n",
    "a,b = 0,1\n",
    "count = 1\n",
    "print(\"The first 10 Fibonacci numbers are:\")\n",
    "while count <= 10:\n",
    "    print (a)\n",
    "    a,b = b, a+b\n",
    "    count += 1"
   ]
  },
  {
   "cell_type": "code",
   "execution_count": 18,
   "id": "cbaee303-ff70-4b6c-8e52-5068acef58d7",
   "metadata": {},
   "outputs": [
    {
     "name": "stdout",
     "output_type": "stream",
     "text": [
      "['p', 'w', 's', 'k', 'i', 'l', 'l', 's']\n"
     ]
    }
   ],
   "source": [
    "# Q7. Write a List Comprehension to iterate through the given string: ‘pwskills’. Expected output: ['p', 'w', 's', 'k', 'i', 'l', 'l', 's']\n",
    "\n",
    "# Program to store elements of string in a list using list comprehension\n",
    "s = \"pwskills\"\n",
    "\n",
    "l = [i for i in s]\n",
    "\n",
    "print(l)"
   ]
  },
  {
   "cell_type": "code",
   "execution_count": 24,
   "id": "4048f549-3f95-44ee-8e68-5f1133a68870",
   "metadata": {},
   "outputs": [
    {
     "name": "stdin",
     "output_type": "stream",
     "text": [
      "Enter your desired number:  11211\n"
     ]
    },
    {
     "name": "stdout",
     "output_type": "stream",
     "text": [
      "The number 11211 is a palindrome\n"
     ]
    }
   ],
   "source": [
    "# Q8. Write a python program to check whether a given number is Palindrome or not using a while loop.\n",
    "\n",
    "# Program to check whether a given number is Palindrome or not using a while loop\n",
    "\n",
    "num1 = int(input(\"Enter your desired number: \"))\n",
    "\n",
    "num2 = num1\n",
    "reverse = 0\n",
    "\n",
    "while num2 > 0:\n",
    "    remainder = num2 % 10\n",
    "    reverse = (reverse * 10) + remainder\n",
    "    num2 = num2 // 10\n",
    "\n",
    "if num1 == reverse:\n",
    "    print(f\"The number {num1} is a palindrome\")\n",
    "else:\n",
    "    print(f\"The number {num1} is not a palindrome\")\n",
    "\n",
    "    "
   ]
  },
  {
   "cell_type": "code",
   "execution_count": 13,
   "id": "6011b5be-c546-4007-bccf-39b9a15221e2",
   "metadata": {},
   "outputs": [
    {
     "name": "stdout",
     "output_type": "stream",
     "text": [
      "List 1:  [1, 2, 3, 4, 5, 6, 7, 8, 9, 10, 11, 12, 13, 14, 15, 16, 17, 18, 19, 20, 21, 22, 23, 24, 25, 26, 27, 28, 29, 30, 31, 32, 33, 34, 35, 36, 37, 38, 39, 40, 41, 42, 43, 44, 45, 46, 47, 48, 49, 50, 51, 52, 53, 54, 55, 56, 57, 58, 59, 60, 61, 62, 63, 64, 65, 66, 67, 68, 69, 70, 71, 72, 73, 74, 75, 76, 77, 78, 79, 80, 81, 82, 83, 84, 85, 86, 87, 88, 89, 90, 91, 92, 93, 94, 95, 96, 97, 98, 99, 100] \n",
      "\n",
      "List 2:  [1, 3, 5, 7, 9, 11, 13, 15, 17, 19, 21, 23, 25, 27, 29, 31, 33, 35, 37, 39, 41, 43, 45, 47, 49, 51, 53, 55, 57, 59, 61, 63, 65, 67, 69, 71, 73, 75, 77, 79, 81, 83, 85, 87, 89, 91, 93, 95, 97, 99]\n"
     ]
    }
   ],
   "source": [
    "\"\"\"\n",
    "Q9. Write a code to print odd numbers from 1 to 100 using list comprehension.\n",
    "Note: Use a list comprehension to create a list from 1 to 100 and use another List comprehension to filter out odd numbers.\n",
    "\"\"\"\n",
    "\n",
    "# Program to print numbers from 1 to 100 using list comprehension\n",
    "l1 = [i for i in range(1, 101)]\n",
    "print(\"List 1: \", l1, \"\\n\")\n",
    "\n",
    "# Program to print odd numbers from 1 to 100 using list comprehension\n",
    "l2 = [i for i in l1 if i % 2 != 0]\n",
    "\n",
    "print(\"List 2: \", l2)"
   ]
  }
 ],
 "metadata": {
  "kernelspec": {
   "display_name": "Python 3 (ipykernel)",
   "language": "python",
   "name": "python3"
  },
  "language_info": {
   "codemirror_mode": {
    "name": "ipython",
    "version": 3
   },
   "file_extension": ".py",
   "mimetype": "text/x-python",
   "name": "python",
   "nbconvert_exporter": "python",
   "pygments_lexer": "ipython3",
   "version": "3.10.8"
  }
 },
 "nbformat": 4,
 "nbformat_minor": 5
}
