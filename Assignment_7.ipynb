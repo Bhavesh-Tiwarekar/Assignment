{
 "cells": [
  {
   "cell_type": "markdown",
   "id": "193ec4c5-5b0b-4519-a194-ef6840bc5705",
   "metadata": {},
   "source": [
    "##### Q1. Create a vehicle class with an init method having instance variables as name_of_vehicle, max_speed and average_of_vehicle."
   ]
  },
  {
   "cell_type": "code",
   "execution_count": 9,
   "id": "dd7c9db1-1039-443e-9bf8-8f69df51b111",
   "metadata": {},
   "outputs": [],
   "source": [
    "# Program to create vehicle class with instance variables as name_of_vehicle, max_speed and average_of_vehicle\n",
    "\n",
    "class vehicle:\n",
    "    \n",
    "    def __init__(self, name_of_vehicle, max_speed, average_of_vehicle):\n",
    "        self.name_of_vehicle = name_of_vehicle\n",
    "        self.max_speed = max_speed\n",
    "        self.average_of_vehicle = average_of_vehicle\n",
    "    \n",
    "    def vehicle_info(self):\n",
    "        print (f\"Vehicle name: {self.name_of_vehicle}\")\n",
    "        print (f\"Max speed: {self.max_speed}\")\n",
    "        print (f\"Average of vehicle: {self.average_of_vehicle}\")"
   ]
  },
  {
   "cell_type": "markdown",
   "id": "4fcd7f45-bfc1-4bc9-af19-7a57fd372997",
   "metadata": {},
   "source": [
    "##### Q2. Create a child class car from the vehicle class created in Que 1, which will inherit the vehicle class. Create a method named seating_capacity which takes capacity as an argument and returns the name of the vehicle and its seating capacity."
   ]
  },
  {
   "cell_type": "code",
   "execution_count": 11,
   "id": "f02418b5-f367-4913-b3e1-c607de40a7ab",
   "metadata": {},
   "outputs": [
    {
     "name": "stdout",
     "output_type": "stream",
     "text": [
      "Vehicle name: Maruti\n",
      "Max speed: 200\n",
      "Average of vehicle: 80\n",
      "None\n",
      "Vehicle name: Maruti, Seating capacity: 5\n"
     ]
    }
   ],
   "source": [
    "class car(vehicle):\n",
    "    \n",
    "    def seating_capacity(self, capacity):\n",
    "        return f\"Vehicle name: {self.name_of_vehicle}, Seating capacity: {capacity}\"\n",
    "    \n",
    "c1 = car(\"Maruti\", 200, 80)\n",
    "print(c1.vehicle_info())\n",
    "print(c1.seating_capacity(5))"
   ]
  },
  {
   "cell_type": "markdown",
   "id": "1590ec5d-6b18-40ad-92a0-65440c53ebb0",
   "metadata": {},
   "source": [
    "##### Q3. What is multiple inheritance? Write a python code to demonstrate multiple inheritance.\n"
   ]
  },
  {
   "cell_type": "code",
   "execution_count": 3,
   "id": "5dbc31ac-718a-4460-ab71-9623f9bf1e32",
   "metadata": {},
   "outputs": [
    {
     "name": "stdout",
     "output_type": "stream",
     "text": [
      "This result is from parent_1 class\n",
      "This result is from parent_2 class\n"
     ]
    }
   ],
   "source": [
    "\"\"\"\n",
    "Answer: \n",
    "\n",
    "1.  Multiple inheritance is the property where a child class inherits the methods and properties of multiple parent classes.\n",
    "\"\"\"\n",
    "# Program to demonstrate Multiple inheritance: \n",
    "\n",
    "class parent_1:\n",
    "    \n",
    "    def test_1(self):\n",
    "        return \"This result is from parent_1 class\"\n",
    "    \n",
    "class parent_2:\n",
    "    \n",
    "    def test_2(self):\n",
    "        return \"This result is from parent_2 class\"\n",
    "\n",
    "class child_1(parent_1, parent_2):\n",
    "    pass\n",
    "\n",
    "obj_child_1 = child_1()\n",
    "print(obj_child_1.test_1())\n",
    "print(obj_child_1.test_2())"
   ]
  },
  {
   "cell_type": "markdown",
   "id": "fcd9d460-7f64-4446-9a6f-5c36c94d42f9",
   "metadata": {},
   "source": [
    "##### Q4. What are getter and setter in python? Create a class and create a getter and a setter method in this class.\n"
   ]
  },
  {
   "cell_type": "code",
   "execution_count": 1,
   "id": "d731e5a9-28d7-42fa-9fc9-bc974b373187",
   "metadata": {},
   "outputs": [
    {
     "name": "stdout",
     "output_type": "stream",
     "text": [
      "2018\n",
      "2020\n"
     ]
    },
    {
     "data": {
      "text/plain": [
       "\"\\nIn the above code, the class 'year_graduated' is created and the protected attribute 'year' is accessed using \\nthe '@property' method. Thus the code displays the getter and setter method using the @property method.\\n\""
      ]
     },
     "execution_count": 1,
     "metadata": {},
     "output_type": "execute_result"
    }
   ],
   "source": [
    "\"\"\"\n",
    "Answer:\n",
    "\n",
    "1. Getter is a method that allows the user to access an attribute in a given class.\n",
    "2. Setter is a method that allows the user to set or mutate the value of an attribute in a class.\n",
    "\"\"\"\n",
    "\n",
    "# Program to demonstrate the use of getter and setter method\n",
    "\n",
    "class year_graduated:\n",
    "    \n",
    "    def __init__(self, name, year):\n",
    "        self.name = name\n",
    "        self.__year = year\n",
    "    \n",
    "    @property\n",
    "    def access_year(self):\n",
    "        return self.__year\n",
    "    \n",
    "    @access_year.setter\n",
    "    def set_year(self, new_year):\n",
    "        self.__year = new_year\n",
    "        \n",
    "stud_obj1 = year_graduated(\"BT\", 2018)\n",
    "print(f\"{stud_obj1.access_year}\")\n",
    "\n",
    "stud_obj1.set_year = 2020\n",
    "print(f\"{stud_obj1.access_year}\")\n",
    "\n",
    "\n",
    "\"\"\"\n",
    "In the above code, the class 'year_graduated' is created and the protected attribute 'year' is accessed using \n",
    "the '@property' method. Thus the code displays the getter and setter method using the @property method.\n",
    "\"\"\""
   ]
  },
  {
   "cell_type": "markdown",
   "id": "c57adbd0-f6bf-403d-9c9e-0c15f7a23cc2",
   "metadata": {},
   "source": [
    "##### Q5.What is method overriding in python? Write a python code to demonstrate method overriding."
   ]
  },
  {
   "cell_type": "code",
   "execution_count": 5,
   "id": "d858a702-0ac3-48a7-971e-29a32de1c78c",
   "metadata": {},
   "outputs": [
    {
     "name": "stdout",
     "output_type": "stream",
     "text": [
      "I have 4 sides. I am from 'square' class\n"
     ]
    }
   ],
   "source": [
    "\"\"\"\n",
    "Answer:\n",
    "\n",
    "1. Method overriding in python is a concept that allows the user to change the implementation of a function in the child \n",
    "class that is defined in the parent class.\n",
    "2. To use method overriding there must be a child class that will inherit the methods from parent class. The method must have\n",
    "same number of parameters as in the parent class.\n",
    "3. Python code to demonstrate method overriding:\n",
    "\"\"\"\n",
    "class shape:\n",
    "    \n",
    "    def no_of_sides(self):\n",
    "        print(\"My sides need to be defined. I am from 'shape' class\")\n",
    "\n",
    "class square(shape):\n",
    "    \n",
    "    def no_of_sides(self):\n",
    "        print(\"I have 4 sides. I am from 'square' class\")\n",
    "\n",
    "# Creating object of 'square' class\n",
    "sq1 = square()\n",
    "\n",
    "# Override the 'no_of_sides' of parent class\n",
    "sq1.no_of_sides()"
   ]
  },
  {
   "cell_type": "code",
   "execution_count": null,
   "id": "c7200de8-7e8f-4159-9b23-592c511b6662",
   "metadata": {},
   "outputs": [],
   "source": []
  }
 ],
 "metadata": {
  "kernelspec": {
   "display_name": "Python 3 (ipykernel)",
   "language": "python",
   "name": "python3"
  },
  "language_info": {
   "codemirror_mode": {
    "name": "ipython",
    "version": 3
   },
   "file_extension": ".py",
   "mimetype": "text/x-python",
   "name": "python",
   "nbconvert_exporter": "python",
   "pygments_lexer": "ipython3",
   "version": "3.10.8"
  }
 },
 "nbformat": 4,
 "nbformat_minor": 5
}
