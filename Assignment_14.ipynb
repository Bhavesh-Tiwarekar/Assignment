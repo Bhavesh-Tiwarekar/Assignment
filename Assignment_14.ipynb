{
 "cells": [
  {
   "cell_type": "markdown",
   "id": "764ae03c-cc63-49d9-ad6b-9984844a8c07",
   "metadata": {},
   "source": [
    "#### Q1. What is an API? Give an example, where an API is used in real life."
   ]
  },
  {
   "cell_type": "code",
   "execution_count": 1,
   "id": "9c3f7a65-c662-4e66-8b5d-a40b34af77fc",
   "metadata": {},
   "outputs": [
    {
     "data": {
      "text/plain": [
       "\"\\nAnswer:\\n\\n1. API is an acronym for Application Programming Interface is a set of protocols that allow communication between applications and softwares.\\n2. It provides a standardized interface for interation and exchane data.\\n3. Example:\\n    Third party payment processing-\\n        a. When the user click on the purchase link on an ecommerce website, he is prompted to select a third party payment gateway \\n        and proceed for payment. This finction uses APIs to make the connection.\\n        b. The ecommerce site then send a request to the payment gateway's API including details such as total purchase amount, card details, etc.\\n        c. The payment gateway's API receives the request and performs verification checks and processes the payment. \\n        d. The API then sends a response to the ecommerce site indicating whether the payment was successful or not.\\n        e. Necessary action is then performed by the ecommerce site based on the payment gateway's response.\\n\""
      ]
     },
     "execution_count": 1,
     "metadata": {},
     "output_type": "execute_result"
    }
   ],
   "source": [
    "\"\"\"\n",
    "Answer:\n",
    "\n",
    "1. API is an acronym for Application Programming Interface is a set of protocols that allow communication between applications and softwares.\n",
    "2. It provides a standardized interface for interation and exchane data.\n",
    "3. Example:\n",
    "    Third party payment processing-\n",
    "        a. When the user click on the purchase link on an ecommerce website, he is prompted to select a third party payment gateway \n",
    "        and proceed for payment. This finction uses APIs to make the connection.\n",
    "        b. The ecommerce site then send a request to the payment gateway's API including details such as total purchase amount, card details, etc.\n",
    "        c. The payment gateway's API receives the request and performs verification checks and processes the payment. \n",
    "        d. The API then sends a response to the ecommerce site indicating whether the payment was successful or not.\n",
    "        e. Necessary action is then performed by the ecommerce site based on the payment gateway's response.\n",
    "\"\"\""
   ]
  },
  {
   "cell_type": "markdown",
   "id": "4e4f4fc0-ece5-4401-bcb0-fed11048b68a",
   "metadata": {},
   "source": [
    "#### Q2. Give advantages and disadvantages of using API."
   ]
  },
  {
   "cell_type": "code",
   "execution_count": 2,
   "id": "32b9d85f-ef40-48a9-974e-b4b90cb306fd",
   "metadata": {},
   "outputs": [
    {
     "data": {
      "text/plain": [
       "\"\\nAnswer:\\na. Advantages of API:\\n1. It allows developers to reuse code from existing systems and platforms.\\n2. The API's standardized interface allow efficient interation between applications.\\n3. It enables business to scale their operations by adding and modufying components without disrupting existing functionality.\\n\\nb. Disadvantages of API:\\n1. Dependency on external third party API's can cause downtime issues and impact functionality.\\n2. If proper security measures are not implemented then it may lead to potential security concerns.\\n3. As the APIs evolve, backward compatibility no not always guaranteed and require updates to accommodate changes. \\n\""
      ]
     },
     "execution_count": 2,
     "metadata": {},
     "output_type": "execute_result"
    }
   ],
   "source": [
    "\"\"\"\n",
    "Answer:\n",
    "a. Advantages of API:\n",
    "1. It allows developers to reuse code from existing systems and platforms.\n",
    "2. The API's standardized interface allow efficient interation between applications.\n",
    "3. It enables business to scale their operations by adding and modufying components without disrupting existing functionality.\n",
    "\n",
    "b. Disadvantages of API:\n",
    "1. Dependency on external third party API's can cause downtime issues and impact functionality.\n",
    "2. If proper security measures are not implemented then it may lead to potential security concerns.\n",
    "3. As the APIs evolve, backward compatibility no not always guaranteed and require updates to accommodate changes. \n",
    "\"\"\""
   ]
  },
  {
   "cell_type": "markdown",
   "id": "f29b5893-b922-44d5-bdd0-14fcfdc0c762",
   "metadata": {},
   "source": [
    "#### Q3. What is a Web API? Differentiate between API and Web API."
   ]
  },
  {
   "cell_type": "code",
   "execution_count": 3,
   "id": "ff291699-85b2-4ce9-8572-47a53be46f2d",
   "metadata": {},
   "outputs": [
    {
     "data": {
      "text/plain": [
       "\"\\nAnswer:\\n\\n1. Web API is an API for web based applications. It allows for software systems to interact over internet using 'HTTP' protocol.\\n2. Difference between API and Web API:\\n    a. API is a generic term used that refers to a set of protocols that define how softwares interact with each other.\\n    b. Web API is specific type of API designed for web based applications.\\n    c. APIs can use communication protocols such as HTTP, TCP/IP, etc whie Web API uses HTTP.\\n    d. APIs support different data formats such as JSON, XML, etc for request and response methods while Web API commonly use JSON or XML.\\n\""
      ]
     },
     "execution_count": 3,
     "metadata": {},
     "output_type": "execute_result"
    }
   ],
   "source": [
    "\"\"\"\n",
    "Answer:\n",
    "\n",
    "1. Web API is an API for web based applications. It allows for software systems to interact over internet using 'HTTP' protocol.\n",
    "2. Difference between API and Web API:\n",
    "    a. API is a generic term used that refers to a set of protocols that define how softwares interact with each other.\n",
    "    b. Web API is specific type of API designed for web based applications.\n",
    "    c. APIs can use communication protocols such as HTTP, TCP/IP, etc whie Web API uses HTTP.\n",
    "    d. APIs support different data formats such as JSON, XML, etc for request and response methods while Web API commonly use JSON or XML.\n",
    "\"\"\""
   ]
  },
  {
   "cell_type": "markdown",
   "id": "7ff47e24-59ff-40a3-a918-33caa7599408",
   "metadata": {},
   "source": [
    "#### Q4. Explain REST and SOAP Architecture. Mention shortcomings of SOAP."
   ]
  },
  {
   "cell_type": "code",
   "execution_count": 1,
   "id": "ad6b81a8-0f7d-4358-9e9d-890479871a30",
   "metadata": {},
   "outputs": [
    {
     "data": {
      "text/plain": [
       "'\\nAnswer:\\n\\na. REST Architecture:\\n1. REST stands for Representational State Transfer. This architectural style defines a set of rules to be used for creating web services.\\n2. Interaction in REST based system happens through HTTP.\\n3. This architectural style style defines six constraints:\\n    i.   Uniform Interface: RESTful APIs have a standardized set of operations and formats for communication.\\n    ii.  Client-server separation: The implementation of the client and the implementation of the server can be done independently.\\n    iii. Stateless: The server does not store any client-specific information between requests.\\n    iv.  Layered system: A REST API can consist of multiple layers, eg., business logic, presentation, data access. \\n    v.   Cacheable: Caching the data that updates rarely improves performance and eliminates redundant client-server interactions.\\n    vi.  Code on Demand (optional): REST also allows client functionality to extend by downloading and executing code in the form of scripts.\\n    \\nb. SOAP Architecture:\\n1. SOAP stands for Simple Object Access Protocol which is a network platform used in a web service to communicate data between two \\ndifferent machines in a network.\\n2. It uses the XML data format to transfer message over HTTP protocol.\\n3. SOAP can be used over different protocols such as HTTP, SMTP, etc making it flexible in terms of data transport.\\n4. It allows for the definition and inclusion of additional functionality and security measuresthrough the use of WS-extensions.\\n\\nc. Shortcomings of SOAP:\\n1. SOAP relies on XML which is more verbise and less efficient as compared to lightweight formats like JSON.\\n2. It lacks Caching which indeed reduces performance.\\n3. SOAP messages tend to be larger in size and slower in transmission, resulting in increased bandwidth usage and reduced performance.\\n4. It is less widely supported by various platforms and programming language as compared to protocols like REST.\\n'"
      ]
     },
     "execution_count": 1,
     "metadata": {},
     "output_type": "execute_result"
    }
   ],
   "source": [
    "\"\"\"\n",
    "Answer:\n",
    "\n",
    "a. REST Architecture:\n",
    "1. REST stands for Representational State Transfer. This architectural style defines a set of rules to be used for creating web services.\n",
    "2. Interaction in REST based system happens through HTTP.\n",
    "3. This architectural style style defines six constraints:\n",
    "    i.   Uniform Interface: RESTful APIs have a standardized set of operations and formats for communication.\n",
    "    ii.  Client-server separation: The implementation of the client and the implementation of the server can be done independently.\n",
    "    iii. Stateless: The server does not store any client-specific information between requests.\n",
    "    iv.  Layered system: A REST API can consist of multiple layers, eg., business logic, presentation, data access. \n",
    "    v.   Cacheable: Caching the data that updates rarely improves performance and eliminates redundant client-server interactions.\n",
    "    vi.  Code on Demand (optional): REST also allows client functionality to extend by downloading and executing code in the form of scripts.\n",
    "    \n",
    "b. SOAP Architecture:\n",
    "1. SOAP stands for Simple Object Access Protocol which is a network platform used in a web service to communicate data between two \n",
    "different machines in a network.\n",
    "2. It uses the XML data format to transfer message over HTTP protocol.\n",
    "3. SOAP can be used over different protocols such as HTTP, SMTP, etc making it flexible in terms of data transport.\n",
    "4. It allows for the definition and inclusion of additional functionality and security measuresthrough the use of WS-extensions.\n",
    "\n",
    "c. Shortcomings of SOAP:\n",
    "1. SOAP relies on XML which is more verbise and less efficient as compared to lightweight formats like JSON.\n",
    "2. It lacks Caching which indeed reduces performance.\n",
    "3. SOAP messages tend to be larger in size and slower in transmission, resulting in increased bandwidth usage and reduced performance.\n",
    "4. It is less widely supported by various platforms and programming language as compared to protocols like REST.\n",
    "\"\"\""
   ]
  },
  {
   "cell_type": "markdown",
   "id": "361899d8-943e-4663-b1fb-e6113c1eec94",
   "metadata": {},
   "source": [
    "#### Q5. Differentiate between REST and SOAP."
   ]
  },
  {
   "cell_type": "code",
   "execution_count": null,
   "id": "909db390-8d48-4d95-919e-e2f4ff72746c",
   "metadata": {},
   "outputs": [],
   "source": [
    "\"\"\"\n",
    "Answer:\n",
    "\n",
    "Difference between REST and SOAP is as follows:\n",
    "1. SOAP is an XML based messaging protocol while REST is an architectural style with principles such as statelessness, resource-oriented design \n",
    "and a uniform interface.\n",
    "2. SOAP need more bandwidth and resources for better web performance as compared to REST.\n",
    "3. RESTful APIs use the HTTP protocol for communication while SOAP can use protocols includinh HTTP, SMTP, etc.\n",
    "4. API calls can be cached in REST and not in SOAP.\n",
    "\"\"\""
   ]
  }
 ],
 "metadata": {
  "kernelspec": {
   "display_name": "Python 3 (ipykernel)",
   "language": "python",
   "name": "python3"
  },
  "language_info": {
   "codemirror_mode": {
    "name": "ipython",
    "version": 3
   },
   "file_extension": ".py",
   "mimetype": "text/x-python",
   "name": "python",
   "nbconvert_exporter": "python",
   "pygments_lexer": "ipython3",
   "version": "3.10.8"
  }
 },
 "nbformat": 4,
 "nbformat_minor": 5
}
