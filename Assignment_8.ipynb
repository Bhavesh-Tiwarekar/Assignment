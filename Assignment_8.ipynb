{
 "cells": [
  {
   "cell_type": "markdown",
   "id": "42a7dc14-a365-469a-a950-f00610346d37",
   "metadata": {},
   "source": [
    "#### Q1. What is exception in python? Write the difference between Exceptions and Syntax errors."
   ]
  },
  {
   "cell_type": "code",
   "execution_count": 1,
   "id": "96a8e778-adfd-4b76-b726-2d11ebd1492f",
   "metadata": {},
   "outputs": [
    {
     "data": {
      "text/plain": [
       "\"\\nAnswer:\\n\\n1. An exception is a type of error that occurs during the execution of a program.\\n2. It is typically caused by a problem that the program was not designed to handle. E.g. Missing a file.\\n3. Difference between Exceptions and Syntax errors:\\n   a. A syntax error occurs when the structure of the program does not follow the rules of the programming language (Example: Missing colon ':') \\n      while exceptions are abnormal events that occur during execution of program (Example: Dividing a number by Zero).\\n   b. Syntax errors preven the program from running while exceptions if handled properly can allow a program to execute.\\n\""
      ]
     },
     "execution_count": 1,
     "metadata": {},
     "output_type": "execute_result"
    }
   ],
   "source": [
    "\"\"\"\n",
    "Answer:\n",
    "\n",
    "1. An exception is a type of error that occurs during the execution of a program.\n",
    "2. It is typically caused by a problem that the program was not designed to handle. E.g. Missing a file.\n",
    "3. Difference between Exceptions and Syntax errors:\n",
    "   a. A syntax error occurs when the structure of the program does not follow the rules of the programming language (Example: Missing colon ':') \n",
    "      while exceptions are abnormal events that occur during execution of program (Example: Dividing a number by Zero).\n",
    "   b. Syntax errors preven the program from running while exceptions if handled properly can allow a program to execute.\n",
    "\"\"\""
   ]
  },
  {
   "cell_type": "markdown",
   "id": "746fb9ca-23cf-4384-b8c3-8834754cbc16",
   "metadata": {},
   "source": [
    "#### Q2. What happens when an exception is not handled? Explain with an example."
   ]
  },
  {
   "cell_type": "code",
   "execution_count": 7,
   "id": "d06fe21e-c58d-4d4d-bfbc-18e76ac219f4",
   "metadata": {},
   "outputs": [
    {
     "ename": "ZeroDivisionError",
     "evalue": "division by zero",
     "output_type": "error",
     "traceback": [
      "\u001b[0;31m---------------------------------------------------------------------------\u001b[0m",
      "\u001b[0;31mZeroDivisionError\u001b[0m                         Traceback (most recent call last)",
      "Cell \u001b[0;32mIn[7], line 16\u001b[0m\n\u001b[1;32m     13\u001b[0m num1 \u001b[38;5;241m=\u001b[39m \u001b[38;5;241m10\u001b[39m\n\u001b[1;32m     14\u001b[0m num2 \u001b[38;5;241m=\u001b[39m \u001b[38;5;241m0\u001b[39m\n\u001b[0;32m---> 16\u001b[0m \u001b[43mdivide_numbers\u001b[49m\u001b[43m(\u001b[49m\u001b[43mnum1\u001b[49m\u001b[43m,\u001b[49m\u001b[43mnum2\u001b[49m\u001b[43m)\u001b[49m\n\u001b[1;32m     18\u001b[0m \u001b[38;5;124;03m\"\"\"\u001b[39;00m\n\u001b[1;32m     19\u001b[0m \u001b[38;5;124;03mIn the above example the function 'divide_numbers()' takes two numbers as arguments and return their\u001b[39;00m\n\u001b[1;32m     20\u001b[0m \u001b[38;5;124;03mdivision. However, as we are dividing 10 by 0 we got the 'ZeroDivisionError' exception.\u001b[39;00m\n\u001b[1;32m     21\u001b[0m \u001b[38;5;124;03mAs this exception was not handled by try-except block the program will terminate at the point of error and\u001b[39;00m\n\u001b[1;32m     22\u001b[0m \u001b[38;5;124;03mdisplay a traceback an output window below.\u001b[39;00m\n\u001b[1;32m     23\u001b[0m \u001b[38;5;124;03m\"\"\"\u001b[39;00m\n",
      "Cell \u001b[0;32mIn[7], line 10\u001b[0m, in \u001b[0;36mdivide_numbers\u001b[0;34m(x, y)\u001b[0m\n\u001b[1;32m      9\u001b[0m \u001b[38;5;28;01mdef\u001b[39;00m \u001b[38;5;21mdivide_numbers\u001b[39m(x,y):\n\u001b[0;32m---> 10\u001b[0m     result \u001b[38;5;241m=\u001b[39m \u001b[43mx\u001b[49m\u001b[38;5;241;43m/\u001b[39;49m\u001b[43my\u001b[49m\n\u001b[1;32m     11\u001b[0m     \u001b[38;5;28;01mreturn\u001b[39;00m result\n",
      "\u001b[0;31mZeroDivisionError\u001b[0m: division by zero"
     ]
    }
   ],
   "source": [
    "\"\"\"\n",
    "Answer:\n",
    "\n",
    "1. When an exception is not handled then it results in the termination of the program's execution and \n",
    "   an error message is displayed indicating the type of exception that has occured.\n",
    "2. Example:\n",
    "\"\"\"\n",
    "\n",
    "def divide_numbers(x,y):\n",
    "    result = x/y\n",
    "    return result\n",
    "\n",
    "num1 = 10\n",
    "num2 = 0\n",
    "\n",
    "divide_numbers(num1,num2)\n",
    "\n",
    "\"\"\"\n",
    "In the above example the function 'divide_numbers()' takes two numbers as arguments and return their\n",
    "division. However, as we are dividing 10 by 0 we got the 'ZeroDivisionError' exception.\n",
    "As this exception was not handled by try-except block the program will terminate at the point of error and\n",
    "display a traceback an output window below.\n",
    "\"\"\"\n"
   ]
  },
  {
   "cell_type": "markdown",
   "id": "ee075518-4919-4529-973b-1eea0141d923",
   "metadata": {},
   "source": [
    "#### Q3. Which Python statements are used to catch and handle exceptions? Explain with an example."
   ]
  },
  {
   "cell_type": "code",
   "execution_count": 11,
   "id": "2839da99-d745-4b36-8b5e-a4425cb81342",
   "metadata": {},
   "outputs": [
    {
     "name": "stdout",
     "output_type": "stream",
     "text": [
      "Could not open 'file.txt'\n"
     ]
    },
    {
     "data": {
      "text/plain": [
       "\"\\nIn the above example, the 'try' block is used to attempt reading the file. If an error occurs in the 'try' block then the 'except' block\\ngets executed.\\n\""
      ]
     },
     "execution_count": 11,
     "metadata": {},
     "output_type": "execute_result"
    }
   ],
   "source": [
    "\"\"\"\n",
    "Answer:\n",
    "\n",
    "1. The 'try and except' statement is used to catch and handle exceptions.\n",
    "2. Example:\n",
    "\"\"\"\n",
    "try:\n",
    "    with open(\"file.txt\") as f:\n",
    "        read_data = f.read()\n",
    "except:\n",
    "    print(\"Could not open 'file.txt'\")\n",
    "    \n",
    "\"\"\"\n",
    "In the above example, the 'try' block is used to attempt reading the file. If an error occurs in the 'try' block then the 'except' block\n",
    "gets executed.\n",
    "\"\"\""
   ]
  },
  {
   "cell_type": "markdown",
   "id": "9f80aa65-98f9-49ea-b773-869fab2f78c8",
   "metadata": {},
   "source": [
    "#### Q4. Explain with an example:\n",
    "####     a. try and else\n",
    "####     b. finally\n",
    "####     c. raise"
   ]
  },
  {
   "cell_type": "code",
   "execution_count": 6,
   "id": "818cbacb-f861-4981-85db-9d13f538663c",
   "metadata": {},
   "outputs": [
    {
     "name": "stdout",
     "output_type": "stream",
     "text": [
      "Division by zero is not allowed\n",
      "Please examine your code.\n",
      "Cannot calculate square root of negative number\n"
     ]
    },
    {
     "data": {
      "text/plain": [
       "\"\\nIn the above example, the function 'calculate_square_root() take a number as argument and returns its square root. However, \\nif the number is negative then we raise a 'ValueError' exception with custom error message.\\n\""
      ]
     },
     "execution_count": 6,
     "metadata": {},
     "output_type": "execute_result"
    }
   ],
   "source": [
    "\"\"\"\n",
    "Answer:\n",
    "\n",
    "a. try and else:\n",
    "\"\"\"\n",
    "def divide_numbers(x,y):\n",
    "    try:\n",
    "        result = x/y\n",
    "    except ZeroDivisionError:\n",
    "        print(\"Division by zero is not allowed\")\n",
    "    else:\n",
    "        return result\n",
    "\n",
    "num1 = 10\n",
    "num2 = 2\n",
    "\n",
    "divide_numbers(num1,num2)\n",
    "\n",
    "\"\"\"\n",
    "In the above example, the function 'divide_numbers()' takes two numbers as arguments and attempts to divide them under 'try' block.\n",
    "If 'num2' would have been Zero then the exception would be caught by the 'except' block.\n",
    "As no exception was found, the 'else' block was executed.\n",
    "\n",
    "b. finally:\n",
    "\"\"\"\n",
    "try:\n",
    "    result = 10 / 0\n",
    "except ZeroDivisionError:\n",
    "    print(\"Division by zero is not allowed\")\n",
    "finally:\n",
    "    print(\"Please examine your code.\")\n",
    "\"\"\"\n",
    "In the above example, the division 10/0 raises a 'ZeroDivisionError' because of which the code inside the 'except' block gets executed.\n",
    "Regardless whether the exception occurs or not, the code in the 'finally' block always gets executed as can be observed in output window bellow.\n",
    "\n",
    "c. raise:\n",
    "\"\"\"\n",
    "def calculate_square_root(num):\n",
    "    if num < 0 :\n",
    "        raise ValueError(\"Cannot calculate square root of negative number\")\n",
    "    else:\n",
    "        return num**0.5\n",
    "    \n",
    "try:\n",
    "    result = calculate_square_root(-4)\n",
    "    print(f\"Square root is: {result}\")\n",
    "except ValueError as e:\n",
    "    print (e)\n",
    "\"\"\"\n",
    "In the above example, the function 'calculate_square_root() take a number as argument and returns its square root. However, \n",
    "if the number is negative then we raise a 'ValueError' exception with custom error message.\n",
    "\"\"\""
   ]
  },
  {
   "cell_type": "markdown",
   "id": "02f04ca0-6448-4200-8a71-c4ccfd8ae591",
   "metadata": {},
   "source": [
    "#### Q5. What are custom exceptions in Python? Why do we need custom exceptions? Explain with an example."
   ]
  },
  {
   "cell_type": "code",
   "execution_count": 11,
   "id": "75e6782b-51ab-4698-a376-6339f5468d11",
   "metadata": {},
   "outputs": [
    {
     "name": "stdin",
     "output_type": "stream",
     "text": [
      "Enter a number between positive integer:  -5\n"
     ]
    },
    {
     "name": "stdout",
     "output_type": "stream",
     "text": [
      "Please provide positive integer values only\n"
     ]
    },
    {
     "data": {
      "text/plain": [
       "\"\\nIn the above example, the class 'check_positive_int' is defined that is derived from the base 'Exception' class. The function \\n'validate_positive_int()' takes a number as argument and if the number is negative it raises 'check_positive_int' exception with custom message.\\nThe 'try' block helps to catch the exception and print the error message.\\n\""
      ]
     },
     "execution_count": 11,
     "metadata": {},
     "output_type": "execute_result"
    }
   ],
   "source": [
    "\"\"\"\n",
    "Answer:\n",
    "\n",
    "1. Custom exceptions in python are user-defined exceptions that are derived from base 'Exception' class. They allow programmers to\n",
    "create their own exceptional conditions and raise them when necessary.\n",
    "2. Custom exceptions allow the programer to define exceptions that are specific to desired application needs. The provide clarity\n",
    "to the code.\n",
    "3. Example:\n",
    "\"\"\"\n",
    "class check_positive_int(Exception):\n",
    "    def __init__(self, msg):\n",
    "        self.msg = msg\n",
    "\n",
    "def validate_positive_int(num):\n",
    "    if num < 0 :\n",
    "        raise check_positive_int(\"Please provide positive integer values only\")\n",
    "    else:\n",
    "        print(f\"Your input number is: {num}\")\n",
    "        \n",
    "try:\n",
    "    number = int(input(\"Enter a number between positive integer: \"))\n",
    "    validate_positive_int(number)\n",
    "except check_positive_int as e:\n",
    "    print(e)\n",
    "\"\"\"\n",
    "In the above example, the class 'check_positive_int' is defined that is derived from the base 'Exception' class. The function \n",
    "'validate_positive_int()' takes a number as argument and if the number is negative it raises 'check_positive_int' exception with custom message.\n",
    "The 'try' block helps to catch the exception and print the error message.\n",
    "\"\"\""
   ]
  },
  {
   "cell_type": "markdown",
   "id": "df023306-7114-4b87-94eb-9061c4b7bddb",
   "metadata": {},
   "source": [
    "#### Q6. Create a custom exception class. Use this class to handle an exception"
   ]
  },
  {
   "cell_type": "code",
   "execution_count": 2,
   "id": "80173e83-16d9-4813-9994-66b96a5a237e",
   "metadata": {},
   "outputs": [
    {
     "name": "stdout",
     "output_type": "stream",
     "text": [
      "Authentication failed. Please provide valid credentials.\n"
     ]
    },
    {
     "data": {
      "text/plain": [
       "\"\\nIn the above code, the class 'AuthenticationError' is defined that is derived from the 'Exception' base class.\\n\""
      ]
     },
     "execution_count": 2,
     "metadata": {},
     "output_type": "execute_result"
    }
   ],
   "source": [
    "# Program to create custom exception class and use it to handle an exception.\n",
    "\n",
    "class AuthenticationError(Exception):\n",
    "    def __init__(self, msg):\n",
    "        self.msg = msg\n",
    "        \n",
    "def authenticate_user(username, password):\n",
    "    if username != \"Admin\" or password != \"p@ssword\":\n",
    "        raise AuthenticationError(\"Authentication failed. Please provide valid credentials.\")\n",
    "    else:\n",
    "        print(\"Authentication successful.\")\n",
    "\n",
    "try:\n",
    "    authenticate_user(\"Admin\", \"password\")\n",
    "except AuthenticationError as e:\n",
    "    print(e)\n",
    "\n",
    "\"\"\"\n",
    "In the above code, the class 'AuthenticationError' is defined that is derived from the 'Exception' base class.\n",
    "\"\"\""
   ]
  },
  {
   "cell_type": "code",
   "execution_count": null,
   "id": "35885bc3-634d-4401-908f-a27045540f7c",
   "metadata": {},
   "outputs": [],
   "source": []
  }
 ],
 "metadata": {
  "kernelspec": {
   "display_name": "Python 3 (ipykernel)",
   "language": "python",
   "name": "python3"
  },
  "language_info": {
   "codemirror_mode": {
    "name": "ipython",
    "version": 3
   },
   "file_extension": ".py",
   "mimetype": "text/x-python",
   "name": "python",
   "nbconvert_exporter": "python",
   "pygments_lexer": "ipython3",
   "version": "3.10.8"
  }
 },
 "nbformat": 4,
 "nbformat_minor": 5
}
