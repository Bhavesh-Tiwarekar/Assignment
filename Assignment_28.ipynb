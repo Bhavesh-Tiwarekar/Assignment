{
 "cells": [
  {
   "cell_type": "markdown",
   "id": "e6fcf2a9-f1c3-42ea-af37-e992a6106ff1",
   "metadata": {},
   "source": [
    "##### Q1. What are the three measures of central tendency?"
   ]
  },
  {
   "cell_type": "code",
   "execution_count": 1,
   "id": "5b9be6d9-3e68-48ad-92e2-585f31c2db05",
   "metadata": {},
   "outputs": [
    {
     "data": {
      "text/plain": [
       "'\\nAnswer:\\n\\nMean, Median and Mode are the three measures of central tendency.\\n'"
      ]
     },
     "execution_count": 1,
     "metadata": {},
     "output_type": "execute_result"
    }
   ],
   "source": [
    "\"\"\"\n",
    "Answer:\n",
    "\n",
    "Mean, Median and Mode are the three measures of central tendency.\n",
    "\"\"\""
   ]
  },
  {
   "cell_type": "markdown",
   "id": "e18534e0-64b5-45b5-bc1a-a5effebc8f46",
   "metadata": {},
   "source": [
    "##### Q2. What is the difference between the mean, median, and mode? How are they used to measure the central tendency of a dataset?"
   ]
  },
  {
   "cell_type": "code",
   "execution_count": 2,
   "id": "7ea712f1-402e-42a3-9af7-10df23105671",
   "metadata": {},
   "outputs": [
    {
     "data": {
      "text/plain": [
       "\"\\nAnswer:\\n\\na. Mean:\\n   1. The mean is calculated by summing up all the values in a dataset and then dividing by the total number of values.\\n   2. It is sensitive to outliers.\\nb. Median:\\n   1. The median is the middle value of a dataset when it's ordered from smallest to largest.\\n   2. If there is an even number of values, the median is the average of the two middle values.\\n   3. The median is less affected by extreme outliers compared to the mean, making it useful for datasets with skewed distributions.\\nc. Mode:\\n   1. The mode is the value that appears most frequently in a dataset.\\n   2. It's often used with categorical or discrete data, such as finding the most popular car model in a survey.\\n\""
      ]
     },
     "execution_count": 2,
     "metadata": {},
     "output_type": "execute_result"
    }
   ],
   "source": [
    "\"\"\"\n",
    "Answer:\n",
    "\n",
    "a. Mean:\n",
    "   1. The mean is calculated by summing up all the values in a dataset and then dividing by the total number of values.\n",
    "   2. It is sensitive to outliers.\n",
    "b. Median:\n",
    "   1. The median is the middle value of a dataset when it's ordered from smallest to largest.\n",
    "   2. If there is an even number of values, the median is the average of the two middle values.\n",
    "   3. The median is less affected by extreme outliers compared to the mean, making it useful for datasets with skewed distributions.\n",
    "c. Mode:\n",
    "   1. The mode is the value that appears most frequently in a dataset.\n",
    "   2. It's often used with categorical or discrete data, such as finding the most popular car model in a survey.\n",
    "\"\"\""
   ]
  },
  {
   "cell_type": "markdown",
   "id": "0a16dfee-c44a-44fb-b507-818b773b56f0",
   "metadata": {},
   "source": [
    "##### Q3. Measure the three measures of central tendency for the given height data:\n",
    "##### [178,177,176,177,178.2,178,175,179,180,175,178.9,176.2,177,172.5,178,176.5]"
   ]
  },
  {
   "cell_type": "code",
   "execution_count": 16,
   "id": "4bb884d2-c6a0-4051-972c-cb8d4bcda823",
   "metadata": {},
   "outputs": [
    {
     "name": "stdout",
     "output_type": "stream",
     "text": [
      "Mean = 177.01875\n",
      "Median = 177.0\n",
      "Mode = 178\n"
     ]
    }
   ],
   "source": [
    "## Program to measure the three measures of central tendency for the given height data.\n",
    "\n",
    "data = [178,177,176,177,178.2,178,175,179,180,175,178.9,176.2,177,172.5,178,176.5]\n",
    "\n",
    "import numpy as np\n",
    "\n",
    "import statistics\n",
    "\n",
    "mean = np.mean(data)\n",
    "print(f\"Mean = {mean}\")\n",
    "\n",
    "median = np.median(data)\n",
    "print(f\"Median = {median}\")\n",
    "\n",
    "mode = statistics.mode(data)\n",
    "print(f\"Mode = {mode}\")"
   ]
  },
  {
   "cell_type": "markdown",
   "id": "57b31491-a111-4f9a-9368-68963f7680d6",
   "metadata": {},
   "source": [
    "##### Q4. Find the standard deviation for the given data:\n",
    "##### [178,177,176,177,178.2,178,175,179,180,175,178.9,176.2,177,172.5,178,176.5]"
   ]
  },
  {
   "cell_type": "code",
   "execution_count": 18,
   "id": "4a532a8f-f91f-4748-849a-252c78d496b9",
   "metadata": {},
   "outputs": [
    {
     "name": "stdout",
     "output_type": "stream",
     "text": [
      "Standard deviation = 1.7885814036548633\n"
     ]
    }
   ],
   "source": [
    "## Program to find the standard deviation for the given data.\n",
    "\n",
    "data = [178,177,176,177,178.2,178,175,179,180,175,178.9,176.2,177,172.5,178,176.5]\n",
    "\n",
    "import numpy as np\n",
    "\n",
    "std = np.std(data)\n",
    "print(f\"Standard deviation = {std}\")"
   ]
  },
  {
   "cell_type": "markdown",
   "id": "2d6654e7-d3e9-4ae1-abf6-723ac6cd271a",
   "metadata": {},
   "source": [
    "##### Q5. How are measures of dispersion such as range, variance, and standard deviation used to describe the spread of a dataset? Provide an example."
   ]
  },
  {
   "cell_type": "code",
   "execution_count": 22,
   "id": "1bfc0c4b-d797-42e6-a137-668fc838d0e4",
   "metadata": {},
   "outputs": [
    {
     "name": "stdout",
     "output_type": "stream",
     "text": [
      "Group A:\n",
      "Range: 7\n",
      "Variance: 5.839999999999999\n",
      "Standard Deviation: 2.416609194718914\n",
      "\n",
      "Group B:\n",
      "Range: 25\n",
      "Variance: 102.64000000000001\n",
      "Standard Deviation: 10.131140113531153\n"
     ]
    },
    {
     "data": {
      "text/plain": [
       "'\\nIn this example, Group B has a larger range, variance, and standard deviation compared to Group A. \\nThis indicates that the scores in Group B are more spread out and less consistent around the mean than in Group A.\\n'"
      ]
     },
     "execution_count": 22,
     "metadata": {},
     "output_type": "execute_result"
    }
   ],
   "source": [
    "\"\"\"\n",
    "Answer:\n",
    "\n",
    "1. The range is the difference between the maximum and minimum values in a dataset. \n",
    "2. The range provides a basic understanding of the spread but is sensitive to outliers.\n",
    "3. Variance measures the average squared deviation of each data point from the mean of the dataset. It quantifies the overall dispersion of data points.\n",
    "4. The standard deviation is the square root of the variance. It measures the average distance of data points from the mean.q\n",
    "5. Example:\n",
    "\n",
    "Suppose we have two datasets representing the scores of two groups of students on a test:\n",
    "\"\"\"\n",
    "a = [85, 90, 88, 92, 87]\n",
    "b = [70, 95, 72, 90, 75]\n",
    "\n",
    "import numpy as np\n",
    "# Calculating measures of dispersion for Group A\n",
    "range_a = np.max(a) - np.min(a)\n",
    "variance_a = np.var(a)\n",
    "std_a = np.std(a)\n",
    "\n",
    "# Calculating measures of dispersion for Group B\n",
    "range_b = np.max(b) - np.min(b)\n",
    "variance_b = np.var(b)\n",
    "std_b = np.std(b)\n",
    "\n",
    "print(\"Group A:\")\n",
    "print(\"Range:\", range_a)\n",
    "print(\"Variance:\", variance_a)\n",
    "print(\"Standard Deviation:\", std_a)\n",
    "print()\n",
    "\n",
    "print(\"Group B:\")\n",
    "print(\"Range:\", range_b)\n",
    "print(\"Variance:\", variance_b)\n",
    "print(\"Standard Deviation:\", std_b)\n",
    "\n",
    "\"\"\"\n",
    "In this example, Group B has a larger range, variance, and standard deviation compared to Group A. \n",
    "This indicates that the scores in Group B are more spread out and less consistent around the mean than in Group A.\n",
    "\"\"\""
   ]
  },
  {
   "cell_type": "markdown",
   "id": "e7ef4d60-792d-483d-af31-20ed73472532",
   "metadata": {},
   "source": [
    "##### Q6. What is a Venn diagram?"
   ]
  },
  {
   "cell_type": "code",
   "execution_count": 23,
   "id": "d5ecfcbe-a8c3-4fc3-b007-10b7227b4a9a",
   "metadata": {},
   "outputs": [
    {
     "data": {
      "text/plain": [
       "'\\nAnswer:\\n\\n1. A Venn diagram is a graphical representation that uses circles to illustrate the relationships and commonalities between different sets or groups of items.\\n2. Venn diagrams are particularly useful when comparing two or more sets to visualize relationships like intersections, unions, differences and overlaps.\\n'"
      ]
     },
     "execution_count": 23,
     "metadata": {},
     "output_type": "execute_result"
    }
   ],
   "source": [
    "\"\"\"\n",
    "Answer:\n",
    "\n",
    "1. A Venn diagram is a graphical representation that uses circles to illustrate the relationships and commonalities between different sets or groups of items.\n",
    "2. Venn diagrams are particularly useful when comparing two or more sets to visualize relationships like intersections, unions, differences and overlaps.\n",
    "\"\"\""
   ]
  },
  {
   "cell_type": "markdown",
   "id": "19267dac-24f1-4f03-9345-479ecb28ed19",
   "metadata": {},
   "source": [
    "##### Q7. For the two given sets A = (2,3,4,5,6,7) & B = (0,2,6,8,10). Find:\n",
    "##### (i) A intersection B\n",
    "##### (ii) A ⋃ B"
   ]
  },
  {
   "cell_type": "code",
   "execution_count": 28,
   "id": "06a99d19-5fd9-45ac-8d03-7507370efd12",
   "metadata": {},
   "outputs": [
    {
     "name": "stdout",
     "output_type": "stream",
     "text": [
      "Intersection (A intersection B): {2, 6}\n",
      "Union (A ∪ B): {0, 2, 3, 4, 5, 6, 7, 8, 10}\n"
     ]
    }
   ],
   "source": [
    "## Program to find intersection and union for the given sets.\n",
    "\n",
    "# Given sets\n",
    "A = {2, 3, 4, 5, 6, 7}\n",
    "B = {0, 2, 6, 8, 10}\n",
    "\n",
    "intersect = A.intersection(B)\n",
    "union = A.union(B)\n",
    "\n",
    "print(\"Intersection (A intersection B):\", intersect)\n",
    "print(\"Union (A ∪ B):\", union)"
   ]
  },
  {
   "cell_type": "markdown",
   "id": "0338f562-618f-4a8c-bffe-2825ddeea301",
   "metadata": {},
   "source": [
    "##### Q8. What do you understand about skewness in data?"
   ]
  },
  {
   "cell_type": "code",
   "execution_count": 29,
   "id": "b91f1244-e50d-4c02-b15b-e0633e272849",
   "metadata": {},
   "outputs": [
    {
     "data": {
      "text/plain": [
       "\"\\nAnswer:\\n\\n1. Skewness in data refers to the asymmetry in the distribution of values in a dataset. \\n2. It indicates whether the distribution is symmetric (no skew) or if it's skewed to one side.\\n3. There are three main types of skewness:\\n   a. Positive Skewness (Right Skewness): Here the tail of the distribution extends more to the right. The mean tends to be greater than the median.\\n   b. Negative Skewness (Left Skewness): Here the tail of the distribution extends more to the left. The mean tends to be less than the median\\n   c. Zero Skewness (Symmetrical Distribution): Here the values are evenly distributed on both sides of the mean, resulting in zero skewness.\\n      The mean and median are approximately equal in symmetrical distributions.\\n\""
      ]
     },
     "execution_count": 29,
     "metadata": {},
     "output_type": "execute_result"
    }
   ],
   "source": [
    "\"\"\"\n",
    "Answer:\n",
    "\n",
    "1. Skewness in data refers to the asymmetry in the distribution of values in a dataset. \n",
    "2. It indicates whether the distribution is symmetric (no skew) or if it's skewed to one side.\n",
    "3. There are three main types of skewness:\n",
    "   a. Positive Skewness (Right Skewness): Here the tail of the distribution extends more to the right. The mean tends to be greater than the median.\n",
    "   b. Negative Skewness (Left Skewness): Here the tail of the distribution extends more to the left. The mean tends to be less than the median\n",
    "   c. Zero Skewness (Symmetrical Distribution): Here the values are evenly distributed on both sides of the mean, resulting in zero skewness.\n",
    "      The mean and median are approximately equal in symmetrical distributions.\n",
    "\"\"\""
   ]
  },
  {
   "cell_type": "markdown",
   "id": "c6bb65c9-f0e7-46c3-afc9-c92381e6107a",
   "metadata": {},
   "source": [
    "##### Q9. If a data is right skewed then what will be the position of median with respect to mean?"
   ]
  },
  {
   "cell_type": "code",
   "execution_count": 30,
   "id": "7adc1c54-e457-426d-b7a7-d2958449d55a",
   "metadata": {},
   "outputs": [
    {
     "data": {
      "text/plain": [
       "'\\nAnswer:\\n\\nIn a right-skewed distribution, the median will be positioned to the left of the mean.\\n'"
      ]
     },
     "execution_count": 30,
     "metadata": {},
     "output_type": "execute_result"
    }
   ],
   "source": [
    "\"\"\"\n",
    "Answer:\n",
    "\n",
    "In a right-skewed distribution, the median will be positioned to the left of the mean.\n",
    "\"\"\""
   ]
  },
  {
   "cell_type": "markdown",
   "id": "58f5a98a-fa56-4c95-910e-09fc8f900aca",
   "metadata": {},
   "source": [
    "##### Q10. Explain the difference between covariance and correlation. How are these measures used in statistical analysis?"
   ]
  },
  {
   "cell_type": "code",
   "execution_count": 31,
   "id": "3c0bb652-06de-4b2d-9a27-18b977067b96",
   "metadata": {},
   "outputs": [
    {
     "data": {
      "text/plain": [
       "'\\nAnswer:\\n\\na. Covariance:\\n1. Covariance measures the degree to which two variables change together. \\n2. It indicates whether an increase in one variable is associated with an increase or decrease in another variable.\\n3. Covariance is used to assess the direction of the linear relationship between two variables. \\n4. A positive covariance indicates a positive relationship, while a negative covariance indicates a negative relationship\\n\\nb. Correlation:\\n1. Correlation is a standardized measure of the strength and direction of the linear relationship between two variables. \\n2. It provides insight into how closely the two variables are related and whether the relationship is positive or negative.\\n3. Correlation is standardized, making it easier to interpret. \\n4. A correlation of 1 indicates a perfect positive linear relationship, -1 indicates a perfect negative linear relationship, and 0 indicates no linear relationship.\\n5. It is particularly helpful in regression analysis, hypothesis testing, and data visualization.\\n\\n'"
      ]
     },
     "execution_count": 31,
     "metadata": {},
     "output_type": "execute_result"
    }
   ],
   "source": [
    "\"\"\"\n",
    "Answer:\n",
    "\n",
    "a. Covariance:\n",
    "1. Covariance measures the degree to which two variables change together. \n",
    "2. It indicates whether an increase in one variable is associated with an increase or decrease in another variable.\n",
    "3. Covariance is used to assess the direction of the linear relationship between two variables. \n",
    "4. A positive covariance indicates a positive relationship, while a negative covariance indicates a negative relationship\n",
    "\n",
    "b. Correlation:\n",
    "1. Correlation is a standardized measure of the strength and direction of the linear relationship between two variables. \n",
    "2. It provides insight into how closely the two variables are related and whether the relationship is positive or negative.\n",
    "3. Correlation is standardized, making it easier to interpret. \n",
    "4. A correlation of 1 indicates a perfect positive linear relationship, -1 indicates a perfect negative linear relationship, and 0 indicates no linear relationship.\n",
    "5. It is particularly helpful in regression analysis, hypothesis testing, and data visualization.\n",
    "\n",
    "\"\"\""
   ]
  },
  {
   "cell_type": "markdown",
   "id": "cfbf0e19-2de0-44eb-a847-1242d1171dea",
   "metadata": {},
   "source": [
    "##### Q11. What is the formula for calculating the sample mean? Provide an example calculation for a dataset."
   ]
  },
  {
   "cell_type": "code",
   "execution_count": 1,
   "id": "85b769d1-839d-4ebf-8f1c-34ab605c93eb",
   "metadata": {},
   "outputs": [
    {
     "data": {
      "text/plain": [
       "\"\\nAnswer:\\n\\n1. The sample mean is calculated by summing up all the values in the sample dataset and then dividing by the total number of values (n). \\n2. It is often denoted by the symbol 'x-bar' for a sample.\\n3. Example:\\n\\nDataset: [12, 18, 21, 15, 24]\\nSum up all the data points: 12 + 18 + 21 + 15 + 24 = 90\\nCount the number of data points: 5\\nCalculate the sample mean: 90/5 = 18\\n\""
      ]
     },
     "execution_count": 1,
     "metadata": {},
     "output_type": "execute_result"
    }
   ],
   "source": [
    "\"\"\"\n",
    "Answer:\n",
    "\n",
    "1. The sample mean is calculated by summing up all the values in the sample dataset and then dividing by the total number of values (n). \n",
    "2. It is often denoted by the symbol 'x-bar' for a sample.\n",
    "3. Example:\n",
    "\n",
    "Dataset: [12, 18, 21, 15, 24]\n",
    "Sum up all the data points: 12 + 18 + 21 + 15 + 24 = 90\n",
    "Count the number of data points: 5\n",
    "Calculate the sample mean: 90/5 = 18\n",
    "\"\"\""
   ]
  },
  {
   "cell_type": "markdown",
   "id": "46186d9d-1e7e-4741-b894-65899e949d78",
   "metadata": {},
   "source": [
    "##### Q12. For a normal distribution data what is the relationship between its measure of central tendency?"
   ]
  },
  {
   "cell_type": "code",
   "execution_count": 2,
   "id": "0372a8d6-6857-43a9-954a-473c10782cec",
   "metadata": {},
   "outputs": [
    {
     "data": {
      "text/plain": [
       "'\\nAnswer:\\n\\n1. For a normal distribution, the measures of central tendency i.e mean, median and mode are all equal to each other.\\n'"
      ]
     },
     "execution_count": 2,
     "metadata": {},
     "output_type": "execute_result"
    }
   ],
   "source": [
    "\"\"\"\n",
    "Answer:\n",
    "\n",
    "1. For a normal distribution, the measures of central tendency i.e mean, median and mode are all equal to each other.\n",
    "\"\"\""
   ]
  },
  {
   "cell_type": "markdown",
   "id": "f1de6a50-8294-46a3-9de1-3ebae4787934",
   "metadata": {},
   "source": [
    "##### Q13. How is covariance different from correlation?"
   ]
  },
  {
   "cell_type": "code",
   "execution_count": 3,
   "id": "31937c5e-d2cd-4cd6-a037-7e2d89696fdb",
   "metadata": {},
   "outputs": [
    {
     "data": {
      "text/plain": [
       "'\\nAnswer:\\n\\n1. Covariance measures the degree to which two variables change together. However, its value is not standardized and depends on the units of the variables.\\n2. Correlation standardizes the measure of the relationship between variables by dividing the covariance by the product of the standard deviations of the \\n   two variables.\\n'"
      ]
     },
     "execution_count": 3,
     "metadata": {},
     "output_type": "execute_result"
    }
   ],
   "source": [
    "\"\"\"\n",
    "Answer:\n",
    "\n",
    "1. Covariance measures the degree to which two variables change together. However, its value is not standardized and depends on the units of the variables.\n",
    "2. Correlation standardizes the measure of the relationship between variables by dividing the covariance by the product of the standard deviations of the \n",
    "   two variables.\n",
    "\"\"\""
   ]
  },
  {
   "cell_type": "markdown",
   "id": "b9a2e45f-1f19-4596-9a9b-680eb69fe20d",
   "metadata": {},
   "source": [
    "##### Q14. How do outliers affect measures of central tendency and dispersion? Provide an example."
   ]
  },
  {
   "cell_type": "code",
   "execution_count": 15,
   "id": "af4437b4-d363-4ab9-b998-80b51c1be53f",
   "metadata": {},
   "outputs": [
    {
     "name": "stdout",
     "output_type": "stream",
     "text": [
      "Mean (without outlier) = 4.75\n",
      "Mean (with outlier) = 6.5\n",
      "\n",
      "Median (without outlier) = 4.0\n",
      "Median (with outlier) = 4.0\n",
      "\n",
      "Mode (without outlier) = 4\n",
      "Mode (with outlier) = 4\n",
      "\n",
      "Variance (without outlier) = 5.1875\n",
      "Variance (with outlier) = 53.75\n",
      "\n",
      "Standard deviation (without outlier) = 2.277608394786075\n",
      "Standard deviation (with outlier) = 7.33143914930759\n"
     ]
    }
   ],
   "source": [
    "\"\"\"\n",
    "Answer:\n",
    "\n",
    "1. The mean is sensitive to outliers. Adding a single high outlier can significantly pull the mean towards the outlier value.\n",
    "Example:\n",
    "\n",
    "\"\"\"\n",
    "data_1 = [1,2,3,4,4,4,5,6,4,7,8,9]\n",
    "data_2 = [1,2,3,4,4,4,5,6,4,7,8,30]\n",
    "import numpy as np\n",
    "import statistics\n",
    "\n",
    "\n",
    "mean_1 = np.mean(data_1)\n",
    "print(f\"Mean (without outlier) = {mean_1}\")\n",
    "\n",
    "mean_2 = np.mean(data_2)\n",
    "print(f\"Mean (with outlier) = {mean_2}\")\n",
    "\n",
    "\"\"\"\n",
    "2. The median is less affected by outliers.\n",
    "Example:\n",
    "\"\"\"\n",
    "median_1 = np.median(data_1)\n",
    "print(f\"\\nMedian (without outlier) = {median_1}\")\n",
    "\n",
    "median_2 = np.median(data_2)\n",
    "print(f\"Median (with outlier) = {median_2}\")\n",
    "\n",
    "\"\"\"\n",
    "3. The mode which is the most frequently occurring value, is not significantly affected by outliers.\n",
    "Example:\n",
    "\"\"\"\n",
    "mode_1 = statistics.mode(data_1)\n",
    "print(f\"\\nMode (without outlier) = {mode_1}\")\n",
    "\n",
    "mode_2 = statistics.mode(data_2)\n",
    "print(f\"Mode (with outlier) = {mode_2}\")\n",
    "\n",
    "\"\"\"\n",
    "4. Variance and standard deviation are both affected by outliers. Outliers can increase the spread of data, leading to larger variance and standard deviation.\n",
    "Example:\n",
    "\"\"\"\n",
    "var_1 = np.var(data_1)\n",
    "print(f\"\\nVariance (without outlier) = {var_1}\")\n",
    "\n",
    "var_2 = np.var(data_2)\n",
    "print(f\"Variance (with outlier) = {var_2}\")\n",
    "\n",
    "std_1 = np.std(data_1)\n",
    "print(f\"\\nStandard deviation (without outlier) = {std_1}\")\n",
    "\n",
    "std_2 = np.std(data_2)\n",
    "print(f\"Standard deviation (with outlier) = {std_2}\")"
   ]
  },
  {
   "cell_type": "code",
   "execution_count": null,
   "id": "8d6970b2-81a5-461f-9bbf-ca27c434c7c1",
   "metadata": {},
   "outputs": [],
   "source": []
  }
 ],
 "metadata": {
  "kernelspec": {
   "display_name": "Python 3 (ipykernel)",
   "language": "python",
   "name": "python3"
  },
  "language_info": {
   "codemirror_mode": {
    "name": "ipython",
    "version": 3
   },
   "file_extension": ".py",
   "mimetype": "text/x-python",
   "name": "python",
   "nbconvert_exporter": "python",
   "pygments_lexer": "ipython3",
   "version": "3.10.8"
  }
 },
 "nbformat": 4,
 "nbformat_minor": 5
}
