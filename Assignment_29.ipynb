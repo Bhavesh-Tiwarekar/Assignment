{
 "cells": [
  {
   "cell_type": "markdown",
   "id": "0eb2a3c3-aade-4bd1-9eec-213706585609",
   "metadata": {},
   "source": [
    "##### Q1. What is the Probability density function?"
   ]
  },
  {
   "cell_type": "code",
   "execution_count": 2,
   "id": "9531d06b-d0f7-4758-a598-926757b561a7",
   "metadata": {},
   "outputs": [
    {
     "data": {
      "text/plain": [
       "'\\nAnswer:\\n\\n1. The Probability Density Function (PDF) is a fundamental concept in probability theory and statistics. \\n2. It is used to describe the likelihood of a continuous random variable taking on a particular value within a certain range. \\n3. The PDF provides information about how the probability is distributed across the possible values of a continuous random variable.\\n'"
      ]
     },
     "execution_count": 2,
     "metadata": {},
     "output_type": "execute_result"
    }
   ],
   "source": [
    "\"\"\"\n",
    "Answer:\n",
    "\n",
    "1. The Probability Density Function (PDF) is a fundamental concept in probability theory and statistics. \n",
    "2. It is used to describe the likelihood of a continuous random variable taking on a particular value within a certain range. \n",
    "3. The PDF provides information about how the probability is distributed across the possible values of a continuous random variable.\n",
    "\"\"\""
   ]
  },
  {
   "cell_type": "markdown",
   "id": "aaca3c0d-6d75-4c59-9bad-08f2cda56df8",
   "metadata": {},
   "source": [
    "##### Q2. What are the types of Probability distribution?"
   ]
  },
  {
   "cell_type": "code",
   "execution_count": 3,
   "id": "1fbc480c-06cb-422b-adb2-cfa4ad7feba7",
   "metadata": {},
   "outputs": [
    {
     "data": {
      "text/plain": [
       "'\\nAnswer:\\n\\nSome of the common Probability distribution types are as follows:\\na. Discrete Probability Distributions:\\n   1. Bernoulli Distribution: It describes a  binary outcome (success or failure) with a single trial.\\n   2. Binomial Distribution: Models the number of successes in a fixed number of independent Bernoulli trials.\\n   3. Poisson Distribution: It describes the number of events occurring in a fixed interval of time or space when events are rare and random.\\nb. Continuous Probability Distributions:\\n   1. Normal (Gaussian) Distribution: One of the most common distributions, characterized by its bell-shaped curve. \\n      Around its mean value, this probability distribution is symmetrical.\\n   2. Uniform Distribution: This represents a constant probability over a specified range, where all values within that range are equally likely.\\n'"
      ]
     },
     "execution_count": 3,
     "metadata": {},
     "output_type": "execute_result"
    }
   ],
   "source": [
    "\"\"\"\n",
    "Answer:\n",
    "\n",
    "Some of the common Probability distribution types are as follows:\n",
    "a. Discrete Probability Distributions:\n",
    "   1. Bernoulli Distribution: It describes a  binary outcome (success or failure) with a single trial.\n",
    "   2. Binomial Distribution: Models the number of successes in a fixed number of independent Bernoulli trials.\n",
    "   3. Poisson Distribution: It describes the number of events occurring in a fixed interval of time or space when events are rare and random.\n",
    "b. Continuous Probability Distributions:\n",
    "   1. Normal (Gaussian) Distribution: One of the most common distributions, characterized by its bell-shaped curve. \n",
    "      Around its mean value, this probability distribution is symmetrical.\n",
    "   2. Uniform Distribution: This represents a constant probability over a specified range, where all values within that range are equally likely.\n",
    "\"\"\""
   ]
  },
  {
   "cell_type": "markdown",
   "id": "f03f0ccb-5fb8-457c-a71a-06eacebf8bef",
   "metadata": {},
   "source": [
    "##### Q3. Write a Python function to calculate the probability density function of a normal distribution with given mean and standard deviation at a given point."
   ]
  },
  {
   "cell_type": "code",
   "execution_count": 11,
   "id": "8085dd0d-5991-48a1-a9ff-cd261d0c1905",
   "metadata": {},
   "outputs": [
    {
     "name": "stdout",
     "output_type": "stream",
     "text": [
      "PDF at x = 1.5:= is 0.22731045943172426\n"
     ]
    }
   ],
   "source": [
    "## Program to create a function to calculate the probability density function of a normal distribution.\n",
    "\n",
    "def normal_distribution_pdf(x, mean, std_dev):\n",
    "    import numpy as np\n",
    "    coefficient = 1/(std_dev * np.sqrt(2*np.pi))\n",
    "    exponent = -((x-mean)**2)/(2*std_dev)**2\n",
    "    pdf = coefficient * np.exp(exponent)\n",
    "    return pdf\n",
    "\n",
    "# Example application\n",
    "mean = 0\n",
    "std_dev = 1\n",
    "x = 1.5\n",
    "pdf_at_x = normal_distribution_pdf(x, mean, std_dev)\n",
    "print(f\"PDF at x = {x}:= is {pdf_at_x}\")"
   ]
  },
  {
   "cell_type": "markdown",
   "id": "4acccecc-69f7-466a-ba57-6a076fa3330c",
   "metadata": {},
   "source": [
    "##### Q4. What are the properties of Binomial distribution? Give two examples of events where binomial distribution can be applied."
   ]
  },
  {
   "cell_type": "code",
   "execution_count": 13,
   "id": "f99d1b29-2f66-451a-90ac-4686742071a8",
   "metadata": {},
   "outputs": [
    {
     "data": {
      "text/plain": [
       "'\\nAnswer:\\n\\nThe properties of Binomial distribution are as follows:\\n1. Binomial distribution is applicable when the trials are independent and each trial has just two outcomes success and failure.\\n2. The probability of success (p) remains the same for each trial.\\n3. It is characterized by two parameters i.e. n (the number of trials) and p (the probability of success on each trial).\\n\\nExamples of events where the Binomial distribution can be applied are:\\n1. Coin Flips: \\n   Suppose fliping a fair coin ten times (n = 10), where the probability of getting heads i.e. p is 0.5. \\n   We can use the Binomial distribution to calculate the probability of getting a certain number of heads (k) out of those ten flips. \\n2. Manufacturing Defects: \\n   In a manufacturing process, large number of items get produced and each item has a certain probability of being defective (p).\\n   We can use the Binomial distribution to calculate the probability that a specific number of items (k) will be defective out of a fixed batch size (n).\\n   For instance, we might want to know the probability that exactly 3 out of 20 items are defective.\\n'"
      ]
     },
     "execution_count": 13,
     "metadata": {},
     "output_type": "execute_result"
    }
   ],
   "source": [
    "\"\"\"\n",
    "Answer:\n",
    "\n",
    "The properties of Binomial distribution are as follows:\n",
    "1. Binomial distribution is applicable when the trials are independent and each trial has just two outcomes success and failure.\n",
    "2. The probability of success (p) remains the same for each trial.\n",
    "3. It is characterized by two parameters i.e. n (the number of trials) and p (the probability of success on each trial).\n",
    "\n",
    "Examples of events where the Binomial distribution can be applied are:\n",
    "1. Coin Flips: \n",
    "   Suppose fliping a fair coin ten times (n = 10), where the probability of getting heads i.e. p is 0.5. \n",
    "   We can use the Binomial distribution to calculate the probability of getting a certain number of heads (k) out of those ten flips. \n",
    "2. Manufacturing Defects: \n",
    "   In a manufacturing process, large number of items get produced and each item has a certain probability of being defective (p).\n",
    "   We can use the Binomial distribution to calculate the probability that a specific number of items (k) will be defective out of a fixed batch size (n).\n",
    "   For instance, we might want to know the probability that exactly 3 out of 20 items are defective.\n",
    "\"\"\""
   ]
  },
  {
   "cell_type": "markdown",
   "id": "0fe0e608-7c6c-49b3-aaf2-94cd15c17b1e",
   "metadata": {},
   "source": [
    "##### Q5. Generate a random sample of size 1000 from a binomial distribution with probability of success 0.4 and plot a histogram of the results using matplotlib."
   ]
  },
  {
   "cell_type": "code",
   "execution_count": 2,
   "id": "65c5323a-1616-4520-ab43-fea09d60a146",
   "metadata": {},
   "outputs": [
    {
     "data": {
      "image/png": "[encoded data removed]",
      "text/plain": [
       "<Figure size 640x480 with 1 Axes>"
      ]
     },
     "metadata": {},
     "output_type": "display_data"
    }
   ],
   "source": [
    "## Program to create a histogram from a sample size of 1000 from a binomial distribution.\n",
    "\n",
    "import numpy as np\n",
    "import matplotlib.pyplot as plt\n",
    "\n",
    "n = 1000  # Number of trials\n",
    "p = 0.4   # Probability of success\n",
    "\n",
    "# Generate a random sample from the binomial distribution\n",
    "sample = np.random.binomial(n, p, size= 1000)\n",
    "\n",
    "plt.hist(sample, density= True)\n",
    "plt.title('Histogram of Binomial Distribution')\n",
    "plt.xlabel('Number of Successes')\n",
    "plt.ylabel('Probability Density')\n",
    "plt.show()"
   ]
  },
  {
   "cell_type": "markdown",
   "id": "dc17e634-147a-4d2a-bc9d-081d1a5b7d3e",
   "metadata": {},
   "source": [
    "##### Q6. Write a Python function to calculate the cumulative distribution function of a Poisson distribution with given mean at a given point."
   ]
  },
  {
   "cell_type": "code",
   "execution_count": 8,
   "id": "a12cf2b1-6029-4e87-99b6-a448675cfe37",
   "metadata": {},
   "outputs": [
    {
     "name": "stdout",
     "output_type": "stream",
     "text": [
      "CDF at point 3 for mean 5 is 0.2650259152973617\n"
     ]
    }
   ],
   "source": [
    "## Program to create afunction to calculate the cumulative distribution function of a Poisson distribution.\n",
    "\n",
    "def poisson_distribution_cdf(k, mean):\n",
    "    import numpy as np\n",
    "    cdf = 0.0\n",
    "    for i in range(k+1):\n",
    "        cdf += ((mean ** i) * np.exp(-mean))/ np.math.factorial(i)\n",
    "    return cdf\n",
    "\n",
    "# Example usage:\n",
    "mean = 5  # Mean of the Poisson distribution\n",
    "k = 3  # Point at which to calculate the CDF\n",
    "cdf_value = poisson_distribution_cdf(k, mean)\n",
    "print(f\"CDF at point {k} for mean {mean} is {cdf_value}\") "
   ]
  },
  {
   "cell_type": "markdown",
   "id": "265e171d-ff38-49df-a98b-bae788a101a3",
   "metadata": {},
   "source": [
    "##### Q7. How Binomial distribution different from Poisson distribution?"
   ]
  },
  {
   "cell_type": "code",
   "execution_count": 11,
   "id": "e8a84d3d-8cd8-4af2-9772-4f49ea8e0a11",
   "metadata": {},
   "outputs": [
    {
     "data": {
      "text/plain": [
       "'\\nAnswer:\\n\\n1. The binomial distribution is used when each trial has two possible outcomes i.e. success or failure. The trials are independent and have a fixed probability \\n   of success.\\n2. The Poisson distribution is used to model the number of rare events that occur in a fixed interval of time or space.\\n3. The parameters of the binomial distribution are the number of trials (n) and the probability of success (p) in each trial.\\n4. The parameter of the Poisson distribution is the average rate of event occurrences (λ) within the given interval.\\n5. Example:\\n   Binomial Distribution: Modeling the number of successful coin tosses in a fixed number of tosses.\\n   Poisson Distribution: Modeling the number of phone calls received at a call center in a given hour, assuming the calls are random and the average rate is known.\\n'"
      ]
     },
     "execution_count": 11,
     "metadata": {},
     "output_type": "execute_result"
    }
   ],
   "source": [
    "\"\"\"\n",
    "Answer:\n",
    "\n",
    "1. The binomial distribution is used when each trial has two possible outcomes i.e. success or failure. The trials are independent and have a fixed probability \n",
    "   of success.\n",
    "2. The Poisson distribution is used to model the number of rare events that occur in a fixed interval of time or space.\n",
    "3. The parameters of the binomial distribution are the number of trials (n) and the probability of success (p) in each trial.\n",
    "4. The parameter of the Poisson distribution is the average rate of event occurrences (λ) within the given interval.\n",
    "5. Example:\n",
    "   Binomial Distribution: Modeling the number of successful coin tosses in a fixed number of tosses.\n",
    "   Poisson Distribution: Modeling the number of phone calls received at a call center in a given hour, assuming the calls are random and the average rate is known.\n",
    "\"\"\""
   ]
  },
  {
   "cell_type": "markdown",
   "id": "56faee04-bd56-4e6b-8ec9-a332d71672fd",
   "metadata": {},
   "source": [
    "##### Q8. Generate a random sample of size 1000 from a Poisson distribution with mean 5 and calculate the sample mean and variance."
   ]
  },
  {
   "cell_type": "code",
   "execution_count": 15,
   "id": "cde4d4b0-ef15-474b-b9fb-f1d0eccf7ad6",
   "metadata": {},
   "outputs": [
    {
     "name": "stdout",
     "output_type": "stream",
     "text": [
      "Sample Mean: 5.053\n",
      "Sample Variance: 4.979170170170169\n"
     ]
    }
   ],
   "source": [
    "## Program to calculate the sample mean and variance.\n",
    "\n",
    "# Parameters for the Poisson distribution\n",
    "mean = 5\n",
    "sample_size = 1000\n",
    "\n",
    "# Generate the random sample\n",
    "random_sample = np.random.poisson(mean, sample_size)\n",
    "\n",
    "import numpy as np\n",
    "sample_mean = np.mean(random_sample)\n",
    "\n",
    "sample_var = np.var(random_sample, ddof= 1)     # Using ddof=1 for sample variance\n",
    "\n",
    "print(f\"Sample Mean: {sample_mean}\")\n",
    "print(f\"Sample Variance: {sample_var}\")"
   ]
  },
  {
   "cell_type": "markdown",
   "id": "9e6a871b-d885-4ebf-9043-b345233c055c",
   "metadata": {},
   "source": [
    "##### Q9. How mean and variance are related in Binomial distribution and Poisson distribution?"
   ]
  },
  {
   "cell_type": "code",
   "execution_count": 16,
   "id": "b0628f51-5075-4645-82d2-870ddbcce1f2",
   "metadata": {},
   "outputs": [
    {
     "data": {
      "text/plain": [
       "'\\nAnswer:\\n\\na. Binomial Distribution:\\n1. For a binomial distribution with parameters n (number of trials) and p (probability of success in each trial), the mean (μ) and variance (σ²) \\n   are related as follows:\\n   Mean = n * p\\n   Variance = n * p * (1 - p)\\n2. Here, the variance is directly influenced by both n and p. When p is close to 0.5 (indicating roughly balanced success and failure probabilities), \\n   the variance is highest. As p moves away from 0.5, the variance decreases.\\n\\nb. Poisson Distribution:\\n1. For a Poisson distribution with parameter λ (average rate of events), both the mean and the variance are equal and are given by:\\n   Mean = Variance = λ\\n2. In the Poisson distribution, the mean and variance are always equal and are solely determined by the parameter λ.\\n3. It means that when the average rate of events is λ, you can expect both the mean and variance of the distribution to be λ.\\n'"
      ]
     },
     "execution_count": 16,
     "metadata": {},
     "output_type": "execute_result"
    }
   ],
   "source": [
    "\"\"\"\n",
    "Answer:\n",
    "\n",
    "a. Binomial Distribution:\n",
    "1. For a binomial distribution with parameters n (number of trials) and p (probability of success in each trial), the mean (μ) and variance (σ²) \n",
    "   are related as follows:\n",
    "   Mean = n * p\n",
    "   Variance = n * p * (1 - p)\n",
    "2. Here, the variance is directly influenced by both n and p. When p is close to 0.5 (indicating roughly balanced success and failure probabilities), \n",
    "   the variance is highest. As p moves away from 0.5, the variance decreases.\n",
    "\n",
    "b. Poisson Distribution:\n",
    "1. For a Poisson distribution with parameter λ (average rate of events), both the mean and the variance are equal and are given by:\n",
    "   Mean = Variance = λ\n",
    "2. In the Poisson distribution, the mean and variance are always equal and are solely determined by the parameter λ.\n",
    "3. It means that when the average rate of events is λ, you can expect both the mean and variance of the distribution to be λ.\n",
    "\"\"\""
   ]
  },
  {
   "cell_type": "markdown",
   "id": "e7f4694c-ebdd-4394-b3ba-c894e1a27b68",
   "metadata": {},
   "source": [
    "##### Q10. In normal distribution with respect to mean position, where does the least frequent data appear?"
   ]
  },
  {
   "cell_type": "code",
   "execution_count": 17,
   "id": "2d70d5f5-f03e-4bb4-acff-5d706aa9e4c2",
   "metadata": {},
   "outputs": [
    {
     "data": {
      "text/plain": [
       "'\\nAnswer:\\n\\n1. In a normal distribution, the least frequent data points appear in the tails of the distribution, farthest from the mean. \\n2. The normal distribution is symmetric around its mean, and its density decreases as you move away from the mean in both directions.\\n'"
      ]
     },
     "execution_count": 17,
     "metadata": {},
     "output_type": "execute_result"
    }
   ],
   "source": [
    "\"\"\"\n",
    "Answer:\n",
    "\n",
    "1. In a normal distribution, the least frequent data points appear in the tails of the distribution, farthest from the mean. \n",
    "2. The normal distribution is symmetric around its mean, and its density decreases as you move away from the mean in both directions.\n",
    "\"\"\""
   ]
  },
  {
   "cell_type": "code",
   "execution_count": null,
   "id": "a2a39b92-face-482e-b4dd-e9b9999ad2e7",
   "metadata": {},
   "outputs": [],
   "source": []
  }
 ],
 "metadata": {
  "kernelspec": {
   "display_name": "Python 3 (ipykernel)",
   "language": "python",
   "name": "python3"
  },
  "language_info": {
   "codemirror_mode": {
    "name": "ipython",
    "version": 3
   },
   "file_extension": ".py",
   "mimetype": "text/x-python",
   "name": "python",
   "nbconvert_exporter": "python",
   "pygments_lexer": "ipython3",
   "version": "3.10.8"
  }
 },
 "nbformat": 4,
 "nbformat_minor": 5
}
