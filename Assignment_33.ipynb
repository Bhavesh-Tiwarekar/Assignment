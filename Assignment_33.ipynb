{
 "cells": [
  {
   "cell_type": "markdown",
   "id": "3a45f6f0-0309-4182-b78f-3ebe7c8ba7a5",
   "metadata": {},
   "source": [
    "##### Q1. Calculate the 95% confidence interval for a sample of data with a mean of 50 and a standard deviation of 5 using Python. Interpret the results."
   ]
  },
  {
   "cell_type": "code",
   "execution_count": 3,
   "id": "c88ac211-7679-44a3-89a1-6b65bce9604e",
   "metadata": {},
   "outputs": [
    {
     "name": "stdout",
     "output_type": "stream",
     "text": [
      "95% Confidence Interval for the given sample data is: (48.211, 51.789)\n"
     ]
    },
    {
     "data": {
      "text/plain": [
       "'\\nInterpretation of result:\\nAs per the result we can say that we are 95% confident that the true population mean falls within the interval (48.211, 51.789).\\n\\n'"
      ]
     },
     "execution_count": 3,
     "metadata": {},
     "output_type": "execute_result"
    }
   ],
   "source": [
    "## Program to calculate the 95% confidence interval for a sample of data \n",
    "\n",
    "import scipy.stats as stats\n",
    "\n",
    "# Given data\n",
    "sample_mean = 50\n",
    "sample_std_dev = 5\n",
    "confidence_interval = 0.95\n",
    "sample_size = 30                        # Considering the sample size as 30\n",
    "\n",
    "# Calculate the Z-score\n",
    "z_score = stats.norm.ppf(1-(1-confidence_interval)/2)\n",
    "\n",
    "# Calculate the margin of error\n",
    "margin_of_error = z_score * (sample_std_dev/(sample_size)**0.5)\n",
    "\n",
    "# Calculate the confidence interval\n",
    "lower_bound = sample_mean - margin_of_error\n",
    "upper_bound = sample_mean + margin_of_error\n",
    "\n",
    "# Print the confidence interval\n",
    "print(f\"95% Confidence Interval for the given sample data is: ({lower_bound:.3f}, {upper_bound:.3f})\")\n",
    "\n",
    "\"\"\"\n",
    "Interpretation of result:\n",
    "As per the result we can say that we are 95% confident that the true population mean falls within the interval (48.211, 51.789).\n",
    "\n",
    "\"\"\""
   ]
  },
  {
   "cell_type": "markdown",
   "id": "0c188d81-4418-4c53-95ef-80984f5bb79c",
   "metadata": {},
   "source": [
    "##### Q2. Conduct a chi-square goodness of fit test to determine if the distribution of colors of M&Ms in a bag\n",
    "##### matches the expected distribution of 20% blue, 20% orange, 20% green, 10% yellow, 10% red, and 20%\n",
    "##### brown. Use Python to perform the test with a significance level of 0.05."
   ]
  },
  {
   "cell_type": "code",
   "execution_count": 19,
   "id": "3f6834d0-522d-4228-abaa-8cb5e35a930d",
   "metadata": {},
   "outputs": [
    {
     "name": "stdout",
     "output_type": "stream",
     "text": [
      "Fail to reject the null hypothesis. The observed distribution matches the expected distribution.\n",
      "Chi-Square Statistic: 2.4583333333333335\n",
      "Degrees of Freedom: 5\n",
      "Critical Value: 11.070497693516351\n"
     ]
    }
   ],
   "source": [
    "## Program to to perform the chi-square goodness of fit test to determine if the distribution of colors of M&Ms in a bag matches the expected distribution\n",
    "\n",
    "import numpy as np\n",
    "from scipy.stats import chi2\n",
    "\n",
    "# Define observed and expected data\n",
    "observed_counts = np.array([30, 22, 25, 12, 11, 20])\n",
    "expected_counts = np.array([0.2, 0.2, 0.2, 0.1, 0.1, 0.2]) * np.sum(observed_counts)\n",
    "\n",
    "# State Hypothesis\n",
    "\"\"\"\n",
    "Null Hypothesis: Observed distribution matches expected distribution\n",
    "Alternative Hypothesis: Observed distribution does not match expected distribution\n",
    "\"\"\"\n",
    "\n",
    "# Given data\n",
    "alpha = 0.05\n",
    "df = len(observed_counts) - 1\n",
    "\n",
    "# Calculate the chi-square statistic\n",
    "chi_square_statistic = np.sum((observed_counts - expected_counts)**2/expected_counts)\n",
    "\n",
    "# Calculate critical chi-square value\n",
    "chi_square_critical = chi2.ppf(1-alpha, df)\n",
    "\n",
    "# Make a decision\n",
    "if chi_square_statistic >= chi_square_critical:\n",
    "    print(\"Reject the null hypothesis. The observed distribution does not match the expected distribution.\")\n",
    "else:\n",
    "    print(\"Fail to reject the null hypothesis. The observed distribution matches the expected distribution.\")\n",
    "    \n",
    "print(f\"Chi-Square Statistic: {chi_square_statistic}\")\n",
    "print(f\"Degrees of Freedom: {df}\")\n",
    "print(f\"Critical Value: {chi_square_critical}\")"
   ]
  },
  {
   "cell_type": "markdown",
   "id": "cb334758-aeed-499c-9ab3-75a1cfd6e275",
   "metadata": {},
   "source": [
    "##### Q3. Use Python to calculate the chi-square statistic and p-value for a contingency table with the following data:\n",
    "\n",
    "##### Group A Group B\n",
    "##### Outcome 1- 20  15\n",
    "##### Outcome 2- 10  25\n",
    "##### Outcome 3- 15  20\n",
    "\n",
    "##### Interpret the results of the test. "
   ]
  },
  {
   "cell_type": "code",
   "execution_count": 35,
   "id": "c9eb3b75-b4ce-4b22-9777-285ec99b1f74",
   "metadata": {},
   "outputs": [
    {
     "name": "stdout",
     "output_type": "stream",
     "text": [
      "Chi-square statistic: 5.833333333333334\n",
      "P-value: 0.05411376622282158\n"
     ]
    },
    {
     "data": {
      "text/plain": [
       "'\\nInterpretation:\\n\\nThe p-value (0.054) is greater than the commonly chosen significance level of 0.05. This suggests that we failed to reject the null hypothesis. Thus, \\nthere is no significant evidence to suggest an association between the groups (Group A and Group B) and the outcomes (Outcome 1, Outcome 2, and Outcome 3). \\n\\nThe chi-square statistic (5.833) being relatively small further supports the decision not to reject the null hypothesis.\\n'"
      ]
     },
     "execution_count": 35,
     "metadata": {},
     "output_type": "execute_result"
    }
   ],
   "source": [
    "## Program to calculate the chi-square statistic and p-value for a contingency table\n",
    "\n",
    "import numpy as np\n",
    "from scipy.stats import chi2_contingency\n",
    "\n",
    "# State Hypothesis\n",
    "\"\"\"\n",
    "Null Hypothesis: There is no association between the groups (Group A and Group B) and the outcomes (Outcome 1, Outcome 2, and Outcome 3). \n",
    "\n",
    "Alternative Hypothesis (H1): There is an association between the groups and the outcomes.\n",
    "\"\"\"\n",
    "\n",
    "# Given contingency table\n",
    "data = np.array([[20,15],\n",
    "                [10,25],\n",
    "                [15,20]])\n",
    "\n",
    "# Perform the chi-square test\n",
    "chi2, p, df, expected = chi2_contingency(data)\n",
    "\n",
    "# Print the results\n",
    "print(f\"Chi-square statistic: {chi2}\")\n",
    "print(f\"P-value: {p}\")\n",
    "\n",
    "\"\"\"\n",
    "Interpretation:\n",
    "\n",
    "The p-value (0.054) is greater than the commonly chosen significance level of 0.05. This suggests that we failed to reject the null hypothesis. Thus, \n",
    "there is no significant evidence to suggest an association between the groups (Group A and Group B) and the outcomes (Outcome 1, Outcome 2, and Outcome 3). \n",
    "\n",
    "The chi-square statistic (5.833) being relatively small further supports the decision not to reject the null hypothesis.\n",
    "\"\"\""
   ]
  },
  {
   "cell_type": "markdown",
   "id": "55a89bbe-0bb7-49d7-a26d-ce2ffb1c794f",
   "metadata": {},
   "source": [
    "##### Q5. Calculate the 90% confidence interval for a sample of data with a mean of 75 and a standard deviation\n",
    "##### of 12 using Python. Interpret the results."
   ]
  },
  {
   "cell_type": "code",
   "execution_count": 38,
   "id": "9fc100fe-5d1d-48ff-ae4b-1ff5fe41e337",
   "metadata": {},
   "outputs": [
    {
     "name": "stdout",
     "output_type": "stream",
     "text": [
      "90% Confidence Interval for the given sample data is: (73.498, 76.502)\n"
     ]
    },
    {
     "data": {
      "text/plain": [
       "'\\nInterpretation:\\n\\nAs per the result, we can be 90% confident that the true population mean is between 73.498 and 76.502.\\n\\n'"
      ]
     },
     "execution_count": 38,
     "metadata": {},
     "output_type": "execute_result"
    }
   ],
   "source": [
    "## Program to calculate the 90% confidence interval for a sample of data\n",
    "\n",
    "import scipy.stats as stats\n",
    "\n",
    "# Given data\n",
    "sample_mean = 75\n",
    "sample_std_Dev = 12\n",
    "confidence_interval = 0.9\n",
    "sample_size = 30                    # Considering sample size as 30\n",
    "\n",
    "# Calculate the Z-score\n",
    "z_score = stats.norm.ppf(1-(1-confidence_interval)/2)\n",
    "\n",
    "# Calculate the margin of error\n",
    "margin_of_error = z_score * (sample_std_dev/(sample_size)**0.5)\n",
    "\n",
    "# Calculate the confidence interval\n",
    "lower_bound = sample_mean - margin_of_error\n",
    "upper_bound = sample_mean + margin_of_error\n",
    "\n",
    "# Print the confidence interval\n",
    "print(f\"90% Confidence Interval for the given sample data is: ({lower_bound:.3f}, {upper_bound:.3f})\")\n",
    "\n",
    "\"\"\"\n",
    "Interpretation:\n",
    "\n",
    "As per the result, we can be 90% confident that the true population mean is between 73.498 and 76.502.\n",
    "\n",
    "\"\"\""
   ]
  },
  {
   "cell_type": "markdown",
   "id": "ce6ecedc-4b65-4624-bd05-c8eb5ebf9d89",
   "metadata": {},
   "source": [
    "##### Q6. Use Python to plot the chi-square distribution with 10 degrees of freedom. Label the axes and shade the area corresponding to a chi-square statistic of 15.\n"
   ]
  },
  {
   "cell_type": "code",
   "execution_count": 78,
   "id": "35e5d0b8-1fb7-413f-91e1-aafcac8b520d",
   "metadata": {},
   "outputs": [
    {
     "data": {
      "image/png": "[encoded data removed]",
      "text/plain": [
       "<Figure size 640x480 with 1 Axes>"
      ]
     },
     "metadata": {},
     "output_type": "display_data"
    }
   ],
   "source": [
    "## Program to plot the chi-square distribution with 10 degrees of freedom\n",
    "\n",
    "import matplotlib.pyplot as plt\n",
    "import numpy as np\n",
    "import scipy.stats as stats\n",
    "\n",
    "# Given data\n",
    "df = 10\n",
    "chi_square_statistic = 15\n",
    "\n",
    "# Generate chi-square values for the x-axis\n",
    "x = np.linspace(0, 30, 1000)\n",
    "\n",
    "# Calculate the probability density function (PDF) for the chi-square distribution\n",
    "pdf = stats.chi2.pdf(x, df)\n",
    "\n",
    "# Create the figure and axes\n",
    "fig, ax = plt.subplots()\n",
    "\n",
    "# Plot the chi-square distribution\n",
    "ax.plot(x, pdf, label=f'Chi-square Distribution (df={df})')\n",
    "\n",
    "# Shade the area for chi-square statistic of 15\n",
    "x_shade = np.linspace(0, chi_square_statistic, 100)\n",
    "y_shade = stats.chi2.pdf(x_shade, df)\n",
    "ax.fill_between(x_shade, y_shade, 0, alpha=0.5, color = 'green', label=f'Shaded Area (Chi-Square={chi_square_statistic})')\n",
    "\n",
    "# Label the axes and add a legend\n",
    "ax.set_xlabel('Chi-square Value')\n",
    "ax.set_ylabel('Probability Density')\n",
    "ax.set_title('Chi-square Distribution')\n",
    "ax.legend(loc='best')\n",
    "plt.show()"
   ]
  },
  {
   "cell_type": "markdown",
   "id": "21a693a5-70a8-4ffd-88c7-a9013e9f76b7",
   "metadata": {},
   "source": [
    "##### Q7. A random sample of 1000 people was asked if they preferred Coke or Pepsi. Of the sample, 520\n",
    "##### preferred Coke. Calculate a 99% confidence interval for the true proportion of people in the population who prefer Coke."
   ]
  },
  {
   "cell_type": "code",
   "execution_count": 91,
   "id": "9620aad2-6997-41f3-bfb2-b4cb736b200f",
   "metadata": {},
   "outputs": [
    {
     "name": "stdout",
     "output_type": "stream",
     "text": [
      "99% Confidence Interval for the true proportion of people in the population who prefer Coke is: (0.4793, 0.5607)\n"
     ]
    }
   ],
   "source": [
    "## Program to calculate a 99% confidence interval for the true proportion of people in the population who prefer Coke.\n",
    "\n",
    "import scipy.stats as stats\n",
    "import math\n",
    "\n",
    "# Given data\n",
    "sample_proportion = 520/1000\n",
    "confidence_interval = 0.99\n",
    "sample_size = 1000\n",
    "\n",
    "# Calculate the Z critical value\n",
    "z_critical = stats.norm.ppf(1-(1-confidence_interval)/2)\n",
    "\n",
    "# Calculate the standard error of the proportion\n",
    "standard_error = math.sqrt((sample_proportion * (1 - sample_proportion)) / sample_size)\n",
    "\n",
    "# Calculate the margin of error\n",
    "margin_of_error = z_critical * standard_error\n",
    "\n",
    "# Calculate the lower and upper bounds of the confidence interval\n",
    "lower_bound = sample_proportion - margin_of_error\n",
    "upper_bound = sample_proportion + margin_of_error\n",
    "\n",
    "# Print the confidence interval\n",
    "print(f\"99% Confidence Interval for the true proportion of people in the population who prefer Coke is: ({lower_bound:.4f}, {upper_bound:.4f})\")"
   ]
  },
  {
   "cell_type": "markdown",
   "id": "eeb4b70a-43f2-450a-b0c3-38acfa5b5dba",
   "metadata": {},
   "source": [
    "##### Q8. A researcher hypothesizes that a coin is biased towards tails. They flip the coin 100 times and observe\n",
    "##### 45 tails. Conduct a chi-square goodness of fit test to determine if the observed frequencies match the\n",
    "##### expected frequencies of a fair coin. Use a significance level of 0.05."
   ]
  },
  {
   "cell_type": "code",
   "execution_count": 93,
   "id": "fbe52585-7e79-463f-9e32-ebd53a0e177c",
   "metadata": {},
   "outputs": [
    {
     "name": "stdout",
     "output_type": "stream",
     "text": [
      "Fail to reject the null hypothesis. The coin is not biased toward tails.\n"
     ]
    }
   ],
   "source": [
    "## Program to conduct a chi-square goodness of fit test to determine if the observed frequencies match the expected frequencies of a fair coin.\n",
    "\n",
    "# State Hypothesis\n",
    "\"\"\"\n",
    "Null Hypothesis: The coin is not biased toward tails.\n",
    "Alternate Hypothesis: The coin is biased toward tails.\n",
    "\"\"\"\n",
    "import scipy.stats as stats\n",
    "\n",
    "# Given data\n",
    "observed_tails = 45\n",
    "expected_tails = 50\n",
    "df = 2 - 1                          ## As there are only 2 outcomes (Head, Tail).\n",
    "alpha = 0.05\n",
    "\n",
    "# Calculate the chi-square statistic\n",
    "chi_square_statistic = (observed_tails - expected_tails)**2/expected_tails\n",
    "\n",
    "# Calculate the critical chi-square value\n",
    "chi_square_critical = stats.chi2.ppf(1-alpha, df)\n",
    "\n",
    "# Make a decision\n",
    "if chi_square_statistic > chi_square_critical:\n",
    "    print(\"Reject the null hypothesis. The coin is biased toward tails.\")\n",
    "else:\n",
    "    print(\"Fail to reject the null hypothesis. The coin is not biased toward tails.\")"
   ]
  },
  {
   "cell_type": "markdown",
   "id": "ffcae614-831f-4189-b70e-e76e67daa050",
   "metadata": {},
   "source": [
    "##### Q9. A study was conducted to determine if there is an association between smoking status (smoker or\n",
    "##### non-smoker) and lung cancer diagnosis (yes or no). The results are shown in the contingency table below.\n",
    "##### Conduct a chi-square test for independence to determine if there is a significant association between\n",
    "##### smoking status and lung cancer diagnosis.\n",
    "\n",
    "##### Lung Cancer: Yes Lung Cancer: No\n",
    "\n",
    "##### Smoker 60 140\n",
    "##### Non-smoker 30 170\n",
    "##### Use a significance level of 0.05."
   ]
  },
  {
   "cell_type": "code",
   "execution_count": 9,
   "id": "812e612e-077d-4b41-8840-62382e50929d",
   "metadata": {},
   "outputs": [
    {
     "name": "stdout",
     "output_type": "stream",
     "text": [
      "Reject the null hypothesis. There is a significant association between smoking status and lung cancer diagnosis.\n"
     ]
    }
   ],
   "source": [
    "## Program to to determine if there is a significant association between smoking status and lung cancer diagnosis\n",
    "\n",
    "# State Hypothesis\n",
    "\"\"\"\n",
    "Null Hypothesis: There is no association between smoking status and lung cancer diagnosis.\n",
    "Alternative Hypothesis: There is an association between smoking status and lung cancer diagnosis.\n",
    "\"\"\"\n",
    "\n",
    "import scipy.stats as stats\n",
    "\n",
    "# Given contingency table\n",
    "observed_data = [[60, 140],\n",
    "                [30, 170]]\n",
    "\n",
    "# Calculate the chi-square statistic and p-value\n",
    "chi_square_statistic, p, df, expected = stats.chi2_contingency(observed_data)\n",
    "\n",
    "# Degrees of freedom\n",
    "degrees_of_freedom = (len(observed_data) - 1) * (len(observed_data[0]) - 1)\n",
    "\n",
    "alpha = 0.05\n",
    "\n",
    "# Calculate the critical chi-square value\n",
    "chi_square_critical = stats.chi2.ppf(1-alpha, degrees_of_freedom)\n",
    "\n",
    "# Make a decision\n",
    "if chi_square_statistic > chi_square_critical:\n",
    "    print(\"Reject the null hypothesis. There is a significant association between smoking status and lung cancer diagnosis.\")\n",
    "else:\n",
    "    print(\"Fail to reject the null hypothesis. There is no significant association between smoking status and lung cancer diagnosis.\")"
   ]
  },
  {
   "cell_type": "markdown",
   "id": "d455fb82-ba26-485d-a4f3-e5788de386ac",
   "metadata": {},
   "source": [
    "##### Q10. A study was conducted to determine if the proportion of people who prefer milk chocolate, dark\n",
    "##### chocolate, or white chocolate is different in the U.S. versus the U.K. A random sample of 500 people from\n",
    "##### the U.S. and a random sample of 500 people from the U.K. were surveyed. The results are shown in the\n",
    "##### contingency table below. Conduct a chi-square test for independence to determine if there is a significant\n",
    "##### association between chocolate preference and country of origin.\n",
    "\n",
    "##### Milk Chocolate Dark Chocolate White Chocolate\n",
    "\n",
    "##### U.S. (n=500) 200 150 150\n",
    "##### U.K. (n=500) 225 175 100\n",
    "##### Dark Chocolate White Chocolate\n",
    "\n",
    "##### Use a significance level of 0.01."
   ]
  },
  {
   "cell_type": "code",
   "execution_count": 14,
   "id": "fff8307e-5590-4af5-8221-cce20a7cab33",
   "metadata": {},
   "outputs": [
    {
     "name": "stdout",
     "output_type": "stream",
     "text": [
      "Reject the null hypothesis. There is a significant association between chocolate preference and country of origin.\n"
     ]
    }
   ],
   "source": [
    "## Program to to determine if there is a significant association between chocolate preference and country of origin\n",
    "\n",
    "# State Hypothesis\n",
    "\"\"\"\n",
    "Null Hypothesis: There is no association between chocolate preference and country of origin.\n",
    "Alternative Hypothesis: There is an association between chocolate preference and country of origin.\n",
    "\"\"\"\n",
    "import scipy.stats as stats\n",
    "\n",
    "# Given contingency table\n",
    "observed_data = [[200, 150, 150], \n",
    "                 [225, 175, 100]]\n",
    "\n",
    "# Calculate the chi-square statistic and p-value\n",
    "chi_square_statistic, p, df, expected = stats.chi2_contingency(observed_data)\n",
    "\n",
    "# Degrees of freedom\n",
    "degrees_of_freedom = (len(observed_data) - 1) * (len(observed_data[0]) - 1)\n",
    "\n",
    "alpha = 0.01\n",
    "\n",
    "# Calculate the critical chi-square value\n",
    "chi_square_critical = stats.chi2.ppf(1-alpha, degrees_of_freedom)\n",
    "\n",
    "# Make a decision\n",
    "if chi_square_statistic > chi_square_critical:\n",
    "    print(\"Reject the null hypothesis. There is a significant association between chocolate preference and country of origin.\")\n",
    "else:\n",
    "    print(\"Fail to reject the null hypothesis. There is no significant association between chocolate preference and country of origin.\")"
   ]
  },
  {
   "cell_type": "markdown",
   "id": "b5d8b08c-ad96-46f4-8d69-93ec938476a7",
   "metadata": {},
   "source": [
    "##### Q11. A random sample of 30 people was selected from a population with an unknown mean and standard\n",
    "##### deviation. The sample mean was found to be 72 and the sample standard deviation was found to be 10.\n",
    "##### Conduct a hypothesis test to determine if the population mean is significantly different from 70. Use a\n",
    "##### significance level of 0.05."
   ]
  },
  {
   "cell_type": "code",
   "execution_count": 4,
   "id": "e539dacd-459b-4a80-aa5e-81b170435752",
   "metadata": {},
   "outputs": [
    {
     "name": "stdout",
     "output_type": "stream",
     "text": [
      "Fail to reject the null hypothesis. There is no significant difference in the population mean.\n"
     ]
    }
   ],
   "source": [
    "## Program to conduct a hypothesis test to determine if the population mean is significantly different from sample mean\n",
    "\n",
    "# State Hypothesis\n",
    "\"\"\"\n",
    "Null Hypothesis: The population mean is equal to 70.\n",
    "Alternative Hypothesis: The population mean is significantly different from 70.\n",
    "\"\"\"\n",
    "\n",
    "import scipy.stats as stats\n",
    "\n",
    "# Given data\n",
    "sample_size = 30\n",
    "sample_mean = 72\n",
    "sample_std_dev = 10\n",
    "population_mean = 70\n",
    "df = sample_size - 1\n",
    "alpha = 0.05\n",
    "\n",
    "# Calculate the t-statistic\n",
    "t_statistic = (sample_mean - population_mean)/ (sample_std_dev/(sample_size)**0.5)\n",
    "\n",
    "# Calculate the critical t-value\n",
    "t_critical = stats.t.ppf(1-alpha/2, df)\n",
    "\n",
    "# Make a decision\n",
    "if abs(t_statistic) > t_critical:\n",
    "    print(\"Reject the null hypothesis. The population mean is significantly different from 70.\")\n",
    "else:\n",
    "    print(\"Fail to reject the null hypothesis. There is no significant difference in the population mean.\")"
   ]
  },
  {
   "cell_type": "code",
   "execution_count": null,
   "id": "a0a847c2-efa4-40db-83d1-7e990ea22976",
   "metadata": {},
   "outputs": [],
   "source": []
  }
 ],
 "metadata": {
  "kernelspec": {
   "display_name": "Python 3 (ipykernel)",
   "language": "python",
   "name": "python3"
  },
  "language_info": {
   "codemirror_mode": {
    "name": "ipython",
    "version": 3
   },
   "file_extension": ".py",
   "mimetype": "text/x-python",
   "name": "python",
   "nbconvert_exporter": "python",
   "pygments_lexer": "ipython3",
   "version": "3.10.8"
  }
 },
 "nbformat": 4,
 "nbformat_minor": 5
}
