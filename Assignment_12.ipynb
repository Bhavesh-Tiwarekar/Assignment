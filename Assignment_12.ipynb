{
 "cells": [
  {
   "cell_type": "markdown",
   "id": "05b2b224-ffbb-4192-9096-b41c1091d55b",
   "metadata": {},
   "source": [
    "#### Q1. What is a database? Differentiate between SQL and NoSQL databases."
   ]
  },
  {
   "cell_type": "code",
   "execution_count": 1,
   "id": "98a68431-1514-4251-ab9b-a7bf042cf365",
   "metadata": {},
   "outputs": [
    {
     "data": {
      "text/plain": [
       "'\\nAnswer:\\n\\n1. A database is an organized collection of data that can be structured or unstructured.\\n2. The difference between SQL and NoSQL databases are as follows:\\n    a. SQL databases use a structured data model such as a table with rows and columns. The NoSQL databases use data models such as key-value \\n    pair, documents, etc.\\n    b. SQL database have vertical scalability which means that they are designed to run on single server while NoSQL database have horizontal\\n    scalability where the data can be distributed among multiple servers.\\n    c. SQL database provides a defined set of commands fro quering and modifying the data. The NoSQL often provide query language specific to\\n    their data model.\\n'"
      ]
     },
     "execution_count": 1,
     "metadata": {},
     "output_type": "execute_result"
    }
   ],
   "source": [
    "\"\"\"\n",
    "Answer:\n",
    "\n",
    "1. A database is an organized collection of data that can be structured or unstructured.\n",
    "2. The difference between SQL and NoSQL databases are as follows:\n",
    "    a. SQL databases use a structured data model such as a table with rows and columns. The NoSQL databases use data models such as key-value \n",
    "    pair, documents, etc.\n",
    "    b. SQL database have vertical scalability which means that they are designed to run on single server while NoSQL database have horizontal\n",
    "    scalability where the data can be distributed among multiple servers.\n",
    "    c. SQL database provides a defined set of commands fro quering and modifying the data. The NoSQL often provide query language specific to\n",
    "    their data model.\n",
    "\"\"\""
   ]
  },
  {
   "cell_type": "markdown",
   "id": "094a9fb0-0baa-4137-84d6-eb6182a7a2c2",
   "metadata": {},
   "source": [
    "#### Q2. What is DDL? Explain why CREATE, DROP, ALTER, and TRUNCATE are used with an example."
   ]
  },
  {
   "cell_type": "code",
   "execution_count": null,
   "id": "cc8f35f0-7c75-408e-89e3-5f01bfa4c329",
   "metadata": {},
   "outputs": [],
   "source": [
    "\"\"\"\n",
    "Answer:\n",
    "\n",
    "1. DDL stands for Data Definition Language. It is used to create and modify the structure of database objects in a database.\n",
    "2. CREATE- It is used to create new database object such as table or view. \n",
    "    Example: CREATE TABLE Students (id INT, name VARCHAR(50);\n",
    "3. DROP- It is used to delete an existing database object.\n",
    "    Example: DROP TABLE Students;\n",
    "4. ALTER- It is used to modify the structure of existing database object.\n",
    "    Example: ALTER TABLE Students ADD COLUMN age INT;\n",
    "5. TRUNCATE- It is used to remove all data from a table while keeping the table structure intact.\n",
    "    Example: TRUNCATE TABLE Students;\n",
    "\n",
    "\"\"\""
   ]
  },
  {
   "cell_type": "markdown",
   "id": "88a90ed4-3339-424f-bbdb-7078065fd26b",
   "metadata": {},
   "source": [
    "#### Q3. What is DML? Explain INSERT, UPDATE, and DELETE with an example."
   ]
  },
  {
   "cell_type": "code",
   "execution_count": null,
   "id": "350bbbdc-4e97-42c7-9080-42324e370dad",
   "metadata": {},
   "outputs": [],
   "source": [
    "\"\"\"\n",
    "Answer: \n",
    "\n",
    "1. A DML (Data Manipulation Language) is a defined set of query that allows to insert, update, and delete data in database tables.\n",
    "2. INSERT- It is used to add a record into a table.\n",
    "    Example: INSERT INTO Students (id, name) VALUES (1, 'Bhavesh');\n",
    "2. UPDATE- It is used to update existing recored in a table.\n",
    "    Example: \n",
    "        UPDATE Students\n",
    "        SET age = 12\n",
    "        WHERE id = 1;\n",
    "3. DELETE- It is used to remove rows from a table.\n",
    "    Example:\n",
    "        DELETE FROM Students\n",
    "        WHERE id = 1;\n",
    "\"\"\""
   ]
  },
  {
   "cell_type": "markdown",
   "id": "98796cf7-0b77-4c0b-9be1-e3119885b7fd",
   "metadata": {},
   "source": [
    "#### Q4. What is DQL? Explain SELECT with an example."
   ]
  },
  {
   "cell_type": "code",
   "execution_count": 1,
   "id": "04402eb8-7cb6-41cb-80ed-d2df3e10e519",
   "metadata": {},
   "outputs": [
    {
     "data": {
      "text/plain": [
       "\"\\nAnswer:\\n\\n1. DQL (Data Query Language) are statements used to retrieve data from the database using the 'SELECT' statement.\\n2. Example:\\n    To fetch the data from all columns of table the command is as follows-\\n        SELECT * FROM Table_name;\\n\""
      ]
     },
     "execution_count": 1,
     "metadata": {},
     "output_type": "execute_result"
    }
   ],
   "source": [
    "\"\"\"\n",
    "Answer:\n",
    "\n",
    "1. DQL (Data Query Language) are statements used to retrieve data from the database using the 'SELECT' statement.\n",
    "2. Example:\n",
    "    To fetch the data from all columns of table the command is as follows-\n",
    "        SELECT * FROM Table_name;\n",
    "\"\"\""
   ]
  },
  {
   "cell_type": "markdown",
   "id": "3eede0d5-a926-4e5c-b73b-2ea7e6ee28e3",
   "metadata": {},
   "source": [
    "#### Q5. Explain Primary Key and Foreign Key."
   ]
  },
  {
   "cell_type": "code",
   "execution_count": 2,
   "id": "a5defab6-26df-4923-8f43-7b159793ec59",
   "metadata": {},
   "outputs": [
    {
     "data": {
      "text/plain": [
       "'\\nAnswer:\\n\\n1. Primary Key: It is a single column in a table that uniquely identifies each record in a database table. It cannot be NULL value.\\n2. Foreign Key: It is a column that is used to establish link between two tables in a database. It can be a NULL value.\\n'"
      ]
     },
     "execution_count": 2,
     "metadata": {},
     "output_type": "execute_result"
    }
   ],
   "source": [
    "\"\"\"\n",
    "Answer:\n",
    "\n",
    "1. Primary Key: It is a single column in a table that uniquely identifies each record in a database table. It cannot be NULL value.\n",
    "2. Foreign Key: It is a column that is used to establish link between two tables in a database. It can be a NULL value.\n",
    "\"\"\""
   ]
  },
  {
   "cell_type": "markdown",
   "id": "2e9510b3-467e-48e5-a552-12a4ab96c730",
   "metadata": {},
   "source": [
    "#### Q6. Write a python code to connect MySQL to python. Explain the cursor() and execute() method."
   ]
  },
  {
   "cell_type": "code",
   "execution_count": 17,
   "id": "06907fc1-d448-4f2b-925a-47ccd30770a9",
   "metadata": {},
   "outputs": [
    {
     "name": "stdout",
     "output_type": "stream",
     "text": [
      "Please check your database credentials\n",
      " name 'mysql' is not defined\n"
     ]
    },
    {
     "data": {
      "text/plain": [
       "'\\nb. In the above code, cursor() method is used to to create cursor object to perform SQL operations.\\n    The execute() method runs the SQL query and returns the result.\\n'"
      ]
     },
     "execution_count": 17,
     "metadata": {},
     "output_type": "execute_result"
    }
   ],
   "source": [
    "\"\"\"\n",
    "Answer:\n",
    "\n",
    "a. Program to connect MySQL to Python:\n",
    "\"\"\"\n",
    "# First install MySQL Connector using the following command:\n",
    "# python -m pip install mysql-connector-python\n",
    "\n",
    "import mysql.connector\n",
    "\n",
    "try:\n",
    "    connection = mysql.connector.connect(\n",
    "        host = \"localhost\",\n",
    "        user = \"abc\",\n",
    "        password = \"password\"\n",
    "    )\n",
    "\n",
    "    print(connection)\n",
    "    \n",
    "    cursor = connection.cursor()\n",
    "    cursor.execute(\"SHOW DATABASE\")\n",
    "    for x in cursor:\n",
    "        print(x)\n",
    "    connection.close()\n",
    "except Exception as e:\n",
    "    print(\"Please check your connection credentials\\n\", e)\n",
    "    \n",
    "\"\"\"\n",
    "b. In the above code, cursor() method is used to create cursor object to perform SQL operations.\n",
    "    The execute() method runs the SQL query and returns the result displaying all available databases.\n",
    "\"\"\""
   ]
  },
  {
   "cell_type": "markdown",
   "id": "d53ce3db-74a0-4f69-a064-dab05c2f5819",
   "metadata": {},
   "source": [
    "#### Q7. Give the order of execution of SQL clauses in an SQL query."
   ]
  },
  {
   "cell_type": "code",
   "execution_count": 2,
   "id": "2f0b6c86-feaa-433f-8392-12963f24d644",
   "metadata": {},
   "outputs": [
    {
     "data": {
      "text/plain": [
       "'\\nAnswer:\\nThe following is the order of execution of SQL clauses in an SQL query:\\n1. FROM- Choose and join tables to get base data.\\n2. WHERE- Filters the base data.\\n3. GROUP BY- Aggregates the base data.\\n4. HAVING- Filters the aggregated data.\\n5. SELECT- Returns the final data.\\n6. ORDER BY- Sorts the final data.\\n7. LIMIT- Limits the returned data to a row count.\\n\\n'"
      ]
     },
     "execution_count": 2,
     "metadata": {},
     "output_type": "execute_result"
    }
   ],
   "source": [
    "\"\"\"\n",
    "Answer:\n",
    "The following is the order of execution of SQL clauses in an SQL query:\n",
    "1. FROM- Choose and join tables to get base data.\n",
    "2. WHERE- Filters the base data.\n",
    "3. GROUP BY- Aggregates the base data.\n",
    "4. HAVING- Filters the aggregated data.\n",
    "5. SELECT- Returns the final data.\n",
    "6. ORDER BY- Sorts the final data.\n",
    "7. LIMIT- Limits the returned data to a row count.\n",
    "\n",
    "\"\"\""
   ]
  },
  {
   "cell_type": "code",
   "execution_count": null,
   "id": "c9fddf87-c0b2-41a5-be67-1213d9fc4c1a",
   "metadata": {},
   "outputs": [],
   "source": []
  }
 ],
 "metadata": {
  "kernelspec": {
   "display_name": "Python 3 (ipykernel)",
   "language": "python",
   "name": "python3"
  },
  "language_info": {
   "codemirror_mode": {
    "name": "ipython",
    "version": 3
   },
   "file_extension": ".py",
   "mimetype": "text/x-python",
   "name": "python",
   "nbconvert_exporter": "python",
   "pygments_lexer": "ipython3",
   "version": "3.10.8"
  }
 },
 "nbformat": 4,
 "nbformat_minor": 5
}
