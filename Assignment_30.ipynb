{
 "cells": [
  {
   "cell_type": "markdown",
   "id": "dadb60eb-ab77-4096-af30-a6b3c0372a60",
   "metadata": {},
   "source": [
    "##### Q1: What are the Probability Mass Function (PMF) and Probability Density Function (PDF)? Explain with an example."
   ]
  },
  {
   "cell_type": "code",
   "execution_count": 2,
   "id": "d82d5e68-cd50-401a-b357-28332d4af0b0",
   "metadata": {},
   "outputs": [
    {
     "data": {
      "text/plain": [
       "\"\\nAnswer:\\n\\na. Probability Mass Function (PMF):\\n1. The Probability Mass Function (PMF) is a function that describes the probability distribution of a discrete random variable. \\n2. It gives the probability of each possible outcome or value that the random variable can take on.\\n3. Example:\\nConsider rolling a fair six-sided die. The random variable X represents the outcome of the roll. The PMF of X is as follows:\\n\\nP(X=1) = 1/6\\nP(X=2) = 1/6\\nP(X=3) = 1/6\\nP(X=4) = 1/6\\nP(X=5) = 1/6\\nP(X=6) = 1/6\\n\\nb. Probability Density Function (PDF):\\n1. The Probability Density Function (PDF) is a function that describes the probability distribution of a continuous random variable. \\n2. Unlike discrete random variables, continuous random variables can take on an infinite number of values within a given range. \\n3. The PDF gives the relative likelihood of the random variable falling within a particular range of values.\\n4. Example:\\nConsider a continuous random variable Y representing the height of individuals in a certain population, measured in centimeters. \\nThe probability of an individual's height falling within a certain range can be calculated by integrating the PDF over that range.\\n\""
      ]
     },
     "execution_count": 2,
     "metadata": {},
     "output_type": "execute_result"
    }
   ],
   "source": [
    "\"\"\"\n",
    "Answer:\n",
    "\n",
    "a. Probability Mass Function (PMF):\n",
    "1. The Probability Mass Function (PMF) is a function that describes the probability distribution of a discrete random variable. \n",
    "2. It gives the probability of each possible outcome or value that the random variable can take on.\n",
    "3. Example:\n",
    "Consider rolling a fair six-sided die. The random variable X represents the outcome of the roll. The PMF of X is as follows:\n",
    "\n",
    "P(X=1) = 1/6\n",
    "P(X=2) = 1/6\n",
    "P(X=3) = 1/6\n",
    "P(X=4) = 1/6\n",
    "P(X=5) = 1/6\n",
    "P(X=6) = 1/6\n",
    "\n",
    "b. Probability Density Function (PDF):\n",
    "1. The Probability Density Function (PDF) is a function that describes the probability distribution of a continuous random variable. \n",
    "2. Unlike discrete random variables, continuous random variables can take on an infinite number of values within a given range. \n",
    "3. The PDF gives the relative likelihood of the random variable falling within a particular range of values.\n",
    "4. Example:\n",
    "Consider a continuous random variable Y representing the height of individuals in a certain population, measured in centimeters. \n",
    "The probability of an individual's height falling within a certain range can be calculated by integrating the PDF over that range.\n",
    "\"\"\""
   ]
  },
  {
   "cell_type": "markdown",
   "id": "39f56cd1-af34-4fbd-ba6f-e51af276b7c5",
   "metadata": {},
   "source": [
    "##### Q2: What is Cumulative Density Function (CDF)? Explain with an example. Why CDF is used?"
   ]
  },
  {
   "cell_type": "code",
   "execution_count": 3,
   "id": "4aba8b54-103a-45a2-923f-13cc7af8351c",
   "metadata": {},
   "outputs": [
    {
     "data": {
      "text/plain": [
       "\"\\nAnswer:\\n\\n1. The Cumulative Distribution Function (CDF) describe the probability distribution of a random variable, whether it's discrete or continuous. \\n2. The CDF provides information about the probability that a random variable takes on a value less than or equal to a given value. \\n3. Example:\\nLet's consider a discrete random variable X that represents the outcome of rolling a fair six-sided die. The CDF of X is as follows:\\n\\nF(1) = P(X ≤ 1) = 1/6\\nF(2) = P(X ≤ 2) = 2/6\\nF(3) = P(X ≤ 3) = 3/6\\nF(4) = P(X ≤ 4) = 4/6\\nF(5) = P(X ≤ 5) = 5/6\\nF(6) = P(X ≤ 6) = 6/6 = 1\\n4. The CDF provides an easy way to calculate probabilities of specific ranges of values.\\n5. The CDF allows for easy comparison of different random variables' distributions by observing their cumulative probabilities.\\n6. The shape and behavior of the CDF provide insights into various properties of a random variable's distribution. \\n   These properties include spread, central tendency, skewness, and tails of the distribution.\\n\""
      ]
     },
     "execution_count": 3,
     "metadata": {},
     "output_type": "execute_result"
    }
   ],
   "source": [
    "\"\"\"\n",
    "Answer:\n",
    "\n",
    "1. The Cumulative Distribution Function (CDF) describe the probability distribution of a random variable, whether it's discrete or continuous. \n",
    "2. The CDF provides information about the probability that a random variable takes on a value less than or equal to a given value. \n",
    "3. Example:\n",
    "Let's consider a discrete random variable X that represents the outcome of rolling a fair six-sided die. The CDF of X is as follows:\n",
    "\n",
    "F(1) = P(X ≤ 1) = 1/6\n",
    "F(2) = P(X ≤ 2) = 2/6\n",
    "F(3) = P(X ≤ 3) = 3/6\n",
    "F(4) = P(X ≤ 4) = 4/6\n",
    "F(5) = P(X ≤ 5) = 5/6\n",
    "F(6) = P(X ≤ 6) = 6/6 = 1\n",
    "4. The CDF provides an easy way to calculate probabilities of specific ranges of values.\n",
    "5. The CDF allows for easy comparison of different random variables' distributions by observing their cumulative probabilities.\n",
    "6. The shape and behavior of the CDF provide insights into various properties of a random variable's distribution. \n",
    "   These properties include spread, central tendency, skewness, and tails of the distribution.\n",
    "\"\"\""
   ]
  },
  {
   "cell_type": "markdown",
   "id": "c2c08822-1f54-4bbe-8e03-600b39303ac4",
   "metadata": {},
   "source": [
    "##### Q3: What are some examples of situations where the normal distribution might be used as a model?\n",
    "##### Explain how the parameters of the normal distribution relate to the shape of the distribution."
   ]
  },
  {
   "cell_type": "code",
   "execution_count": 1,
   "id": "dcc9fe0a-7431-413d-bf1a-5df71e93e3dd",
   "metadata": {},
   "outputs": [
    {
     "data": {
      "text/plain": [
       "\"\\nAnswer:\\n\\na. Here are some examples situations where the normal distribution is used as a model:\\n1. Height of Individuals: \\n   The heights of a large population of humans tend to follow a roughly normal distribution. Most people are of average height, and fewer people \\n   are significantly taller or shorter.\\n2. Test Scores: \\n   When a test is designed well and covers a broad range of abilities, test scores often exhibit a normal distribution. \\n   Most students score around the average, with fewer students scoring exceptionally high or low.\\n3. Measurement Errors: \\n   In many scientific experiments, measurements are subject to random errors. \\n   These errors often follow a normal distribution around the true value of the measurement.\\nb. Relatedness of shape of normal distribution with its parameters:\\n1. The normal distribution is characterized by two parameters viz. the mean and the standard deviation.\\n2. The mean represents the central value of the distribution. It's the point around which the data cluster.\\n3. The standard deviation measures the spread or dispersion of the data points around the mean. \\n   A smaller standard deviation indicates that the data points are closely clustered around the mean, while a larger standard deviation indicates more spread-out data.\\n\""
      ]
     },
     "execution_count": 1,
     "metadata": {},
     "output_type": "execute_result"
    }
   ],
   "source": [
    "\"\"\"\n",
    "Answer:\n",
    "\n",
    "a. Here are some examples situations where the normal distribution is used as a model:\n",
    "1. Height of Individuals: \n",
    "   The heights of a large population of humans tend to follow a roughly normal distribution. Most people are of average height, and fewer people \n",
    "   are significantly taller or shorter.\n",
    "2. Test Scores: \n",
    "   When a test is designed well and covers a broad range of abilities, test scores often exhibit a normal distribution. \n",
    "   Most students score around the average, with fewer students scoring exceptionally high or low.\n",
    "3. Measurement Errors: \n",
    "   In many scientific experiments, measurements are subject to random errors. \n",
    "   These errors often follow a normal distribution around the true value of the measurement.\n",
    "b. Relatedness of shape of normal distribution with its parameters:\n",
    "1. The normal distribution is characterized by two parameters viz. the mean and the standard deviation.\n",
    "2. The mean represents the central value of the distribution. It's the point around which the data cluster.\n",
    "3. The standard deviation measures the spread or dispersion of the data points around the mean. \n",
    "   A smaller standard deviation indicates that the data points are closely clustered around the mean, while a larger standard deviation indicates more spread-out data.\n",
    "\"\"\""
   ]
  },
  {
   "cell_type": "markdown",
   "id": "4c6b19aa-7a2e-443c-b422-dc3d8ebeae03",
   "metadata": {},
   "source": [
    "##### Q4: Explain the importance of Normal Distribution. Give a few real-life examples of Normal Distribution."
   ]
  },
  {
   "cell_type": "code",
   "execution_count": 3,
   "id": "3959e5cc-ecde-4fef-ad94-3f8b4bfb486f",
   "metadata": {},
   "outputs": [
    {
     "data": {
      "text/plain": [
       "'\\nAnswer:\\n\\na. Importance of Normal Distribution:\\n1. Ubiquitous in Nature: \\n   The normal distribution is found in many natural phenomena and human-made systems. It often emerges as a result of the central limit theorem, \\n   which states that the distribution of the sum (or average) of a large number of independent, identically distributed random variables approaches a\\n   normal distribution.\\n2. Simplicity and Ease of Use: \\n   The normal distribution is characterized by just two parameters, the mean and the standard deviation, which makes it relatively simple \\n   to describe and work with mathematically. \\n3. Statistical Inference: \\n   In statistics, the normal distribution plays a pivotal role in hypothesis testing, confidence intervals, and parameter estimation. \\n   Due to its well-defined shape and properties, statisticians can use the normal distribution to make probabilistic statements about data and populations.\\n\\nb. Real-life examples situations where the normal distribution is commonly observed:\\n1. Exam Scores: \\n   In educational testing, the scores of a large group of students on a well-designed test tend to follow a normal distribution. \\n   This distribution helps educators understand the performance of the students and set appropriate grading curves.\\n2. Physical Measurements:\\n   Measurements like height, weight, and blood pressure in populations often exhibit a normal distribution. While there can be variations due to genetic and \\n   environmental factors, the central tendency and variability tend to follow a bell-shaped curve.\\n3. Quality Control: \\n   In manufacturing, the distribution of product dimensions can often be approximated by a normal distribution. \\n   Quality control processes use the normal distribution to set acceptable tolerances and assess the consistency of production.\\n\\n'"
      ]
     },
     "execution_count": 3,
     "metadata": {},
     "output_type": "execute_result"
    }
   ],
   "source": [
    "\"\"\"\n",
    "Answer:\n",
    "\n",
    "a. Importance of Normal Distribution:\n",
    "1. Ubiquitous in Nature: \n",
    "   The normal distribution is found in many natural phenomena and human-made systems. It often emerges as a result of the central limit theorem, \n",
    "   which states that the distribution of the sum (or average) of a large number of independent, identically distributed random variables approaches a\n",
    "   normal distribution.\n",
    "2. Simplicity and Ease of Use: \n",
    "   The normal distribution is characterized by just two parameters, the mean and the standard deviation, which makes it relatively simple \n",
    "   to describe and work with mathematically. \n",
    "3. Statistical Inference: \n",
    "   In statistics, the normal distribution plays a pivotal role in hypothesis testing, confidence intervals, and parameter estimation. \n",
    "   Due to its well-defined shape and properties, statisticians can use the normal distribution to make probabilistic statements about data and populations.\n",
    "\n",
    "b. Real-life examples situations where the normal distribution is commonly observed:\n",
    "1. Exam Scores: \n",
    "   In educational testing, the scores of a large group of students on a well-designed test tend to follow a normal distribution. \n",
    "   This distribution helps educators understand the performance of the students and set appropriate grading curves.\n",
    "2. Physical Measurements:\n",
    "   Measurements like height, weight, and blood pressure in populations often exhibit a normal distribution. While there can be variations due to genetic and \n",
    "   environmental factors, the central tendency and variability tend to follow a bell-shaped curve.\n",
    "3. Quality Control: \n",
    "   In manufacturing, the distribution of product dimensions can often be approximated by a normal distribution. \n",
    "   Quality control processes use the normal distribution to set acceptable tolerances and assess the consistency of production.\n",
    "\n",
    "\"\"\""
   ]
  },
  {
   "cell_type": "markdown",
   "id": "67974e04-83a6-4dc3-8305-4d9d3af1d9f6",
   "metadata": {},
   "source": [
    "##### Q5: What is Bernaulli Distribution? Give an Example. What is the difference between Bernoulli Distribution and Binomial Distribution?"
   ]
  },
  {
   "cell_type": "code",
   "execution_count": 4,
   "id": "62befa7f-68e3-4d15-a5a8-03fafad6b158",
   "metadata": {},
   "outputs": [
    {
     "data": {
      "text/plain": [
       "'\\nAnswer:\\n\\n1.The Bernoulli distribution is a discrete probability distribution that models a random experiment with two possible outcomes i.e. success (typically denoted as 1) \\n  and failure (typically denoted as 0).\\n2. Example: \\n   Consider flipping a fair coin. Let\\'s say we define \"success\" as getting heads (H) and \"failure\" as getting tails (T). \\n   The Bernoulli distribution in this case is as follows:\\n   P(X = 1) = p (probability of getting heads)\\n   P(X = 0) = 1 - p (probability of getting tails)\\n3. Difference between Bernoulli Distribution and Binomial Distribution:\\na. Bernoulli Distribution deals with a single random experiment with two possible outcomes while the Binomial Distribution deals with a sequence of independent \\n   and identically distributed Bernoulli trials.\\nb. The Bernoulli Distribution models the probability of one event (success) happening in a single trial while the Binomial Distribution models the number \\n   of successful outcomes (events) in a fixed number of trials.\\n'"
      ]
     },
     "execution_count": 4,
     "metadata": {},
     "output_type": "execute_result"
    }
   ],
   "source": [
    "\"\"\"\n",
    "Answer:\n",
    "\n",
    "1.The Bernoulli distribution is a discrete probability distribution that models a random experiment with two possible outcomes i.e. success (typically denoted as 1) \n",
    "  and failure (typically denoted as 0).\n",
    "2. Example: \n",
    "   Consider flipping a fair coin. Let's say we define \"success\" as getting heads (H) and \"failure\" as getting tails (T). \n",
    "   The Bernoulli distribution in this case is as follows:\n",
    "   P(X = 1) = p (probability of getting heads)\n",
    "   P(X = 0) = 1 - p (probability of getting tails)\n",
    "3. Difference between Bernoulli Distribution and Binomial Distribution:\n",
    "a. Bernoulli Distribution deals with a single random experiment with two possible outcomes while the Binomial Distribution deals with a sequence of independent \n",
    "   and identically distributed Bernoulli trials.\n",
    "b. The Bernoulli Distribution models the probability of one event (success) happening in a single trial while the Binomial Distribution models the number \n",
    "   of successful outcomes (events) in a fixed number of trials.\n",
    "\"\"\""
   ]
  },
  {
   "cell_type": "markdown",
   "id": "81e2556e-7f81-4928-b323-8ee62768f055",
   "metadata": {},
   "source": [
    "##### Q6. Consider a dataset with a mean of 50 and a standard deviation of 10. If we assume that the dataset\n",
    "##### is normally distributed, what is the probability that a randomly selected observation will be greater\n",
    "##### than 60? Use the appropriate formula and show your calculations."
   ]
  },
  {
   "cell_type": "code",
   "execution_count": 6,
   "id": "c1330cc2-ab9f-4d9c-bb55-cd5db472fb25",
   "metadata": {},
   "outputs": [
    {
     "name": "stdout",
     "output_type": "stream",
     "text": [
      "The probability that X > 60 is approximately 0.15865525393145707\n"
     ]
    }
   ],
   "source": [
    "\"\"\"\n",
    "Answer:\n",
    "\n",
    "Here the cumulative distribution function (CDF) of the normal distribution can be used to answer the given question.\n",
    "\n",
    "Given data:\n",
    "mean = 50\n",
    "std = 10\n",
    "x = 60\n",
    "\n",
    "The formula for the CDF of the normal distribution is:\n",
    "\n",
    "P(X > x) = 1 - CDF(z)\n",
    "\n",
    "z can be calculated as (x - mean)/std = (60-50)/10 = 1\n",
    "\n",
    "Therefore,\n",
    "P(X > x) = 1 - CDF(1)\n",
    "         = 1- 0.8413\n",
    "         = 0.1587\n",
    "\n",
    "So, the probability that a randomly selected observation will be greater than 60 is approximately 0.1587, or 15.87%.\n",
    "\n",
    "\"\"\"\n",
    "\n",
    "# Program to get probability that a randomly selected observation will be greater than 60 in a normal disteibution\n",
    "\n",
    "from scipy.stats import norm\n",
    "\n",
    "mean = 50\n",
    "std_dev = 10\n",
    "x = 60\n",
    "\n",
    "# Calculate the z-score\n",
    "z = (x - mean) / std_dev\n",
    "\n",
    "# Calculate the probability using the cumulative distribution function (CDF)\n",
    "probability = 1 - norm.cdf(z)\n",
    "\n",
    "print(f\"The probability that X > {x} is approximately {probability}\")"
   ]
  },
  {
   "cell_type": "markdown",
   "id": "48a63c56-b3bd-4336-a6ea-05d65a19a2bf",
   "metadata": {},
   "source": [
    "##### Q7: Explain uniform Distribution with an example."
   ]
  },
  {
   "cell_type": "code",
   "execution_count": 2,
   "id": "3943531f-e6e5-433c-8b6c-1088e3ee62c0",
   "metadata": {},
   "outputs": [
    {
     "data": {
      "text/plain": [
       "'\\nAnswer:\\n\\n1. A uniform distribution, also known as a rectangular distribution, is a type of probability distribution in which all possible outcomes are equally likely.\\n2. In other words, each value within a certain range has an equal chance of occurring.\\n3. Example:\\n    Consider you have a fair six-sided die. \\n    When you roll the die, each of the six outcomes (1, 2, 3, 4, 5, and 6) has an equal probability of 1/6 of being rolled. \\n    This is an example of a discrete uniform distribution, where each possible outcome has the same probability.\\n'"
      ]
     },
     "execution_count": 2,
     "metadata": {},
     "output_type": "execute_result"
    }
   ],
   "source": [
    "\"\"\"\n",
    "Answer:\n",
    "\n",
    "1. A uniform distribution, also known as a rectangular distribution, is a type of probability distribution in which all possible outcomes are equally likely.\n",
    "2. In other words, each value within a certain range has an equal chance of occurring.\n",
    "3. Example:\n",
    "    Consider you have a fair six-sided die. \n",
    "    When you roll the die, each of the six outcomes (1, 2, 3, 4, 5, and 6) has an equal probability of 1/6 of being rolled. \n",
    "    This is an example of a discrete uniform distribution, where each possible outcome has the same probability.\n",
    "\"\"\""
   ]
  },
  {
   "cell_type": "markdown",
   "id": "49730191-02d8-4869-bf17-d4813d10d458",
   "metadata": {},
   "source": [
    "##### Q8: What is the z score? State the importance of the z score."
   ]
  },
  {
   "cell_type": "code",
   "execution_count": 1,
   "id": "09fc9772-1b95-47b7-9651-2b8e1b2851c0",
   "metadata": {},
   "outputs": [
    {
     "data": {
      "text/plain": [
       "'\\nAnswer:\\n\\n1. The z-score is a statistical measure that quantifies the number of standard deviations a data point is away from the mean of a distribution.\\n2. Importance of z-score:\\na. z-scores standardize data, allowing us to compare and analyze values from different datasets or populations.\\nb. A z-score tells you how far a data point is from the mean in terms of standard deviations. \\n   Positive z-scores indicate values above the mean, while negative z-scores indicate values below the mean.\\nc. z-scores are used to find probabilities associated with specific values in the normal distribution, which is essential in hypothesis testing, \\n   confidence interval estimation and many statistical analyses.\\n'"
      ]
     },
     "execution_count": 1,
     "metadata": {},
     "output_type": "execute_result"
    }
   ],
   "source": [
    "\"\"\"\n",
    "Answer:\n",
    "\n",
    "1. The z-score is a statistical measure that quantifies the number of standard deviations a data point is away from the mean of a distribution.\n",
    "2. Importance of z-score:\n",
    "a. z-scores standardize data, allowing us to compare and analyze values from different datasets or populations.\n",
    "b. A z-score tells you how far a data point is from the mean in terms of standard deviations. \n",
    "   Positive z-scores indicate values above the mean, while negative z-scores indicate values below the mean.\n",
    "c. z-scores are used to find probabilities associated with specific values in the normal distribution, which is essential in hypothesis testing, \n",
    "   confidence interval estimation and many statistical analyses.\n",
    "\"\"\""
   ]
  },
  {
   "cell_type": "markdown",
   "id": "6b76cfa0-a323-47ac-87d0-c1dc237ddb84",
   "metadata": {},
   "source": [
    "##### Q9: What is Central Limit Theorem? State the significance of the Central Limit Theorem."
   ]
  },
  {
   "cell_type": "code",
   "execution_count": 2,
   "id": "2accb88e-e99a-49b5-8aa4-b9019b511384",
   "metadata": {},
   "outputs": [
    {
     "data": {
      "text/plain": [
       "'\\nAnswer:\\n\\n1. The Central Limit Theorem states that as the sample size increases, the distribution of sample means approaches a normal distribution, \\n   even if the original population distribution is not normal.\\n2. Significance of the Central Limit Theorem is as follows:\\na. It provides a way to approximate the distribution of sample means from any population as a normal distribution.\\nb. The CLT is the foundation for many statistical inference techniques, such as hypothesis testing and confidence interval estimation. \\n   It allows statisticians to make inferences about population parameters based on sample statistics.\\nc. The CLT is crucial in fields like quality control, finance, social sciences, and healthcare, where the assumption \\n   of normally distributed sample means is often made for making predictions and decisions\\n'"
      ]
     },
     "execution_count": 2,
     "metadata": {},
     "output_type": "execute_result"
    }
   ],
   "source": [
    "\"\"\"\n",
    "Answer:\n",
    "\n",
    "1. The Central Limit Theorem states that as the sample size increases, the distribution of sample means approaches a normal distribution, \n",
    "   even if the original population distribution is not normal.\n",
    "2. Significance of the Central Limit Theorem is as follows:\n",
    "a. It provides a way to approximate the distribution of sample means from any population as a normal distribution.\n",
    "b. The CLT is the foundation for many statistical inference techniques, such as hypothesis testing and confidence interval estimation. \n",
    "   It allows statisticians to make inferences about population parameters based on sample statistics.\n",
    "c. The CLT is crucial in fields like quality control, finance, social sciences, and healthcare, where the assumption \n",
    "   of normally distributed sample means is often made for making predictions and decisions\n",
    "\"\"\""
   ]
  },
  {
   "cell_type": "markdown",
   "id": "7bad5833-ddc6-4075-b510-9e294a87ee69",
   "metadata": {},
   "source": [
    "##### Q10: State the assumptions of the Central Limit Theorem."
   ]
  },
  {
   "cell_type": "code",
   "execution_count": 3,
   "id": "c26b67a1-da57-4ea1-bd0e-8c7c62755981",
   "metadata": {},
   "outputs": [
    {
     "data": {
      "text/plain": [
       "'\\nAnswer:\\n\\nThe assumptions of  Central Limit Theorem:\\n1. The samples must be selected randomly from the population.\\n2. The observations within each sample should be independent of each other. \\n   In other words, the value of one observation should not be influenced by the values of other observations in the same sample. \\n3. The sample size should be at least 30.\\n'"
      ]
     },
     "execution_count": 3,
     "metadata": {},
     "output_type": "execute_result"
    }
   ],
   "source": [
    "\"\"\"\n",
    "Answer:\n",
    "\n",
    "The assumptions of  Central Limit Theorem:\n",
    "1. The samples must be selected randomly from the population.\n",
    "2. The observations within each sample should be independent of each other. \n",
    "   In other words, the value of one observation should not be influenced by the values of other observations in the same sample. \n",
    "3. The sample size should be at least 30.\n",
    "\"\"\""
   ]
  },
  {
   "cell_type": "code",
   "execution_count": null,
   "id": "7ef5fabc-b92d-4654-af60-bc5282e64553",
   "metadata": {},
   "outputs": [],
   "source": []
  }
 ],
 "metadata": {
  "kernelspec": {
   "display_name": "Python 3 (ipykernel)",
   "language": "python",
   "name": "python3"
  },
  "language_info": {
   "codemirror_mode": {
    "name": "ipython",
    "version": 3
   },
   "file_extension": ".py",
   "mimetype": "text/x-python",
   "name": "python",
   "nbconvert_exporter": "python",
   "pygments_lexer": "ipython3",
   "version": "3.10.8"
  }
 },
 "nbformat": 4,
 "nbformat_minor": 5
}
