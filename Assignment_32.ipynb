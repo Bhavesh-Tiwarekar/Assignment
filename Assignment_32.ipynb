{
 "cells": [
  {
   "cell_type": "markdown",
   "id": "187a7f9a-003c-4bb6-8fcb-592dc6d8d398",
   "metadata": {},
   "source": [
    "##### Q1: What is the difference between a t-test and a z-test? Provide an example scenario where you would use each type of test."
   ]
  },
  {
   "cell_type": "code",
   "execution_count": 2,
   "id": "e418871f-1276-4804-a5f0-74f53394883c",
   "metadata": {},
   "outputs": [
    {
     "data": {
      "text/plain": [
       "'\\nAnswer:\\n\\na. T- test:\\n1. The t-test is used when you want to compare the means of two groups and test whether there is a statistically significant difference between them. \\n2. It is commonly used when dealing with small sample sizes (typically less than 30) and when the population standard deviation is unknown.\\n3. Example Scenario: You have two groups of students and you want to determine if there is a statistically significant difference in their mean test scores.\\nb. Z-test:\\n1. The z-test is used when you want to compare a sample mean to a known population mean or when you have a large sample size (typically greater than 30). \\n2. It assumes that you know the population standard deviation.\\n3. Example Scenario: You work for a candy manufacturer, and you want to test whether a new production process results in candies with a different\\n   mean weight compared to the old process. You have a large sample of candies (more than 30) and know the population standard deviation.\\n'"
      ]
     },
     "execution_count": 2,
     "metadata": {},
     "output_type": "execute_result"
    }
   ],
   "source": [
    "\"\"\"\n",
    "Answer:\n",
    "\n",
    "a. T- test:\n",
    "1. The t-test is used when you want to compare the means of two groups and test whether there is a statistically significant difference between them. \n",
    "2. It is commonly used when dealing with small sample sizes (typically less than 30) and when the population standard deviation is unknown.\n",
    "3. Example Scenario: You have two groups of students and you want to determine if there is a statistically significant difference in their mean test scores.\n",
    "b. Z-test:\n",
    "1. The z-test is used when you want to compare a sample mean to a known population mean or when you have a large sample size (typically greater than 30). \n",
    "2. It assumes that you know the population standard deviation.\n",
    "3. Example Scenario: You work for a candy manufacturer, and you want to test whether a new production process results in candies with a different\n",
    "   mean weight compared to the old process. You have a large sample of candies (more than 30) and know the population standard deviation.\n",
    "\"\"\""
   ]
  },
  {
   "cell_type": "markdown",
   "id": "9a79fb9c-499d-430b-840a-86a8f6f3e347",
   "metadata": {},
   "source": [
    "##### Q2: Differentiate between one-tailed and two-tailed tests."
   ]
  },
  {
   "cell_type": "code",
   "execution_count": 4,
   "id": "7bf04bc3-22c0-4118-b45e-c503214d4742",
   "metadata": {},
   "outputs": [
    {
     "data": {
      "text/plain": [
       "'\\nAnswer:\\n1. In a one-tailed test, you are testing for the existence of an effect in one specific direction, either \"greater than\" or \"less than\" a certain value.\\n2. In a two-tailed test, you are testing for the existence of an effect in either direction, \"greater than\" or \"less than\" a certain value, without \\n   specifying the direction.\\n3. The critical region in one-tailed test is located entirely on one side of the probability distribution curve.\\n4. The critical region in two-tailed test is divided between both sides of the probability distribution curve.\\n'"
      ]
     },
     "execution_count": 4,
     "metadata": {},
     "output_type": "execute_result"
    }
   ],
   "source": [
    "\"\"\"\n",
    "Answer:\n",
    "1. In a one-tailed test, you are testing for the existence of an effect in one specific direction, either \"greater than\" or \"less than\" a certain value.\n",
    "2. In a two-tailed test, you are testing for the existence of an effect in either direction, \"greater than\" or \"less than\" a certain value, without \n",
    "   specifying the direction.\n",
    "3. The critical region in one-tailed test is located entirely on one side of the probability distribution curve.\n",
    "4. The critical region in two-tailed test is divided between both sides of the probability distribution curve.\n",
    "\"\"\""
   ]
  },
  {
   "cell_type": "markdown",
   "id": "dd4b8edc-4cfd-492e-9fc1-64c9ae3a1905",
   "metadata": {},
   "source": [
    "##### Q3: Explain the concept of Type 1 and Type 2 errors in hypothesis testing. Provide an example scenario for each type of error."
   ]
  },
  {
   "cell_type": "code",
   "execution_count": 5,
   "id": "822c29a7-946f-4099-8c36-52f4a9926665",
   "metadata": {},
   "outputs": [
    {
     "data": {
      "text/plain": [
       "'\\nAnswer:\\n\\n1. A Type 1 error occurs when you reject a null hypothesis (H0) that is actually true.\\n2. Type 1 errors are more likely to occur if you choose a very low alpha (e.g., 0.01) because you are being more stringent in your decision-making.\\n3. A Type 2 error occurs when you fail to reject a null hypothesis (H0) that is actually false.\\n4. Type 2 errors are inversely related to the power of a statistical test. These errors are more likely to occur when the test has low power.\\n5. Example Scenario for Type 1 error: Imagine a medical test for a rare disease. The null hypothesis (H0) is that the patient does not have the disease. \\n   If the test incorrectly indicates that a healthy person has the disease, this is a Type 1 error. It could lead to unnecessary stress and \\n   treatment for the patient.\\n6. Example Scenario for Type 2 error: Consider a clinical trial for a new drug. The null hypothesis (H0) is that the drug has no effect on a particular condition. \\n   If the trial fails to detect a real improvement in the condition due to the drug (i.e., it fails to reject H0), this is a Type 2 error. \\n   Patients may miss out on a potentially effective treatment.\\n\\n'"
      ]
     },
     "execution_count": 5,
     "metadata": {},
     "output_type": "execute_result"
    }
   ],
   "source": [
    "\"\"\"\n",
    "Answer:\n",
    "\n",
    "1. A Type 1 error occurs when you reject a null hypothesis (H0) that is actually true.\n",
    "2. Type 1 errors are more likely to occur if you choose a very low alpha (e.g., 0.01) because you are being more stringent in your decision-making.\n",
    "3. A Type 2 error occurs when you fail to reject a null hypothesis (H0) that is actually false.\n",
    "4. Type 2 errors are inversely related to the power of a statistical test. These errors are more likely to occur when the test has low power.\n",
    "5. Example Scenario for Type 1 error: Imagine a medical test for a rare disease. The null hypothesis (H0) is that the patient does not have the disease. \n",
    "   If the test incorrectly indicates that a healthy person has the disease, this is a Type 1 error. It could lead to unnecessary stress and \n",
    "   treatment for the patient.\n",
    "6. Example Scenario for Type 2 error: Consider a clinical trial for a new drug. The null hypothesis (H0) is that the drug has no effect on a particular condition. \n",
    "   If the trial fails to detect a real improvement in the condition due to the drug (i.e., it fails to reject H0), this is a Type 2 error. \n",
    "   Patients may miss out on a potentially effective treatment.\n",
    "\n",
    "\"\"\""
   ]
  },
  {
   "cell_type": "markdown",
   "id": "9947cb8a-f63b-45bc-b51d-65d9a00c3665",
   "metadata": {},
   "source": [
    "##### Q4: Explain Bayes's theorem with an example."
   ]
  },
  {
   "cell_type": "code",
   "execution_count": 2,
   "id": "e4a56bb6-0930-4475-94f3-9f07b87c1144",
   "metadata": {},
   "outputs": [
    {
     "data": {
      "text/plain": [
       "'\\nAnswer:\\n\\n1. The Bayes’ theorem describes the probability of an event based on prior knowledge of the conditions that might be relevant to the event.\\n2. Example:\\nImagine you have a standard deck of 52 playing cards. You draw one card at random, and you want to calculate the probability that it\\'s a \"King\" given some\\nadditional information.\\n\\nPrior probability (P(King)) = 4/52 = 1/13.\\n\\nNow, let\\'s say someone whispers to you that the card you\\'ve drawn is red. There are two red suits in a deck: hearts and diamonds.\\n\\nConditional Probability (P(Red/King)): the probability of drawing a red card given that it\\'s a King is 2/4 = 1/2.\\n\\nP(Red) = 26/56 = 1/2\\n\\nNow, you want to find the probability that the card is a King given that it\\'s red.\\n\\nUsing Bayes\\' theorem:\\nP(King/Red) = (P(Red/King) * P(King))/ P(Red)\\n            = 1/2 * 1/13\\n              ----------\\n                 1/2\\n            = 1/13\\n    \\nIn this example, Bayes\\'s theorem helped you update your probability estimate based on the new information (the card is red) \\nand the prior probability (the card is a King).\\n\\n'"
      ]
     },
     "execution_count": 2,
     "metadata": {},
     "output_type": "execute_result"
    }
   ],
   "source": [
    "\"\"\"\n",
    "Answer:\n",
    "\n",
    "1. The Bayes’ theorem describes the probability of an event based on prior knowledge of the conditions that might be relevant to the event.\n",
    "2. Example:\n",
    "Imagine you have a standard deck of 52 playing cards. You draw one card at random, and you want to calculate the probability that it's a \"King\" given some\n",
    "additional information.\n",
    "\n",
    "Prior probability (P(King)) = 4/52 = 1/13.\n",
    "\n",
    "Now, let's say someone whispers to you that the card you've drawn is red. There are two red suits in a deck: hearts and diamonds.\n",
    "\n",
    "Conditional Probability (P(Red/King)): the probability of drawing a red card given that it's a King is 2/4 = 1/2.\n",
    "\n",
    "P(Red) = 26/56 = 1/2\n",
    "\n",
    "Now, you want to find the probability that the card is a King given that it's red.\n",
    "\n",
    "Using Bayes' theorem:\n",
    "P(King/Red) = (P(Red/King) * P(King))/ P(Red)\n",
    "            = 1/2 * 1/13\n",
    "              ----------\n",
    "                 1/2\n",
    "            = 1/13\n",
    "    \n",
    "In this example, Bayes's theorem helped you update your probability estimate based on the new information (the card is red) \n",
    "and the prior probability (the card is a King).\n",
    "\n",
    "\"\"\""
   ]
  },
  {
   "cell_type": "markdown",
   "id": "2f0c3d2a-2971-41f3-827b-d89fb221892a",
   "metadata": {},
   "source": [
    "##### Q5: What is a confidence interval? How to calculate the confidence interval, explain with an example."
   ]
  },
  {
   "cell_type": "code",
   "execution_count": 4,
   "id": "ba313aa3-bb44-4005-96a5-c825dd17f4aa",
   "metadata": {},
   "outputs": [
    {
     "data": {
      "text/plain": [
       "'\\nAnswer:\\n\\n1. A confidence interval is a range of values used in statistics to estimate an unknown population parameter, such as a population mean or proportion, \\nwith a certain degree of confidence.\\n2. To calculate a confidence interval we require the following data:\\n   a. Sample Data\\n   b. Confidence Level: This represents the level of confidence you want to have in your interval estimate. \\n   c. Standard Error: The standard error is a measure of the uncertainty or variability in your estimate.\\n3. The formula for a confidence interval for a population mean is: Confidence Interval = Sample Mean +- (Critical Value * Standard Error)\\n'"
      ]
     },
     "execution_count": 4,
     "metadata": {},
     "output_type": "execute_result"
    }
   ],
   "source": [
    "\"\"\"\n",
    "Answer:\n",
    "\n",
    "1. A confidence interval is a range of values used in statistics to estimate an unknown population parameter, such as a population mean or proportion, \n",
    "with a certain degree of confidence.\n",
    "2. To calculate a confidence interval we require the following data:\n",
    "   a. Sample Data\n",
    "   b. Confidence Level: This represents the level of confidence you want to have in your interval estimate. \n",
    "   c. Standard Error: The standard error is a measure of the uncertainty or variability in your estimate.\n",
    "3. The formula for a confidence interval for a population mean is: Confidence Interval = Sample Mean +- (Critical Value * Standard Error)\n",
    "\"\"\""
   ]
  },
  {
   "cell_type": "markdown",
   "id": "fcd28fe4-3fbb-4807-a30d-228a1ff71b45",
   "metadata": {},
   "source": [
    "##### Q6. Use Bayes' Theorem to calculate the probability of an event occurring given prior knowledge of the\n",
    "##### event's probability and new evidence. Provide a sample problem and solution."
   ]
  },
  {
   "cell_type": "code",
   "execution_count": 5,
   "id": "9ac18df0-cf75-431b-908c-5117327cb559",
   "metadata": {},
   "outputs": [
    {
     "data": {
      "text/plain": [
       "\"\\nAnswer:\\n\\nQuestion: 10% of patients in a clinic have live disease. 5% of the clinic patients are alcoholics. Among these patients diagnosed with liver disease, 7% are\\n          alcoholics. Find the probability of patient having liver disease given that the patient is an alcoholic.\\n          \\nSolution: \\n          P(A): Probability of liver disease = 0.1\\n          P(B): Probability of alcoholism = 0.05\\n          P(B/A): Probability of alcohisics given the patient being diagnosed with liver disease = 0.07\\n          \\n          Therefore, using Bayes' theorem:\\n          P(A/B): Probability of patient having liver disease given that the patient is an alcoholic\\n          = P(B/A) * P(A)\\n            ------------\\n               P(B)\\n          = 0.07 * 0.1\\n            ---------\\n              0.05\\n          = 0.14\\n\""
      ]
     },
     "execution_count": 5,
     "metadata": {},
     "output_type": "execute_result"
    }
   ],
   "source": [
    "\"\"\"\n",
    "Answer:\n",
    "\n",
    "Question: 10% of patients in a clinic have live disease. 5% of the clinic patients are alcoholics. Among these patients diagnosed with liver disease, 7% are\n",
    "          alcoholics. Find the probability of patient having liver disease given that the patient is an alcoholic.\n",
    "          \n",
    "Solution: \n",
    "          P(A): Probability of liver disease = 0.1\n",
    "          P(B): Probability of alcoholism = 0.05\n",
    "          P(B/A): Probability of alcohisics given the patient being diagnosed with liver disease = 0.07\n",
    "          \n",
    "          Therefore, using Bayes' theorem:\n",
    "          P(A/B): Probability of patient having liver disease given that the patient is an alcoholic\n",
    "          = P(B/A) * P(A)\n",
    "            ------------\n",
    "               P(B)\n",
    "          = 0.07 * 0.1\n",
    "            ---------\n",
    "              0.05\n",
    "          = 0.14\n",
    "\"\"\""
   ]
  },
  {
   "cell_type": "markdown",
   "id": "204a0274-2f20-49eb-8e2f-705a99ba445a",
   "metadata": {},
   "source": [
    "##### Q7. Calculate the 95% confidence interval for a sample of data with a mean of 50 and a standard deviation of 5. Interpret the results."
   ]
  },
  {
   "cell_type": "code",
   "execution_count": 5,
   "id": "9166be4d-6989-4786-9a04-53c31ca1cae6",
   "metadata": {},
   "outputs": [
    {
     "name": "stdout",
     "output_type": "stream",
     "text": [
      "95% Confidence Interval for given data: (49.008, 50.992)\n"
     ]
    },
    {
     "data": {
      "text/plain": [
       "'\\nInterpretation of the results:\\n\\nWe are 95% confident that the true population mean falls within the interval [49.008, 50.992].\\n\\n'"
      ]
     },
     "execution_count": 5,
     "metadata": {},
     "output_type": "execute_result"
    }
   ],
   "source": [
    "## Program to calculate 95% confidence interval for a sample of data\n",
    "\n",
    "import scipy.stats as stats\n",
    "\n",
    "# Given data\n",
    "confidence_level = 0.95\n",
    "sample_mean = 50\n",
    "sample_std_dev = 5\n",
    "sample_size = 100     # We asssume the sample size that is missing in the problem statement\n",
    "degree_of_freedom = sample_size - 1\n",
    "\n",
    "# Calculate standard error of the mean\n",
    "standard_error = sample_std_dev/ (sample_size)**0.5\n",
    "\n",
    "# Calculate t-score (t critical) at 95 % confidence interval\n",
    "t_critical = abs(stats.t.ppf((1-confidence_level)/2, df = degree_of_freedom))\n",
    "\n",
    "# Calculate margin of error\n",
    "margin_of_error = t_critical * standard_error\n",
    "\n",
    "# Calculate confidence interval bounds\n",
    "lower_bound = sample_mean - margin_of_error\n",
    "upper_bound = sample_mean + margin_of_error\n",
    "\n",
    "# Print the confidence interval\n",
    "print(f\"95% Confidence Interval for given data: ({lower_bound:.3f}, {upper_bound:.3f})\")\n",
    "\n",
    "\"\"\"\n",
    "Interpretation of the results:\n",
    "\n",
    "We are 95% confident that the true population mean falls within the interval [49.008, 50.992].\n",
    "\n",
    "\"\"\""
   ]
  },
  {
   "cell_type": "markdown",
   "id": "dfa02cb9-d9f1-4468-a6e6-66a6881aaee4",
   "metadata": {},
   "source": [
    "##### Q8. What is the margin of error in a confidence interval? How does sample size affect the margin of error?\n",
    "##### Provide an example of a scenario where a larger sample size would result in a smaller margin of error."
   ]
  },
  {
   "cell_type": "code",
   "execution_count": 8,
   "id": "09618219-8352-48cf-9645-03cae5cf9aa9",
   "metadata": {},
   "outputs": [
    {
     "name": "stdout",
     "output_type": "stream",
     "text": [
      "Option 1 Margin of Error: 1.42 cm\n",
      "Option 2 Margin of Error: 0.44 cm\n"
     ]
    },
    {
     "data": {
      "text/plain": [
       "'\\nAs per the output of above code we find that the margin of error in Option 2 (larger sample size) is smaller than the margin \\nof error in Option 1. \\n\\nThis means that with a larger sample size, you can estimate the average height with higher precision and confidence.\\n\\n'"
      ]
     },
     "execution_count": 8,
     "metadata": {},
     "output_type": "execute_result"
    }
   ],
   "source": [
    "\"\"\"\n",
    "Answer:\n",
    "\n",
    "1. The margin of error in a confidence interval is a measure of the uncertainty associated with estimating a population parameter \n",
    "   (e.g. a mean) based on a sample.\n",
    "2. As the sample size increases, the margin of error decreases. Larger sample sizes provide more information about the population, \n",
    "   reducing the uncertainty associated with your estimate.\n",
    "3. Example:\n",
    "   Let's consider an example to illustrate how a larger sample size results in a smaller margin of error:\n",
    "   Scenario: Suppose you want to estimate the average height of adults in a city with a 95% confidence level. You have two options:\n",
    "\"\"\"\n",
    "\n",
    "# Sample data for Option 1\n",
    "sample_size_1 = 50\n",
    "sample_mean_1 = 168\n",
    "sample_std_1 = 5\n",
    "confidence_level = 0.95\n",
    "\n",
    "# Calculate the margin of error using the t-distribution\n",
    "degrees_of_freedom_1 = sample_size_1 - 1\n",
    "t_critical_1 = abs(stats.t.ppf((1 - confidence_level) / 2, df=degrees_of_freedom_1))\n",
    "standard_error_1 = sample_std_1 / (sample_size_1)**0.5\n",
    "margin_of_error_1 = t_critical_1 * standard_error_1\n",
    "\n",
    "print(f\"Option 1 Margin of Error: {margin_of_error_1:.2f} cm\")\n",
    "\n",
    "# Sample data for Option 2\n",
    "sample_size_2 = 500\n",
    "sample_mean_2 = 168\n",
    "sample_std_2 = 5\n",
    "\n",
    "# Calculate the margin of error using the t-distribution\n",
    "degrees_of_freedom_2 = sample_size_2 - 1\n",
    "t_critical_2 = abs(stats.t.ppf((1 - confidence_level) / 2, df=degrees_of_freedom_2))\n",
    "standard_error_2 = sample_std_2 / (sample_size_2)**0.5\n",
    "margin_of_error_2 = t_critical_2 * standard_error_2\n",
    "\n",
    "print(f\"Option 2 Margin of Error: {margin_of_error_2:.2f} cm\")\n",
    "\n",
    "\"\"\"\n",
    "As per the output of above code we find that the margin of error in Option 2 (larger sample size) is smaller than the margin \n",
    "of error in Option 1. \n",
    "\n",
    "This means that with a larger sample size, you can estimate the average height with higher precision and confidence.\n",
    "\n",
    "\"\"\""
   ]
  },
  {
   "cell_type": "markdown",
   "id": "15372ee0-5c19-4dbf-862a-bd41bddf2a23",
   "metadata": {},
   "source": [
    "##### Q9. Calculate the z-score for a data point with a value of 75, a population mean of 70, and a population\n",
    "##### standard deviation of 5. Interpret the results."
   ]
  },
  {
   "cell_type": "code",
   "execution_count": 5,
   "id": "5ee2b14c-79a9-4a0e-89d6-1896dc53eb6e",
   "metadata": {},
   "outputs": [
    {
     "name": "stdout",
     "output_type": "stream",
     "text": [
      "Z-score: 1.0\n"
     ]
    },
    {
     "data": {
      "text/plain": [
       "'\\nInterpretation:\\n    A z-score of 1 means that the data point is 1 standard deviation above the mean.\\n'"
      ]
     },
     "execution_count": 5,
     "metadata": {},
     "output_type": "execute_result"
    }
   ],
   "source": [
    "## Program to calculate z-score\n",
    "\n",
    "# Given data\n",
    "data_point = 75\n",
    "population_mean = 70\n",
    "population_std_dev = 5\n",
    "\n",
    "# Calculate the z-score\n",
    "z_score = (data_point - population_mean)/population_std_dev\n",
    "\n",
    "print(f\"Z-score: {z_score}\")\n",
    "\n",
    "\"\"\"\n",
    "Interpretation:\n",
    "    A z-score of 1 means that the data point is 1 standard deviation above the mean.\n",
    "\"\"\""
   ]
  },
  {
   "cell_type": "markdown",
   "id": "c8bf55f8-cedb-4215-9172-b8c108c10816",
   "metadata": {},
   "source": [
    "##### Q10. In a study of the effectiveness of a new weight loss drug, a sample of 50 participants lost an average\n",
    "##### of 6 pounds with a standard deviation of 2.5 pounds. Conduct a hypothesis test to determine if the drug is\n",
    "##### significantly effective at a 95% confidence level using a t-test."
   ]
  },
  {
   "cell_type": "code",
   "execution_count": 7,
   "id": "bfbed67c-1184-44ab-8576-af14f2d76da0",
   "metadata": {},
   "outputs": [
    {
     "name": "stdout",
     "output_type": "stream",
     "text": [
      "Reject the null hypothesis. The weight loss drug is significantly effective.\n"
     ]
    }
   ],
   "source": [
    "## Program to conduct a hypothesis test to determine if the drug is significantly effective at a 95% confidence level using a t-test.\n",
    "\n",
    "# State hypothesis\n",
    "\"\"\"\n",
    "Null Hypothesis = The weight loss drug does not lead to a statistically significant average weight loss.\n",
    "Alternate Hypothesis = The weight loss drug does lead to a statistically significant average weight loss.\n",
    "\n",
    "\"\"\"\n",
    "import scipy.stats as stats\n",
    "\n",
    "# Given data\n",
    "sample_mean = 6\n",
    "population_mean = 0  # The null hypothesis assumes no weight loss\n",
    "sample_size = 50\n",
    "sample_std_dev = 2.5\n",
    "alpha = 0.05\n",
    "degree_of_freedom = sample_size - 1\n",
    "\n",
    "# Calculate the t-statistic\n",
    "t_statistic = (sample_mean - population_mean)/ (sample_std_dev/(sample_size)**0.5)\n",
    "\n",
    "# Calculate p-value for two-tailed test\n",
    "p_value = 2*(1-stats.t.cdf(abs(t_statistic), degree_of_freedom))\n",
    "             \n",
    "# Compare the p-value to alpha to make a decision\n",
    "if p_value < alpha:\n",
    "    print(\"Reject the null hypothesis. The weight loss drug is significantly effective.\")\n",
    "else:\n",
    "    print(\"Fail to reject the null hypothesis. The weight loss drug is not significantly effective.\")"
   ]
  },
  {
   "cell_type": "markdown",
   "id": "2dc9e502-bf2c-4138-8b52-a01441bfa9ec",
   "metadata": {},
   "source": [
    "##### Q11. In a survey of 500 people, 65% reported being satisfied with their current job. Calculate the 95%\n",
    "##### confidence interval for the true proportion of people who are satisfied with their job."
   ]
  },
  {
   "cell_type": "code",
   "execution_count": 1,
   "id": "b3cf350e-9683-430b-a193-7e6e849a0e1f",
   "metadata": {},
   "outputs": [
    {
     "name": "stdout",
     "output_type": "stream",
     "text": [
      "The 95% Confidence Interval for the true proportion of people who are satisfied with their job is: (0.6081925393809212, 0.6918074606190788)\n"
     ]
    }
   ],
   "source": [
    "## Program to calculate confidence interval for the true proportion of people who are satisfied with their job\n",
    "\n",
    "import scipy.stats as stats\n",
    "import math\n",
    "\n",
    "# Given data\n",
    "sample_size = 500\n",
    "sample_proportion = 0.65\n",
    "confidence_interval = 0.95\n",
    "\n",
    "# Calculate the standard error\n",
    "standard_error = math.sqrt((sample_proportion * (1 - sample_proportion)) / sample_size)\n",
    "\n",
    "# Calculate the Z critical value for the given confidence level\n",
    "z_critical = abs(stats.norm.ppf((1-confidence_interval)/2))\n",
    "\n",
    "# Calculate the margin of error\n",
    "margin_of_error = z_critical * standard_error\n",
    "\n",
    "# Calculate the lower and upper bounds of the confidence interval\n",
    "lower_bound = sample_proportion - margin_of_error\n",
    "upper_bound = sample_proportion + margin_of_error\n",
    "\n",
    "# Display the confidence interval\n",
    "print(\"The 95% Confidence Interval for the true proportion of people who are satisfied with their job is:\", (lower_bound, upper_bound))"
   ]
  },
  {
   "cell_type": "markdown",
   "id": "e6e9d904-eb82-4bfa-a010-25e69e34956f",
   "metadata": {},
   "source": [
    "##### Q12. A researcher is testing the effectiveness of two different teaching methods on student performance.\n",
    "##### Sample A has a mean score of 85 with a standard deviation of 6, while sample B has a mean score of 82\n",
    "##### with a standard deviation of 5. Conduct a hypothesis test to determine if the two teaching methods have a\n",
    "##### significant difference in student performance using a t-test with a significance level of 0.01."
   ]
  },
  {
   "cell_type": "code",
   "execution_count": 7,
   "id": "4680e905-1a9e-4998-9075-8baa08de8264",
   "metadata": {},
   "outputs": [
    {
     "name": "stdout",
     "output_type": "stream",
     "text": [
      "Fail to reject the null hypothesis. There is no significant difference between the teaching methods.\n"
     ]
    }
   ],
   "source": [
    "## Program to check the effectiveness of two different teaching methods on student performance.\n",
    "\n",
    "# State hypothesis\n",
    "\"\"\"\n",
    "Null Hypothesis: There is no significant difference between the teaching methods\n",
    "Alternate Hypothesis: There is a significant difference between the teaching methods\n",
    "\n",
    "\"\"\"\n",
    "\n",
    "# Given data\n",
    "mean_1 = 85\n",
    "std_dev_1 = 6\n",
    "n1 = 30             # Considering sample size as 30\n",
    "mean_2 = 82\n",
    "std_dev_2 = 5\n",
    "n2 = 30             # Considering sample size as 30\n",
    "df = n1 + n2 - 2\n",
    "alpha = 0.01\n",
    "\n",
    "import scipy.stats as stats\n",
    "\n",
    "# Calculate the pooled standard deviation\n",
    "Sp = ((((n1-1)*std_dev_1**2) + ((n2-1)*std_dev_2**2))/(n1 + n2 - 2))**0.5\n",
    "\n",
    "# Calculate the t-statistic\n",
    "t_statistic = (mean_1-mean_2)/(Sp*(1/n1 + 1/n2)**0.5)\n",
    "\n",
    "# Calculate the critical t-value\n",
    "t_critical = stats.t.ppf(1-alpha/2, df)\n",
    "\n",
    "# Compare the t-statistic and critical t-value to make a decision\n",
    "if abs(t_statistic) > t_critical:\n",
    "    print(f\"Reject the null hypothesis. There is a significant difference between the teaching methods.\")\n",
    "else:\n",
    "    print(f\"Fail to reject the null hypothesis. There is no significant difference between the teaching methods.\")"
   ]
  },
  {
   "cell_type": "markdown",
   "id": "ba6a3861-01bc-4fbf-babe-7332629e0458",
   "metadata": {},
   "source": [
    "##### Q13. A population has a mean of 60 and a standard deviation of 8. A sample of 50 observations has a mean\n",
    "##### of 65. Calculate the 90% confidence interval for the true population mean."
   ]
  },
  {
   "cell_type": "code",
   "execution_count": 10,
   "id": "9b789f73-7a94-4f07-bd12-0824fd232276",
   "metadata": {},
   "outputs": [
    {
     "name": "stdout",
     "output_type": "stream",
     "text": [
      "90% Confidence Interval for the true population mean is: (63.139, 66.861)\n"
     ]
    }
   ],
   "source": [
    "## Program to calculate the 90% confidence interval for the true population mean\n",
    "\n",
    "import scipy.stats as stats\n",
    "\n",
    "# Given data\n",
    "sample_mean = 65\n",
    "population_std_dev = 8\n",
    "sample_size = 50\n",
    "confidence_interval = 0.9\n",
    "\n",
    "# Calculate the Z-score for the desired confidence level\n",
    "z_score = stats.norm.ppf(1-(1-confidence_interval)/2)\n",
    "\n",
    "# Calculate the margin of error\n",
    "margin_of_error = z_score * (population_std_dev/(sample_size**0.5))\n",
    "\n",
    "# Calculate the confidence interval\n",
    "lower_bound = sample_mean - margin_of_error\n",
    "upper_bound = sample_mean + margin_of_error\n",
    "\n",
    "# Print the confidence interval\n",
    "print(f\"90% Confidence Interval for the true population mean is: ({lower_bound:.3f}, {upper_bound:.3f})\")"
   ]
  },
  {
   "cell_type": "markdown",
   "id": "921ba359-185c-4d3a-9414-2e20c79330e1",
   "metadata": {},
   "source": [
    "##### Q14. In a study of the effects of caffeine on reaction time, a sample of 30 participants had an average\n",
    "##### reaction time of 0.25 seconds with a standard deviation of 0.05 seconds. Conduct a hypothesis test to\n",
    "##### determine if the caffeine has a significant effect on reaction time at a 90% confidence level using a t-test."
   ]
  },
  {
   "cell_type": "code",
   "execution_count": 2,
   "id": "487fea17-6d15-4759-9df5-595967c9e5e3",
   "metadata": {},
   "outputs": [
    {
     "name": "stdout",
     "output_type": "stream",
     "text": [
      "Fail to reject the null hypothesis. There is no significant effect of caffeine on reaction time.\n"
     ]
    }
   ],
   "source": [
    "## Program to test the effect of caffeine on reaction time\n",
    "\n",
    "# State hypothesis\n",
    "\"\"\"\n",
    "Null Hypothesis: Caffeine has no significant effect on reaction time.\n",
    "Alternate Hypothesis: Caffeine has a significant effect on reaction time.\n",
    "\n",
    "\"\"\"\n",
    "import scipy.stats as stats\n",
    "# Given data\n",
    "sample_size = 30\n",
    "sample_mean = 0.25\n",
    "sample_std_dev = 0.05\n",
    "confidence_interval = 0.9\n",
    "population_mean = 0.25\n",
    "df = sample_size - 1\n",
    "\n",
    "# Calculate the t-statistic\n",
    "t_statistic = (sample_mean - population_mean)/(sample_std_dev/(sample_size**0.5))\n",
    "\n",
    "# Calculate the critical t-value for a two-tailed test at 90% confidence\n",
    "t_critical = stats.t.ppf(1-(1-confidence_interval)/2, df)\n",
    "\n",
    "# Make a decision based on the t-statistic and critical t-value\n",
    "if abs(t_statistic) > t_critical:\n",
    "    print(\"Reject the null hypothesis. Caffeine has a significant effect on reaction time.\")\n",
    "else:\n",
    "    print(\"Fail to reject the null hypothesis. There is no significant effect of caffeine on reaction time.\")"
   ]
  },
  {
   "cell_type": "code",
   "execution_count": null,
   "id": "7f650d50-bc0d-4a5f-accf-3d44b75373ff",
   "metadata": {},
   "outputs": [],
   "source": []
  }
 ],
 "metadata": {
  "kernelspec": {
   "display_name": "Python 3 (ipykernel)",
   "language": "python",
   "name": "python3"
  },
  "language_info": {
   "codemirror_mode": {
    "name": "ipython",
    "version": 3
   },
   "file_extension": ".py",
   "mimetype": "text/x-python",
   "name": "python",
   "nbconvert_exporter": "python",
   "pygments_lexer": "ipython3",
   "version": "3.10.8"
  }
 },
 "nbformat": 4,
 "nbformat_minor": 5
}
