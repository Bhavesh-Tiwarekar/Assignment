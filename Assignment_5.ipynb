{
 "cells": [
  {
   "cell_type": "markdown",
   "id": "1a2ff061-d2fd-4d22-9c1c-db22d178c231",
   "metadata": {
    "tags": []
   },
   "source": [
    "##### Q1. Explain Class and Object with respect to Object-Oriented Programming. Give a suitable example."
   ]
  },
  {
   "cell_type": "code",
   "execution_count": 22,
   "id": "56ddfe7a-c5d9-4c0d-99f8-2278ad3bee75",
   "metadata": {},
   "outputs": [
    {
     "name": "stdout",
     "output_type": "stream",
     "text": [
      "The ordered food is pizza, burger, soup and rice\n"
     ]
    },
    {
     "data": {
      "text/plain": [
       "'\\nIn the above example food is the class and item1, item2, item3 and item4 are the instances.\\n'"
      ]
     },
     "execution_count": 22,
     "metadata": {},
     "output_type": "execute_result"
    }
   ],
   "source": [
    "\"\"\"\n",
    "Answer:\n",
    "\n",
    "1. Classes are blueprint for creating user-defined object.\n",
    "2. Object is an instance of a class.\n",
    "3. Example:\n",
    "\"\"\"\n",
    "\n",
    "class food:\n",
    "    \n",
    "    def __init__(self, item1, item2, item3, item4):\n",
    "        self.item1 = item1\n",
    "        self.item2 = item2\n",
    "        self.item3 = item3\n",
    "        self.item4 = item4\n",
    "    \n",
    "    def ordered_food(self):\n",
    "        return f\"The ordered food is {self.item1}, {self.item2}, {self.item3} and {self.item4}\"\n",
    "    \n",
    "food_1 = food(\"pizza\", \"burger\", \"soup\", \"rice\")\n",
    "\n",
    "print(food_1.ordered_food())\n",
    "\n",
    "\"\"\"\n",
    "In the above example 'food' is the class and 'item1', 'item2', 'item3' and 'item4' are the instances.\n",
    "\"\"\""
   ]
  },
  {
   "cell_type": "markdown",
   "id": "70020315-486d-498c-bd1b-6a5aa1d054e9",
   "metadata": {},
   "source": [
    "##### Q2. Name the four pillars of OOPs."
   ]
  },
  {
   "cell_type": "code",
   "execution_count": 27,
   "id": "46831790-6515-4a36-b018-167fda917883",
   "metadata": {},
   "outputs": [
    {
     "data": {
      "text/plain": [
       "'\\nAnswer:\\n\\n1. The four pillars of Object Oriented Programming are:\\n    a. Polymorphism: \\n        It is the property where the same function can be used in different ways.\\n    b. Encapsulation: \\n        It is the process of making data private by wrapping data and its method in a capsule.\\n    c. Inheritance: \\n        It is the property where a child class inherits the methods and properties of parent class.\\n    d. Abstraction: \\n        It is the property where a user creates an abstract class with defined structure (methods). Next the\\n        implementation class is used where it will have same method name as that of abstract class and the same\\n        method inside implementation class can be further customised as per user needs.\\n'"
      ]
     },
     "execution_count": 27,
     "metadata": {},
     "output_type": "execute_result"
    }
   ],
   "source": [
    "\"\"\"\n",
    "Answer:\n",
    "\n",
    "1. The four pillars of Object Oriented Programming are:\n",
    "    a. Polymorphism: \n",
    "        It is the property where the same function can be used in different ways.\n",
    "    b. Encapsulation: \n",
    "        It is the process of making data private by wrapping data and its method in a capsule.\n",
    "    c. Inheritance: \n",
    "        It is the property where a child class inherits the methods and properties of parent class.\n",
    "    d. Abstraction: \n",
    "        It is the property where a user creates an abstract class with defined structure (methods). Next the\n",
    "        implementation class is used where it will have same method name as that of abstract class and the same\n",
    "        method inside implementation class can be further customised as per user needs.\n",
    "\"\"\""
   ]
  },
  {
   "cell_type": "markdown",
   "id": "5d709054-9e26-4d51-8c8d-9f35af645a8c",
   "metadata": {},
   "source": [
    "##### Q3. Explain why the __init__() function is used. Give a suitable example."
   ]
  },
  {
   "cell_type": "code",
   "execution_count": 26,
   "id": "31129f6b-6ade-49a7-8e98-82fe743e7347",
   "metadata": {},
   "outputs": [
    {
     "name": "stdout",
     "output_type": "stream",
     "text": [
      "25\n",
      "BT\n"
     ]
    },
    {
     "data": {
      "text/plain": [
       "'\\nIn the above example the __init__() function is used to assign values to attribute name and age inside class person.\\n'"
      ]
     },
     "execution_count": 26,
     "metadata": {},
     "output_type": "execute_result"
    }
   ],
   "source": [
    "\"\"\"\n",
    "Answer:\n",
    "\n",
    "1. The __init__() function is called constructor in the Object-Oriented Programming.\n",
    "2. The __init__() function is used to assign values to object properties.\n",
    "3. Example:\n",
    "\"\"\"\n",
    "\n",
    "class person:\n",
    "    \n",
    "    def __init__(self, name, age):\n",
    "        self.name = name\n",
    "        self.age = age\n",
    "\n",
    "p1 = person(\"BT\", 25)\n",
    "\n",
    "print(p1.age)\n",
    "print(p1.name)\n",
    "\n",
    "\"\"\"\n",
    "In the above example the __init__() function is used to assign values to attribute 'name' and 'age' inside class 'person'.\n",
    "\"\"\""
   ]
  },
  {
   "cell_type": "markdown",
   "id": "9e7b5545-e267-4367-bb16-ce27a4232ad7",
   "metadata": {},
   "source": [
    "##### Q4. Why self is used in OOPs?"
   ]
  },
  {
   "cell_type": "code",
   "execution_count": null,
   "id": "31ebccc3-3a7d-4336-b4fc-4955cc75863f",
   "metadata": {},
   "outputs": [],
   "source": [
    "\"\"\"\n",
    "Answer:\n",
    "\n",
    "1. Self is used to access the attributes and methods of the class.\n",
    "2. Self represents the instance of the class.\n",
    "\"\"\""
   ]
  },
  {
   "cell_type": "markdown",
   "id": "7d686156-cb74-4773-b361-3d0a60fd5e1e",
   "metadata": {},
   "source": [
    "##### Q5. What is inheritance? Give an example for each type of inheritance."
   ]
  },
  {
   "cell_type": "code",
   "execution_count": 6,
   "id": "72d5819c-4453-4686-9665-a7d1a02dc333",
   "metadata": {},
   "outputs": [
    {
     "name": "stdout",
     "output_type": "stream",
     "text": [
      "This result is from parent1 class\n",
      "This result is from parent_1 class\n",
      "This result is from parent_2 class\n",
      "Amazon is an online Ecommerce Store and has revenue of $1000\n",
      "Pharmeasy is a online e-Pharmacy Store and has revenue of $200\n",
      "I am the first child of single parent\n",
      "I am the second child of single parent\n",
      "This is Student class inheriting PC and Laptop\n",
      "This is Mouse class inheriting Laptop class\n"
     ]
    }
   ],
   "source": [
    "\"\"\"\n",
    "Answer:\n",
    "\n",
    "1. Inheritance is the property where a child class inherits the methods and properties of parent class.\n",
    "2. There are 5 types of inheritance in python programming:\n",
    "\"\"\"\n",
    "## a. Single inheritance: \n",
    "\n",
    "class parent1:\n",
    "    \n",
    "    def test_1(self):\n",
    "        return \"This result is from parent1 class\"\n",
    "\n",
    "class child1(parent1):\n",
    "    pass\n",
    "\n",
    "obj_child1 = child1()\n",
    "print(obj_child1.test_1())\n",
    "\n",
    "\n",
    "## b. Multiple inheritance: \n",
    "\n",
    "class parent_1:\n",
    "    \n",
    "    def test_1(self):\n",
    "        return \"This result is from parent_1 class\"\n",
    "    \n",
    "class parent_2:\n",
    "    \n",
    "    def test_2(self):\n",
    "        return \"This result is from parent_2 class\"\n",
    "\n",
    "class child_1(parent_1, parent_2):\n",
    "    pass\n",
    "\n",
    "obj_child_1 = child_1()\n",
    "print(obj_child_1.test_1())\n",
    "print(obj_child_1.test_2())\n",
    "\n",
    "\n",
    "\n",
    "## c. Multilevel inheritance: \n",
    "\n",
    "class Brands:\n",
    "    brand_name_1 = \"Amazon\"\n",
    "    brand_name_2 = \"Pharmeasy\"\n",
    "\n",
    "class Products(Brands):\n",
    "    prod_1 = \"online Ecommerce Store\"\n",
    "    prod_2 = \"online e-Pharmacy Store\"\n",
    "    \n",
    "class Revenue(Products):\n",
    "    rev_1 = 1000\n",
    "    rev_2 = 200\n",
    "    \n",
    "obj_brand_details = Revenue()\n",
    "\n",
    "print(f\"{obj_brand_details.brand_name_1} is an {obj_brand_details.prod_1} and has revenue of ${obj_brand_details.rev_1}\")\n",
    "print(f\"{obj_brand_details.brand_name_2} is a {obj_brand_details.prod_2} and has revenue of ${obj_brand_details.rev_2}\")\n",
    "\n",
    "\n",
    "## d. Hierarchical inheritance: \n",
    "\n",
    "class single_parent:\n",
    "    \n",
    "    def parent_details(self):\n",
    "        return \"single parent\"\n",
    "    \n",
    "class first_child(single_parent):\n",
    "    c1 = \"first child\"\n",
    "\n",
    "class second_child(single_parent):\n",
    "    c2 = \"second child\"\n",
    "    \n",
    "obj_c1 = first_child()\n",
    "obj_c2 = second_child()\n",
    "\n",
    "print(f\"I am the {obj_c1.c1} of {obj_c1.parent_details()}\")\n",
    "print(f\"I am the {obj_c2.c2} of {obj_c2.parent_details()}\")\n",
    "\n",
    "## e. Hybrid inheritance:\n",
    "\n",
    "class PC:\n",
    "    def fun1(self):\n",
    "        return \"This is PC class\"\n",
    "\n",
    "class Laptop(PC):\n",
    "    def fun2(self):\n",
    "        return \"This is Laptop class inheriting PC class\"\n",
    "\n",
    "class Mouse(Laptop):\n",
    "    def fun3(self):\n",
    "        return \"This is Mouse class inheriting Laptop class\"\n",
    "\n",
    "class Student(Mouse, Laptop):\n",
    "    def fun4(self):\n",
    "        return \"This is Student class inheriting PC and Laptop\"\n",
    "\n",
    "obj_Student = Student()\n",
    "obj_Mouse = Mouse()\n",
    "print(obj_Student.fun4())\n",
    "print(obj_Mouse.fun3())"
   ]
  },
  {
   "cell_type": "code",
   "execution_count": null,
   "id": "5b943139-26e1-4976-896b-16f9be744e6f",
   "metadata": {},
   "outputs": [],
   "source": []
  },
  {
   "cell_type": "code",
   "execution_count": null,
   "id": "f57276be-f8c7-4e23-b18a-c6bf721b00ca",
   "metadata": {},
   "outputs": [],
   "source": []
  }
 ],
 "metadata": {
  "kernelspec": {
   "display_name": "Python 3 (ipykernel)",
   "language": "python",
   "name": "python3"
  },
  "language_info": {
   "codemirror_mode": {
    "name": "ipython",
    "version": 3
   },
   "file_extension": ".py",
   "mimetype": "text/x-python",
   "name": "python",
   "nbconvert_exporter": "python",
   "pygments_lexer": "ipython3",
   "version": "3.10.8"
  }
 },
 "nbformat": 4,
 "nbformat_minor": 5
}
