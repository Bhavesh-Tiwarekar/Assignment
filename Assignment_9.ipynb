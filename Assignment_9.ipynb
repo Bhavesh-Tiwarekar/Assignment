{
 "cells": [
  {
   "cell_type": "markdown",
   "id": "33605353-179b-428c-af7b-b112f2439142",
   "metadata": {
    "tags": []
   },
   "source": [
    "#### Q1. Explain why we have to use the Exception class while creating a Custom Exception.\n",
    "####     Note: Here Exception class refers to the base class for all the exceptions."
   ]
  },
  {
   "cell_type": "code",
   "execution_count": 1,
   "id": "c9177497-49cd-469d-ab41-02cc6721ffc9",
   "metadata": {},
   "outputs": [
    {
     "data": {
      "text/plain": [
       "\"\\nAnswer:\\n\\n1. The Exception class has well defined feature for capturing a traceback and compatibility with exception handling.\\n2. By inheriting the Exception class into Custom Exception provides the necessary attributes and behaviuor of the base class.\\n3. Inheriting the Exception class also helps to establish compatibility of the 'try-except' statement that helps to capture the exceptions. \\n\\n\""
      ]
     },
     "execution_count": 1,
     "metadata": {},
     "output_type": "execute_result"
    }
   ],
   "source": [
    "\"\"\"\n",
    "Answer:\n",
    "\n",
    "1. The Exception class has well defined feature for capturing a traceback and compatibility with exception handling.\n",
    "2. By inheriting the Exception class into Custom Exception provides the necessary attributes and behaviuor of the base class.\n",
    "3. Inheriting the Exception class also helps to establish compatibility of the 'try-except' statement that helps to capture the exceptions. \n",
    "\n",
    "\"\"\""
   ]
  },
  {
   "cell_type": "markdown",
   "id": "10b3212b-c766-46ac-affa-e46e4486b8b5",
   "metadata": {},
   "source": [
    "#### Q2. Write a python program to print Python Exception Hierarchy."
   ]
  },
  {
   "cell_type": "code",
   "execution_count": 1,
   "id": "be9c71ea-de08-48cd-adc5-4ee59767c381",
   "metadata": {},
   "outputs": [],
   "source": [
    "# Program to print python exception hierarchy\n",
    "\n",
    "import inspect as ipt\n",
    "import logging\n",
    "\n",
    "logging.basicConfig(filename= \"Q2_Python_Exception_Hierarchy.log\", level= logging.INFO)\n",
    "def tree_class(cls, ind = 0):\n",
    "    logging.info(f\"{'-'*ind} {cls.__name__}\")\n",
    "    \n",
    "    for k in cls.__subclasses__():\n",
    "        tree_class(k, ind + 3)\n",
    "\n",
    "logging.info(\"The Hierarchy for inbuilt exceptions is: \")  \n",
    "\n",
    "ipt.getclasstree(ipt.getmro(BaseException))\n",
    "\n",
    "tree_class(BaseException)\n",
    "\n",
    "logging.shutdown()"
   ]
  },
  {
   "cell_type": "markdown",
   "id": "1cf634ec-4968-45e2-b8b9-6b5b613144fe",
   "metadata": {},
   "source": [
    "#### Q3. What errors are defined in the ArithmeticError class? Explain any two with an example."
   ]
  },
  {
   "cell_type": "code",
   "execution_count": 1,
   "id": "407ce841-1cb5-460f-9ff9-21909cc8775a",
   "metadata": {},
   "outputs": [],
   "source": [
    "\"\"\"\n",
    "Answer:\n",
    "\n",
    "1. There are three errors defined in the ArithmeticError class. They are as follows:\n",
    "   a. FloatingPointError\n",
    "   b. OverflowError\n",
    "   c. ZeroDivisionError\n",
    "2. OverflowError: This error indicates that the calculated value is too large to be stored or represented accurately witin the limits of\n",
    "data type being used.\n",
    "\"\"\"\n",
    "import logging\n",
    "\n",
    "logging.basicConfig(filename= \"Q3_error.log\", level= logging.INFO)\n",
    "\n",
    "\n",
    "import math\n",
    "\n",
    "try:\n",
    "    result = math.exp(1000)\n",
    "except OverflowError as e:\n",
    "    logging.error(f\"Error: {e}\")\n",
    "    \n",
    "\"\"\"\n",
    "In the above example, the code attempts to calculate the exponential of a very large number using the 'math.exp()' function.\n",
    "However, the result of the calculation is too large and raises the error.\n",
    "\n",
    "3. ZeroDivisionError: This exception is raised when attempting to divide a number by zero.\n",
    "\"\"\"\n",
    "try:\n",
    "    result = 10 / 0\n",
    "except ZeroDivisionError as e:\n",
    "    logging.error(f\"Error: {e}\")\n",
    "    \n",
    "\"\"\"\n",
    "In the above example, the code tries to divide 10 by 0. Hence it raises the 'ZeroDivisionError'.\n",
    "\"\"\"\n",
    "logging.shutdown()"
   ]
  },
  {
   "cell_type": "markdown",
   "id": "ec1604ad-e5ac-45ee-a996-8bba832cfcf1",
   "metadata": {},
   "source": [
    "#### Q4. Why LookupError class is used? Explain with an example KeyError and IndexError."
   ]
  },
  {
   "cell_type": "code",
   "execution_count": 1,
   "id": "1a65a884-e593-45c0-818c-af7a65fcafab",
   "metadata": {},
   "outputs": [],
   "source": [
    "\"\"\"\n",
    "Answer:\n",
    "\n",
    "1. The 'LookupError' class in python is used to raise error when a lookup or indexing operation fails. Thus preventing unexpected program\n",
    "termination and enabling appropriate error handling.\n",
    "2. KeyError:\n",
    "\"\"\"\n",
    "import logging\n",
    "\n",
    "logging.basicConfig(filename= \"Q4_error.log\", level= logging.INFO)\n",
    "\n",
    "\n",
    "dict1 = {\n",
    "    \"name\": \"BT\",\n",
    "    \"age\": 27\n",
    "}\n",
    "\n",
    "try:\n",
    "    dict1[\"name1\"]\n",
    "except KeyError as e:\n",
    "    logging.error(f\"Error: Invalid key {e}\")\n",
    "\n",
    "\"\"\"\n",
    "In the above example, the code tries to access value for key 'name1' from 'dict1' dictionary. As the specified key does not exist, the KeyError\n",
    "gets raised.\n",
    "\n",
    "3. IndexError:\n",
    "\"\"\"\n",
    "my_list = [1, 2, 3]\n",
    "\n",
    "try:\n",
    "    value = my_list[5]\n",
    "except IndexError as e:\n",
    "    logging.error(f\"Error: {e}\")\n",
    "\n",
    "\"\"\"\n",
    "In the above example, the code tries to access value at index 5 in 'my_list'. However, the list contains only 3 elements and trying to access \n",
    "index beyond this range raises the 'IndexError'.\n",
    "\"\"\"\n",
    "logging.shutdown()"
   ]
  },
  {
   "cell_type": "markdown",
   "id": "a2c460e7-7ef0-44ef-8e4f-8b9046d4bbc7",
   "metadata": {},
   "source": [
    "#### Q5. Explain ImportError. What is ModuleNotFoundError?"
   ]
  },
  {
   "cell_type": "code",
   "execution_count": 4,
   "id": "3c4185ad-ffc8-43bc-8057-241b0a43fbca",
   "metadata": {},
   "outputs": [
    {
     "data": {
      "text/plain": [
       "\"\\nIn the above example, the code tries to import the module 'xyz_module' which does not exist. This the 'ImportError' of type\\n'ModuleNotFoundErro'r is raised.\\n\""
      ]
     },
     "execution_count": 4,
     "metadata": {},
     "output_type": "execute_result"
    }
   ],
   "source": [
    "\"\"\"\n",
    "Answer:\n",
    "\n",
    "1. ImportError is an exception that is raised when import statement fails to find or load a module.\n",
    "2. ImportError usually occurs because of incorrect path to the module or incorrect module name.\n",
    "3. ModuleNotFoundError is a subclass of ImportError that specifically indicates that the requested module could not be found.\n",
    "\"\"\"\n",
    "import logging\n",
    "\n",
    "logging.basicConfig(filename= \"Q5_error.log\", level= logging.INFO)\n",
    "\n",
    "try:\n",
    "    import xyz_module\n",
    "except ImportError as e:\n",
    "    logging.error(f\"Error: {e}\")\n",
    "\n",
    "\"\"\"\n",
    "In the above example, the code tries to import the module 'xyz_module' which does not exist. This the 'ImportError' of type\n",
    "'ModuleNotFoundErro'r is raised.\n",
    "\"\"\" "
   ]
  },
  {
   "cell_type": "markdown",
   "id": "c7957776-9d4a-4364-862b-478f5b7ad1eb",
   "metadata": {},
   "source": [
    "#### Q6. List down some best practices for exception handling in python."
   ]
  },
  {
   "cell_type": "code",
   "execution_count": 8,
   "id": "4e7f0b77-e6ab-4760-a11a-6d3acf488ecd",
   "metadata": {},
   "outputs": [
    {
     "data": {
      "text/plain": [
       "\"\\nAnswer:\\n\\nThe best practices for exception handling in python are as follows:\\n1. Always try to use specific exception and avoid generic exception class 'Exception'.\\n2. Use 'finally' block for cleanup operations such a closing a file or releasing resources.\\n3. In the 'except' block provide clear messages including relevant values, names and information that helps in understanding the cause of \\nexception.\\n4. Consider logging exceptions.\\n\""
      ]
     },
     "execution_count": 8,
     "metadata": {},
     "output_type": "execute_result"
    }
   ],
   "source": [
    "\"\"\"\n",
    "Answer:\n",
    "\n",
    "The best practices for exception handling in python are as follows:\n",
    "1. Always try to use specific exception and avoid generic exception class 'Exception'.\n",
    "2. Use 'finally' block for cleanup operations such a closing a file or releasing resources.\n",
    "3. In the 'except' block provide clear messages including relevant values, names and information that helps in understanding the cause of \n",
    "exception.\n",
    "4. Consider logging exceptions.\n",
    "\"\"\""
   ]
  },
  {
   "cell_type": "code",
   "execution_count": null,
   "id": "8c9dc1c8-6a13-4f89-a5d8-244d858ea170",
   "metadata": {},
   "outputs": [],
   "source": []
  },
  {
   "cell_type": "code",
   "execution_count": null,
   "id": "11eba058-ee6f-4d6b-9c8f-ae05a87a6272",
   "metadata": {},
   "outputs": [],
   "source": []
  }
 ],
 "metadata": {
  "kernelspec": {
   "display_name": "Python 3 (ipykernel)",
   "language": "python",
   "name": "python3"
  },
  "language_info": {
   "codemirror_mode": {
    "name": "ipython",
    "version": 3
   },
   "file_extension": ".py",
   "mimetype": "text/x-python",
   "name": "python",
   "nbconvert_exporter": "python",
   "pygments_lexer": "ipython3",
   "version": "3.10.8"
  }
 },
 "nbformat": 4,
 "nbformat_minor": 5
}
